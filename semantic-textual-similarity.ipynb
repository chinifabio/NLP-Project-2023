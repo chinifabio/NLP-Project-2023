{
 "cells": [
  {
   "attachments": {},
   "cell_type": "markdown",
   "metadata": {},
   "source": [
    "# Semantic Textual Similarity"
   ]
  },
  {
   "attachments": {},
   "cell_type": "markdown",
   "metadata": {},
   "source": [
    "\n",
    "**Andrea Cerasani - 10680486** <br> **Fabio Chini - 10669966** <br> **Vincenzo Curreri - 10624628**"
   ]
  },
  {
   "attachments": {},
   "cell_type": "markdown",
   "metadata": {},
   "source": [
    "# Preliminary analysis"
   ]
  },
  {
   "attachments": {},
   "cell_type": "markdown",
   "metadata": {},
   "source": [
    "In machine learning, the **train-dev-test** split is a common technique used to evaluate the performance of a model and prevent overfitting. The dataset is divided into three subsets: the **training set**, the **development (or validation) set**, and the **test set**.\n",
    "\n",
    "The benchmark comprises 8628 sentence pairs. This is the breakdown according to genres and train-dev-test splits:\n",
    "\n",
    "                train  dev test total \n",
    "        -----------------------------\n",
    "        news     3299  500  500  4299\n",
    "        caption  2000  625  525  3250\n",
    "        forum     450  375  254  1079\n",
    "        -----------------------------\n",
    "        total    5749 1500 1379  8628"
   ]
  },
  {
   "attachments": {},
   "cell_type": "markdown",
   "metadata": {},
   "source": [
    "We started by importing all the libraries needed to run the task"
   ]
  },
  {
   "cell_type": "code",
   "execution_count": 44,
   "metadata": {},
   "outputs": [],
   "source": [
    "import pandas as pd\n",
    "import numpy as np\n",
    "import re\n",
    "from string import punctuation"
   ]
  },
  {
   "cell_type": "code",
   "execution_count": 45,
   "metadata": {},
   "outputs": [
    {
     "name": "stdout",
     "output_type": "stream",
     "text": [
      "Requirement already satisfied: matplotlib in c:\\users\\utente\\appdata\\local\\programs\\python\\python39\\lib\\site-packages (3.7.1)\n",
      "Requirement already satisfied: tqdm in c:\\users\\utente\\appdata\\local\\programs\\python\\python39\\lib\\site-packages (4.65.0)\n",
      "Note: you may need to restart the kernel to use updated packages.\n"
     ]
    },
    {
     "name": "stderr",
     "output_type": "stream",
     "text": [
      "ERROR: Could not find a version that satisfies the requirement unidecoce (from versions: none)\n",
      "ERROR: No matching distribution found for unidecoce\n"
     ]
    }
   ],
   "source": [
    "%pip install matplotlib tqdm unidecoce"
   ]
  },
  {
   "cell_type": "code",
   "execution_count": 46,
   "metadata": {},
   "outputs": [],
   "source": [
    "import matplotlib.pyplot as plt\n",
    "from tqdm import tqdm\n",
    "from unidecode import unidecode"
   ]
  },
  {
   "cell_type": "code",
   "execution_count": 47,
   "metadata": {},
   "outputs": [
    {
     "name": "stdout",
     "output_type": "stream",
     "text": [
      "Requirement already satisfied: scikit-learn in c:\\users\\utente\\appdata\\local\\programs\\python\\python39\\lib\\site-packages (1.2.2)\n",
      "Requirement already satisfied: scipy in c:\\users\\utente\\appdata\\local\\programs\\python\\python39\\lib\\site-packages (1.10.1)\n",
      "Requirement already satisfied: numpy>=1.17.3 in c:\\users\\utente\\appdata\\local\\programs\\python\\python39\\lib\\site-packages (from scikit-learn) (1.24.3)\n",
      "Requirement already satisfied: joblib>=1.1.1 in c:\\users\\utente\\appdata\\local\\programs\\python\\python39\\lib\\site-packages (from scikit-learn) (1.2.0)\n",
      "Requirement already satisfied: threadpoolctl>=2.0.0 in c:\\users\\utente\\appdata\\local\\programs\\python\\python39\\lib\\site-packages (from scikit-learn) (3.1.0)\n",
      "Note: you may need to restart the kernel to use updated packages.\n"
     ]
    }
   ],
   "source": [
    "%pip install scikit-learn scipy"
   ]
  },
  {
   "cell_type": "code",
   "execution_count": 48,
   "metadata": {},
   "outputs": [],
   "source": [
    "from sklearn.metrics.pairwise import cosine_similarity\n",
    "from sklearn.cluster import KMeans\n",
    "from sklearn.feature_extraction.text import TfidfVectorizer, CountVectorizer\n",
    "from sklearn.metrics import mean_squared_error\n",
    "from sklearn.ensemble import RandomForestRegressor\n",
    "\n",
    "from scipy.stats import pearsonr"
   ]
  },
  {
   "cell_type": "code",
   "execution_count": 49,
   "metadata": {},
   "outputs": [
    {
     "name": "stdout",
     "output_type": "stream",
     "text": [
      "Requirement already satisfied: nltk in c:\\users\\utente\\appdata\\local\\programs\\python\\python39\\lib\\site-packages (3.8.1)\n",
      "Requirement already satisfied: click in c:\\users\\utente\\appdata\\local\\programs\\python\\python39\\lib\\site-packages (from nltk) (8.1.3)\n",
      "Requirement already satisfied: joblib in c:\\users\\utente\\appdata\\local\\programs\\python\\python39\\lib\\site-packages (from nltk) (1.2.0)\n",
      "Requirement already satisfied: regex>=2021.8.3 in c:\\users\\utente\\appdata\\local\\programs\\python\\python39\\lib\\site-packages (from nltk) (2023.3.23)\n",
      "Requirement already satisfied: tqdm in c:\\users\\utente\\appdata\\local\\programs\\python\\python39\\lib\\site-packages (from nltk) (4.65.0)\n",
      "Requirement already satisfied: colorama in c:\\users\\utente\\appdata\\roaming\\python\\python39\\site-packages (from click->nltk) (0.4.6)\n",
      "Note: you may need to restart the kernel to use updated packages.\n"
     ]
    }
   ],
   "source": [
    "%pip install -U nltk"
   ]
  },
  {
   "cell_type": "code",
   "execution_count": 50,
   "metadata": {},
   "outputs": [
    {
     "name": "stderr",
     "output_type": "stream",
     "text": [
      "[nltk_data] Downloading package punkt to\n",
      "[nltk_data]     C:\\Users\\utente\\AppData\\Roaming\\nltk_data...\n",
      "[nltk_data]   Package punkt is already up-to-date!\n",
      "[nltk_data] Downloading package stopwords to\n",
      "[nltk_data]     C:\\Users\\utente\\AppData\\Roaming\\nltk_data...\n",
      "[nltk_data]   Package stopwords is already up-to-date!\n"
     ]
    }
   ],
   "source": [
    "import nltk\n",
    "nltk.download(\"punkt\")\n",
    "nltk.download('stopwords')\n",
    "from nltk.corpus import stopwords\n",
    "from nltk.tokenize import word_tokenize"
   ]
  },
  {
   "cell_type": "code",
   "execution_count": 249,
   "metadata": {},
   "outputs": [
    {
     "name": "stdout",
     "output_type": "stream",
     "text": [
      "Requirement already satisfied: spacy in c:\\users\\utente\\appdata\\local\\programs\\python\\python39\\lib\\site-packages (3.5.3)\n",
      "Requirement already satisfied: spacy-legacy<3.1.0,>=3.0.11 in c:\\users\\utente\\appdata\\local\\programs\\python\\python39\\lib\\site-packages (from spacy) (3.0.12)\n",
      "Requirement already satisfied: spacy-loggers<2.0.0,>=1.0.0 in c:\\users\\utente\\appdata\\local\\programs\\python\\python39\\lib\\site-packages (from spacy) (1.0.4)\n",
      "Requirement already satisfied: murmurhash<1.1.0,>=0.28.0 in c:\\users\\utente\\appdata\\local\\programs\\python\\python39\\lib\\site-packages (from spacy) (1.0.9)\n",
      "Requirement already satisfied: cymem<2.1.0,>=2.0.2 in c:\\users\\utente\\appdata\\local\\programs\\python\\python39\\lib\\site-packages (from spacy) (2.0.7)\n",
      "Requirement already satisfied: preshed<3.1.0,>=3.0.2 in c:\\users\\utente\\appdata\\local\\programs\\python\\python39\\lib\\site-packages (from spacy) (3.0.8)\n",
      "Requirement already satisfied: thinc<8.2.0,>=8.1.8 in c:\\users\\utente\\appdata\\local\\programs\\python\\python39\\lib\\site-packages (from spacy) (8.1.10)\n",
      "Requirement already satisfied: wasabi<1.2.0,>=0.9.1 in c:\\users\\utente\\appdata\\local\\programs\\python\\python39\\lib\\site-packages (from spacy) (1.1.1)\n",
      "Requirement already satisfied: srsly<3.0.0,>=2.4.3 in c:\\users\\utente\\appdata\\local\\programs\\python\\python39\\lib\\site-packages (from spacy) (2.4.6)\n",
      "Requirement already satisfied: catalogue<2.1.0,>=2.0.6 in c:\\users\\utente\\appdata\\local\\programs\\python\\python39\\lib\\site-packages (from spacy) (2.0.8)\n",
      "Requirement already satisfied: typer<0.8.0,>=0.3.0 in c:\\users\\utente\\appdata\\local\\programs\\python\\python39\\lib\\site-packages (from spacy) (0.7.0)\n",
      "Requirement already satisfied: pathy>=0.10.0 in c:\\users\\utente\\appdata\\local\\programs\\python\\python39\\lib\\site-packages (from spacy) (0.10.1)\n",
      "Requirement already satisfied: smart-open<7.0.0,>=5.2.1 in c:\\users\\utente\\appdata\\local\\programs\\python\\python39\\lib\\site-packages (from spacy) (6.3.0)\n",
      "Requirement already satisfied: tqdm<5.0.0,>=4.38.0 in c:\\users\\utente\\appdata\\local\\programs\\python\\python39\\lib\\site-packages (from spacy) (4.65.0)\n",
      "Requirement already satisfied: numpy>=1.15.0 in c:\\users\\utente\\appdata\\local\\programs\\python\\python39\\lib\\site-packages (from spacy) (1.24.3)\n",
      "Requirement already satisfied: requests<3.0.0,>=2.13.0 in c:\\users\\utente\\appdata\\local\\programs\\python\\python39\\lib\\site-packages (from spacy) (2.30.0)\n",
      "Requirement already satisfied: pydantic!=1.8,!=1.8.1,<1.11.0,>=1.7.4 in c:\\users\\utente\\appdata\\local\\programs\\python\\python39\\lib\\site-packages (from spacy) (1.10.8)\n",
      "Requirement already satisfied: jinja2 in c:\\users\\utente\\appdata\\local\\programs\\python\\python39\\lib\\site-packages (from spacy) (3.1.2)\n",
      "Requirement already satisfied: setuptools in c:\\users\\utente\\appdata\\local\\programs\\python\\python39\\lib\\site-packages (from spacy) (67.7.2)\n",
      "Requirement already satisfied: packaging>=20.0 in c:\\users\\utente\\appdata\\roaming\\python\\python39\\site-packages (from spacy) (23.0)\n",
      "Requirement already satisfied: langcodes<4.0.0,>=3.2.0 in c:\\users\\utente\\appdata\\local\\programs\\python\\python39\\lib\\site-packages (from spacy) (3.3.0)\n",
      "Requirement already satisfied: typing-extensions>=4.2.0 in c:\\users\\utente\\appdata\\local\\programs\\python\\python39\\lib\\site-packages (from pydantic!=1.8,!=1.8.1,<1.11.0,>=1.7.4->spacy) (4.6.2)\n",
      "Requirement already satisfied: charset-normalizer<4,>=2 in c:\\users\\utente\\appdata\\local\\programs\\python\\python39\\lib\\site-packages (from requests<3.0.0,>=2.13.0->spacy) (3.1.0)\n",
      "Requirement already satisfied: idna<4,>=2.5 in c:\\users\\utente\\appdata\\local\\programs\\python\\python39\\lib\\site-packages (from requests<3.0.0,>=2.13.0->spacy) (3.4)\n",
      "Requirement already satisfied: urllib3<3,>=1.21.1 in c:\\users\\utente\\appdata\\local\\programs\\python\\python39\\lib\\site-packages (from requests<3.0.0,>=2.13.0->spacy) (2.0.2)\n",
      "Requirement already satisfied: certifi>=2017.4.17 in c:\\users\\utente\\appdata\\local\\programs\\python\\python39\\lib\\site-packages (from requests<3.0.0,>=2.13.0->spacy) (2023.5.7)\n",
      "Requirement already satisfied: blis<0.8.0,>=0.7.8 in c:\\users\\utente\\appdata\\local\\programs\\python\\python39\\lib\\site-packages (from thinc<8.2.0,>=8.1.8->spacy) (0.7.9)\n",
      "Requirement already satisfied: confection<1.0.0,>=0.0.1 in c:\\users\\utente\\appdata\\local\\programs\\python\\python39\\lib\\site-packages (from thinc<8.2.0,>=8.1.8->spacy) (0.0.4)\n",
      "Requirement already satisfied: colorama in c:\\users\\utente\\appdata\\roaming\\python\\python39\\site-packages (from tqdm<5.0.0,>=4.38.0->spacy) (0.4.6)\n",
      "Requirement already satisfied: click<9.0.0,>=7.1.1 in c:\\users\\utente\\appdata\\local\\programs\\python\\python39\\lib\\site-packages (from typer<0.8.0,>=0.3.0->spacy) (8.1.3)\n",
      "Requirement already satisfied: MarkupSafe>=2.0 in c:\\users\\utente\\appdata\\local\\programs\\python\\python39\\lib\\site-packages (from jinja2->spacy) (2.1.2)\n",
      "Note: you may need to restart the kernel to use updated packages.\n",
      "Collecting en-core-web-sm==3.5.0\n",
      "  Downloading https://github.com/explosion/spacy-models/releases/download/en_core_web_sm-3.5.0/en_core_web_sm-3.5.0-py3-none-any.whl (12.8 MB)\n",
      "                                              0.0/12.8 MB ? eta -:--:--\n",
      "     -                                        0.5/12.8 MB 16.8 MB/s eta 0:00:01\n",
      "     -----                                    1.7/12.8 MB 21.9 MB/s eta 0:00:01\n",
      "     ----------                               3.2/12.8 MB 25.8 MB/s eta 0:00:01\n",
      "     ---------------                          5.1/12.8 MB 29.6 MB/s eta 0:00:01\n",
      "     ----------------------                   7.3/12.8 MB 33.2 MB/s eta 0:00:01\n",
      "     ------------------------------           9.6/12.8 MB 36.4 MB/s eta 0:00:01\n",
      "     -------------------------------------   12.3/12.8 MB 46.9 MB/s eta 0:00:01\n",
      "     --------------------------------------  12.8/12.8 MB 46.9 MB/s eta 0:00:01\n",
      "     --------------------------------------- 12.8/12.8 MB 40.9 MB/s eta 0:00:00\n",
      "Requirement already satisfied: spacy<3.6.0,>=3.5.0 in c:\\users\\utente\\appdata\\local\\programs\\python\\python39\\lib\\site-packages (from en-core-web-sm==3.5.0) (3.5.3)\n",
      "Requirement already satisfied: spacy-legacy<3.1.0,>=3.0.11 in c:\\users\\utente\\appdata\\local\\programs\\python\\python39\\lib\\site-packages (from spacy<3.6.0,>=3.5.0->en-core-web-sm==3.5.0) (3.0.12)\n",
      "Requirement already satisfied: spacy-loggers<2.0.0,>=1.0.0 in c:\\users\\utente\\appdata\\local\\programs\\python\\python39\\lib\\site-packages (from spacy<3.6.0,>=3.5.0->en-core-web-sm==3.5.0) (1.0.4)\n",
      "Requirement already satisfied: murmurhash<1.1.0,>=0.28.0 in c:\\users\\utente\\appdata\\local\\programs\\python\\python39\\lib\\site-packages (from spacy<3.6.0,>=3.5.0->en-core-web-sm==3.5.0) (1.0.9)\n",
      "Requirement already satisfied: cymem<2.1.0,>=2.0.2 in c:\\users\\utente\\appdata\\local\\programs\\python\\python39\\lib\\site-packages (from spacy<3.6.0,>=3.5.0->en-core-web-sm==3.5.0) (2.0.7)\n",
      "Requirement already satisfied: preshed<3.1.0,>=3.0.2 in c:\\users\\utente\\appdata\\local\\programs\\python\\python39\\lib\\site-packages (from spacy<3.6.0,>=3.5.0->en-core-web-sm==3.5.0) (3.0.8)\n",
      "Requirement already satisfied: thinc<8.2.0,>=8.1.8 in c:\\users\\utente\\appdata\\local\\programs\\python\\python39\\lib\\site-packages (from spacy<3.6.0,>=3.5.0->en-core-web-sm==3.5.0) (8.1.10)\n",
      "Requirement already satisfied: wasabi<1.2.0,>=0.9.1 in c:\\users\\utente\\appdata\\local\\programs\\python\\python39\\lib\\site-packages (from spacy<3.6.0,>=3.5.0->en-core-web-sm==3.5.0) (1.1.1)\n",
      "Requirement already satisfied: srsly<3.0.0,>=2.4.3 in c:\\users\\utente\\appdata\\local\\programs\\python\\python39\\lib\\site-packages (from spacy<3.6.0,>=3.5.0->en-core-web-sm==3.5.0) (2.4.6)\n",
      "Requirement already satisfied: catalogue<2.1.0,>=2.0.6 in c:\\users\\utente\\appdata\\local\\programs\\python\\python39\\lib\\site-packages (from spacy<3.6.0,>=3.5.0->en-core-web-sm==3.5.0) (2.0.8)\n",
      "Requirement already satisfied: typer<0.8.0,>=0.3.0 in c:\\users\\utente\\appdata\\local\\programs\\python\\python39\\lib\\site-packages (from spacy<3.6.0,>=3.5.0->en-core-web-sm==3.5.0) (0.7.0)\n",
      "Requirement already satisfied: pathy>=0.10.0 in c:\\users\\utente\\appdata\\local\\programs\\python\\python39\\lib\\site-packages (from spacy<3.6.0,>=3.5.0->en-core-web-sm==3.5.0) (0.10.1)\n",
      "Requirement already satisfied: smart-open<7.0.0,>=5.2.1 in c:\\users\\utente\\appdata\\local\\programs\\python\\python39\\lib\\site-packages (from spacy<3.6.0,>=3.5.0->en-core-web-sm==3.5.0) (6.3.0)\n",
      "Requirement already satisfied: tqdm<5.0.0,>=4.38.0 in c:\\users\\utente\\appdata\\local\\programs\\python\\python39\\lib\\site-packages (from spacy<3.6.0,>=3.5.0->en-core-web-sm==3.5.0) (4.65.0)\n",
      "Requirement already satisfied: numpy>=1.15.0 in c:\\users\\utente\\appdata\\local\\programs\\python\\python39\\lib\\site-packages (from spacy<3.6.0,>=3.5.0->en-core-web-sm==3.5.0) (1.24.3)\n",
      "Requirement already satisfied: requests<3.0.0,>=2.13.0 in c:\\users\\utente\\appdata\\local\\programs\\python\\python39\\lib\\site-packages (from spacy<3.6.0,>=3.5.0->en-core-web-sm==3.5.0) (2.30.0)\n",
      "Requirement already satisfied: pydantic!=1.8,!=1.8.1,<1.11.0,>=1.7.4 in c:\\users\\utente\\appdata\\local\\programs\\python\\python39\\lib\\site-packages (from spacy<3.6.0,>=3.5.0->en-core-web-sm==3.5.0) (1.10.8)\n",
      "Requirement already satisfied: jinja2 in c:\\users\\utente\\appdata\\local\\programs\\python\\python39\\lib\\site-packages (from spacy<3.6.0,>=3.5.0->en-core-web-sm==3.5.0) (3.1.2)\n",
      "Requirement already satisfied: setuptools in c:\\users\\utente\\appdata\\local\\programs\\python\\python39\\lib\\site-packages (from spacy<3.6.0,>=3.5.0->en-core-web-sm==3.5.0) (67.7.2)\n",
      "Requirement already satisfied: packaging>=20.0 in c:\\users\\utente\\appdata\\roaming\\python\\python39\\site-packages (from spacy<3.6.0,>=3.5.0->en-core-web-sm==3.5.0) (23.0)\n",
      "Requirement already satisfied: langcodes<4.0.0,>=3.2.0 in c:\\users\\utente\\appdata\\local\\programs\\python\\python39\\lib\\site-packages (from spacy<3.6.0,>=3.5.0->en-core-web-sm==3.5.0) (3.3.0)\n",
      "Requirement already satisfied: typing-extensions>=4.2.0 in c:\\users\\utente\\appdata\\local\\programs\\python\\python39\\lib\\site-packages (from pydantic!=1.8,!=1.8.1,<1.11.0,>=1.7.4->spacy<3.6.0,>=3.5.0->en-core-web-sm==3.5.0) (4.6.2)\n",
      "Requirement already satisfied: charset-normalizer<4,>=2 in c:\\users\\utente\\appdata\\local\\programs\\python\\python39\\lib\\site-packages (from requests<3.0.0,>=2.13.0->spacy<3.6.0,>=3.5.0->en-core-web-sm==3.5.0) (3.1.0)\n",
      "Requirement already satisfied: idna<4,>=2.5 in c:\\users\\utente\\appdata\\local\\programs\\python\\python39\\lib\\site-packages (from requests<3.0.0,>=2.13.0->spacy<3.6.0,>=3.5.0->en-core-web-sm==3.5.0) (3.4)\n",
      "Requirement already satisfied: urllib3<3,>=1.21.1 in c:\\users\\utente\\appdata\\local\\programs\\python\\python39\\lib\\site-packages (from requests<3.0.0,>=2.13.0->spacy<3.6.0,>=3.5.0->en-core-web-sm==3.5.0) (2.0.2)\n",
      "Requirement already satisfied: certifi>=2017.4.17 in c:\\users\\utente\\appdata\\local\\programs\\python\\python39\\lib\\site-packages (from requests<3.0.0,>=2.13.0->spacy<3.6.0,>=3.5.0->en-core-web-sm==3.5.0) (2023.5.7)\n",
      "Requirement already satisfied: blis<0.8.0,>=0.7.8 in c:\\users\\utente\\appdata\\local\\programs\\python\\python39\\lib\\site-packages (from thinc<8.2.0,>=8.1.8->spacy<3.6.0,>=3.5.0->en-core-web-sm==3.5.0) (0.7.9)\n",
      "Requirement already satisfied: confection<1.0.0,>=0.0.1 in c:\\users\\utente\\appdata\\local\\programs\\python\\python39\\lib\\site-packages (from thinc<8.2.0,>=8.1.8->spacy<3.6.0,>=3.5.0->en-core-web-sm==3.5.0) (0.0.4)\n",
      "Requirement already satisfied: colorama in c:\\users\\utente\\appdata\\roaming\\python\\python39\\site-packages (from tqdm<5.0.0,>=4.38.0->spacy<3.6.0,>=3.5.0->en-core-web-sm==3.5.0) (0.4.6)\n",
      "Requirement already satisfied: click<9.0.0,>=7.1.1 in c:\\users\\utente\\appdata\\local\\programs\\python\\python39\\lib\\site-packages (from typer<0.8.0,>=0.3.0->spacy<3.6.0,>=3.5.0->en-core-web-sm==3.5.0) (8.1.3)\n",
      "Requirement already satisfied: MarkupSafe>=2.0 in c:\\users\\utente\\appdata\\local\\programs\\python\\python39\\lib\\site-packages (from jinja2->spacy<3.6.0,>=3.5.0->en-core-web-sm==3.5.0) (2.1.2)\n",
      "\u001b[38;5;2m✔ Download and installation successful\u001b[0m\n",
      "You can now load the package via spacy.load('en_core_web_sm')\n"
     ]
    }
   ],
   "source": [
    "%pip install spacy\n",
    "!python -m spacy download en_core_web_sm"
   ]
  },
  {
   "cell_type": "code",
   "execution_count": 247,
   "metadata": {},
   "outputs": [],
   "source": [
    "import spacy\n",
    "spacy_nlp = spacy.load('en_core_web_sm', disable=['parser', 'ner'])"
   ]
  },
  {
   "cell_type": "code",
   "execution_count": 53,
   "metadata": {},
   "outputs": [
    {
     "name": "stdout",
     "output_type": "stream",
     "text": [
      "Requirement already satisfied: gensim in c:\\users\\utente\\appdata\\local\\programs\\python\\python39\\lib\\site-packages (4.3.1)\n",
      "Requirement already satisfied: numpy>=1.18.5 in c:\\users\\utente\\appdata\\local\\programs\\python\\python39\\lib\\site-packages (from gensim) (1.24.3)\n",
      "Requirement already satisfied: scipy>=1.7.0 in c:\\users\\utente\\appdata\\local\\programs\\python\\python39\\lib\\site-packages (from gensim) (1.10.1)\n",
      "Requirement already satisfied: smart-open>=1.8.1 in c:\\users\\utente\\appdata\\local\\programs\\python\\python39\\lib\\site-packages (from gensim) (6.3.0)\n",
      "Note: you may need to restart the kernel to use updated packages.\n"
     ]
    }
   ],
   "source": [
    "%pip install gensim"
   ]
  },
  {
   "cell_type": "code",
   "execution_count": 54,
   "metadata": {},
   "outputs": [],
   "source": [
    "from gensim.models import Word2Vec\n",
    "import gensim.downloader as gensim_api"
   ]
  },
  {
   "cell_type": "code",
   "execution_count": null,
   "metadata": {},
   "outputs": [],
   "source": [
    "%pip install \"tensorflow>=2.0.0\""
   ]
  },
  {
   "cell_type": "code",
   "execution_count": null,
   "metadata": {},
   "outputs": [],
   "source": [
    "import tensorflow_hub as hub"
   ]
  },
  {
   "attachments": {},
   "cell_type": "markdown",
   "metadata": {},
   "source": [
    "We start by importing the three datasets: **train**, **test** and **dev** that we will use for our models, assigning each column a suitable title. As you can see, there are **5749**, **1500** and **1379** sentence pairs in the three datasets, respectively"
   ]
  },
  {
   "cell_type": "code",
   "execution_count": 55,
   "metadata": {},
   "outputs": [
    {
     "name": "stdout",
     "output_type": "stream",
     "text": [
      "Shape of the Train Dataframe: (5749, 7)\n",
      "Shape of the Dev Dataframe: (1500, 7)\n",
      "Shape of the Test Dataframe: (1379, 7)\n"
     ]
    }
   ],
   "source": [
    "def on_bad_line(values):\n",
    "    return values[:7]\n",
    "\n",
    "columns_mapping = {\n",
    "    0: 'genre',\n",
    "    1: 'filename',\n",
    "    2: 'year',\n",
    "    3: 'index',\n",
    "    4: 'score',\n",
    "    5: 'sentence1',\n",
    "    6: 'sentence2'\n",
    "}\n",
    "\n",
    "# quotings 3 = csv.QUOTE_NONE\n",
    "train_df = pd.read_csv('Dataset/sts-train.csv', sep=\"\\t\", on_bad_lines=on_bad_line, engine='python', header=None, encoding='utf-8', quoting=3).rename(columns=columns_mapping)\n",
    "print(f'Shape of the Train Dataframe: {train_df.shape}')\n",
    "train_df.head(3)\n",
    "\n",
    "dev_df = pd.read_csv('Dataset/sts-dev.csv', sep=\"\\t\", on_bad_lines=on_bad_line, engine='python', header=None, encoding='utf-8', quoting=3).rename(columns=columns_mapping)\n",
    "print(f'Shape of the Dev Dataframe: {dev_df.shape}')\n",
    "\n",
    "test_df = pd.read_csv('Dataset/sts-test.csv', sep=\"\\t\", on_bad_lines=on_bad_line, engine='python', header=None, encoding='utf-8', quoting=3).rename(columns=columns_mapping)\n",
    "print(f'Shape of the Test Dataframe: {test_df.shape}')"
   ]
  },
  {
   "attachments": {},
   "cell_type": "markdown",
   "metadata": {},
   "source": [
    "We now begin to **analyze** the train dataset. First we split each pair of sentences into two separate sentences, adding them into a single list, so that we have the **total number** of sentences present in the dataset"
   ]
  },
  {
   "cell_type": "code",
   "execution_count": 56,
   "metadata": {},
   "outputs": [
    {
     "name": "stdout",
     "output_type": "stream",
     "text": [
      "Total number of sentences: 10566\n"
     ]
    }
   ],
   "source": [
    "sentences1 = train_df[\"sentence1\"]\n",
    "sentences2 = train_df[\"sentence2\"]\n",
    "sentences_list = np.unique(train_df['sentence1'].tolist() + train_df['sentence2'].tolist())\n",
    "\n",
    "print(f\"Total number of sentences: {len(sentences_list)}\")"
   ]
  },
  {
   "attachments": {},
   "cell_type": "markdown",
   "metadata": {},
   "source": [
    "We preprocess the list of sentences, removing **special characters**, such as **punctuation** and **accents**, **stopwords** and applying **lemmatization**"
   ]
  },
  {
   "cell_type": "code",
   "execution_count": 57,
   "metadata": {},
   "outputs": [
    {
     "name": "stdout",
     "output_type": "stream",
     "text": [
      "Original list of sentences: [' - Income, top rate:  percent.' ' Foxe was mostly frozen.'\n",
      " \" billion . Everyone in the world at Mexico's current prosperity level.\"\n",
      " ' warmed.C from the year prior.'\n",
      " '\"Americans don\\'t cut and run, we have to see this misadventure through,\" she said.']\n",
      "List of preprocessed sentences, without punctuation and stopwords: ['income top rate percent' 'foxe mostly frozen'\n",
      " 'billion everyone world mexicos current prosperity level'\n",
      " 'warmedc year prior' 'americans dont cut run see misadventure said']\n",
      "List of lemmatized sentences: ['income top rate percent' 'foxe mostly frozen'\n",
      " 'billion everyone world mexicos current prosperity level'\n",
      " 'warmedc year prior' 'americans cut run see misadventure say']\n"
     ]
    }
   ],
   "source": [
    "def remove_special_chars(text):\n",
    "    regex = '[' + punctuation + ']'\n",
    "    return re.sub(regex,'',unidecode(text)).lower()\n",
    "\n",
    "def remove_stop_words(text):\n",
    "    stop_words = stopwords.words('english')\n",
    "    return ' '.join([word for word in text.split() if word not in stop_words])\n",
    "\n",
    "def lemmatize(text):\n",
    "    parsed_sentence = spacy_nlp(str(text))\n",
    "    lemmatized_sentence = ' '.join([word.lemma_ for word in parsed_sentence])\n",
    "    return lemmatized_sentence\n",
    "\n",
    "\n",
    "no_punct_sentences_list = np.array([remove_special_chars(string) for string in sentences_list])\n",
    "clean_sentences_list = np.array([remove_stop_words(string) for string in no_punct_sentences_list])\n",
    "lemmatized_sentences_list = np.array([remove_stop_words(lemmatize(remove_special_chars(sentence)).lower()) for sentence in clean_sentences_list])\n",
    "\n",
    "\n",
    "print(f\"Original list of sentences: {sentences_list[:5]}\")\n",
    "\n",
    "print(f\"List of preprocessed sentences, without punctuation and stopwords: {clean_sentences_list[:5]}\")\n",
    "\n",
    "print(f\"List of lemmatized sentences: {lemmatized_sentences_list[:5]}\")"
   ]
  },
  {
   "cell_type": "code",
   "execution_count": 58,
   "metadata": {},
   "outputs": [
    {
     "name": "stdout",
     "output_type": "stream",
     "text": [
      "Mean length of sentences in characters: 59.37\n"
     ]
    }
   ],
   "source": [
    "array_len = np.vectorize(len)(sentences_list)\n",
    "mean_len = np.mean(array_len)\n",
    "print(f\"Mean length of sentences in characters: {mean_len:.2f}\")"
   ]
  },
  {
   "attachments": {},
   "cell_type": "markdown",
   "metadata": {},
   "source": [
    "Here we find the **maximum** and **minimum** length of sentences, in words, representing it in a graph and showing the **average length** of sentences"
   ]
  },
  {
   "cell_type": "code",
   "execution_count": 59,
   "metadata": {},
   "outputs": [
    {
     "name": "stdout",
     "output_type": "stream",
     "text": [
      "Maximum sentence length: 56 words\n",
      "Minimum sentence length: 2 words\n",
      "Mean length of sentences in words: 10.17\n"
     ]
    },
    {
     "data": {
      "image/png": "[encoded data removed]",
      "text/plain": [
       "<Figure size 640x480 with 1 Axes>"
      ]
     },
     "metadata": {},
     "output_type": "display_data"
    }
   ],
   "source": [
    "arr_words = np.array([len(s.split()) for s in sentences_list])\n",
    "\n",
    "print(f\"Maximum sentence length: {np.max(arr_words)} words\")\n",
    "print(f\"Minimum sentence length: {np.min(arr_words)} words\")\n",
    "\n",
    "mean_sentences_length = np.mean(arr_words)\n",
    "print(f\"Mean length of sentences in words: {mean_sentences_length:.2f}\")\n",
    "\n",
    "unique, counts = np.unique(arr_words, return_counts=True)\n",
    "\n",
    "plt.bar(unique, counts)\n",
    "\n",
    "plt.axvline(x=mean_sentences_length, color='r', linestyle='--')\n",
    "\n",
    "plt.xlabel(\"Sentence length\")\n",
    "plt.ylabel(\"Occurrencies\")\n",
    "plt.title(\"Occurencies per sentence length\")\n",
    "\n",
    "\n",
    "plt.show()"
   ]
  },
  {
   "attachments": {},
   "cell_type": "markdown",
   "metadata": {},
   "source": [
    "Here we show which **words** are the most **frequent** within the list of sentences"
   ]
  },
  {
   "cell_type": "code",
   "execution_count": 60,
   "metadata": {},
   "outputs": [
    {
     "data": {
      "text/plain": [
       "[('man', 853),\n",
       " ('woman', 547),\n",
       " ('two', 458),\n",
       " ('said', 455),\n",
       " ('dog', 418),\n",
       " ('us', 402),\n",
       " ('white', 282),\n",
       " ('killed', 265),\n",
       " ('black', 258),\n",
       " ('playing', 254),\n",
       " ('percent', 253),\n",
       " ('new', 238),\n",
       " ('people', 217),\n",
       " ('syria', 211),\n",
       " ('china', 191),\n",
       " ('police', 173),\n",
       " ('running', 170),\n",
       " ('president', 168),\n",
       " ('person', 161),\n",
       " ('water', 156)]"
      ]
     },
     "execution_count": 60,
     "metadata": {},
     "output_type": "execute_result"
    }
   ],
   "source": [
    "words_with_duplicates = [word for string in no_punct_sentences_list for word in word_tokenize(string)]\n",
    "words_nostopwords = [w for w in words_with_duplicates if w not in stopwords.words('english')]\n",
    "counts_nostopwords = nltk.Counter(words_nostopwords)\n",
    "counts_nostopwords.most_common(20)"
   ]
  },
  {
   "attachments": {},
   "cell_type": "markdown",
   "metadata": {},
   "source": [
    "Finally, we create the **vocabulary** by performing **tokenization** on all sentences, finding that there are **12243** different words"
   ]
  },
  {
   "cell_type": "code",
   "execution_count": 61,
   "metadata": {},
   "outputs": [
    {
     "name": "stdout",
     "output_type": "stream",
     "text": [
      "12243\n",
      "['0' '004' '005' ... 'zubaidi' 'zuccarini' 'zuma']\n"
     ]
    }
   ],
   "source": [
    "vocabulary = np.unique(words_nostopwords)\n",
    "print(len(vocabulary))\n",
    "print(vocabulary)"
   ]
  },
  {
   "attachments": {},
   "cell_type": "markdown",
   "metadata": {},
   "source": [
    "In addition, we analyzed the **distribution** of **similarity scores**, representing it in a graph and showing the **average score**"
   ]
  },
  {
   "cell_type": "code",
   "execution_count": 62,
   "metadata": {},
   "outputs": [
    {
     "name": "stdout",
     "output_type": "stream",
     "text": [
      "Mean scores of sentence similarity: 2.70\n"
     ]
    },
    {
     "data": {
      "image/png": "[encoded data removed]",
      "text/plain": [
       "<Figure size 640x480 with 1 Axes>"
      ]
     },
     "metadata": {},
     "output_type": "display_data"
    }
   ],
   "source": [
    "tot_scores = train_df[\"score\"]\n",
    "scores = np.ravel(tot_scores.values)\n",
    "\n",
    "mean_scores = np.mean(scores);\n",
    "print(f\"Mean scores of sentence similarity: {mean_scores:.2f}\")\n",
    "\n",
    "plt.hist(scores, bins=35, alpha=0.5, color='blue', rwidth=0.7)\n",
    "\n",
    "plt.axvline(x=mean_scores, color='r', linestyle='--')\n",
    "\n",
    "plt.xlabel(\"Score\")\n",
    "plt.ylabel(\"Occurrencies\")\n",
    "plt.title(\"Scores occurrencies\")\n",
    "\n",
    "plt.show()"
   ]
  },
  {
   "attachments": {},
   "cell_type": "markdown",
   "metadata": {},
   "source": [
    "## Text Clustering"
   ]
  },
  {
   "attachments": {},
   "cell_type": "markdown",
   "metadata": {},
   "source": [
    "We begin by configuring the **TF-IDF (Term Frequency-Inverse Document Frequency)** method to process a set of sentences to obtain a **numerical representation** that reflects the importance of terms within the sentences.\n",
    "\n",
    "We apply the TF-IDF method to the **lemmatized sentences** we have collected. We obtain a sparse matrix representing the **frequency** of terms in our corpus of sentences.\n",
    "\n",
    "Finally, by extracting the vocabulary of unique terms used in the TF-IDF score calculation, we obtain a list of **relevant words** in our corpus."
   ]
  },
  {
   "cell_type": "code",
   "execution_count": 63,
   "metadata": {},
   "outputs": [
    {
     "name": "stdout",
     "output_type": "stream",
     "text": [
      "(10566, 9857)\n",
      "['004' '005' '006' ... 'zubaidi' 'zuccarini' 'zuma']\n"
     ]
    }
   ],
   "source": [
    "# creazione della matrice di similarità\n",
    "tfidf = TfidfVectorizer(max_df=0.8, min_df=0, stop_words='english', strip_accents='ascii')\n",
    "\n",
    "tfidf_matrix = tfidf.fit_transform(lemmatized_sentences_list)\n",
    "vocab = tfidf.get_feature_names_out()\n",
    "\n",
    "print(tfidf_matrix.shape)\n",
    "print(vocab)"
   ]
  },
  {
   "cell_type": "code",
   "execution_count": 64,
   "metadata": {},
   "outputs": [
    {
     "name": "stdout",
     "output_type": "stream",
     "text": [
      "The word dog is present in 517 documents. Here's the first 5:\n",
      "1. a baby is playing with a dog\n",
      "2. a baby plays with a dog and ball\n",
      "3. a bear is running from two dogs\n",
      "4. a black and a brown dog running in the grass\n",
      "5. a black and a yellow dog\n"
     ]
    }
   ],
   "source": [
    "word = 'dog'\n",
    "word_id = tfidf.transform([word]).nonzero()[1]\n",
    "filter = tfidf_matrix.getcol(word_id).nonzero()[0]\n",
    "print(f'The word {word} is present in {len(filter)} documents. Here\\'s the first 5:')\n",
    "for idx, text in enumerate(no_punct_sentences_list[filter][:5]):\n",
    "    print(str(idx + 1) + '.' , text)"
   ]
  },
  {
   "attachments": {},
   "cell_type": "markdown",
   "metadata": {},
   "source": [
    "We begin by specifying the desired number of **clusters** to group the sentences. Next, we use the **K-means algorithm** to assign each sentence to one of the clusters. The algorithm calculates the distance of the sentences from the **centroids** of the clusters and returns a matrix representing these distances.\n",
    "\n",
    "Next, we use the nearest cluster index for each sentence to assign a **category** to each sentence. We count how many sentences are assigned to each cluster to get an idea of the number of sentences in each category.\n",
    "\n",
    "Finally, we create a **graph** to display the number of sentences for each cluster, making it easier to understand the **distribution** of sentences within clusters."
   ]
  },
  {
   "cell_type": "code",
   "execution_count": 65,
   "metadata": {},
   "outputs": [
    {
     "name": "stdout",
     "output_type": "stream",
     "text": [
      "[[1.14046735 1.08209408 1.18268806 ... 1.04827455 1.09872832 1.0003299 ]\n",
      " [1.14046735 1.08209408 1.18268806 ... 1.04827455 1.09872832 1.00084739]\n",
      " [1.14046735 1.08209408 1.18268806 ... 1.04613295 1.09872832 0.9991366 ]\n",
      " ...\n",
      " [1.14046735 1.08209408 1.18268806 ... 1.04770756 1.0982164  0.99900267]\n",
      " [1.14046735 1.08128212 1.18268806 ... 1.04827455 1.09768281 0.99755638]\n",
      " [1.14046735 1.07957184 1.17825067 ... 1.04741062 1.09872832 0.99843948]]\n",
      "[26 29 29 ...  3  3 29]\n"
     ]
    },
    {
     "data": {
      "image/png": "[encoded data removed]",
      "text/plain": [
       "<Figure size 640x480 with 1 Axes>"
      ]
     },
     "metadata": {},
     "output_type": "display_data"
    }
   ],
   "source": [
    "k = 30\n",
    "kmeans = KMeans(n_clusters=k, n_init=10, random_state=42)\n",
    "cluster_matrix = kmeans.fit_transform(tfidf_matrix)\n",
    "print(cluster_matrix)\n",
    "clusters = np.argmin(cluster_matrix, axis=-1)\n",
    "print(clusters)\n",
    "\n",
    "uniques, counts = np.unique(clusters, return_counts=True)\n",
    "plt.bar(uniques, counts)\n",
    "plt.xlabel('Cluster Number')\n",
    "plt.ylabel('Sentences')\n",
    "plt.xticks(uniques, rotation=90)\n",
    "plt.title('Samples per class')\n",
    "plt.show()"
   ]
  },
  {
   "attachments": {},
   "cell_type": "markdown",
   "metadata": {},
   "source": [
    "As we can see there is a very large cluster that might correspond to more common terms across the corpus. The other clusters though look well distributed"
   ]
  },
  {
   "cell_type": "code",
   "execution_count": 66,
   "metadata": {},
   "outputs": [
    {
     "name": "stdout",
     "output_type": "stream",
     "text": [
      "Top terms per cluster:\n",
      "Cluster 0:\t['sheep', 'stand', 'black', 'field', 'hill']\n",
      "Cluster 1:\t['sit', 'table', 'people', 'man', 'woman']\n",
      "Cluster 2:\t['dance', 'woman', 'man', 'group', 'rain']\n",
      "Cluster 3:\t['small', 'international', 'end', 'myanmar', 'state']\n",
      "Cluster 4:\t['dog', 'run', 'snow', 'grass', 'brown']\n",
      "Cluster 5:\t['stock', 'close', 'high', 'low', 'open']\n",
      "Cluster 6:\t['korea', 'south', 'north', 'korean', 'nuclear']\n",
      "Cluster 7:\t['attack', 'kill', 'iraq', 'suicide', 'bomb']\n",
      "Cluster 8:\t['chemical', 'weapon', 'syria', 'use', 'destroy']\n",
      "Cluster 9:\t['play', 'man', 'guitar', 'boy', 'piano']\n",
      "Cluster 10:\t['woman', 'slice', 'cut', 'man', 'meat']\n",
      "Cluster 11:\t['train', 'track', 'station', 'crash', 'dead']\n",
      "Cluster 12:\t['kill', 'afghanistan', 'soldier', 'bomb', 'suicide']\n",
      "Cluster 13:\t['say', 'official', 'police', 'spokesman', 'mr']\n",
      "Cluster 14:\t['pakistan', 'kill', 'drone', 'strike', 'taliban']\n",
      "Cluster 15:\t['person', 'slice', 'cut', 'piece', 'onion']\n",
      "Cluster 16:\t['cat', 'white', 'look', 'black', 'play']\n",
      "Cluster 17:\t['iran', 'nuclear', 'talk', 'deal', 'power']\n",
      "Cluster 18:\t['walk', 'man', 'dog', 'woman', 'snow']\n",
      "Cluster 19:\t['syria', 'new', 'israel', 'opposition', 'palestinian']\n",
      "Cluster 20:\t['horse', 'ride', 'brown', 'white', 'man']\n",
      "Cluster 21:\t['death', 'toll', 'rise', 'bangladesh', 'penalty']\n",
      "Cluster 22:\t['stand', 'cow', 'field', 'man', 'black']\n",
      "Cluster 23:\t['man', 'slice', 'cut', 'ride', 'car']\n",
      "Cluster 24:\t['china', 'usd', 'yuan', 'accident', 'kill']\n",
      "Cluster 25:\t['river', 'dog', 'black', 'background', 'swimming']\n",
      "Cluster 26:\t['percent', 'point', 'share', 'index', 'nasdaq']\n",
      "Cluster 27:\t['israeli', 'strike', 'palestinian', 'palestinians', 'kill']\n",
      "Cluster 28:\t['water', 'dog', 'man', 'black', 'splash']\n",
      "Cluster 29:\t['girl', 'president', 'people', 'boy', 'election']\n"
     ]
    }
   ],
   "source": [
    "print(\"Top terms per cluster:\")\n",
    "\n",
    "for i in range(kmeans.n_clusters):\n",
    "    centroid = kmeans.cluster_centers_[i]    \n",
    "    sorted_terms = centroid.argsort()[::-1]\n",
    "    print(f\"Cluster {i}:\\t{[vocab[j] for j in sorted_terms[:5]]}\")"
   ]
  },
  {
   "attachments": {},
   "cell_type": "markdown",
   "metadata": {},
   "source": [
    "We now show the sentences belonging to **Cluster 4** (showing them from the list of sentences not preprocessed to improve readability). They appear to actually have arguments in common!"
   ]
  },
  {
   "cell_type": "code",
   "execution_count": 67,
   "metadata": {},
   "outputs": [
    {
     "name": "stdout",
     "output_type": "stream",
     "text": [
      "['A bear is running from two dogs.'\n",
      " 'A black and a brown dog running in the grass.'\n",
      " 'A black and a yellow dog'\n",
      " 'A black and brown dog runs through the woods.'\n",
      " 'A black and white dog is carrying a stick in its mouth.'\n",
      " 'A black and white dog is running in the grass.'\n",
      " 'A black and white dog is running on the beach.'\n",
      " 'A black and white dog is running through a cow field.'\n",
      " 'A black and white dog is running through grass.'\n",
      " 'A black and white dog is running through the field.']\n"
     ]
    }
   ],
   "source": [
    "print(np.array(sentences_list)[kmeans.labels_ == 4][:10])"
   ]
  },
  {
   "attachments": {},
   "cell_type": "markdown",
   "metadata": {},
   "source": [
    "For each cluster, we are trying to figure out which terms are **most relevant** to that cluster and which sentences are most similar to its **centroid**.\n",
    "\n",
    "We print the most important terms in the cluster and the top **10 sentences** most similar to its centroid. This helps us better understand the characteristics of the cluster and the representative sentences in it."
   ]
  },
  {
   "cell_type": "code",
   "execution_count": 68,
   "metadata": {},
   "outputs": [
    {
     "name": "stdout",
     "output_type": "stream",
     "text": [
      "\n",
      "Cluster 0 - ['sheep', 'stand', 'black', 'field', 'hill']:\n",
      "1)  black white sheep walk next white sheep\n",
      "2)  sheep stand tree\n",
      "3)  group sheep field\n",
      "4)  large dog stand next sheep field\n",
      "5)  large sheep stand hill\n",
      "6)  ten sheep look camera\n",
      "7)  many sheep stand green hill\n",
      "8)  group sheep hill\n",
      "9)  white sheep stand green hill\n",
      "10)  sheep stand near child\n",
      "\n",
      "Cluster 1 - ['sit', 'table', 'people', 'man', 'woman']:\n",
      "1)  four people sit table\n",
      "2)  two people sit table restaurant\n",
      "3)  group people sit around table food\n",
      "4)  three man sit table drink\n",
      "5)  group people sit restaurant table\n",
      "6)  group people sit table restaurant\n",
      "7)  man sit rock\n",
      "8)  group people sit table drink\n",
      "9)  three man suit sit table\n",
      "10)  group elderly people sit around table\n",
      "\n",
      "Cluster 2 - ['dance', 'woman', 'man', 'group', 'rain']:\n",
      "1)  man dance\n",
      "2)  man dance\n",
      "3)  two man dance\n",
      "4)  man dance\n",
      "5)  three woman dance\n",
      "6)  woman dance\n",
      "7)  woman dance fire\n",
      "8)  two woman dance\n",
      "9)  man woman dance\n",
      "10)  group man dance\n",
      "\n",
      "Cluster 3 - ['small', 'international', 'end', 'myanmar', 'state']:\n",
      "1)  national regional international effort end illicit trade small arm light weapon\n",
      "2)  international atomic energy agency base\n",
      "3)  international atomic energy agency un nuclear watchdog\n",
      "4)  serious threat international security\n",
      "5)  serious threat international security\n",
      "6)  senior fellow international institute strategic study mark fitzpatrick state international atomic energy agency plan superficial\n",
      "7)  elbaradei international atomic energy agency chief\n",
      "8)  obama call international front\n",
      "9)  global community must cooperate end illicit trade small arm light weapon\n",
      "10)  international atomic energy agency may trick eager deal\n",
      "\n",
      "Cluster 4 - ['dog', 'run', 'snow', 'grass', 'brown']:\n",
      "1)  two white dog run together\n",
      "2)  dog run snow\n",
      "3)  dog run snow\n",
      "4)  dog run snow\n",
      "5)  dog run snow\n",
      "6)  three dog run snow\n",
      "7)  dog run snow\n",
      "8)  black brown dog run snow\n",
      "9)  black dog run snow\n",
      "10)  black dog run snow\n",
      "\n",
      "Cluster 5 - ['stock', 'close', 'high', 'low', 'open']:\n",
      "1)  china stock close high wednesday\n",
      "2)  chinese stock close high thursday\n",
      "3)  china stock close low thursday\n",
      "4)  indian stock close low\n",
      "5)  chinese stock close low thursday\n",
      "6)  china stock open high wednesday\n",
      "7)  china stock open low wednesday\n",
      "8)  china stock open high monday\n",
      "9)  chinese stock open low wednesday\n",
      "10)  indian stock open high\n",
      "\n",
      "Cluster 6 - ['korea', 'south', 'north', 'korean', 'nuclear']:\n",
      "1)  south korea say north fire missile\n",
      "2)  south korea confirm north korea conduct controversial third nuclear test\n",
      "3)  north korea postpones family union south korea\n",
      "4)  north korea boast nuclear ambition north korea report missile train\n",
      "5)  north south korea break silence talk\n",
      "6)  n korea agree talk south\n",
      "7)  north korea warn foreigner south evacuate\n",
      "8)  north korea claim nuclear ambition currently north korea report missile aim japan\n",
      "9)  north korea confirm third nuclear test\n",
      "10)  n korea warn retaliation south korea drill\n",
      "\n",
      "Cluster 7 - ['attack', 'kill', 'iraq', 'suicide', 'bomb']:\n",
      "1)  7 kill attack iraq\n",
      "2)  nine child die attack afghanistan attack\n",
      "3)  attack iraq kill general 4\n",
      "4)  10 kill iraq bomb attack\n",
      "5)  syrian soldier kill bomb attack\n",
      "6)  27 kill attack across iraq\n",
      "7)  six us troop kill afghan bomb attack\n",
      "8)  2 kill 11 wound attack iraq\n",
      "9)  nato soldier kill afghan attack\n",
      "10)  6 nato troop kill afghanistan ie attack\n",
      "\n",
      "Cluster 8 - ['chemical', 'weapon', 'syria', 'use', 'destroy']:\n",
      "1)  suspect syria use chemical weapon\n",
      "2)  warn syria chemical weapon\n",
      "3)  syria must destroy chemical weapon\n",
      "4)  determine syria use chemical weapon\n",
      "5)  end near syria chemical weapon\n",
      "6)  france warn syria chemical weapon use\n",
      "7)  us assad use chemical weapon syria rebel\n",
      "8)  syria chemical weapon could end sea\n",
      "9)  russia reach deal syria chemical weapon\n",
      "10)  believe syria probably use chemical weapon\n",
      "\n",
      "Cluster 9 - ['play', 'man', 'guitar', 'boy', 'piano']:\n",
      "1)  man play guitar\n",
      "2)  man play guitar\n",
      "3)  man play guitar\n",
      "4)  man play guitar\n",
      "5)  man play guitar\n",
      "6)  man play guitar\n",
      "7)  two man play guitar\n",
      "8)  man play guitar\n",
      "9)  man play guitar\n",
      "10)  man play guitar\n",
      "\n",
      "Cluster 10 - ['woman', 'slice', 'cut', 'man', 'meat']:\n",
      "1)  woman talk\n",
      "2)  man woman talk\n",
      "3)  man woman talk\n",
      "4)  man talk woman\n",
      "5)  woman child\n",
      "6)  woman eat something\n",
      "7)  woman eat\n",
      "8)  woman slice meat\n",
      "9)  woman slice meat\n",
      "10)  woman hit man\n",
      "\n",
      "Cluster 11 - ['train', 'track', 'station', 'crash', 'dead']:\n",
      "1)  train train track\n",
      "2)  black train train track\n",
      "3)  train train station\n",
      "4)  train sit train station\n",
      "5)  long train train track\n",
      "6)  train go track\n",
      "7)  train park train station\n",
      "8)  red train yellow train track\n",
      "9)  two train inside train station\n",
      "10)  train sit track train yard\n",
      "\n",
      "Cluster 12 - ['kill', 'afghanistan', 'soldier', 'bomb', 'suicide']:\n",
      "1)  three us soldier kill afghanistan\n",
      "2)  soldier kill afghanistan blast\n",
      "3)  nato soldier kill afghanistan\n",
      "4)  three nato soldier kill afghanistan\n",
      "5)  nato soldier kill afghanistan\n",
      "6)  five nato soldier kill afghanistan\n",
      "7)  one nato soldier kill afghanistan\n",
      "8)  two nato soldier kill afghanistan\n",
      "9)  british soldier kill afghanistan\n",
      "10)  four civilian three nato soldier kill afghanistan\n",
      "\n",
      "Cluster 13 - ['say', 'official', 'police', 'spokesman', 'mr']:\n",
      "1)  point quote say never say rehabilitation could never work\n",
      "2)  say every level\n",
      "3)  say every level\n",
      "4)  nugent complete fool say say\n",
      "5)  say participate\n",
      "6)  make claim say\n",
      "7)  know everything know suggest take say seriously say\n",
      "8)  never ever say black go riot\n",
      "9)  say get soft\n",
      "10)  say ever part workforce\n",
      "\n",
      "Cluster 14 - ['pakistan', 'kill', 'drone', 'strike', 'taliban']:\n",
      "1)  4 kill drone strike pakistan\n",
      "2)  drone strike kill least ten pakistan\n",
      "3)  pakistan drone strike kill six\n",
      "4)  drone strike kill 3 pakistan\n",
      "5)  drone strike kill 5 pakistan\n",
      "6)  drone strike kill 5 militant pakistan\n",
      "7)  drone kill 4 militant pakistan\n",
      "8)  drone kill five militant pakistan\n",
      "9)  suspect us drone strike kill 5 pakistan\n",
      "10)  suspect drone strike kill 4 pakistan\n",
      "\n",
      "Cluster 15 - ['person', 'slice', 'cut', 'piece', 'onion']:\n",
      "1)  person slice onion\n",
      "2)  person slice onion\n",
      "3)  person slice onion\n",
      "4)  person cut onion\n",
      "5)  person cut onion\n",
      "6)  person slice meat\n",
      "7)  new virus probably pass person person\n",
      "8)  person cut meat\n",
      "9)  person cut leave\n",
      "10)  person write\n",
      "\n",
      "Cluster 16 - ['cat', 'white', 'look', 'black', 'play']:\n",
      "1)  cat play\n",
      "2)  cat play\n",
      "3)  black white cat lay cat bed\n",
      "4)  black white cat look camera\n",
      "5)  cat play camera\n",
      "6)  cat back look camera\n",
      "7)  cat look camera\n",
      "8)  cat boy play together\n",
      "9)  cat look window\n",
      "10)  two cat look window\n",
      "\n",
      "Cluster 17 - ['iran', 'nuclear', 'talk', 'deal', 'power']:\n",
      "1)  agreement iran nuclear talk\n",
      "2)  iran nuclear deal agree talk\n",
      "3)  iran say un nuclear talk continue\n",
      "4)  kerry deal yet nuclear talk iran\n",
      "5)  iran world power set nuclear talk\n",
      "6)  iran parliament back nuclear deal\n",
      "7)  uk iran nuclear talk serious point\n",
      "8)  iran say serious issue remain nuclear talk\n",
      "9)  iran nuclear talk enter third day\n",
      "10)  iran world power pledge new nuclear talk\n",
      "\n",
      "Cluster 18 - ['walk', 'man', 'dog', 'woman', 'snow']:\n",
      "1)  man walk\n",
      "2)  man walk several dog\n",
      "3)  man woman walk\n",
      "4)  woman walk dog\n",
      "5)  woman walk dog\n",
      "6)  dog walk snow\n",
      "7)  man walk two dog city\n",
      "8)  man woman walk hold\n",
      "9)  woman walk dog street\n",
      "10)  man walk horse\n",
      "\n",
      "Cluster 19 - ['syria', 'new', 'israel', 'opposition', 'palestinian']:\n",
      "1)  israel launch new airstrike syria\n",
      "2)  israel launch airstrike syria\n",
      "3)  israel conduct airstrike syria\n",
      "4)  saudi urge un action israel strike syria\n",
      "5)  eu heap new sanction syria\n",
      "6)  israel plane strike inside syria\n",
      "7)  syria opposition agree talk\n",
      "8)  new syria opposition chief want nostring aid\n",
      "9)  israel approve new settlement home ahead peace talk\n",
      "10)  syria opposition unite israel fire warn shot\n",
      "\n",
      "Cluster 20 - ['horse', 'ride', 'brown', 'white', 'man']:\n",
      "1)  someone ride horse\n",
      "2)  man ride horse\n",
      "3)  man ride horse\n",
      "4)  man ride horse\n",
      "5)  man ride horse\n",
      "6)  man ride horse\n",
      "7)  woman ride horse\n",
      "8)  woman ride horse\n",
      "9)  woman ride horse\n",
      "10)  woman ride horse\n",
      "\n",
      "Cluster 21 - ['death', 'toll', 'rise', 'bangladesh', 'penalty']:\n",
      "1)  china quake death toll rise\n",
      "2)  iran earthquake death toll rise\n",
      "3)  death toll rise russia plane crash\n",
      "4)  death toll rise 12 indonesia mine collapse\n",
      "5)  death toll kenya bus attack rise six\n",
      "6)  earthquake death toll rise 260\n",
      "7)  italy bus crash death toll rise\n",
      "8)  glasgow helicopter death toll rise nine\n",
      "9)  china flu death toll rise six\n",
      "10)  egyptian death toll rise 638\n",
      "\n",
      "Cluster 22 - ['stand', 'cow', 'field', 'man', 'black']:\n",
      "1)  black dog stand field\n",
      "2)  woman stand next brown cow\n",
      "3)  black white cow stand grassy field\n",
      "4)  black white cow stand grassy field\n",
      "5)  horse stand field\n",
      "6)  two cow stand large field\n",
      "7)  woman dog stand grass\n",
      "8)  two man stand beach\n",
      "9)  woman glass stand next cow field\n",
      "10)  woman black shirt stand front banana fruit stand\n",
      "\n",
      "Cluster 23 - ['man', 'slice', 'cut', 'ride', 'car']:\n",
      "1)  man cry\n",
      "2)  man carry another man back\n",
      "3)  man carry another man\n",
      "4)  man hit man stick\n",
      "5)  man run\n",
      "6)  two man talk\n",
      "7)  man talk\n",
      "8)  man talk\n",
      "9)  man get car\n",
      "10)  man slice something\n",
      "\n",
      "Cluster 24 - ['china', 'usd', 'yuan', 'accident', 'kill']:\n",
      "1)  china send carrier south china sea\n",
      "2)  china mine accident kill 10\n",
      "3)  five kill china building collapse\n",
      "4)  7 kill 3 injure south china road accident\n",
      "5)  least 22 dead china earthquake\n",
      "6)  china far balk united states pressure china stop search north korean ship\n",
      "7)  least 89 dead china earthquake\n",
      "8)  china truck accident kill 20\n",
      "9)  china state united states pressure china stop search north korean ship could trigger military clash\n",
      "10)  4 dead 3 injure east china road accident\n",
      "\n",
      "Cluster 25 - ['river', 'dog', 'black', 'background', 'swimming']:\n",
      "1)  black dog swimming river\n",
      "2)  brown dog run though river\n",
      "3)  boat move river\n",
      "4)  black white dog swimming river\n",
      "5)  man fishing river\n",
      "6)  girl run along river bank two black dog\n",
      "7)  dog catch fish river\n",
      "8)  man go jump bike river background\n",
      "9)  man bike nest river\n",
      "10)  wet black dog red collar river\n",
      "\n",
      "Cluster 26 - ['percent', 'point', 'share', 'index', 'nasdaq']:\n",
      "1)  technologylace nasdaq composite index ixic rise 3939 point 22 percent 182633 lose 2 percent tuesday\n",
      "2)  dow jones industrial average dji jump 209 percent standard poor 500 index spx leapt 223 percent\n",
      "3)  technologylace nasdaq composite index ixic rise 6 point 041 percent 1498\n",
      "4)  nasdaq composite index add 3046 point 2 percent 152015\n",
      "5)  bluechip dow jones industrial average dji fall 8656 point 094 percent 910999 give 1 percent early\n",
      "6)  technologylace nasdaq composite index ixic lose 2 point 018 percent 1649\n",
      "7)  share usa interactive rise 228 7 percent 3496 friday nasdaq stock market composite trading gain 53 percent year\n",
      "8)  broad standard poor 500 index spx gain 3 point 039 percent 924\n",
      "9)  technologylace nasdaq composite index ixic climb 1911 point 12 percent 161502\n",
      "10)  broad standard poor 500 index spx fall 3 point 030 percent 995\n",
      "\n",
      "Cluster 27 - ['israeli', 'strike', 'palestinian', 'palestinians', 'kill']:\n",
      "1)  5 kill israeli air strike gaza\n",
      "2)  two palestinians kill israeli air strike gaza\n",
      "3)  syria condemn israeli air strike\n",
      "4)  israeli air strike kill 16 gaza\n",
      "5)  one dead new israeli strike gaza\n",
      "6)  two kill new israeli strike gaza medics\n",
      "7)  israeli official confirm second air strike syria\n",
      "8)  israeli soldier kill palestinian woman west bank\n",
      "9)  israeli troop kill palestinian west bank raid\n",
      "10)  israeli force arrest five palestinians across west bank\n",
      "\n",
      "Cluster 28 - ['water', 'dog', 'man', 'black', 'splash']:\n",
      "1)  three dog run water\n",
      "2)  dog run water\n",
      "3)  dog run water\n",
      "4)  three dog play water\n",
      "5)  man ride water toy water\n",
      "6)  brown dog splash water everywhere shake water\n",
      "7)  black dog run water\n",
      "8)  black dog run water\n",
      "9)  black dog walk water\n",
      "10)  black dog jump water\n",
      "\n",
      "Cluster 29 - ['girl', 'president', 'people', 'boy', 'election']:\n",
      "1)  egypt vote final day presidential election\n",
      "2)  poll putin win russia presidential vote\n",
      "3)  putin win russian presidential election\n",
      "4)  putin swear russia president 6 year\n",
      "5)  boy girl run along beach\n",
      "6)  putin claim victory russia presidential election\n",
      "7)  president obama warn russia stay ukraine\n",
      "8)  russia nato member country hold meeting fall conventional force europe treaty cfe\n",
      "9)  egypt hold presidential election parliamentary poll\n",
      "10)  egypt president declare state emergency three city\n"
     ]
    }
   ],
   "source": [
    "# print the top 10 words in each cluster\n",
    "for i in range(k):\n",
    "    centroid = kmeans.cluster_centers_[i]    \n",
    "    sorted_terms = centroid.argsort()[::-1]\n",
    "    print(f\"\\nCluster {i} - {[vocab[j] for j in sorted_terms[:5]]}:\")\n",
    "\n",
    "    i_labelled_sentence_vectors = tfidf_matrix[kmeans.labels_ == i]\n",
    "    i_labelled_sentences = np.array(lemmatized_sentences_list)[kmeans.labels_ == i]\n",
    "    # sorting the terms to most similar to the centroid\n",
    "    sorted_sentences = i_labelled_sentences[np.argsort(cosine_similarity(i_labelled_sentence_vectors, [centroid]).flatten())[::-1]]\n",
    "    \n",
    "    for idx, sentence in enumerate(sorted_sentences[:10]):\n",
    "        print(str(idx + 1) + \") \",sentence)"
   ]
  },
  {
   "attachments": {},
   "cell_type": "markdown",
   "metadata": {},
   "source": [
    "We use a technique called **t-SNE** to reduce the complexity of the data and project it into a **two-dimensional graph**. Clearly **Cluster 29** is the largest, as can be seen from the graph."
   ]
  },
  {
   "cell_type": "code",
   "execution_count": 69,
   "metadata": {},
   "outputs": [
    {
     "data": {
      "image/png": "[encoded data removed]",
      "text/plain": [
       "<Figure size 640x480 with 2 Axes>"
      ]
     },
     "metadata": {},
     "output_type": "display_data"
    }
   ],
   "source": [
    "# visualize the clusters using manifold learning\n",
    "from sklearn.manifold import TSNE\n",
    "from matplotlib import ticker\n",
    "\n",
    "tsne = TSNE(n_components=2, random_state=42)\n",
    "X_tsne = tsne.fit_transform(tfidf_matrix.toarray()[::10])\n",
    "# plot the clusters printng the color scale\n",
    "plt.scatter(X_tsne[:, 0], X_tsne[:, 1], c=clusters[::10], cmap='rainbow')\n",
    "# (generate plot here)\n",
    "cb = plt.colorbar()\n",
    "tick_locator = ticker.MaxNLocator(nbins=30)\n",
    "cb.locator = tick_locator\n",
    "cb.update_ticks()\n",
    "plt.show()"
   ]
  },
  {
   "attachments": {},
   "cell_type": "markdown",
   "metadata": {},
   "source": [
    "No we use **Word2Vec** to generate meaningful word **embeddings** from the tokenized sentences. Then, we apply K-means clustering to group the word vectors into **clusters based** on their similarity. Finally, we plot the distribution of sentences assigned to each cluster."
   ]
  },
  {
   "cell_type": "code",
   "execution_count": 70,
   "metadata": {},
   "outputs": [
    {
     "name": "stdout",
     "output_type": "stream",
     "text": [
      "vocabular size: 3121\n"
     ]
    }
   ],
   "source": [
    "from gensim.models import Word2Vec\n",
    "# import word tokenizer\n",
    "from nltk.tokenize import word_tokenize\n",
    "\n",
    "tokenized_corpus = [word_tokenize(w) for w in lemmatized_sentences_list]\n",
    "word2vec_cluster_model = Word2Vec(tokenized_corpus, vector_size=100, min_count=4, window=5, negative=10, workers=4, sg=0, cbow_mean=1, epochs=150, seed=42)\n",
    "print(\"vocabular size:\", len(word2vec_cluster_model.wv.key_to_index))"
   ]
  },
  {
   "cell_type": "code",
   "execution_count": 71,
   "metadata": {},
   "outputs": [
    {
     "data": {
      "image/png": "[encoded data removed]",
      "text/plain": [
       "<Figure size 640x480 with 1 Axes>"
      ]
     },
     "metadata": {},
     "output_type": "display_data"
    }
   ],
   "source": [
    "k = 30\n",
    "kmeans = KMeans(n_clusters=k, n_init=10, random_state=42)\n",
    "cluster_matrix = kmeans.fit_transform(word2vec_cluster_model.wv.vectors)\n",
    "clusters = np.argmin(cluster_matrix, axis=-1)\n",
    "\n",
    "uniques, counts = np.unique(clusters, return_counts=True)\n",
    "plt.bar(uniques, counts)\n",
    "plt.xlabel('Cluster Number')\n",
    "plt.ylabel('Sentences')\n",
    "plt.xticks(uniques, rotation=90)\n",
    "plt.title('Samples per class - Word2Vec')\n",
    "plt.show()"
   ]
  },
  {
   "cell_type": "code",
   "execution_count": 72,
   "metadata": {},
   "outputs": [
    {
     "name": "stdout",
     "output_type": "stream",
     "text": [
      "Top terms per cluster:\n",
      "Cluster 0:\t['woman', 'man', 'boy', 'girl', 'child', 'person', 'shirt', 'kid', 'wear', 'table']\n",
      "Cluster 1:\t['observe', 'erdogan', 'zimbabwe', 'annan', 'winner', 'suu', 'unite', 'hollande', 'leadership', 'orders']\n",
      "Cluster 2:\t['sharp', 'philips', 'sony', 'dell', 'corp', 'product', 'pylon', 'application', 'software', 'hewlettpackard']\n",
      "Cluster 3:\t['cent', 'percent', 'share', 'nasdaq', 'index', 'stock', 'ixic', 'spx', 'august', 'average']\n",
      "Cluster 4:\t['lick', 'sit', 'finger', 'singe', 'flute', 'piano', 'stand', 'keyboard', 'hat', 'sing']\n",
      "Cluster 5:\t['russian', 'mexican', 'israeli', 'chinese', 'iranian', 'syrian', 'egypt', 'colombian', 'ukraine', 'syria']\n",
      "Cluster 6:\t['minister', 'prime', 'cabinet', 'crisis', 'assembly', 'party', 'opposition', 'foreign', 'begin', 'eu']\n",
      "Cluster 7:\t['rapper', 'criminal', 'extortion', 'killer', 'guilty', 'saddam', 'trayvon', 'assault', 'strausskahn', 'allegation']\n",
      "Cluster 8:\t['museum', 'violent', 'shanghai', 'midwest', 'nw', 'gangrape', 'shot', 'volcano', 'ambush', 'mine']\n",
      "Cluster 9:\t['yearago', 'roughly', 'income', '2003', 'package', 'taxpayer', 'bezos', 'estimate', '145', 'walmart']\n",
      "Cluster 10:\t['tortilla', 'boil', 'broccoli', 'cheese', 'tomato', 'bread', 'fry', 'skillet', 'pan', 'chef']\n",
      "Cluster 11:\t['religion', 'moral', 'nullification', 'hate', 'nothing', 'never', 'absolutely', 'howard', 'terral', 'rehabilitation']\n",
      "Cluster 12:\t['6', '9', '35', '5', '4', '22', '47', '7', '15', '11']\n",
      "Cluster 13:\t['dog', 'grey', 'tan', 'grass', 'yellow', 'leash', 'brown', 'sand', 'lake', 'white']\n",
      "Cluster 14:\t['drone']\n",
      "Cluster 15:\t['lawyer', 'request', 'chairman', 'byrd', 'donald', 'bush', 'proceeding', 'propose', 'spokesman', 'attorney']\n",
      "Cluster 16:\t['last']\n",
      "Cluster 17:\t['michigan', 'indiana', 'medicine', 'journal', 'agent', 'mer', 'university', 'laboratory', 'patient', '27yearold']\n",
      "Cluster 18:\t['destruction', 'mass', 'heavy', 'biological', 'programme', 'nuclear', 'chemical', 'aim', 'prevent', 'weapon']\n",
      "Cluster 19:\t['currency', 'yen', 'unemployment', 'usd', 'co', 'expectation', 'birthday', 'briefly', 'inflation', 'yuan']\n",
      "Cluster 20:\t['enhance', 'peninsula', 'reactor', 'belief', 'export', 'eliminate', 'energy', 'atomic', 'switzerland', 'technology']\n",
      "Cluster 21:\t['bicycle', 'motorcycle', 'scooter', 'vehicle', 'paddle', 'silver', 'bike', 'beside', 'brick', 'motorbike']\n",
      "Cluster 22:\t['underwater', 'paw', 'rabbit', 'cartoon', 'chew', 'dig', 'limb', 'carpet', 'bite', 'dive']\n",
      "Cluster 23:\t['military']\n",
      "Cluster 24:\t['stable', 'king', 'county', 'smith', 'recover', 'hospital', 'virginia', 'writer', 'condition', 'treat']\n",
      "Cluster 25:\t['server', 'window', 'edition', 'sun', 'secure', 'standard', 'soar', 'unix', 'option', 'desktop']\n",
      "Cluster 26:\t['islamic', 'coordinate', 'somalia', 'alqaida', 'coalition', 'republic', 'blame', 'commander', 'islamiyah', 'command']\n",
      "Cluster 27:\t['cfe', 'withdraw', 'amend', 'suspending', 'treaty', 'withdrawal', 'participation', 'ratify', 'soviet', 'decree']\n",
      "Cluster 28:\t['northern', 'wound', 'suicide', 'sinai', 'dozen', 'kill', 'gunman', 'bomb', 'bomber', 'least']\n",
      "Cluster 29:\t['one']\n"
     ]
    }
   ],
   "source": [
    "print(\"Top terms per cluster:\")\n",
    "\n",
    "for i in range(kmeans.n_clusters):\n",
    "    centroid = kmeans.cluster_centers_[i]    \n",
    "    i_labelled_terms = np.array(word2vec_cluster_model.wv.index_to_key)[kmeans.labels_ == i]\n",
    "    # sorting the terms to most similar to the centroid\n",
    "    sorted_terms = i_labelled_terms[np.argsort(cosine_similarity(word2vec_cluster_model.wv[i_labelled_terms], [centroid]).flatten())[::-1]]\n",
    "    print(f\"Cluster {i}:\\t{[w for w in sorted_terms[:10]]}\")"
   ]
  },
  {
   "attachments": {},
   "cell_type": "markdown",
   "metadata": {},
   "source": [
    "## Topic Models"
   ]
  },
  {
   "attachments": {},
   "cell_type": "markdown",
   "metadata": {},
   "source": [
    "We use **CountVectorizer** to convert the lemmatized sentences into a **matrix** of word counts. Then, we apply **Latent Dirichlet Allocation (LDA)** to identify the main topics present in the text data."
   ]
  },
  {
   "cell_type": "code",
   "execution_count": 73,
   "metadata": {},
   "outputs": [],
   "source": [
    "from sklearn.feature_extraction.text import CountVectorizer\n",
    "\n",
    "count_vectorizer = CountVectorizer(stop_words='english',min_df=5,max_df=.5)\n",
    "count_matrix = count_vectorizer.fit_transform(lemmatized_sentences_list)\n",
    "count_vocab = count_vectorizer.get_feature_names_out()"
   ]
  },
  {
   "cell_type": "code",
   "execution_count": 74,
   "metadata": {},
   "outputs": [
    {
     "data": {
      "text/html": [
       "<style>#sk-container-id-1 {color: black;background-color: white;}#sk-container-id-1 pre{padding: 0;}#sk-container-id-1 div.sk-toggleable {background-color: white;}#sk-container-id-1 label.sk-toggleable__label {cursor: pointer;display: block;width: 100%;margin-bottom: 0;padding: 0.3em;box-sizing: border-box;text-align: center;}#sk-container-id-1 label.sk-toggleable__label-arrow:before {content: \"▸\";float: left;margin-right: 0.25em;color: #696969;}#sk-container-id-1 label.sk-toggleable__label-arrow:hover:before {color: black;}#sk-container-id-1 div.sk-estimator:hover label.sk-toggleable__label-arrow:before {color: black;}#sk-container-id-1 div.sk-toggleable__content {max-height: 0;max-width: 0;overflow: hidden;text-align: left;background-color: #f0f8ff;}#sk-container-id-1 div.sk-toggleable__content pre {margin: 0.2em;color: black;border-radius: 0.25em;background-color: #f0f8ff;}#sk-container-id-1 input.sk-toggleable__control:checked~div.sk-toggleable__content {max-height: 200px;max-width: 100%;overflow: auto;}#sk-container-id-1 input.sk-toggleable__control:checked~label.sk-toggleable__label-arrow:before {content: \"▾\";}#sk-container-id-1 div.sk-estimator input.sk-toggleable__control:checked~label.sk-toggleable__label {background-color: #d4ebff;}#sk-container-id-1 div.sk-label input.sk-toggleable__control:checked~label.sk-toggleable__label {background-color: #d4ebff;}#sk-container-id-1 input.sk-hidden--visually {border: 0;clip: rect(1px 1px 1px 1px);clip: rect(1px, 1px, 1px, 1px);height: 1px;margin: -1px;overflow: hidden;padding: 0;position: absolute;width: 1px;}#sk-container-id-1 div.sk-estimator {font-family: monospace;background-color: #f0f8ff;border: 1px dotted black;border-radius: 0.25em;box-sizing: border-box;margin-bottom: 0.5em;}#sk-container-id-1 div.sk-estimator:hover {background-color: #d4ebff;}#sk-container-id-1 div.sk-parallel-item::after {content: \"\";width: 100%;border-bottom: 1px solid gray;flex-grow: 1;}#sk-container-id-1 div.sk-label:hover label.sk-toggleable__label {background-color: #d4ebff;}#sk-container-id-1 div.sk-serial::before {content: \"\";position: absolute;border-left: 1px solid gray;box-sizing: border-box;top: 0;bottom: 0;left: 50%;z-index: 0;}#sk-container-id-1 div.sk-serial {display: flex;flex-direction: column;align-items: center;background-color: white;padding-right: 0.2em;padding-left: 0.2em;position: relative;}#sk-container-id-1 div.sk-item {position: relative;z-index: 1;}#sk-container-id-1 div.sk-parallel {display: flex;align-items: stretch;justify-content: center;background-color: white;position: relative;}#sk-container-id-1 div.sk-item::before, #sk-container-id-1 div.sk-parallel-item::before {content: \"\";position: absolute;border-left: 1px solid gray;box-sizing: border-box;top: 0;bottom: 0;left: 50%;z-index: -1;}#sk-container-id-1 div.sk-parallel-item {display: flex;flex-direction: column;z-index: 1;position: relative;background-color: white;}#sk-container-id-1 div.sk-parallel-item:first-child::after {align-self: flex-end;width: 50%;}#sk-container-id-1 div.sk-parallel-item:last-child::after {align-self: flex-start;width: 50%;}#sk-container-id-1 div.sk-parallel-item:only-child::after {width: 0;}#sk-container-id-1 div.sk-dashed-wrapped {border: 1px dashed gray;margin: 0 0.4em 0.5em 0.4em;box-sizing: border-box;padding-bottom: 0.4em;background-color: white;}#sk-container-id-1 div.sk-label label {font-family: monospace;font-weight: bold;display: inline-block;line-height: 1.2em;}#sk-container-id-1 div.sk-label-container {text-align: center;}#sk-container-id-1 div.sk-container {/* jupyter's `normalize.less` sets `[hidden] { display: none; }` but bootstrap.min.css set `[hidden] { display: none !important; }` so we also need the `!important` here to be able to override the default hidden behavior on the sphinx rendered scikit-learn.org. See: https://github.com/scikit-learn/scikit-learn/issues/21755 */display: inline-block !important;position: relative;}#sk-container-id-1 div.sk-text-repr-fallback {display: none;}</style><div id=\"sk-container-id-1\" class=\"sk-top-container\"><div class=\"sk-text-repr-fallback\"><pre>LatentDirichletAllocation(learning_method=&#x27;online&#x27;, max_iter=30,\n",
       "                          n_components=30)</pre><b>In a Jupyter environment, please rerun this cell to show the HTML representation or trust the notebook. <br />On GitHub, the HTML representation is unable to render, please try loading this page with nbviewer.org.</b></div><div class=\"sk-container\" hidden><div class=\"sk-item\"><div class=\"sk-estimator sk-toggleable\"><input class=\"sk-toggleable__control sk-hidden--visually\" id=\"sk-estimator-id-1\" type=\"checkbox\" checked><label for=\"sk-estimator-id-1\" class=\"sk-toggleable__label sk-toggleable__label-arrow\">LatentDirichletAllocation</label><div class=\"sk-toggleable__content\"><pre>LatentDirichletAllocation(learning_method=&#x27;online&#x27;, max_iter=30,\n",
       "                          n_components=30)</pre></div></div></div></div></div>"
      ],
      "text/plain": [
       "LatentDirichletAllocation(learning_method='online', max_iter=30,\n",
       "                          n_components=30)"
      ]
     },
     "execution_count": 74,
     "metadata": {},
     "output_type": "execute_result"
    }
   ],
   "source": [
    "from sklearn.decomposition import LatentDirichletAllocation\n",
    "\n",
    "lda = LatentDirichletAllocation(n_components=30, verbose=0, learning_method='online', max_iter=30)\n",
    "lda.fit(count_matrix)"
   ]
  },
  {
   "attachments": {},
   "cell_type": "markdown",
   "metadata": {},
   "source": [
    "We print the top terms for each topic to gain insights into the main themes captured by the LDA model."
   ]
  },
  {
   "cell_type": "code",
   "execution_count": 75,
   "metadata": {},
   "outputs": [
    {
     "name": "stdout",
     "output_type": "stream",
     "text": [
      "Topic 1:\t [hit, chemical, 10, oil, low, country, month, second, add, quake]\n",
      "Topic 2:\t [nuclear, iran, weapon, north, drug, korea, united, states, indian, return]\n",
      "Topic 3:\t [water, person, vote, release, tuesday, defense, know, accord, control, yesterday]\n",
      "Topic 4:\t [ride, bird, tree, program, bowl, demand, university, hill, peaceful, town]\n",
      "Topic 5:\t [dog, white, black, sit, brown, use, cat, horse, blue, small]\n",
      "Topic 6:\t [percent, state, report, close, share, point, cent, index, nasdaq, wednesday]\n",
      "Topic 7:\t [russia, big, trial, computer, war, comment, romney, watch, decline, march]\n",
      "Topic 8:\t [force, cut, slice, right, service, missile, want, action, test, onion]\n",
      "Topic 9:\t [say, security, building, europe, work, collapse, mr, rock, miss, offer]\n",
      "Topic 10:\t [girl, president, say, deal, minister, palestinian, chief, news, issue, mandela]\n",
      "Topic 11:\t [china, stand, charge, road, murder, field, eu, major, place, accident]\n",
      "Topic 12:\t [track, area, race, piece, pick, floor, 2013, department, couch, survey]\n",
      "Topic 13:\t [official, day, court, air, international, say, green, visit, remain, hand]\n",
      "Topic 14:\t [shoot, win, foreign, ukraine, east, border, search, stage, announce, bangladesh]\n",
      "Topic 15:\t [high, syrian, plan, jump, look, park, sheep, bike, uk, break]\n",
      "Topic 16:\t [rise, world, end, company, toll, tell, billion, reach, power, say]\n",
      "Topic 17:\t [woman, wear, claim, room, come, iranian, trafficking, pose, way, amid]\n",
      "Topic 18:\t [man, israel, face, plane, leave, hospital, dance, trade, home, fly]\n",
      "Topic 19:\t [stock, group, include, protest, expect, time, market, worker, ban, national]\n",
      "Topic 20:\t [little, yellow, pool, body, order, gain, indonesia, kid, background, rally]\n",
      "Topic 21:\t [red, hold, walk, snow, dog, fall, baby, phone, pull, monkey]\n",
      "Topic 22:\t [egypt, election, police, arm, presidential, rebel, school, fight, outside, continue]\n",
      "Topic 23:\t [new, year, million, obama, open, set, protester, friday, post, york]\n",
      "Topic 24:\t [run, talk, death, child, die, dog, grass, say, beach, monday]\n",
      "Topic 25:\t [play, south, boy, afghanistan, street, nato, ball, troop, guitar, american]\n",
      "Topic 26:\t [kill, people, attack, car, pakistan, train, strike, police, military, crash]\n",
      "Topic 27:\t [young, make, week, say, meet, sale, begin, start, west, public]\n",
      "Topic 28:\t [large, city, eat, japan, sell, double, cfe, animal, push, australia]\n",
      "Topic 29:\t [government, sign, treaty, law, leader, peace, putin, say, head, urge]\n",
      "Topic 30:\t [syria, dead, arrest, near, pm, warn, 30, poor, line, dirt]\n"
     ]
    }
   ],
   "source": [
    "for i in range(len(lda.components_)):\n",
    "    sorted_terms = lda.components_[i].argsort()[::-1]\n",
    "    concatenated_terms = '[' + ', '.join(count_vocab[i] for i in sorted_terms[:10]) + ']'\n",
    "    print (f'Topic {i + 1}:\\t', concatenated_terms)"
   ]
  },
  {
   "attachments": {},
   "cell_type": "markdown",
   "metadata": {},
   "source": [
    "We generate a **visual representatio**n of the most important terms and their weights for a set of predefined topics obtained from LDA. We show **Topic 2**, **Topic 10** and **Topic 26** as examples, noting that the **weights** may be unevenly distributed."
   ]
  },
  {
   "cell_type": "code",
   "execution_count": 76,
   "metadata": {},
   "outputs": [
    {
     "data": {
      "image/png": "[encoded data removed]",
      "text/plain": [
       "<Figure size 1800x600 with 3 Axes>"
      ]
     },
     "metadata": {},
     "output_type": "display_data"
    }
   ],
   "source": [
    "num_words = 10\n",
    "fig, axes = plt.subplots(1, 3, figsize=(18, 6), sharex=True)\n",
    "topic_indices = [1, 9, 25]\n",
    "\n",
    "for i, topic_idx in enumerate(topic_indices):\n",
    "    topic = lda.components_[topic_idx]\n",
    "    top_terms_index = topic.argsort()[:-num_words - 1:-1]\n",
    "    top_terms = [count_vocab[i] for i in top_terms_index]\n",
    "    weights = topic[top_terms_index]\n",
    "    ax = axes[i]\n",
    "    ax.barh(top_terms, weights, height=0.7)\n",
    "    ax.set_title(f'Topic {topic_idx + 1}', fontdict={'fontsize': 15})\n",
    "    ax.invert_yaxis()\n",
    "    ax.set_xscale('symlog', linthresh=100)\n",
    "\n",
    "plt.subplots_adjust(top=0.90, bottom=0.05, wspace=0.20, hspace=0.3)\n",
    "plt.tight_layout()\n",
    "plt.show()\n"
   ]
  },
  {
   "attachments": {},
   "cell_type": "markdown",
   "metadata": {},
   "source": [
    "# Training models\n",
    "We now turn our attention to the task of **sentence similarity**. In this context, we will utilize familiar models like **TF-IDF** and **Word2Vec**, which we have encountered earlier. Additionally, we will explore other approaches, such as Transformers."
   ]
  },
  {
   "attachments": {},
   "cell_type": "markdown",
   "metadata": {},
   "source": [
    "## Bag of Words"
   ]
  },
  {
   "attachments": {},
   "cell_type": "markdown",
   "metadata": {},
   "source": [
    "Having just completed the training of a **TF-IDF** model for **clustering** purposes, we can further leverage this model to compute the similarity between sentences. With a **bag-of-words** approach, we can represent each sentence as a vector by considering the **frequency of words** in the sentence within the entire corpus. By comparing these vector representations, we can quantify the **similarity** between **sentences** based on their shared words and their respective frequencies."
   ]
  },
  {
   "cell_type": "code",
   "execution_count": 171,
   "metadata": {},
   "outputs": [],
   "source": [
    "def evaluate_pearson_correlation(model: TfidfVectorizer, dataset: pd.DataFrame):\n",
    "    predicted_scores = []\n",
    "    for s1,s2 in zip(dataset[\"sentence1\"], dataset[\"sentence2\"]):\n",
    "        vectorized_sentences = model.transform([s1, s2])\n",
    "        predicted_scores.append(cosine_similarity(vectorized_sentences)[0][1])\n",
    "    \n",
    "    return pearsonr(predicted_scores, dataset[\"score\"].values)"
   ]
  },
  {
   "cell_type": "code",
   "execution_count": 229,
   "metadata": {},
   "outputs": [],
   "source": [
    "untouched_dataset = pd.DataFrame({\n",
    "    'sentence1': train_df['sentence1'],\n",
    "    'sentence2': train_df['sentence2'],\n",
    "    'score': train_df['score'] / 5\n",
    "})\n",
    "\n",
    "untouched_test_dataset = pd.DataFrame({\n",
    "    'sentence1': test_df['sentence1'],\n",
    "    'sentence2': test_df['sentence2'],\n",
    "    'score': test_df['score'] / 5\n",
    "})\n",
    "\n",
    "untouched_dev_dataset = pd.DataFrame({\n",
    "    'sentence1': dev_df['sentence1'],\n",
    "    'sentence2': dev_df['sentence2'],\n",
    "    'score': dev_df['score'] / 5\n",
    "})"
   ]
  },
  {
   "cell_type": "code",
   "execution_count": 232,
   "metadata": {},
   "outputs": [],
   "source": [
    "clean_dataset = pd.DataFrame({\n",
    "    'sentence1': train_df['sentence1'].map(remove_special_chars).map(remove_stop_words),\n",
    "    'sentence2': train_df['sentence2'].map(remove_special_chars).map(remove_stop_words),\n",
    "    'score': train_df['score'] / 5\n",
    "})\n",
    "\n",
    "clean_test_dataset = pd.DataFrame({\n",
    "    'sentence1': test_df['sentence1'].map(remove_special_chars).map(remove_stop_words),\n",
    "    'sentence2': test_df['sentence2'].map(remove_special_chars).map(remove_stop_words),\n",
    "    'score': test_df['score'] / 5\n",
    "})\n",
    "\n",
    "clean_dev_dataset = pd.DataFrame({\n",
    "    'sentence1': dev_df['sentence1'].map(remove_special_chars).map(remove_stop_words),\n",
    "    'sentence2': dev_df['sentence2'].map(remove_special_chars).map(remove_stop_words),\n",
    "    'score': dev_df['score'] / 5\n",
    "})"
   ]
  },
  {
   "cell_type": "code",
   "execution_count": 234,
   "metadata": {},
   "outputs": [],
   "source": [
    "lemmatized_dataset = pd.DataFrame({\n",
    "    'sentence1': clean_dataset['sentence1'].map(lemmatize),\n",
    "    'sentence2': clean_dataset['sentence2'].map(lemmatize),\n",
    "    'score': clean_dataset['score']\n",
    "})\n",
    "\n",
    "lemmatized_test_dataset = pd.DataFrame({\n",
    "    'sentence1': clean_test_dataset['sentence1'].map(lemmatize),\n",
    "    'sentence2': clean_test_dataset['sentence2'].map(lemmatize),\n",
    "    'score': clean_test_dataset['score']\n",
    "})\n",
    "\n",
    "lemmatized_dev_dataset = pd.DataFrame({\n",
    "    'sentence1': clean_dev_dataset['sentence1'].map(lemmatize),\n",
    "    'sentence2': clean_dev_dataset['sentence2'].map(lemmatize),\n",
    "    'score': clean_dev_dataset['score']\n",
    "})"
   ]
  },
  {
   "attachments": {},
   "cell_type": "markdown",
   "metadata": {},
   "source": [
    "We train a Tf-idf model using non-preprocessed sentence list"
   ]
  },
  {
   "cell_type": "code",
   "execution_count": 243,
   "metadata": {},
   "outputs": [
    {
     "name": "stdout",
     "output_type": "stream",
     "text": [
      "Pearson correlation: 0.6587586833220163\n"
     ]
    }
   ],
   "source": [
    "tfidf_vectorizer_simple = TfidfVectorizer(analyzer='word', ngram_range=(1,1))\n",
    "tfidf_vectorizer_simple.fit(sentences_list)\n",
    "\n",
    "print(\"Pearson correlation:\", evaluate_pearson_correlation(tfidf_vectorizer_simple, untouched_test_dataset).correlation)"
   ]
  },
  {
   "attachments": {},
   "cell_type": "markdown",
   "metadata": {},
   "source": [
    "We try to improve it using the list of lemmatized sentences"
   ]
  },
  {
   "cell_type": "code",
   "execution_count": 244,
   "metadata": {},
   "outputs": [
    {
     "name": "stdout",
     "output_type": "stream",
     "text": [
      "Pearson correlation: 0.6767943027336835\n"
     ]
    }
   ],
   "source": [
    "tfidf_vectorizer_lemmatized = TfidfVectorizer(analyzer='word', ngram_range=(1,1), lowercase=True)\n",
    "tfidf_vectorizer_lemmatized.fit(lemmatized_sentences_list)\n",
    "\n",
    "print(\"Pearson correlation:\", evaluate_pearson_correlation(tfidf_vectorizer_lemmatized, lemmatized_test_dataset).correlation)"
   ]
  },
  {
   "attachments": {},
   "cell_type": "markdown",
   "metadata": {},
   "source": [
    "Finally we try to improve it using character n-gram"
   ]
  },
  {
   "cell_type": "code",
   "execution_count": 245,
   "metadata": {},
   "outputs": [
    {
     "name": "stdout",
     "output_type": "stream",
     "text": [
      "Pearson correlation: 0.7140034205412866\n"
     ]
    }
   ],
   "source": [
    "trigrams_tfidf_vectorizer = TfidfVectorizer(analyzer='char_wb', ngram_range=(3,5))\n",
    "trigrams_tfidf_vectorizer.fit(sentences_list)\n",
    "\n",
    "print(\"Pearson correlation:\", evaluate_pearson_correlation(trigrams_tfidf_vectorizer, untouched_test_dataset).correlation)\n"
   ]
  },
  {
   "attachments": {},
   "cell_type": "markdown",
   "metadata": {},
   "source": [
    "Here we are printing the **most similar** sentences to a specific sentence based on **cosine similarity** using the **TF-IDF matrix**. This allows us to see both the original sentence and the **degree of similarity** calculated for every similar sentence."
   ]
  },
  {
   "cell_type": "code",
   "execution_count": 250,
   "metadata": {},
   "outputs": [
    {
     "name": "stdout",
     "output_type": "stream",
     "text": [
      "\"Biotech products, if anything, may be safer than conventional products because of all the testing,\" said Robert Fraley, Monsanto's executive vice president.\n",
      "1) 0.71  -> \"Biotech products, if anything, may be safer than conventional products because of all the testing,\" Fraley said, adding that 18 countries have adopted biotechnology.\n",
      "2) 0.23  -> As executive vice president of new ventures, Elias will report to Joe Tucci, EMC's president and chief executive.\n",
      "3) 0.21  -> Products featuring Vanderpool will be released within five years, he said.\n",
      "4) 0.19  -> The onus is on the manufacturer of a product to convince consumers it is safe.\n",
      "5) 0.17  -> The third appointment was to a new job, executive vice president and chief staff officer.\n"
     ]
    }
   ],
   "source": [
    "tfidf_trigrams_matrix = trigrams_tfidf_vectorizer.transform(sentences_list)\n",
    "tfidf_similarity = cosine_similarity(tfidf_trigrams_matrix)\n",
    "tfidf_sentence_idx = 10\n",
    "print(sentences_list[tfidf_sentence_idx])\n",
    "for i, col_idx in enumerate(tfidf_similarity[tfidf_sentence_idx].argsort()[::-1][1:6]):\n",
    "    print(str(i+1) + \")\",f\"{tfidf_similarity[tfidf_sentence_idx][col_idx]:.2f} \", f\"-> {sentences_list[col_idx]}\")"
   ]
  },
  {
   "cell_type": "code",
   "execution_count": 94,
   "metadata": {},
   "outputs": [],
   "source": [
    "# Saving the lemmatized sentences to a txt file\n",
    "with open('Dataset/lemmatized_sentences.txt', 'w') as f:\n",
    "    for item in lemmatized_sentences_list:\n",
    "        f.write(\"%s\\n\" % item)"
   ]
  },
  {
   "attachments": {},
   "cell_type": "markdown",
   "metadata": {},
   "source": [
    "## Word2Vec"
   ]
  },
  {
   "cell_type": "code",
   "execution_count": 95,
   "metadata": {},
   "outputs": [],
   "source": [
    "stop_words = stopwords.words('english')\n",
    "\n",
    "def preprocess_and_tokenize(sentence):\n",
    "    temp = ' '.join([word.lemma_.lower() for word in spacy_nlp(str(sentence)) if word.lemma_.lower() not in stop_words])\n",
    "    temp = re.sub(f'[{punctuation}]', '', unidecode(temp))\n",
    "    #temp = re.sub(r'\\d+(\\.\\d+)?', 'number', temp)\n",
    "    return word_tokenize(temp)\n",
    "\n",
    "tokenized_sentences = [preprocess_and_tokenize(w) for w in sentences_list]"
   ]
  },
  {
   "cell_type": "code",
   "execution_count": 96,
   "metadata": {},
   "outputs": [
    {
     "name": "stdout",
     "output_type": "stream",
     "text": [
      "vocabular size: 3159\n",
      "car --> ['truck', 'motorcycle', 'bicycle', 'explode', 'silver', 'fence', 'ranger', 'lot', 'vehicle', 'sidewalk']\n",
      "boy --> ['kid', 'girl', 'man', 'woman', 'child', 'shirt', 'person', 'dog', 'band', 'couple']\n",
      "man --> ['woman', 'person', 'girl', 'boy', 'guy', 'pink', 'dog', 'animal', 'child', 'surfer']\n",
      "girl --> ['woman', 'man', 'boy', 'couple', 'child', 'blue', 'kid', 'jacket', 'suit', 'hat']\n",
      "woman --> ['girl', 'man', 'boy', 'couple', 'person', 'suit', 'child', 'lady', 'blue', 'baby']\n",
      "obama --> ['cameron', 'defend', 'decision', 'rebuild', 'haiti', 'want', 'ann', 'turkey', 'renew', 'negotiate']\n",
      "florida --> ['voting', 'graham', 'haiti', 'ann', 'bob', 'speaker', 'tornado', 'holiday', 'convention', 'outfielder']\n",
      "cat --> ['blanket', 'kitten', 'leather', 'dog', 'couch', 'animal', 'kitchen', 'grey', 'laptop', 'eagle']\n",
      "dog --> ['puppy', 'animal', 'ball', 'mouth', 'tan', 'black', 'kitten', 'snow', 'cow', 'sand']\n",
      "blue --> ['pink', 'yellow', 'orange', 'girl', 'green', 'purple', 'gray', 'red', 'leash', 'silver']\n",
      "kill --> ['injure', 'wound', 'kills', 'northern', 'dead', 'die', 'ambush', 'nw', 'fighter', 'militants']\n",
      "bomb --> ['bombing', 'explosion', 'la', 'gunman', 'northern', 'injure', 'sinai', 'kill', 'wound', 'dozen']\n",
      "piano --> ['keyboard', 'drum', 'guitar', 'flute', 'violin', 'ferret', 'hay', 'shirtless', 'trumpet', 'instrument']\n",
      "pizza --> ['butter', 'bread', 'tortilla', 'tomato', 'cheese', 'piece', 'skillet', 'dough', 'carrot', 'slice']\n",
      "italy --> ['poland', 'spain', 'netherlands', 'spanish', 'britain', '39', 'france', 'usgs', 'political', 'mh17']\n"
     ]
    }
   ],
   "source": [
    "model = Word2Vec(tokenized_sentences, vector_size=50, min_count=4, window=5, negative=10, workers=4, sg=0, cbow_mean=1, epochs=150, seed=42)\n",
    "print(\"vocabular size:\", len(model.wv.key_to_index))\n",
    "\n",
    "#print most similar words to\n",
    "for item in ['car', 'boy', 'man', 'girl', 'woman', 'obama', 'florida', 'cat', 'dog', 'blue', 'kill', 'bomb', 'piano', 'pizza', 'italy']:\n",
    "    print(item, '-->', [w for w, s in model.wv.most_similar(item)])"
   ]
  },
  {
   "cell_type": "code",
   "execution_count": 97,
   "metadata": {},
   "outputs": [],
   "source": [
    "def vectorize(sentences, vocab, vectorizer, vector_size=50):\n",
    "    # create a matrix with rows equal to the number of tweets and columns equal to the embedding size\n",
    "    vectors = np.zeros((len(sentences), vector_size))\n",
    "\n",
    "    # for each sentence in the dataset compute the embedding \n",
    "    for i, sentence in enumerate(sentences):\n",
    "        tokens = preprocess_and_tokenize(sentence)\n",
    "        embeddings = [vectorizer(token) for token in tokens if token in vocab] # embedding per ogni token\n",
    "        if (len(embeddings) > 0): # unisce tutti gli embedding in base a useSum\n",
    "            vectors[i] = np.mean(embeddings, axis=0)\n",
    "    return vectors"
   ]
  },
  {
   "cell_type": "code",
   "execution_count": 98,
   "metadata": {},
   "outputs": [
    {
     "name": "stdout",
     "output_type": "stream",
     "text": [
      "X_train shape: (11498, 100)\n",
      "y_train shape: (11498,)\n",
      "X_test shape: (2758, 100)\n",
      "y_test shape: (2758,)\n"
     ]
    }
   ],
   "source": [
    "temp = []\n",
    "for a, b in zip(train_df[\"sentence1\"], train_df[\"sentence2\"]):\n",
    "    temp.append(np.ravel(vectorize([a, b], model.wv.key_to_index, model.wv.get_vector)))\n",
    "    temp.append(np.ravel(vectorize([b, a], model.wv.key_to_index, model.wv.get_vector)))\n",
    "X_train = np.array(temp)\n",
    "y_train = np.repeat(train_df[\"score\"].values / 5, 2)\n",
    "\n",
    "print(f'X_train shape: {X_train.shape}')\n",
    "print(f'y_train shape: {y_train.shape}')\n",
    "\n",
    "temp = []\n",
    "for a, b in zip(test_df[\"sentence1\"], test_df[\"sentence2\"]):\n",
    "    temp.append(np.ravel(vectorize([a, b], model.wv.key_to_index, model.wv.get_vector)))\n",
    "    temp.append(np.ravel(vectorize([b, a], model.wv.key_to_index, model.wv.get_vector)))\n",
    "X_test = np.array(temp)\n",
    "y_test = np.repeat(test_df[\"score\"].values / 5, 2)\n",
    "\n",
    "print(f'X_test shape: {X_test.shape}')\n",
    "print(f'y_test shape: {y_test.shape}')"
   ]
  },
  {
   "cell_type": "code",
   "execution_count": 99,
   "metadata": {},
   "outputs": [
    {
     "name": "stdout",
     "output_type": "stream",
     "text": [
      "RandomForestRegressor (on our Word2Vec model):\n",
      "MSE: 0.07399494858255294\n",
      "Pearson: 0.48183670698990505\n"
     ]
    }
   ],
   "source": [
    "regressor = RandomForestRegressor(n_estimators=100, max_depth=10, random_state=42)\n",
    "regressor.fit(X_train, y_train)\n",
    "\n",
    "y_pred = regressor.predict(X_test)\n",
    "print('RandomForestRegressor (on our Word2Vec model):')\n",
    "print(f'MSE: {mean_squared_error(y_test, y_pred)}')\n",
    "print(f'Pearson: {pearsonr(y_test, y_pred)[0]}')"
   ]
  },
  {
   "cell_type": "code",
   "execution_count": 100,
   "metadata": {},
   "outputs": [
    {
     "name": "stdout",
     "output_type": "stream",
     "text": [
      "car --> ['truck', 'cars', 'vehicle', 'driver', 'driving', 'bus', 'vehicles', 'parked', 'motorcycle', 'taxi']\n",
      "boy --> ['girl', 'woman', 'man', 'kid', 'mother', 'teenage', 'baby', 'dad', 'her', 'old']\n",
      "man --> ['woman', 'boy', 'another', 'old', 'one', 'who', 'him', 'turned', 'whose', 'himself']\n",
      "girl --> ['boy', 'woman', 'mother', 'girls', 'girlfriend', 'teenage', 'her', 'teen', 'baby', 'man']\n",
      "woman --> ['girl', 'man', 'mother', 'her', 'boy', 'she', 'herself', 'child', 'wife', 'old']\n",
      "obama --> ['barack', 'bush', 'clinton', 'mccain', 'dole', 'gore', 'hillary', 'rodham', 'kerry', 'biden']\n",
      "florida --> ['arizona', 'texas', 'colorado', 'miami', 'california', 'kansas', 'carolina', 'minnesota', 'louisiana', 'sacramento']\n",
      "cat --> ['dog', 'rabbit', 'monkey', 'rat', 'cats', 'snake', 'dogs', 'pet', 'mouse', 'bite']\n",
      "dog --> ['cat', 'dogs', 'horse', 'puppy', 'pet', 'rabbit', 'pig', 'snake', 'baby', 'bite']\n",
      "blue --> ['red', 'black', 'pink', 'green', 'yellow', 'purple', 'white', 'orange', 'bright', 'colored']\n",
      "kill --> ['killers', 'terrorists', 'attempting', 'kills', 'killer', 'destroy', 'killing', 'escape', 'attack', 'revenge']\n",
      "bomb --> ['bombs', 'exploded', 'explosives', 'blast', 'detonated', 'explosion', 'grenade', 'bombing', 'attack', 'explosive']\n",
      "piano --> ['violin', 'cello', 'flute', 'concerto', 'guitar', 'saxophone', 'concertos', 'clarinet', 'orchestral', 'harpsichord']\n",
      "pizza --> ['sandwich', 'sandwiches', 'snack', 'bakery', 'fries', 'burgers', 'restaurant', 'bagel', 'chicken', 'bread']\n",
      "italy --> ['spain', 'italian', 'portugal', 'france', 'brazil', 'milan', 'rome', 'argentina', 'switzerland', 'germany']\n"
     ]
    }
   ],
   "source": [
    "model_wiki = gensim_api.load(\"glove-wiki-gigaword-50\")\n",
    "\n",
    "#print most similar words to\n",
    "for item in ['car', 'boy', 'man', 'girl', 'woman', 'obama', 'florida', 'cat', 'dog', 'blue', 'kill', 'bomb', 'piano', 'pizza', 'italy']:\n",
    "    print(item, '-->', [w for w, s in model_wiki.most_similar(item)])"
   ]
  },
  {
   "cell_type": "code",
   "execution_count": 101,
   "metadata": {},
   "outputs": [
    {
     "name": "stdout",
     "output_type": "stream",
     "text": [
      "X_train shape: (11498, 100)\n",
      "y_train shape: (11498,)\n",
      "X_test shape: (2758, 100)\n",
      "y_test shape: (2758,)\n"
     ]
    }
   ],
   "source": [
    "temp = []\n",
    "for a, b in zip(train_df[\"sentence1\"], train_df[\"sentence2\"]):\n",
    "    temp.append(np.ravel(vectorize([a, b], model_wiki.key_to_index, model_wiki.get_vector)))\n",
    "    temp.append(np.ravel(vectorize([b, a], model_wiki.key_to_index, model_wiki.get_vector)))\n",
    "X_train = np.array(temp)\n",
    "y_train = np.repeat(train_df[\"score\"].values / 5, 2)\n",
    "\n",
    "print(f'X_train shape: {X_train.shape}')\n",
    "print(f'y_train shape: {y_train.shape}')\n",
    "\n",
    "temp = []\n",
    "for a, b in zip(test_df[\"sentence1\"], test_df[\"sentence2\"]):\n",
    "    temp.append(np.ravel(vectorize([a, b], model_wiki.key_to_index, model_wiki.get_vector)))\n",
    "    temp.append(np.ravel(vectorize([b, a], model_wiki.key_to_index, model_wiki.get_vector)))\n",
    "X_test = np.array(temp)\n",
    "y_test = np.repeat(test_df[\"score\"].values / 5, 2)\n",
    "\n",
    "print(f'X_test shape: {X_test.shape}')\n",
    "print(f'y_test shape: {y_test.shape}')"
   ]
  },
  {
   "cell_type": "code",
   "execution_count": 102,
   "metadata": {},
   "outputs": [
    {
     "name": "stdout",
     "output_type": "stream",
     "text": [
      "RandomForestRegressor (on pretrained Glove model):\n",
      "MSE: 0.07175080290579616\n",
      "Pearson: 0.5247575093596499\n"
     ]
    }
   ],
   "source": [
    "regressor = RandomForestRegressor(n_estimators=100, max_depth=10, random_state=42)\n",
    "regressor.fit(X_train, y_train)\n",
    "\n",
    "y_pred = regressor.predict(X_test)\n",
    "print('RandomForestRegressor (on pretrained Glove model):')\n",
    "print(f'MSE: {mean_squared_error(y_test, y_pred)}')\n",
    "print(f'Pearson: {pearsonr(y_test, y_pred)[0]}')"
   ]
  },
  {
   "attachments": {},
   "cell_type": "markdown",
   "metadata": {},
   "source": [
    "## SubWord embedding: FastText"
   ]
  },
  {
   "cell_type": "code",
   "execution_count": 103,
   "metadata": {},
   "outputs": [],
   "source": [
    "import fasttext"
   ]
  },
  {
   "cell_type": "code",
   "execution_count": 104,
   "metadata": {},
   "outputs": [],
   "source": [
    "dataset_filename = 'Dataset/parsed_sentences.txt'\n",
    "\n",
    "with open(dataset_filename, 'w') as f:\n",
    "    for item in tokenized_sentences:\n",
    "        f.write(\"%s\\n\" % ' '.join(item))"
   ]
  },
  {
   "cell_type": "code",
   "execution_count": 105,
   "metadata": {},
   "outputs": [
    {
     "name": "stdout",
     "output_type": "stream",
     "text": [
      "car --> ['bicycle', 'bomb', 'track', 'trail', 'kill', 'train', 'station', 'tree', 'rail', 'least']\n",
      "boy --> ['play', 'young', 'man', 'walk', 'graze', 'girl', 'sidewalk', 'kid', 'two', 'sand']\n",
      "man --> ['woman', '</s>', 'boy', 'sidewalk', 'girl', 'onto', 'two', 'suit', 'shirt', 'bamboo']\n",
      "girl --> ['young', 'wear', 'helmet', 'little', '</s>', 'blonde', 'woman', 'man', 'pink', 'two']\n",
      "woman --> ['man', '</s>', 'girl', 'two', 'bamboo', 'sidewalk', 'smile', 'pizza', 'fry', 'guy']\n",
      "obama --> ['mitt', 'romney', 'gay', 'vote', 'lift', 'mandela', 'un', 'call', 'syria', 'calm']\n",
      "florida --> ['enforcement', 'california', 'john', 'maryland', 'jordanian', 'fla', 'student', 'sixth', 'speaker', 'pm']\n",
      "cat --> ['blanket', 'white', 'kitten', 'laptop', 'window', 'grey', 'desk', 'black', 'lay', 'kitchen']\n",
      "dog --> ['brown', 'white', 'run', 'black', 'mouth', 'grass', 'snow', 'walk', 'duck', 'water']\n",
      "blue --> ['background', 'front', 'yellow', 'small', 'red', 'orange', 'dress', 'blonde', 'white', 'bird']\n",
      "kill --> ['bomb', 'least', 'injure', 'attack', 'suicide', 'blast', 'wound', 'southern', 'soldier', 'dead']\n",
      "bomb --> ['kill', 'plot', 'blast', 'suicide', 'bombing', 'attack', 'soldier', 'bomber', 'car', 'policeman']\n",
      "piano --> ['guitar', 'keyboard', 'flute', 'singe', 'drum', 'kangaroo', 'dance', 'seat', 'little', 'someone']\n",
      "pizza --> ['piece', 'kangaroo', 'cheese', 'carrot', 'butter', 'nose', 'slice', 'garlic', 'sidewalk', 'tomato']\n",
      "italy --> ['britain', 'spain', 'italian', 'netherlands', 'belgian', 'poland', 'plunge', 'insurance', 'fuel', 'germany']\n"
     ]
    }
   ],
   "source": [
    "ft_model = fasttext.train_unsupervised(dataset_filename, model='cbow', dim=50, minn=3, maxn=5, ws=5, epoch=300)\n",
    "\n",
    "for item in ['car', 'boy', 'man', 'girl', 'woman', 'obama', 'florida', 'cat', 'dog', 'blue', 'kill', 'bomb', 'piano', 'pizza', 'italy']:\n",
    "    print(item, '-->', [s for w, s in ft_model.get_nearest_neighbors(item)])"
   ]
  },
  {
   "cell_type": "code",
   "execution_count": 251,
   "metadata": {},
   "outputs": [
    {
     "name": "stdout",
     "output_type": "stream",
     "text": [
      "X_train shape: (11498, 100)\n",
      "y_train shape: (11498,)\n",
      "X_test shape: (2758, 100)\n",
      "y_test shape: (2758,)\n"
     ]
    }
   ],
   "source": [
    "temp = []\n",
    "for a, b in zip(train_df[\"sentence1\"], train_df[\"sentence2\"]):\n",
    "    temp.append(np.ravel(vectorize([a, b], ft_model.words, ft_model.get_word_vector)))\n",
    "    temp.append(np.ravel(vectorize([b, a], ft_model.words, ft_model.get_word_vector)))\n",
    "X_train = np.array(temp)\n",
    "y_train = np.repeat(train_df[\"score\"].values / 5, 2)\n",
    "\n",
    "print(f'X_train shape: {X_train.shape}')\n",
    "print(f'y_train shape: {y_train.shape}')\n",
    "\n",
    "temp = []\n",
    "for a, b in zip(test_df[\"sentence1\"], test_df[\"sentence2\"]):\n",
    "    temp.append(np.ravel(vectorize([a, b], ft_model.words, ft_model.get_word_vector)))\n",
    "    temp.append(np.ravel(vectorize([b, a], ft_model.words, ft_model.get_word_vector)))\n",
    "X_test = np.array(temp)\n",
    "y_test = np.repeat(test_df[\"score\"].values / 5, 2)\n",
    "\n",
    "print(f'X_test shape: {X_test.shape}')\n",
    "print(f'y_test shape: {y_test.shape}')"
   ]
  },
  {
   "cell_type": "code",
   "execution_count": null,
   "metadata": {},
   "outputs": [
    {
     "name": "stdout",
     "output_type": "stream",
     "text": [
      "RandomForestRegressor (on our FastText model):\n",
      "MSE: 0.0738387157872733\n",
      "Pearson: 0.48298803757523495\n"
     ]
    }
   ],
   "source": [
    "regressor = RandomForestRegressor(n_estimators=100, max_depth=10, random_state=42)\n",
    "regressor.fit(X_train, y_train)\n",
    "\n",
    "y_pred = regressor.predict(X_test)\n",
    "print('RandomForestRegressor (on our FastText model):')\n",
    "print(f'MSE: {mean_squared_error(y_test, y_pred)}')\n",
    "print(f'Pearson: {pearsonr(y_test, y_pred)[0]}')"
   ]
  },
  {
   "attachments": {},
   "cell_type": "markdown",
   "metadata": {},
   "source": [
    "## Universal Sentence Encoder"
   ]
  },
  {
   "attachments": {},
   "cell_type": "markdown",
   "metadata": {},
   "source": [
    "The **Universal Sentence Encoder** is a powerful tool that converts text into high-dimensional vectors, enabling **semantic similarity** analysis. It undergoes training using different data sources and tasks, allowing it to adapt dynamically to various natural language understanding needs. When given variable length English text as input, it produces a **512-dimensional vector** as output. This encoder model is trained with a **Deep Averaging Network (DAN)**.\n",
    "\n",
    "In the **DAN** approach, **word** and **bi-gram** embeddings within a sentence are **averaged** together. These averaged embeddings then pass through a 4-layer feed-forward deep DNN, resulting in a **512-dimensional sentence embedding** as the final output. The word and bi-gram embeddings are learned during the training process.\n",
    "\n",
    "![Deep Averaging Network embedding](https://amitness.com/images/use-deep-averaging-network-variant.png)"
   ]
  },
  {
   "cell_type": "code",
   "execution_count": null,
   "metadata": {},
   "outputs": [],
   "source": [
    "embed = hub.load(\"universal-sentence-encoder_4\")"
   ]
  },
  {
   "cell_type": "code",
   "execution_count": null,
   "metadata": {},
   "outputs": [
    {
     "name": "stdout",
     "output_type": "stream",
     "text": [
      "Pearson correlation: 0.7872796991698889\n"
     ]
    }
   ],
   "source": [
    "y_pred = []\n",
    "for s1, s2 in zip(test_df['sentence1'], test_df['sentence2']):\n",
    "    embeddings = embed([s1, s2])\n",
    "    simil = cosine_similarity(embeddings, embeddings)[0][1]\n",
    "    y_pred.append(simil)\n",
    "\n",
    "print(f'Pearson corr: {pearsonr(y_pred, test_df[\"score\"])[0]}')"
   ]
  },
  {
   "attachments": {},
   "cell_type": "markdown",
   "metadata": {},
   "source": [
    "# Transformers\n",
    "![Comparison bi-encoder and cross-encoder](https://raw.githubusercontent.com/UKPLab/sentence-transformers/master/docs/img/Bi_vs_Cross-Encoder.png)"
   ]
  },
  {
   "cell_type": "code",
   "execution_count": null,
   "metadata": {},
   "outputs": [],
   "source": [
    "from torch.utils.data import DataLoader\n",
    "import math\n",
    "from sentence_transformers import SentenceTransformer, LoggingHandler, losses, util, InputExample\n",
    "from sentence_transformers.evaluation import EmbeddingSimilarityEvaluator\n",
    "import logging\n",
    "from datetime import datetime"
   ]
  },
  {
   "cell_type": "code",
   "execution_count": null,
   "metadata": {},
   "outputs": [],
   "source": [
    "from sentence_transformers.cross_encoder import CrossEncoder\n",
    "from sentence_transformers.cross_encoder.evaluation import CECorrelationEvaluator"
   ]
  },
  {
   "attachments": {},
   "cell_type": "markdown",
   "metadata": {},
   "source": [
    "## Bi-Encoders\n",
    "Bi-Encoders produce for a given sentence a sentence embedding. We pass to a BERT independently the sentences A and B, which result in the sentence embeddings u and v. These sentence embedding can then be compared using cosine similarity\n",
    "\n",
    "In this example we fine tune a pre-trained SentenceTransformer model on the STS benchmark dataset.\n",
    "\n",
    "Reimers, N., & Gurevych, I. (2019). Sentence-BERT: Sentence embeddings using Siamese BERT-networks. In arXiv [cs.CL]. http://arxiv.org/abs/1908.10084"
   ]
  },
  {
   "attachments": {},
   "cell_type": "markdown",
   "metadata": {},
   "source": [
    "### Fine Tuning a pre-trained model\n",
    "In this example we fine tune a pre-trained model. The model was first trained on NLI data, we now finetune it on the STS benchmark dataset."
   ]
  },
  {
   "cell_type": "code",
   "execution_count": null,
   "metadata": {},
   "outputs": [
    {
     "name": "stdout",
     "output_type": "stream",
     "text": [
      "2023-05-27 10:46:45 - Load pretrained SentenceTransformer: nli-distilroberta-base-v2\n",
      "2023-05-27 10:46:46 - Use pytorch device: cpu\n"
     ]
    }
   ],
   "source": [
    "#### Just some code to print debug information to stdout\n",
    "logging.basicConfig(format='%(asctime)s - %(message)s',\n",
    "                    datefmt='%Y-%m-%d %H:%M:%S',\n",
    "                    level=logging.INFO,\n",
    "                    handlers=[LoggingHandler()])\n",
    "\n",
    "# Read the dataset\n",
    "model_name = 'nli-distilroberta-base-v2'\n",
    "train_batch_size = 16\n",
    "num_epochs = 10\n",
    "model_save_path = 'output/bi_encoder_fine_tuning-'+model_name+'-'+datetime.now().strftime(\"%Y-%m-%d_%H-%M-%S\")\n",
    "\n",
    "# Load a pre-trained sentence transformer model\n",
    "model = SentenceTransformer(model_name)"
   ]
  },
  {
   "cell_type": "code",
   "execution_count": null,
   "metadata": {},
   "outputs": [
    {
     "name": "stdout",
     "output_type": "stream",
     "text": [
      "2023-05-27 10:46:57 - Read STSbenchmark train dataset\n"
     ]
    }
   ],
   "source": [
    "# Convert the dataset to a DataLoader ready for training\n",
    "logging.info(\"Read STSbenchmark train dataset\")\n",
    "\n",
    "train_samples = []\n",
    "dev_samples = []\n",
    "test_samples = []\n",
    "\n",
    "# Loading datasets from csv files\n",
    "for idx, row in train_df.iterrows():\n",
    "\n",
    "    score = float(row['score']) / 5.0  # Normalize score to range 0 ... 1\n",
    "\n",
    "    #As we want to get symmetric scores, i.e. CrossEncoder(A,B) = CrossEncoder(B,A), we pass both combinations to the train set\n",
    "    train_samples.append(InputExample(texts=[row['sentence1'], row['sentence2']], label=score))\n",
    "    train_samples.append(InputExample(texts=[row['sentence2'], row['sentence1']], label=score))\n",
    "\n",
    "for idx, row in dev_df.iterrows():\n",
    "    score = float(row['score']) / 5.0  # Normalize score to range 0 ... 1\n",
    "    dev_samples.append(InputExample(texts=[row['sentence1'], row['sentence2']], label=score))\n",
    "\n",
    "for idx, row in test_df.iterrows():\n",
    "    score = float(row['score']) / 5.0  # Normalize score to range 0 ... 1\n",
    "    test_samples.append(InputExample(texts=[row['sentence1'], row['sentence2']], label=score))"
   ]
  },
  {
   "cell_type": "code",
   "execution_count": null,
   "metadata": {},
   "outputs": [
    {
     "name": "stdout",
     "output_type": "stream",
     "text": [
      "2023-05-27 10:47:04 - Read STSbenchmark dev dataset\n",
      "2023-05-27 10:47:04 - Warmup-steps: 719\n"
     ]
    }
   ],
   "source": [
    "# We wrap train_samples into a pytorch DataLoader\n",
    "train_dataloader = DataLoader(train_samples, shuffle=True, batch_size=train_batch_size)\n",
    "# We use cosine similarity as loss function.\n",
    "train_loss = losses.CosineSimilarityLoss(model=model)\n",
    "\n",
    "# Development set: Measure correlation between cosine score and gold labels\n",
    "logging.info(\"Read STSbenchmark dev dataset\")\n",
    "evaluator = EmbeddingSimilarityEvaluator.from_input_examples(dev_samples, name='sts-dev')\n",
    "\n",
    "# Configure the training\n",
    "warmup_steps = math.ceil(len(train_dataloader) * num_epochs * 0.1) #10% of train data for warm-up\n",
    "logging.info(\"Warmup-steps: {}\".format(warmup_steps))"
   ]
  },
  {
   "cell_type": "code",
   "execution_count": null,
   "metadata": {},
   "outputs": [
    {
     "name": "stdout",
     "output_type": "stream",
     "text": [
      "2023-05-27 10:42:58 - EmbeddingSimilarityEvaluator: Evaluating the model on sts-dev dataset:\n",
      "2023-05-27 10:43:56 - Cosine-Similarity :\tPearson: 0.8580\tSpearman: 0.8638\n",
      "2023-05-27 10:43:56 - Manhattan-Distance:\tPearson: 0.8469\tSpearman: 0.8463\n",
      "2023-05-27 10:43:56 - Euclidean-Distance:\tPearson: 0.8488\tSpearman: 0.8483\n",
      "2023-05-27 10:43:56 - Dot-Product-Similarity:\tPearson: 0.8096\tSpearman: 0.8086\n"
     ]
    },
    {
     "data": {
      "text/plain": [
       "0.8637726299065401"
      ]
     },
     "metadata": {},
     "output_type": "display_data"
    }
   ],
   "source": [
    "# Testing the model before fine-tuning\n",
    "test_evaluator = EmbeddingSimilarityEvaluator.from_input_examples(test_samples, name='sts-test')\n",
    "model.evaluate(evaluator)"
   ]
  },
  {
   "cell_type": "code",
   "execution_count": null,
   "metadata": {},
   "outputs": [],
   "source": [
    "# Train the model\n",
    "model.fit(train_objectives=[(train_dataloader, train_loss)],\n",
    "          evaluator=evaluator,\n",
    "          epochs=num_epochs,\n",
    "          evaluation_steps=1000,\n",
    "          warmup_steps=warmup_steps,\n",
    "          output_path=model_save_path)"
   ]
  },
  {
   "cell_type": "code",
   "execution_count": null,
   "metadata": {},
   "outputs": [
    {
     "name": "stdout",
     "output_type": "stream",
     "text": [
      "2023-05-27 15:14:27 - Load pretrained SentenceTransformer: training_stsbenchmark_continue_training-nli-distilroberta-base-v2-2023-05-27_12-22-39\n",
      "2023-05-27 15:14:28 - Use pytorch device: cpu\n",
      "2023-05-27 15:14:28 - EmbeddingSimilarityEvaluator: Evaluating the model on sts-test dataset:\n",
      "2023-05-27 15:15:08 - Cosine-Similarity :\tPearson: 0.8646\tSpearman: 0.8658\n",
      "2023-05-27 15:15:08 - Manhattan-Distance:\tPearson: 0.8480\tSpearman: 0.8497\n",
      "2023-05-27 15:15:08 - Euclidean-Distance:\tPearson: 0.8501\tSpearman: 0.8517\n",
      "2023-05-27 15:15:08 - Dot-Product-Similarity:\tPearson: 0.8249\tSpearman: 0.8200\n"
     ]
    },
    {
     "data": {
      "text/plain": [
       "0.86583234968324"
      ]
     },
     "metadata": {},
     "output_type": "display_data"
    }
   ],
   "source": [
    "# Load the stored model and evaluate its performance on STS benchmark dataset\n",
    "model = SentenceTransformer(model_save_path)\n",
    "test_evaluator(model, output_path=model_save_path)"
   ]
  },
  {
   "attachments": {},
   "cell_type": "markdown",
   "metadata": {},
   "source": [
    "As we can see fine-tuning the model on the STS benchmark dataset improves the performance."
   ]
  },
  {
   "attachments": {},
   "cell_type": "markdown",
   "metadata": {},
   "source": [
    "### Testing a pre-trained bi-encoder model already fine-tuned on STSb"
   ]
  },
  {
   "cell_type": "code",
   "execution_count": null,
   "metadata": {},
   "outputs": [],
   "source": [
    "model_name = 'stsb-distilroberta-base-v2'\n",
    "# Load a pre-trained sentence transformer model\n",
    "pre_trained_model = SentenceTransformer(model_name)"
   ]
  },
  {
   "cell_type": "code",
   "execution_count": null,
   "metadata": {},
   "outputs": [
    {
     "name": "stdout",
     "output_type": "stream",
     "text": [
      "2023-05-27 11:48:36 - EmbeddingSimilarityEvaluator: Evaluating the model on sts-test dataset:\n",
      "2023-05-27 11:49:26 - Cosine-Similarity :\tPearson: 0.8634\tSpearman: 0.8641\n",
      "2023-05-27 11:49:26 - Manhattan-Distance:\tPearson: 0.8409\tSpearman: 0.8411\n",
      "2023-05-27 11:49:26 - Euclidean-Distance:\tPearson: 0.8436\tSpearman: 0.8441\n",
      "2023-05-27 11:49:26 - Dot-Product-Similarity:\tPearson: 0.8211\tSpearman: 0.8141\n"
     ]
    },
    {
     "data": {
      "text/plain": [
       "0.8641186332195347"
      ]
     },
     "metadata": {},
     "output_type": "display_data"
    }
   ],
   "source": [
    "test_evaluator(pre_trained_model)"
   ]
  },
  {
   "attachments": {},
   "cell_type": "markdown",
   "metadata": {},
   "source": [
    "## Cross-Encoders\n",
    "\n",
    "With Cross-Encoders we path both sentences at once to BERT. The output is then used to predict a similarity. A Cross-Encoder does not produce a sentence embedding, they are more accurate, but also slower than Bi-Encoders."
   ]
  },
  {
   "cell_type": "code",
   "execution_count": null,
   "metadata": {},
   "outputs": [
    {
     "name": "stderr",
     "output_type": "stream",
     "text": [
      "Some weights of the model checkpoint at distilroberta-base were not used when initializing RobertaForSequenceClassification: ['lm_head.dense.weight', 'roberta.pooler.dense.weight', 'roberta.pooler.dense.bias', 'lm_head.layer_norm.bias', 'lm_head.decoder.weight', 'lm_head.dense.bias', 'lm_head.layer_norm.weight', 'lm_head.bias']\n",
      "- This IS expected if you are initializing RobertaForSequenceClassification from the checkpoint of a model trained on another task or with another architecture (e.g. initializing a BertForSequenceClassification model from a BertForPreTraining model).\n",
      "- This IS NOT expected if you are initializing RobertaForSequenceClassification from the checkpoint of a model that you expect to be exactly identical (initializing a BertForSequenceClassification model from a BertForSequenceClassification model).\n",
      "Some weights of RobertaForSequenceClassification were not initialized from the model checkpoint at distilroberta-base and are newly initialized: ['classifier.out_proj.weight', 'classifier.out_proj.bias', 'classifier.dense.weight', 'classifier.dense.bias']\n",
      "You should probably TRAIN this model on a down-stream task to be able to use it for predictions and inference.\n"
     ]
    },
    {
     "name": "stdout",
     "output_type": "stream",
     "text": [
      "2023-05-27 15:58:06 - Use pytorch device: cpu\n"
     ]
    }
   ],
   "source": [
    "#Define our Cross-Encoder\n",
    "train_batch_size = 16\n",
    "num_epochs = 30\n",
    "model_save_path = 'output/cross_encoder_training-'+model_name+'-'+datetime.now().strftime(\"%Y-%m-%d_%H-%M-%S\")\n",
    "\n",
    "#We use distilroberta-base as base model and set num_labels=1, which predicts a continous score between 0 and 1\n",
    "model = CrossEncoder('distilroberta-base', num_labels=1)"
   ]
  },
  {
   "cell_type": "code",
   "execution_count": null,
   "metadata": {},
   "outputs": [],
   "source": [
    "# We add an evaluator, which evaluates the performance during training\n",
    "evaluator = CECorrelationEvaluator.from_input_examples(dev_samples, name='sts-dev')\n",
    "\n",
    "\n",
    "# Configure the training\n",
    "warmup_steps = math.ceil(len(train_dataloader) * num_epochs * 0.1) #10% of train data for warm-up\n",
    "logging.info(\"Warmup-steps: {}\".format(warmup_steps))\n",
    "\n",
    "\n",
    "# Train the model\n",
    "model.fit(train_dataloader=train_dataloader,\n",
    "          evaluator=evaluator,\n",
    "          epochs=num_epochs,\n",
    "          warmup_steps=warmup_steps,\n",
    "          output_path=model_save_path)"
   ]
  },
  {
   "cell_type": "code",
   "execution_count": null,
   "metadata": {},
   "outputs": [
    {
     "name": "stdout",
     "output_type": "stream",
     "text": [
      "2023-05-27 16:40:19 - Use pytorch device: cpu\n",
      "2023-05-27 16:40:19 - CECorrelationEvaluator: Evaluating the model on sts-test dataset:\n",
      "2023-05-27 16:41:25 - Correlation:\tPearson: 0.8533\tSpearman: 0.8439\n"
     ]
    },
    {
     "data": {
      "text/plain": [
       "0.8438616922335536"
      ]
     },
     "metadata": {},
     "output_type": "display_data"
    }
   ],
   "source": [
    "##### Load model and eval on test set\n",
    "model = CrossEncoder('output\\cross_encoder_training-distilroberta-base-2023-05-27_16-39-21')\n",
    "\n",
    "evaluator = CECorrelationEvaluator.from_input_examples(test_samples, name='sts-test')\n",
    "evaluator(model)"
   ]
  },
  {
   "attachments": {},
   "cell_type": "markdown",
   "metadata": {},
   "source": [
    "### Testing pre-trained cross-encoder models already fine-tuned on STSb"
   ]
  },
  {
   "cell_type": "code",
   "execution_count": null,
   "metadata": {},
   "outputs": [
    {
     "name": "stdout",
     "output_type": "stream",
     "text": [
      "2023-05-27 17:07:39 - Use pytorch device: cpu\n",
      "2023-05-27 17:07:39 - CECorrelationEvaluator: Evaluating the model on sts-test dataset:\n",
      "2023-05-27 17:09:07 - Correlation:\tPearson: 0.8851\tSpearman: 0.8792\n"
     ]
    },
    {
     "data": {
      "text/plain": [
       "0.8791573934188543"
      ]
     },
     "metadata": {},
     "output_type": "display_data"
    }
   ],
   "source": [
    "##### Testing stsb-distilroberta-base\n",
    "model = CrossEncoder('cross-encoder/stsb-distilroberta-base', num_labels=1)\n",
    "evaluator = CECorrelationEvaluator.from_input_examples(test_samples, name='sts-test')\n",
    "evaluator(model)"
   ]
  },
  {
   "cell_type": "code",
   "execution_count": null,
   "metadata": {},
   "outputs": [
    {
     "name": "stdout",
     "output_type": "stream",
     "text": [
      "2023-05-27 16:02:31 - Use pytorch device: cpu\n",
      "2023-05-27 16:02:31 - CECorrelationEvaluator: Evaluating the model on sts-test dataset:\n",
      "2023-05-27 16:08:45 - Correlation:\tPearson: 0.9170\tSpearman: 0.9147\n"
     ]
    },
    {
     "data": {
      "text/plain": [
       "0.914689659080599"
      ]
     },
     "metadata": {},
     "output_type": "display_data"
    }
   ],
   "source": [
    "##### Testing stsb-roberta-large\n",
    "model = CrossEncoder('cross-encoder/stsb-roberta-large', num_labels=1)\n",
    "\n",
    "evaluator = CECorrelationEvaluator.from_input_examples(test_samples, name='sts-test')\n",
    "evaluator(model)"
   ]
  },
  {
   "attachments": {},
   "cell_type": "markdown",
   "metadata": {},
   "source": [
    "As we can see cross-encoders are more accurate, but also slower than bi-encoders. They reach state-of-the-art performance on the STS benchmark dataset."
   ]
  },
  {
   "attachments": {},
   "cell_type": "markdown",
   "metadata": {},
   "source": [
    "# Extensions"
   ]
  },
  {
   "cell_type": "code",
   "execution_count": null,
   "metadata": {},
   "outputs": [],
   "source": [
    "%pip install -U sentence-transformers\n",
    "%pip install datasets"
   ]
  },
  {
   "cell_type": "code",
   "execution_count": null,
   "metadata": {},
   "outputs": [],
   "source": [
    "from sentence_transformers import SentenceTransformer, CrossEncoder, util\n",
    "from datetime import datetime"
   ]
  },
  {
   "attachments": {},
   "cell_type": "markdown",
   "metadata": {},
   "source": [
    "## Semantic Search\n",
    "\n",
    "One potential extension involves utilizing **transformers** to generate **embeddings** for an entire collection of sentences, which can then be used for processing various queries.\n",
    "\n",
    "Here's a straightforward algorithm: begin by encoding the query, then calculate a pairwise score (such as **cosine similarity**) between the encoded query and each embedding vector within the sentence corpus. Finally, extract the **k nearest neighbors** based on the highest scores obtained."
   ]
  },
  {
   "cell_type": "code",
   "execution_count": null,
   "metadata": {},
   "outputs": [],
   "source": [
    "transformer = SentenceTransformer('stsb-distilroberta-base-v2')\n",
    "cross_encoder = CrossEncoder('cross-encoder/stsb-distilroberta-base', num_labels=1)"
   ]
  },
  {
   "cell_type": "code",
   "execution_count": null,
   "metadata": {},
   "outputs": [
    {
     "data": {
      "application/vnd.jupyter.widget-view+json": {
       "model_id": "53289e10a76646c6898688c289dfcc52",
       "version_major": 2,
       "version_minor": 0
      },
      "text/plain": [
       "Batches:   0%|          | 0/331 [00:00<?, ?it/s]"
      ]
     },
     "metadata": {},
     "output_type": "display_data"
    },
    {
     "data": {
      "text/plain": [
       "torch.Size([10566, 768])"
      ]
     },
     "metadata": {},
     "output_type": "display_data"
    }
   ],
   "source": [
    "sentences_embeddings = transformer.encode(sentences_list, convert_to_tensor=True, show_progress_bar=True)\n",
    "sentences_embeddings.shape"
   ]
  },
  {
   "cell_type": "code",
   "execution_count": null,
   "metadata": {},
   "outputs": [],
   "source": [
    "query = \"Obama is eating an icecream\"\n",
    "embedded_query = transformer.encode(query, convert_to_tensor=True)"
   ]
  },
  {
   "cell_type": "code",
   "execution_count": null,
   "metadata": {},
   "outputs": [
    {
     "name": "stdout",
     "output_type": "stream",
     "text": [
      "Search time: 0:00:00.032681\n"
     ]
    }
   ],
   "source": [
    "t_start = datetime.now()\n",
    "results = pd.DataFrame(util.semantic_search(\n",
    "    embedded_query, \n",
    "    sentences_embeddings, \n",
    "    score_function=util.cos_sim, top_k=10\n",
    ")[0])\n",
    "t_stop = datetime.now()\n",
    "print(f\"Search time: {t_stop - t_start}\")"
   ]
  },
  {
   "cell_type": "code",
   "execution_count": null,
   "metadata": {},
   "outputs": [
    {
     "name": "stdout",
     "output_type": "stream",
     "text": [
      "Query: \"Obama is eating an icecream\"\n",
      "---------------------------------------\n",
      "1) 0.50 - Obama signs up for Obamacare\n",
      "2) 0.48 - A man is eating.\n",
      "3) 0.47 - A man is eating a bowl of cereal.\n",
      "4) 0.46 - A woman is eating something.\n",
      "5) 0.45 - A man is eating a banana.\n",
      "6) 0.44 - The man is eating cereal.\n",
      "7) 0.44 - Obama jokes about himself at reporters' dinner\n",
      "8) 0.44 - A girl is eating a cupcake.\n",
      "9) 0.44 - A man is eating his food.\n",
      "10) 0.44 - Obama to sign up for Obamacare\n"
     ]
    }
   ],
   "source": [
    "print(f\"Query: \\\"{query}\\\"\")\n",
    "print(\"---------------------------------------\")\n",
    "for idx, row in results.iterrows():\n",
    "    print(f\"{idx + 1}) {row['score']:.2f} - {sentences_list[int(row['corpus_id'])]}\")"
   ]
  },
  {
   "attachments": {},
   "cell_type": "markdown",
   "metadata": {},
   "source": [
    "### ReRanking\n",
    "\n",
    "Alternatively, we can use **CrossEncoders**, a model that takes two sentences as inputs and directly predicts the matching score. By utilizing the **CrossEncoders**, we can generate an **array of scores** by iteratively passing the query with each sentence in the corpus. Then, we can extract the **top k scores**.\n",
    "\n",
    "Although this approach yields better results, it is slower. An enhancement to the previous algorithm would involve extracting the top k query results and subsequently **re-ranking** them using the cross encoder."
   ]
  },
  {
   "cell_type": "code",
   "execution_count": null,
   "metadata": {},
   "outputs": [
    {
     "name": "stdout",
     "output_type": "stream",
     "text": [
      "Query: \"Obama is eating an icecream\"\n",
      "---------------------------------------\n",
      "1) 0.51 - A man is eating.\n",
      "2) 0.44 - A man is eating his food.\n",
      "3) 0.29 - The man is eating cereal.\n",
      "4) 0.24 - A woman is eating something.\n",
      "5) 0.24 - A man is eating a bowl of cereal.\n",
      "6) 0.24 - A man is eating a banana.\n",
      "7) 0.23 - A girl is eating a cupcake.\n",
      "8) 0.11 - Obama jokes about himself at reporters' dinner\n",
      "9) 0.08 - Obama signs up for Obamacare\n",
      "10) 0.07 - Obama to sign up for Obamacare\n"
     ]
    }
   ],
   "source": [
    "# Prepare model inputs\n",
    "result_sentences = [sentences_list[int(row['corpus_id'])] for idx, row in results.iterrows()]\n",
    "model_inputs = [[query, s] for s in result_sentences]\n",
    "\n",
    "# Predict similarity score\n",
    "scores = cross_encoder.predict(model_inputs)\n",
    "# Print the result\n",
    "print(f\"Query: \\\"{query}\\\"\")\n",
    "print(\"---------------------------------------\")\n",
    "for i, idx in enumerate(np.argsort(-scores)):\n",
    "    print(f\"{i + 1}) {scores[idx]:.2f} - {result_sentences[idx]}\")"
   ]
  }
 ],
 "metadata": {
  "kernelspec": {
   "display_name": "Python 3 (ipykernel)",
   "language": "python",
   "name": "python3"
  },
  "language_info": {
   "codemirror_mode": {
    "name": "ipython",
    "version": 3
   },
   "file_extension": ".py",
   "mimetype": "text/x-python",
   "name": "python",
   "nbconvert_exporter": "python",
   "pygments_lexer": "ipython3",
   "version": "3.11.3"
  }
 },
 "nbformat": 4,
 "nbformat_minor": 4
}

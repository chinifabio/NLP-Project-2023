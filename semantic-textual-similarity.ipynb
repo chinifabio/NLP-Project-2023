{
 "cells": [
  {
   "cell_type": "markdown",
   "metadata": {},
   "source": [
    "In machine learning, the train-dev-test split is a common technique used to evaluate the performance of a model and prevent overfitting. The dataset is divided into three subsets: the training set, the development (or validation) set, and the test set.\n",
    "\n",
    "The benchmark comprises 8628 sentence pairs. This is the breakdown according to genres and train-dev-test splits:\n",
    "\n",
    "                train  dev test total \n",
    "        -----------------------------\n",
    "        news     3299  500  500  4299\n",
    "        caption  2000  625  525  3250\n",
    "        forum     450  375  254  1079\n",
    "        -----------------------------\n",
    "        total    5749 1500 1379  8628"
   ]
  },
  {
   "cell_type": "markdown",
   "metadata": {},
   "source": [
    "## Preliminary analysis\n",
    "- [x] Calculate average document length\n",
    "- [x] Calculate average vocabulary size\n",
    "- [x] Calculate average sentence length\n",
    "- [ ] Check if scores are balanced\n",
    "- [ ] Topic clustering\n",
    "- [ ] Keyword search\n",
    "- [ ] Word2Vec embedding"
   ]
  },
  {
   "cell_type": "markdown",
   "metadata": {},
   "source": [
    "<input type=\"checkbox\"> Checkbox item 1<br>\n",
    "<input type=\"checkbox\" disabled> Checkbox item 2<br>\n",
    "<input type=\"checkbox\" disabled> Checkbox item 3<br>"
   ]
  },
  {
   "cell_type": "code",
   "execution_count": 5,
   "metadata": {},
   "outputs": [
    {
     "name": "stderr",
     "output_type": "stream",
     "text": [
      "[nltk_data] Downloading package punkt to\n",
      "[nltk_data]     C:\\Users\\andre\\AppData\\Roaming\\nltk_data...\n",
      "[nltk_data]   Package punkt is already up-to-date!\n",
      "[nltk_data] Downloading package stopwords to\n",
      "[nltk_data]     C:\\Users\\andre\\AppData\\Roaming\\nltk_data...\n",
      "[nltk_data]   Package stopwords is already up-to-date!\n"
     ]
    }
   ],
   "source": [
    "import pandas as pd\n",
    "import numpy as np\n",
    "import nltk\n",
    "nltk.download(\"punkt\")\n",
    "nltk.download('stopwords')\n",
    "from nltk.corpus import stopwords\n",
    "from nltk.tokenize import word_tokenize\n",
    "from string import punctuation\n",
    "import matplotlib.pyplot as plt\n",
    "import re\n",
    "from tqdm import tqdm\n",
    "from unidecode import unidecode"
   ]
  },
  {
   "cell_type": "code",
   "execution_count": 6,
   "metadata": {},
   "outputs": [
    {
     "name": "stdout",
     "output_type": "stream",
     "text": [
      "shape of the Dataframe (5749, 7)\n"
     ]
    },
    {
     "data": {
      "text/html": [
       "<div>\n",
       "<style scoped>\n",
       "    .dataframe tbody tr th:only-of-type {\n",
       "        vertical-align: middle;\n",
       "    }\n",
       "\n",
       "    .dataframe tbody tr th {\n",
       "        vertical-align: top;\n",
       "    }\n",
       "\n",
       "    .dataframe thead th {\n",
       "        text-align: right;\n",
       "    }\n",
       "</style>\n",
       "<table border=\"1\" class=\"dataframe\">\n",
       "  <thead>\n",
       "    <tr style=\"text-align: right;\">\n",
       "      <th></th>\n",
       "      <th>genre</th>\n",
       "      <th>filename</th>\n",
       "      <th>year</th>\n",
       "      <th>index</th>\n",
       "      <th>score</th>\n",
       "      <th>sentence1</th>\n",
       "      <th>sentence2</th>\n",
       "    </tr>\n",
       "  </thead>\n",
       "  <tbody>\n",
       "    <tr>\n",
       "      <th>0</th>\n",
       "      <td>main-captions</td>\n",
       "      <td>MSRvid</td>\n",
       "      <td>2012test</td>\n",
       "      <td>1</td>\n",
       "      <td>5.00</td>\n",
       "      <td>A plane is taking off.</td>\n",
       "      <td>An air plane is taking off.</td>\n",
       "    </tr>\n",
       "    <tr>\n",
       "      <th>1</th>\n",
       "      <td>main-captions</td>\n",
       "      <td>MSRvid</td>\n",
       "      <td>2012test</td>\n",
       "      <td>4</td>\n",
       "      <td>3.80</td>\n",
       "      <td>A man is playing a large flute.</td>\n",
       "      <td>A man is playing a flute.</td>\n",
       "    </tr>\n",
       "    <tr>\n",
       "      <th>2</th>\n",
       "      <td>main-captions</td>\n",
       "      <td>MSRvid</td>\n",
       "      <td>2012test</td>\n",
       "      <td>5</td>\n",
       "      <td>3.80</td>\n",
       "      <td>A man is spreading shreded cheese on a pizza.</td>\n",
       "      <td>A man is spreading shredded cheese on an uncoo...</td>\n",
       "    </tr>\n",
       "    <tr>\n",
       "      <th>3</th>\n",
       "      <td>main-captions</td>\n",
       "      <td>MSRvid</td>\n",
       "      <td>2012test</td>\n",
       "      <td>6</td>\n",
       "      <td>2.60</td>\n",
       "      <td>Three men are playing chess.</td>\n",
       "      <td>Two men are playing chess.</td>\n",
       "    </tr>\n",
       "    <tr>\n",
       "      <th>4</th>\n",
       "      <td>main-captions</td>\n",
       "      <td>MSRvid</td>\n",
       "      <td>2012test</td>\n",
       "      <td>9</td>\n",
       "      <td>4.25</td>\n",
       "      <td>A man is playing the cello.</td>\n",
       "      <td>A man seated is playing the cello.</td>\n",
       "    </tr>\n",
       "    <tr>\n",
       "      <th>5</th>\n",
       "      <td>main-captions</td>\n",
       "      <td>MSRvid</td>\n",
       "      <td>2012test</td>\n",
       "      <td>11</td>\n",
       "      <td>4.25</td>\n",
       "      <td>Some men are fighting.</td>\n",
       "      <td>Two men are fighting.</td>\n",
       "    </tr>\n",
       "    <tr>\n",
       "      <th>6</th>\n",
       "      <td>main-captions</td>\n",
       "      <td>MSRvid</td>\n",
       "      <td>2012test</td>\n",
       "      <td>12</td>\n",
       "      <td>0.50</td>\n",
       "      <td>A man is smoking.</td>\n",
       "      <td>A man is skating.</td>\n",
       "    </tr>\n",
       "    <tr>\n",
       "      <th>7</th>\n",
       "      <td>main-captions</td>\n",
       "      <td>MSRvid</td>\n",
       "      <td>2012test</td>\n",
       "      <td>13</td>\n",
       "      <td>1.60</td>\n",
       "      <td>The man is playing the piano.</td>\n",
       "      <td>The man is playing the guitar.</td>\n",
       "    </tr>\n",
       "    <tr>\n",
       "      <th>8</th>\n",
       "      <td>main-captions</td>\n",
       "      <td>MSRvid</td>\n",
       "      <td>2012test</td>\n",
       "      <td>14</td>\n",
       "      <td>2.20</td>\n",
       "      <td>A man is playing on a guitar and singing.</td>\n",
       "      <td>A woman is playing an acoustic guitar and sing...</td>\n",
       "    </tr>\n",
       "    <tr>\n",
       "      <th>9</th>\n",
       "      <td>main-captions</td>\n",
       "      <td>MSRvid</td>\n",
       "      <td>2012test</td>\n",
       "      <td>16</td>\n",
       "      <td>5.00</td>\n",
       "      <td>A person is throwing a cat on to the ceiling.</td>\n",
       "      <td>A person throws a cat on the ceiling.</td>\n",
       "    </tr>\n",
       "  </tbody>\n",
       "</table>\n",
       "</div>"
      ],
      "text/plain": [
       "           genre filename      year  index  score   \n",
       "0  main-captions   MSRvid  2012test      1   5.00  \\\n",
       "1  main-captions   MSRvid  2012test      4   3.80   \n",
       "2  main-captions   MSRvid  2012test      5   3.80   \n",
       "3  main-captions   MSRvid  2012test      6   2.60   \n",
       "4  main-captions   MSRvid  2012test      9   4.25   \n",
       "5  main-captions   MSRvid  2012test     11   4.25   \n",
       "6  main-captions   MSRvid  2012test     12   0.50   \n",
       "7  main-captions   MSRvid  2012test     13   1.60   \n",
       "8  main-captions   MSRvid  2012test     14   2.20   \n",
       "9  main-captions   MSRvid  2012test     16   5.00   \n",
       "\n",
       "                                       sentence1   \n",
       "0                         A plane is taking off.  \\\n",
       "1                A man is playing a large flute.   \n",
       "2  A man is spreading shreded cheese on a pizza.   \n",
       "3                   Three men are playing chess.   \n",
       "4                    A man is playing the cello.   \n",
       "5                         Some men are fighting.   \n",
       "6                              A man is smoking.   \n",
       "7                  The man is playing the piano.   \n",
       "8      A man is playing on a guitar and singing.   \n",
       "9  A person is throwing a cat on to the ceiling.   \n",
       "\n",
       "                                           sentence2  \n",
       "0                        An air plane is taking off.  \n",
       "1                          A man is playing a flute.  \n",
       "2  A man is spreading shredded cheese on an uncoo...  \n",
       "3                         Two men are playing chess.  \n",
       "4                 A man seated is playing the cello.  \n",
       "5                              Two men are fighting.  \n",
       "6                                  A man is skating.  \n",
       "7                     The man is playing the guitar.  \n",
       "8  A woman is playing an acoustic guitar and sing...  \n",
       "9              A person throws a cat on the ceiling.  "
      ]
     },
     "execution_count": 6,
     "metadata": {},
     "output_type": "execute_result"
    }
   ],
   "source": [
    "def on_bad_line(values):\n",
    "    return values[:7]\n",
    "\n",
    "columns_mapping = {\n",
    "    0: 'genre',\n",
    "    1: 'filename',\n",
    "    2: 'year',\n",
    "    3: 'index',\n",
    "    4: 'score',\n",
    "    5: 'sentence1',\n",
    "    6: 'sentence2'\n",
    "}\n",
    "\n",
    "# quotings 3 = csv.QUOTE_NONE\n",
    "df = pd.read_csv('Dataset/sts-train.csv', sep=\"\\t\", on_bad_lines=on_bad_line, engine='python', header=None, encoding='utf-8', quoting=3).rename(columns=columns_mapping)\n",
    "print(f'shape of the Dataframe {df.shape}')\n",
    "df.head(10)"
   ]
  },
  {
   "cell_type": "code",
   "execution_count": 7,
   "metadata": {},
   "outputs": [
    {
     "name": "stdout",
     "output_type": "stream",
     "text": [
      "Total number of sentences: 10566\n"
     ]
    }
   ],
   "source": [
    "sentences1 = df[\"sentence1\"]\n",
    "sentences2 = df[\"sentence2\"]\n",
    "sentences_list = np.unique(np.concatenate((np.ravel(sentences1.values),np.ravel(sentences2.values))))\n",
    "\n",
    "print(f\"Total number of sentences: {len(sentences_list)}\")"
   ]
  },
  {
   "cell_type": "code",
   "execution_count": 8,
   "metadata": {},
   "outputs": [
    {
     "name": "stdout",
     "output_type": "stream",
     "text": [
      "[' - Income, top rate:  percent.' ' Foxe was mostly frozen.'\n",
      " \" billion . Everyone in the world at Mexico's current prosperity level.\"\n",
      " ...\n",
      " 'zhang yan stated that all countries should abide by non-proliferation obligations in order to enhance mutual trust and create a sound environment for international cooperation in nuclear energy.'\n",
      " 'zhang yan stated that china opposes using non-proliferation as a pretext for restricting and depriving non-nuclear-weapon states of the right to peaceful use of nuclear energy.'\n",
      " '‚ÄėGlee‚Äô star Cory Monteith found dead in hotel room']\n",
      "['  income top rate  percent' ' foxe was mostly frozen'\n",
      " ' billion  everyone in the world at mexicos current prosperity level' ...\n",
      " 'zhang yan stated that all countries should abide by nonproliferation obligations in order to enhance mutual trust and create a sound environment for international cooperation in nuclear energy'\n",
      " 'zhang yan stated that china opposes using nonproliferation as a pretext for restricting and depriving nonnuclearweapon states of the right to peaceful use of nuclear energy'\n",
      " 'aegleeao star cory monteith found dead in hotel room']\n"
     ]
    }
   ],
   "source": [
    "regex = '[' + punctuation + ']'\n",
    "clean_sentences_list = np.array([re.sub(regex,'',unidecode(string)).lower() for string in sentences_list])\n",
    "print(sentences_list)\n",
    "print(clean_sentences_list)"
   ]
  },
  {
   "attachments": {},
   "cell_type": "markdown",
   "metadata": {},
   "source": [
    "We perform also lemmatization to group word with the same base form as lemma and improve models trained on our dataset"
   ]
  },
  {
   "cell_type": "code",
   "execution_count": 9,
   "metadata": {},
   "outputs": [
    {
     "name": "stdout",
     "output_type": "stream",
     "text": [
      "Requirement already satisfied: spacy in c:\\users\\andre\\appdata\\local\\programs\\python\\python38\\lib\\site-packages (3.5.3)\n",
      "Requirement already satisfied: spacy-legacy<3.1.0,>=3.0.11 in c:\\users\\andre\\appdata\\local\\programs\\python\\python38\\lib\\site-packages (from spacy) (3.0.12)\n",
      "Requirement already satisfied: spacy-loggers<2.0.0,>=1.0.0 in c:\\users\\andre\\appdata\\local\\programs\\python\\python38\\lib\\site-packages (from spacy) (1.0.4)\n",
      "Requirement already satisfied: murmurhash<1.1.0,>=0.28.0 in c:\\users\\andre\\appdata\\local\\programs\\python\\python38\\lib\\site-packages (from spacy) (1.0.9)\n",
      "Requirement already satisfied: cymem<2.1.0,>=2.0.2 in c:\\users\\andre\\appdata\\local\\programs\\python\\python38\\lib\\site-packages (from spacy) (2.0.7)\n",
      "Requirement already satisfied: preshed<3.1.0,>=3.0.2 in c:\\users\\andre\\appdata\\local\\programs\\python\\python38\\lib\\site-packages (from spacy) (3.0.8)\n",
      "Requirement already satisfied: thinc<8.2.0,>=8.1.8 in c:\\users\\andre\\appdata\\local\\programs\\python\\python38\\lib\\site-packages (from spacy) (8.1.10)\n",
      "Requirement already satisfied: wasabi<1.2.0,>=0.9.1 in c:\\users\\andre\\appdata\\local\\programs\\python\\python38\\lib\\site-packages (from spacy) (1.1.1)\n",
      "Requirement already satisfied: srsly<3.0.0,>=2.4.3 in c:\\users\\andre\\appdata\\local\\programs\\python\\python38\\lib\\site-packages (from spacy) (2.4.6)\n",
      "Requirement already satisfied: catalogue<2.1.0,>=2.0.6 in c:\\users\\andre\\appdata\\local\\programs\\python\\python38\\lib\\site-packages (from spacy) (2.0.8)\n",
      "Requirement already satisfied: typer<0.8.0,>=0.3.0 in c:\\users\\andre\\appdata\\local\\programs\\python\\python38\\lib\\site-packages (from spacy) (0.7.0)\n",
      "Requirement already satisfied: pathy>=0.10.0 in c:\\users\\andre\\appdata\\local\\programs\\python\\python38\\lib\\site-packages (from spacy) (0.10.1)\n",
      "Requirement already satisfied: smart-open<7.0.0,>=5.2.1 in c:\\users\\andre\\appdata\\local\\programs\\python\\python38\\lib\\site-packages (from spacy) (6.3.0)\n",
      "Requirement already satisfied: tqdm<5.0.0,>=4.38.0 in c:\\users\\andre\\appdata\\local\\programs\\python\\python38\\lib\\site-packages (from spacy) (4.65.0)\n",
      "Requirement already satisfied: numpy>=1.15.0 in c:\\users\\andre\\appdata\\local\\programs\\python\\python38\\lib\\site-packages (from spacy) (1.24.2)\n",
      "Requirement already satisfied: requests<3.0.0,>=2.13.0 in c:\\users\\andre\\appdata\\local\\programs\\python\\python38\\lib\\site-packages (from spacy) (2.28.2)\n",
      "Requirement already satisfied: pydantic!=1.8,!=1.8.1,<1.11.0,>=1.7.4 in c:\\users\\andre\\appdata\\local\\programs\\python\\python38\\lib\\site-packages (from spacy) (1.10.7)\n",
      "Requirement already satisfied: jinja2 in c:\\users\\andre\\appdata\\local\\programs\\python\\python38\\lib\\site-packages (from spacy) (3.1.2)\n",
      "Requirement already satisfied: setuptools in c:\\users\\andre\\appdata\\local\\programs\\python\\python38\\lib\\site-packages (from spacy) (49.2.1)\n",
      "Requirement already satisfied: packaging>=20.0 in c:\\users\\andre\\appdata\\local\\programs\\python\\python38\\lib\\site-packages (from spacy) (23.0)\n",
      "Requirement already satisfied: langcodes<4.0.0,>=3.2.0 in c:\\users\\andre\\appdata\\local\\programs\\python\\python38\\lib\\site-packages (from spacy) (3.3.0)\n",
      "Requirement already satisfied: typing-extensions>=4.2.0 in c:\\users\\andre\\appdata\\local\\programs\\python\\python38\\lib\\site-packages (from pydantic!=1.8,!=1.8.1,<1.11.0,>=1.7.4->spacy) (4.5.0)\n",
      "Requirement already satisfied: charset-normalizer<4,>=2 in c:\\users\\andre\\appdata\\local\\programs\\python\\python38\\lib\\site-packages (from requests<3.0.0,>=2.13.0->spacy) (3.1.0)\n",
      "Requirement already satisfied: idna<4,>=2.5 in c:\\users\\andre\\appdata\\local\\programs\\python\\python38\\lib\\site-packages (from requests<3.0.0,>=2.13.0->spacy) (3.4)\n",
      "Requirement already satisfied: urllib3<1.27,>=1.21.1 in c:\\users\\andre\\appdata\\local\\programs\\python\\python38\\lib\\site-packages (from requests<3.0.0,>=2.13.0->spacy) (1.26.15)\n",
      "Requirement already satisfied: certifi>=2017.4.17 in c:\\users\\andre\\appdata\\local\\programs\\python\\python38\\lib\\site-packages (from requests<3.0.0,>=2.13.0->spacy) (2022.12.7)\n",
      "Requirement already satisfied: blis<0.8.0,>=0.7.8 in c:\\users\\andre\\appdata\\local\\programs\\python\\python38\\lib\\site-packages (from thinc<8.2.0,>=8.1.8->spacy) (0.7.9)\n",
      "Requirement already satisfied: confection<1.0.0,>=0.0.1 in c:\\users\\andre\\appdata\\local\\programs\\python\\python38\\lib\\site-packages (from thinc<8.2.0,>=8.1.8->spacy) (0.0.4)\n",
      "Requirement already satisfied: colorama in c:\\users\\andre\\appdata\\local\\programs\\python\\python38\\lib\\site-packages (from tqdm<5.0.0,>=4.38.0->spacy) (0.4.6)\n",
      "Requirement already satisfied: click<9.0.0,>=7.1.1 in c:\\users\\andre\\appdata\\local\\programs\\python\\python38\\lib\\site-packages (from typer<0.8.0,>=0.3.0->spacy) (8.1.3)\n",
      "Requirement already satisfied: MarkupSafe>=2.0 in c:\\users\\andre\\appdata\\local\\programs\\python\\python38\\lib\\site-packages (from jinja2->spacy) (2.1.2)\n"
     ]
    }
   ],
   "source": [
    "!pip install -U spacy"
   ]
  },
  {
   "cell_type": "code",
   "execution_count": 10,
   "metadata": {},
   "outputs": [
    {
     "name": "stdout",
     "output_type": "stream",
     "text": [
      "Collecting en-core-web-sm==3.5.0\n",
      "  Downloading https://github.com/explosion/spacy-models/releases/download/en_core_web_sm-3.5.0/en_core_web_sm-3.5.0-py3-none-any.whl (12.8 MB)\n",
      "                                              0.0/12.8 MB ? eta -:--:--\n",
      "     ----                                     1.4/12.8 MB 30.1 MB/s eta 0:00:01\n",
      "     ---------                                3.1/12.8 MB 33.3 MB/s eta 0:00:01\n",
      "     ---------------                          4.8/12.8 MB 34.5 MB/s eta 0:00:01\n",
      "     ----------------------                   7.2/12.8 MB 38.3 MB/s eta 0:00:01\n",
      "     --------------------------               8.5/12.8 MB 38.7 MB/s eta 0:00:01\n",
      "     ------------------------------          10.1/12.8 MB 35.9 MB/s eta 0:00:01\n",
      "     ------------------------------------    11.9/12.8 MB 38.5 MB/s eta 0:00:01\n",
      "     --------------------------------------  12.8/12.8 MB 38.5 MB/s eta 0:00:01\n",
      "     --------------------------------------  12.8/12.8 MB 38.5 MB/s eta 0:00:01\n",
      "     --------------------------------------- 12.8/12.8 MB 27.3 MB/s eta 0:00:00\n",
      "Requirement already satisfied: spacy<3.6.0,>=3.5.0 in c:\\users\\andre\\appdata\\local\\programs\\python\\python38\\lib\\site-packages (from en-core-web-sm==3.5.0) (3.5.3)\n",
      "Requirement already satisfied: spacy-legacy<3.1.0,>=3.0.11 in c:\\users\\andre\\appdata\\local\\programs\\python\\python38\\lib\\site-packages (from spacy<3.6.0,>=3.5.0->en-core-web-sm==3.5.0) (3.0.12)\n",
      "Requirement already satisfied: spacy-loggers<2.0.0,>=1.0.0 in c:\\users\\andre\\appdata\\local\\programs\\python\\python38\\lib\\site-packages (from spacy<3.6.0,>=3.5.0->en-core-web-sm==3.5.0) (1.0.4)\n",
      "Requirement already satisfied: murmurhash<1.1.0,>=0.28.0 in c:\\users\\andre\\appdata\\local\\programs\\python\\python38\\lib\\site-packages (from spacy<3.6.0,>=3.5.0->en-core-web-sm==3.5.0) (1.0.9)\n",
      "Requirement already satisfied: cymem<2.1.0,>=2.0.2 in c:\\users\\andre\\appdata\\local\\programs\\python\\python38\\lib\\site-packages (from spacy<3.6.0,>=3.5.0->en-core-web-sm==3.5.0) (2.0.7)\n",
      "Requirement already satisfied: preshed<3.1.0,>=3.0.2 in c:\\users\\andre\\appdata\\local\\programs\\python\\python38\\lib\\site-packages (from spacy<3.6.0,>=3.5.0->en-core-web-sm==3.5.0) (3.0.8)\n",
      "Requirement already satisfied: thinc<8.2.0,>=8.1.8 in c:\\users\\andre\\appdata\\local\\programs\\python\\python38\\lib\\site-packages (from spacy<3.6.0,>=3.5.0->en-core-web-sm==3.5.0) (8.1.10)\n",
      "Requirement already satisfied: wasabi<1.2.0,>=0.9.1 in c:\\users\\andre\\appdata\\local\\programs\\python\\python38\\lib\\site-packages (from spacy<3.6.0,>=3.5.0->en-core-web-sm==3.5.0) (1.1.1)\n",
      "Requirement already satisfied: srsly<3.0.0,>=2.4.3 in c:\\users\\andre\\appdata\\local\\programs\\python\\python38\\lib\\site-packages (from spacy<3.6.0,>=3.5.0->en-core-web-sm==3.5.0) (2.4.6)\n",
      "Requirement already satisfied: catalogue<2.1.0,>=2.0.6 in c:\\users\\andre\\appdata\\local\\programs\\python\\python38\\lib\\site-packages (from spacy<3.6.0,>=3.5.0->en-core-web-sm==3.5.0) (2.0.8)\n",
      "Requirement already satisfied: typer<0.8.0,>=0.3.0 in c:\\users\\andre\\appdata\\local\\programs\\python\\python38\\lib\\site-packages (from spacy<3.6.0,>=3.5.0->en-core-web-sm==3.5.0) (0.7.0)\n",
      "Requirement already satisfied: pathy>=0.10.0 in c:\\users\\andre\\appdata\\local\\programs\\python\\python38\\lib\\site-packages (from spacy<3.6.0,>=3.5.0->en-core-web-sm==3.5.0) (0.10.1)\n",
      "Requirement already satisfied: smart-open<7.0.0,>=5.2.1 in c:\\users\\andre\\appdata\\local\\programs\\python\\python38\\lib\\site-packages (from spacy<3.6.0,>=3.5.0->en-core-web-sm==3.5.0) (6.3.0)\n",
      "Requirement already satisfied: tqdm<5.0.0,>=4.38.0 in c:\\users\\andre\\appdata\\local\\programs\\python\\python38\\lib\\site-packages (from spacy<3.6.0,>=3.5.0->en-core-web-sm==3.5.0) (4.65.0)\n",
      "Requirement already satisfied: numpy>=1.15.0 in c:\\users\\andre\\appdata\\local\\programs\\python\\python38\\lib\\site-packages (from spacy<3.6.0,>=3.5.0->en-core-web-sm==3.5.0) (1.24.2)\n",
      "Requirement already satisfied: requests<3.0.0,>=2.13.0 in c:\\users\\andre\\appdata\\local\\programs\\python\\python38\\lib\\site-packages (from spacy<3.6.0,>=3.5.0->en-core-web-sm==3.5.0) (2.28.2)\n",
      "Requirement already satisfied: pydantic!=1.8,!=1.8.1,<1.11.0,>=1.7.4 in c:\\users\\andre\\appdata\\local\\programs\\python\\python38\\lib\\site-packages (from spacy<3.6.0,>=3.5.0->en-core-web-sm==3.5.0) (1.10.7)\n",
      "Requirement already satisfied: jinja2 in c:\\users\\andre\\appdata\\local\\programs\\python\\python38\\lib\\site-packages (from spacy<3.6.0,>=3.5.0->en-core-web-sm==3.5.0) (3.1.2)\n",
      "Requirement already satisfied: setuptools in c:\\users\\andre\\appdata\\local\\programs\\python\\python38\\lib\\site-packages (from spacy<3.6.0,>=3.5.0->en-core-web-sm==3.5.0) (49.2.1)\n",
      "Requirement already satisfied: packaging>=20.0 in c:\\users\\andre\\appdata\\local\\programs\\python\\python38\\lib\\site-packages (from spacy<3.6.0,>=3.5.0->en-core-web-sm==3.5.0) (23.0)\n",
      "Requirement already satisfied: langcodes<4.0.0,>=3.2.0 in c:\\users\\andre\\appdata\\local\\programs\\python\\python38\\lib\\site-packages (from spacy<3.6.0,>=3.5.0->en-core-web-sm==3.5.0) (3.3.0)\n",
      "Requirement already satisfied: typing-extensions>=4.2.0 in c:\\users\\andre\\appdata\\local\\programs\\python\\python38\\lib\\site-packages (from pydantic!=1.8,!=1.8.1,<1.11.0,>=1.7.4->spacy<3.6.0,>=3.5.0->en-core-web-sm==3.5.0) (4.5.0)\n",
      "Requirement already satisfied: charset-normalizer<4,>=2 in c:\\users\\andre\\appdata\\local\\programs\\python\\python38\\lib\\site-packages (from requests<3.0.0,>=2.13.0->spacy<3.6.0,>=3.5.0->en-core-web-sm==3.5.0) (3.1.0)\n",
      "Requirement already satisfied: idna<4,>=2.5 in c:\\users\\andre\\appdata\\local\\programs\\python\\python38\\lib\\site-packages (from requests<3.0.0,>=2.13.0->spacy<3.6.0,>=3.5.0->en-core-web-sm==3.5.0) (3.4)\n",
      "Requirement already satisfied: urllib3<1.27,>=1.21.1 in c:\\users\\andre\\appdata\\local\\programs\\python\\python38\\lib\\site-packages (from requests<3.0.0,>=2.13.0->spacy<3.6.0,>=3.5.0->en-core-web-sm==3.5.0) (1.26.15)\n",
      "Requirement already satisfied: certifi>=2017.4.17 in c:\\users\\andre\\appdata\\local\\programs\\python\\python38\\lib\\site-packages (from requests<3.0.0,>=2.13.0->spacy<3.6.0,>=3.5.0->en-core-web-sm==3.5.0) (2022.12.7)\n",
      "Requirement already satisfied: blis<0.8.0,>=0.7.8 in c:\\users\\andre\\appdata\\local\\programs\\python\\python38\\lib\\site-packages (from thinc<8.2.0,>=8.1.8->spacy<3.6.0,>=3.5.0->en-core-web-sm==3.5.0) (0.7.9)\n",
      "Requirement already satisfied: confection<1.0.0,>=0.0.1 in c:\\users\\andre\\appdata\\local\\programs\\python\\python38\\lib\\site-packages (from thinc<8.2.0,>=8.1.8->spacy<3.6.0,>=3.5.0->en-core-web-sm==3.5.0) (0.0.4)\n",
      "Requirement already satisfied: colorama in c:\\users\\andre\\appdata\\local\\programs\\python\\python38\\lib\\site-packages (from tqdm<5.0.0,>=4.38.0->spacy<3.6.0,>=3.5.0->en-core-web-sm==3.5.0) (0.4.6)\n",
      "Requirement already satisfied: click<9.0.0,>=7.1.1 in c:\\users\\andre\\appdata\\local\\programs\\python\\python38\\lib\\site-packages (from typer<0.8.0,>=0.3.0->spacy<3.6.0,>=3.5.0->en-core-web-sm==3.5.0) (8.1.3)\n",
      "Requirement already satisfied: MarkupSafe>=2.0 in c:\\users\\andre\\appdata\\local\\programs\\python\\python38\\lib\\site-packages (from jinja2->spacy<3.6.0,>=3.5.0->en-core-web-sm==3.5.0) (2.1.2)\n",
      "\u001b[38;5;2m✔ Download and installation successful\u001b[0m\n",
      "You can now load the package via spacy.load('en_core_web_sm')\n"
     ]
    }
   ],
   "source": [
    "import sys\n",
    "!{sys.executable} -m spacy download en_core_web_sm"
   ]
  },
  {
   "cell_type": "code",
   "execution_count": 11,
   "metadata": {},
   "outputs": [],
   "source": [
    "import spacy\n",
    "import en_core_web_sm\n",
    "spacy_model = en_core_web_sm.load()"
   ]
  },
  {
   "cell_type": "code",
   "execution_count": 68,
   "metadata": {},
   "outputs": [],
   "source": [
    "@np.vectorize\n",
    "def parse_single_sentence(sentence):\n",
    "    parsed_sentence = spacy_model(str(sentence))\n",
    "    lemmatized_sentence = ' '.join([word.lemma_ for word in parsed_sentence])\n",
    "    return lemmatized_sentence\n",
    "\n",
    "parsed_sentences = parse_single_sentence(clean_sentences_list)"
   ]
  },
  {
   "cell_type": "code",
   "execution_count": 41,
   "metadata": {},
   "outputs": [
    {
     "name": "stdout",
     "output_type": "stream",
     "text": [
      "['   income top rate   percent' '  foxe be mostly freeze'\n",
      " '  billion   everyone in the world at mexicos current prosperity level'\n",
      " '  warmedc from the year prior'\n",
      " 'americans do not cut and run we have to see this misadventure through she say'\n",
      " 'and about eight to 10 second down I hit'\n",
      " 'at first blush it do not look like any rule be break say gen richard myers chairman of the joint chief of staff'\n",
      " 'be against nuke do not mean not want to use nuke'\n",
      " 'be against use nuke mean not want to use nuke'\n",
      " 'biotech product if anything may be safe than conventional product because of all the testing fraley say add that 18 country have adopt biotechnology'\n",
      " 'biotech product if anything may be safe than conventional product because of all the testing say robert fraley monsantos executive vice president'\n",
      " 'bright but scatterbraine become treat with drug'\n",
      " 'but I do question the motive of a deskbound president who assume the garb of a warrior for the purpose of a speech'\n",
      " 'but I do question the motive of a deskbound president who assume the garb of a warrior for the purpose of a speech'\n",
      " 'but at no stage do ona receive intelligence material indicate that jemaah islamiyah be plan to mount an operation in bali'\n",
      " 'but that do not clear they of the obligation to do everything possible to protect civilian and that be not what be see'\n",
      " 'but that do not clear they of the responsibility to do everything possible to minimize civilian harm'\n",
      " 'but they do not as of the time of this particular tragic event provide the security we have request mr jordan say'\n",
      " 'certainly what we know suggest that we should take what they re say very seriously he add'\n",
      " 'close cooperation between lawenforcement agency and intelligence service lie at the heart of the ongoing fight against terrorism mr howard say'\n",
      " 'cyclops do not exist   fine' 'elf do not exist   fine'\n",
      " 'enron company executive engage in widespread and pervasive fraud to manipulate the company earning result buell say'\n",
      " 'enron company executive engage in widespread and pervasive fraud prosecutor samuel buell tell the associated press'\n",
      " 'fairy do not exist   fine'\n",
      " 'few than 10 fbi office have conduct investigation involve visit to mosque the justice department say'\n",
      " 'fighting continue until midnight western rebel commander ousmane coulibaly tell reuters by satellite phone on sunday'\n",
      " 'for I the lewinsky imbroglio seem like just another vicious scandal manufacture by political opponent mrs clinton write'\n",
      " 'for I the lewinsky imbroglio seem like just another vicious scandal manufacture by political opponent accord to extract release yesterday'\n",
      " 'get the government into everything' 'goblin do not exist   fine'\n",
      " 'gorgon do not exist   fine'\n",
      " 'he have not get much choice say the bishop of armidale peter brain'\n",
      " 'he really leave we with a smile on his face and no last word   he give we each a kiss and that be it she say'\n",
      " 'he really leave we with a smile on his face and no last word daughter linda hope say'\n",
      " 'I be proud that I stand against richard nixon not with he kerry say'\n",
      " 'I come basically to washington to establish relationship and to make sure that we be get more federal money to california schwarzenegger say after meet with congressional republican'\n",
      " 'I come to washington basically to establish relationship and make sure we be get more federal money schwarzenegger say after one meeting'\n",
      " 'I do not know if the person I m talk to now may end up be someone else at another time that may not follow the rule parrish say'\n",
      " 'I do not know whether the person I m talk to now may end up be someone else parrish say'\n",
      " 'I feel confident say that hp be no long an integration story fiorina say'\n",
      " 'I feel that if I disagree with rosie too much I would lose my job she say'\n",
      " 'I have acknowledge that I behave inappropriately he say'\n",
      " 'I march in the street against richard nixon and the vietnam war she say'\n",
      " 'I notice a mood change in their priority one politician say'\n",
      " 'I notice a mood change in their priority say one iraqi politician after meet with mr bremer'\n",
      " 'I really like he and I still do cohen alon tell the herald yesterday'\n",
      " 'I think it should have be release year ago say brian rohrbough whose son daniel be kill at columbine'\n",
      " 'I think there s a building confidence that the cop be on the beat'\n",
      " 'I think this move we a lot close toward say that foam can do this kind of damage hubbard say'\n",
      " 'I think we can now qualify what be happen as a genuine epidemic health minister jeanfrancois mattei say on france inter radio'\n",
      " 'I urge congress to quickly resolve any difference and send I the final bill as soon as possible so that I can sign it into law he say'\n",
      " 'I be believe that I be confident I could do this but only in the case I would play my good tennis'\n",
      " 'I be in the water for about eight second'\n",
      " 'I would rather be talk about positive number rather than negative'\n",
      " 'I m real excited to be a cleveland cavalier james say'\n",
      " 'I m really excited about go to cleveland james tell espncom'\n",
      " 'I m very proud of the citizen of this state say gov john baldacci a casino foe'\n",
      " 'if we could do that throughout the world we could end terrorism he say'\n",
      " 'if you pass this bill big brother will be watch you say rep john mabry dwaco'\n",
      " 'if you pass this bill rep john mabry jr dwaco tell colleague big brother will be watch you'\n",
      " 'in   it be a mental illness now what be they teach you'\n",
      " 'in return we expect north korea to give up nuclear weapon'\n",
      " 'it appear from our initial report that this be a textbook land consider the circumstance burke say'\n",
      " 'it have outrage the membership say rian wathen organize director of united food and commercial worker local 700'\n",
      " 'it be safe to assume the senate be prepared to pass some form of cap king say'\n",
      " 'it be very difficult to do large syndicated loan in japan say one banker'\n",
      " 'it look very much like an isolated event world health organization spokeswoman maria cheng say'\n",
      " 'it be a brazen attempt at intimidation say a republican legislator who attend the meeting'\n",
      " 'it be a final test before deliver the missile to the armed force'\n",
      " 'it be brazen intimidation to keep people on the reservation say a republican who attend but do not want to be name'\n",
      " 'its a blondhaired woman wear a cartier watch on her wrist the source say'\n",
      " 'its a wonder that porchia be the only decease in this case sax add'\n",
      " 'its go to happen say jim santangelo president of the teamster joint council 42 in el monte'\n",
      " 'its not zero say david ropeik director of risk communication at the harvard center for risk analysis'\n",
      " 'its very difficult to do large syndicated loan in japan where there be a lack of expertise say one banker'\n",
      " 'I m very proud of the citizen of this state gov john baldacci say after vote from tuesday referendum be count'\n",
      " 'jane want I to ask the helpful party guest to pay for it'\n",
      " 'leprechaun do not exist   fine'\n",
      " 'maybe but the old age help we to understand our strength and our weakness and the reality of the world'\n",
      " 'microsoft have absolutely nothing to do with atstake internal personnel decision sundwall say'\n",
      " 'mr bryant be innocent and expect to be completely exonerate mackey say in a statement'\n",
      " 'my judgment be 95 percent of that information should be declassify become uncensored so the american people would know'\n",
      " 'oh you re such a good person'\n",
      " 'opinionate and stubborn become treat with drug'\n",
      " 'our fundamental value have not change mary sue coleman president of the university say in a statement in ann arbor'\n",
      " 'our outcome be very encouraging george mason researcher ken alibek say'\n",
      " 'our strong preference be to achieve a financial restructuring out of court and we remain hopeful we can do so chief executive marce fuller say'\n",
      " 'our strong preference be to achieve a financial restructuring out of court mirant ceo marce fuller say in a prepared statement early friday'\n",
      " 'pnc regret its involvement in the deal chairman and chief executive officer james rohr say in a statement'\n",
      " 'people be obviously inconvenience say dr jim young ontario commissioner of public safety'\n",
      " 'press the number one do english'\n",
      " 'reload be the second installment of a trilogy the matrix revolution be slate for debut in november'\n",
      " 'right from the beginning we do not want to see anyone take a cut in pay'\n",
      " 'satyr do not exist   fine'\n",
      " 'short worker have bad hearing than expect by age   three time more often than tall worker write barrena'\n",
      " 'spend taxpayer dollar to create terrorism bet parlor be as wasteful as it be repugnant wyden and dorgan say monday in a letter to the pentagon'\n",
      " 'spend taxpayer dollar to create terrorism bet parlor be as wasteful as it be repugnant they announce at a press conference yesterday'\n",
      " 'spin and manipulative public relation and propaganda be not the answer it say'\n",
      " 'that really affect the company big time say jim santangelo president of the teamster joint council 42 in el monte']\n"
     ]
    }
   ],
   "source": [
    "print(parsed_sentences[:100])"
   ]
  },
  {
   "cell_type": "code",
   "execution_count": 32,
   "metadata": {},
   "outputs": [],
   "source": [
    "# Transform th parsed sentences to an array of strings\n",
    "parsed_sentences = np.array([str(sentence) for sentence in parsed_sentences])"
   ]
  },
  {
   "cell_type": "code",
   "execution_count": 33,
   "metadata": {},
   "outputs": [],
   "source": [
    "# Saving the file to a txt\n",
    "with open('Dataset/parsed_sentences.txt', 'w') as f:\n",
    "    for item in parsed_sentences:\n",
    "        f.write(\"%s\\n\" % item)\n"
   ]
  },
  {
   "cell_type": "code",
   "execution_count": 6,
   "metadata": {},
   "outputs": [
    {
     "name": "stdout",
     "output_type": "stream",
     "text": [
      "Mean length of sentences in characters: 59.37\n"
     ]
    }
   ],
   "source": [
    "array_len = np.vectorize(len)(sentences_list)\n",
    "mean_len = np.mean(array_len)\n",
    "print(f\"Mean length of sentences in characters: {mean_len:.2f}\")"
   ]
  },
  {
   "cell_type": "code",
   "execution_count": 6,
   "metadata": {},
   "outputs": [
    {
     "name": "stdout",
     "output_type": "stream",
     "text": [
      "Maximum sentence length: 56\n",
      "Minimum sentence length: 2\n",
      "Mean length of sentences in words: 10.17\n"
     ]
    },
    {
     "data": {
      "image/png": "[encoded data removed]",
      "text/plain": [
       "<Figure size 640x480 with 1 Axes>"
      ]
     },
     "metadata": {},
     "output_type": "display_data"
    }
   ],
   "source": [
    "arr_words = np.array([len(s.split()) for s in sentences_list])\n",
    "\n",
    "print(f\"Maximum sentence length: {np.max(arr_words)}\")\n",
    "print(f\"Minimum sentence length: {np.min(arr_words)}\")\n",
    "\n",
    "mean_sentences_length = np.mean(arr_words);\n",
    "print(f\"Mean length of sentences in words: {mean_sentences_length:.2f}\")\n",
    "\n",
    "unique, counts = np.unique(arr_words, return_counts=True)\n",
    "\n",
    "plt.bar(unique, counts)\n",
    "\n",
    "plt.axvline(x=mean_sentences_length, color='r', linestyle='--')\n",
    "\n",
    "plt.xlabel(\"Sentence length\")\n",
    "plt.ylabel(\"Occurrencies\")\n",
    "plt.title(\"Occurencies per sentence length\")\n",
    "\n",
    "\n",
    "plt.show()"
   ]
  },
  {
   "cell_type": "code",
   "execution_count": 7,
   "metadata": {},
   "outputs": [
    {
     "data": {
      "text/plain": [
       "[('man', 853),\n",
       " ('woman', 547),\n",
       " ('two', 458),\n",
       " ('said', 455),\n",
       " ('dog', 418),\n",
       " ('us', 402),\n",
       " ('white', 282),\n",
       " ('killed', 265),\n",
       " ('black', 258),\n",
       " ('playing', 254),\n",
       " ('percent', 253),\n",
       " ('new', 238),\n",
       " ('people', 217),\n",
       " ('syria', 211),\n",
       " ('china', 191),\n",
       " ('police', 173),\n",
       " ('running', 170),\n",
       " ('president', 168),\n",
       " ('person', 161),\n",
       " ('water', 156)]"
      ]
     },
     "execution_count": 7,
     "metadata": {},
     "output_type": "execute_result"
    }
   ],
   "source": [
    "words_with_duplicates = [word for string in clean_sentences_list for word in word_tokenize(string)]\n",
    "words_nostopwords = [w for w in words_with_duplicates if w not in stopwords.words('english')]\n",
    "counts_nostopwords = nltk.Counter(words_nostopwords)\n",
    "counts_nostopwords.most_common(20)"
   ]
  },
  {
   "cell_type": "code",
   "execution_count": 8,
   "metadata": {},
   "outputs": [
    {
     "name": "stdout",
     "output_type": "stream",
     "text": [
      "12243\n",
      "['0' '004' '005' ... 'zubaidi' 'zuccarini' 'zuma']\n"
     ]
    }
   ],
   "source": [
    "vocabulary = np.unique(words_nostopwords)\n",
    "print(len(vocabulary))\n",
    "print(vocabulary)"
   ]
  },
  {
   "cell_type": "code",
   "execution_count": 9,
   "metadata": {},
   "outputs": [
    {
     "name": "stdout",
     "output_type": "stream",
     "text": [
      "Mean scores of sentence similarity: 2.70\n"
     ]
    },
    {
     "data": {
      "image/png": "[encoded data removed]",
      "text/plain": [
       "<Figure size 640x480 with 1 Axes>"
      ]
     },
     "metadata": {},
     "output_type": "display_data"
    }
   ],
   "source": [
    "tot_scores = df[\"score\"]\n",
    "scores = np.ravel(tot_scores.values)\n",
    "\n",
    "mean_scores = np.mean(scores);\n",
    "print(f\"Mean scores of sentence similarity: {mean_scores:.2f}\")\n",
    "\n",
    "plt.hist(scores, bins=35, alpha=0.5, color='blue', rwidth=0.7)\n",
    "\n",
    "plt.axvline(x=mean_scores, color='r', linestyle='--')\n",
    "\n",
    "plt.xlabel(\"Score\")\n",
    "plt.ylabel(\"Occurrencies\")\n",
    "plt.title(\"Scores occurrencies\")\n",
    "\n",
    "plt.show()"
   ]
  },
  {
   "cell_type": "markdown",
   "metadata": {},
   "source": [
    "## Text Clustering"
   ]
  },
  {
   "cell_type": "code",
   "execution_count": 19,
   "metadata": {},
   "outputs": [],
   "source": [
    "from sklearn.metrics.pairwise import cosine_similarity\n",
    "from sklearn.cluster import KMeans\n",
    "from sklearn.feature_extraction.text import TfidfVectorizer\n",
    "from scipy.cluster.hierarchy import dendrogram, linkage\n",
    "import scipy.sparse as scs"
   ]
  },
  {
   "cell_type": "code",
   "execution_count": 38,
   "metadata": {},
   "outputs": [
    {
     "name": "stdout",
     "output_type": "stream",
     "text": [
      "(10566, 2782)\n",
      "['04' '07' '10' ... 'zimbabwe' 'zimmerman' 'zone']\n"
     ]
    }
   ],
   "source": [
    "# creazione della matrice di similarità\n",
    "tfidf = TfidfVectorizer(max_df=0.8, min_df=5, stop_words='english', strip_accents='ascii')\n",
    "tfidf_matrix = tfidf.fit_transform(clean_sentences_list)\n",
    "vocab = tfidf.get_feature_names_out()\n",
    "\n",
    "print(tfidf_matrix.shape)\n",
    "print(vocab)"
   ]
  },
  {
   "cell_type": "code",
   "execution_count": 36,
   "metadata": {},
   "outputs": [
    {
     "name": "stdout",
     "output_type": "stream",
     "text": [
      "The word dog is present in 406 documents. Here's the first 5:\n",
      "1. a baby is playing with a dog\n",
      "2. a baby plays with a dog and ball\n",
      "3. a black and a brown dog running in the grass\n",
      "4. a black and a yellow dog\n",
      "5. a black and brown dog runs through the woods\n"
     ]
    }
   ],
   "source": [
    "word = 'dog'\n",
    "word_id = tfidf.transform([word]).nonzero()[1]\n",
    "filter = tfidf_matrix.getcol(word_id).nonzero()[0]\n",
    "print(f'The word {word} is present in {len(filter)} documents. Here\\'s the first 5:')\n",
    "for idx, sentence in enumerate(clean_sentences_list[filter][:5]):\n",
    "    print(str(idx + 1) + '.' , sentence)"
   ]
  },
  {
   "cell_type": "code",
   "execution_count": 19,
   "metadata": {},
   "outputs": [
    {
     "name": "stdout",
     "output_type": "stream",
     "text": [
      "[[1.16756416 1.08627726 1.10761214 ... 1.09864128 1.07390301 1.09546637]\n",
      " [1.16756416 1.08145617 1.10761214 ... 1.09864128 1.07390301 1.09546637]\n",
      " [1.16756416 1.08471442 1.10761214 ... 1.09864128 1.07390301 1.09546637]\n",
      " ...\n",
      " [1.16756416 1.08535077 1.10761214 ... 1.09864128 1.07127939 1.09486491]\n",
      " [1.16756416 1.08250989 1.10628172 ... 1.09579484 1.06382312 1.09289389]\n",
      " [1.16756416 1.08599723 1.10048874 ... 1.09864128 1.07390301 1.09546637]]\n",
      "[26 18 18 ...  6  6  9]\n"
     ]
    },
    {
     "data": {
      "image/png": "[encoded data removed]",
      "text/plain": [
       "<Figure size 640x480 with 1 Axes>"
      ]
     },
     "metadata": {},
     "output_type": "display_data"
    }
   ],
   "source": [
    "#TODO remove\n",
    "k = 30\n",
    "kmeans = KMeans(n_clusters=k, n_init=10, random_state=42)\n",
    "cluster_matrix = kmeans.fit_transform(tfidf_matrix)\n",
    "print(cluster_matrix)\n",
    "clusters = np.argmin(cluster_matrix, axis=-1)\n",
    "print(clusters)\n",
    "\n",
    "uniques, counts = np.unique(clusters, return_counts=True)\n",
    "plt.bar(uniques, counts)\n",
    "plt.xlabel('cluster number')\n",
    "plt.ylabel('stentences')\n",
    "plt.xticks(uniques, rotation=90)\n",
    "plt.title('Samples per class')\n",
    "plt.show()"
   ]
  },
  {
   "cell_type": "code",
   "execution_count": 21,
   "metadata": {},
   "outputs": [
    {
     "name": "stdout",
     "output_type": "stream",
     "text": [
      "[' foxe was mostly frozen'\n",
      " ' billion  everyone in the world at mexicos current prosperity level'\n",
      " ' warmedc from the year prior' ...\n",
      " 'you have no witnesses for a missile at the pentagon'\n",
      " 'zahedan is a city in southeastern '\n",
      " 'zahedan is the capital of sistanbaluchestan province']\n"
     ]
    }
   ],
   "source": [
    "print(clean_sentences_list[clusters==2]) #TODO remove"
   ]
  },
  {
   "cell_type": "code",
   "execution_count": 33,
   "metadata": {},
   "outputs": [
    {
     "name": "stdout",
     "output_type": "stream",
     "text": [
      "0.5870727403663625\n",
      "0.7353936155065361\n",
      "0.7103763479164953\n",
      "0.5402747929881593\n",
      "0.7223409304405293\n",
      "0.6063079616711494\n",
      "0.5860390309734199\n",
      "0.6463372632261329\n",
      "0.5737025897764455\n",
      "0.634673043023743\n",
      "0.6466613598720016\n",
      "0.6033627013988818\n",
      "0.6396176738107257\n",
      "0.5517754962619135\n",
      "0.6222596102742358\n",
      "0.4964846827381316\n",
      "0.5697736352116076\n",
      "0.6508202625781111\n",
      "0.6983895817696577\n",
      "0.611374806942692\n",
      "0.5323453011908882\n",
      "0.6338239438104344\n",
      "0.709491129627362\n",
      "0.5436806442721329\n",
      "0.6922453490958373\n",
      "0.5685635796735165\n",
      "0.5201631985680353\n",
      "0.5652781721313052\n",
      "0.5639638933350086\n",
      "0.6508202625781111\n",
      "0.5911826741882329\n",
      "0.6476068371176784\n",
      "0.5305980973476908\n",
      "0.7750077398638888\n",
      "0.5251448512981151\n",
      "0.6116367179805876\n",
      "0.5200165719238552\n",
      "0.8106207064495318\n",
      "0.46805143362563406\n",
      "0.5650682536664466\n",
      "0.7339910677157546\n",
      "0.7437625035734563\n",
      "0.6270110095405649\n",
      "0.6825726438328226\n",
      "0.7647182789673328\n"
     ]
    }
   ],
   "source": [
    "#TODO remove\n",
    "for i in range(1):\n",
    "    for s in tfidf_matrix[clusters==i]:\n",
    "        print(np.max(s.todense())) "
   ]
  },
  {
   "cell_type": "code",
   "execution_count": 20,
   "metadata": {},
   "outputs": [
    {
     "name": "stdout",
     "output_type": "stream",
     "text": [
      "Top terms per cluster:\n",
      "Cluster 0:\t['sheep', 'standing', 'black', 'field', 'hill']\n",
      "Cluster 1:\t['people', 'group', 'table', 'walking', 'dancing']\n",
      "Cluster 2:\t['sitting', 'table', 'people', 'women', 'man']\n",
      "Cluster 3:\t['playing', 'guitar', 'man', 'dogs', 'flute']\n",
      "Cluster 4:\t['girl', 'little', 'young', 'riding', 'horse']\n",
      "Cluster 5:\t['running', 'dog', 'grass', 'dogs', 'brown']\n",
      "Cluster 6:\t['nuclear', 'iran', 'korea', 'north', 'talks']\n",
      "Cluster 7:\t['train', 'tracks', 'station', 'track', 'passenger']\n",
      "Cluster 8:\t['president', 'visit', 'vice', 'sworn', 'state']\n",
      "Cluster 9:\t['dead', 'shooting', 'crash', 'injured', 'train']\n",
      "Cluster 10:\t['shrimp', 'woman', 'peels', 'peeling', 'cleaning']\n",
      "Cluster 11:\t['cross', 'lebanon', 'russians', 'red', 'syria']\n",
      "Cluster 12:\t['red', 'bus', 'decker', 'double', 'street']\n",
      "Cluster 13:\t['woman', 'slicing', 'man', 'riding', 'meat']\n",
      "Cluster 14:\t['standing', 'field', 'man', 'black', 'cow']\n",
      "Cluster 15:\t['death', 'toll', 'rises', 'penalty', 'bangladesh']\n",
      "Cluster 16:\t['cutting', 'woman', 'man', 'person', 'onion']\n",
      "Cluster 17:\t['israel', 'palestinian', 'israeli', 'gaza', 'palestinians']\n",
      "Cluster 18:\t['person', 'new', 'china', 'obama', 'stocks']\n",
      "Cluster 19:\t['boy', 'playing', 'young', 'little', 'plays']\n",
      "Cluster 20:\t['cat', 'white', 'black', 'playing', 'camera']\n",
      "Cluster 21:\t['police', 'protesters', 'clash', 'tear', 'officers']\n",
      "Cluster 22:\t['said', 'statement', 'mr', 'spokesman', 'director']\n",
      "Cluster 23:\t['man', 'riding', 'slicing', 'water', 'horse']\n",
      "Cluster 24:\t['dog', 'black', 'brown', 'white', 'runs']\n",
      "Cluster 25:\t['killed', 'afghanistan', 'attack', 'iraq', 'nato']\n",
      "Cluster 26:\t['percent', 'points', 'nasdaq', 'index', 'stock']\n",
      "Cluster 27:\t['kills', 'suicide', 'pakistan', 'drone', 'bomber']\n",
      "Cluster 28:\t['syria', 'chemical', 'weapons', 'rebels', 'opposition']\n",
      "Cluster 29:\t['arrested', 'police', 'man', 'suspicion', 'bangladesh']\n"
     ]
    }
   ],
   "source": [
    "print(\"Top terms per cluster:\")\n",
    "\n",
    "for i in range(kmeans.n_clusters):\n",
    "    centroid = kmeans.cluster_centers_[i]    \n",
    "    sorted_terms = centroid.argsort()[::-1]\n",
    "    print(f\"Cluster {i}:\\t{[vocab[j] for j in sorted_terms[:5]]}\")"
   ]
  },
  {
   "attachments": {},
   "cell_type": "markdown",
   "metadata": {},
   "source": [
    "# Training models"
   ]
  },
  {
   "attachments": {},
   "cell_type": "markdown",
   "metadata": {},
   "source": [
    "## Bag of Words"
   ]
  },
  {
   "attachments": {},
   "cell_type": "markdown",
   "metadata": {},
   "source": [
    "We just trained a tf-idf model to compute clusters. We can also use this model to compute similarity between sentences using a bag of words approach."
   ]
  },
  {
   "cell_type": "code",
   "execution_count": 52,
   "metadata": {},
   "outputs": [
    {
     "name": "stdout",
     "output_type": "stream",
     "text": [
      "The dataset contains 2433 terms\n",
      "Random sentence: a person be hitchhike on a road\n",
      "\n"
     ]
    },
    {
     "data": {
      "text/html": [
       "<div>\n",
       "<style scoped>\n",
       "    .dataframe tbody tr th:only-of-type {\n",
       "        vertical-align: middle;\n",
       "    }\n",
       "\n",
       "    .dataframe tbody tr th {\n",
       "        vertical-align: top;\n",
       "    }\n",
       "\n",
       "    .dataframe thead th {\n",
       "        text-align: right;\n",
       "    }\n",
       "</style>\n",
       "<table border=\"1\" class=\"dataframe\">\n",
       "  <thead>\n",
       "    <tr style=\"text-align: right;\">\n",
       "      <th></th>\n",
       "      <th>id</th>\n",
       "      <th>word</th>\n",
       "      <th>scores</th>\n",
       "    </tr>\n",
       "  </thead>\n",
       "  <tbody>\n",
       "    <tr>\n",
       "      <th>0</th>\n",
       "      <td>1855</td>\n",
       "      <td>road</td>\n",
       "      <td>0.772315</td>\n",
       "    </tr>\n",
       "    <tr>\n",
       "      <th>1</th>\n",
       "      <td>1599</td>\n",
       "      <td>person</td>\n",
       "      <td>0.635240</td>\n",
       "    </tr>\n",
       "  </tbody>\n",
       "</table>\n",
       "</div>"
      ],
      "text/plain": [
       "     id    word    scores\n",
       "0  1855    road  0.772315\n",
       "1  1599  person  0.635240"
      ]
     },
     "execution_count": 52,
     "metadata": {},
     "output_type": "execute_result"
    }
   ],
   "source": [
    "from sklearn.feature_extraction.text import TfidfTransformer\n",
    "tfidf_vectorizer = TfidfVectorizer(max_df=0.8, min_df=5, stop_words='english', strip_accents='ascii')\n",
    "#tfidf_matrix = tfidf_vectorizer.fit_transform(clean_sentences_list)\n",
    "tfidf_matrix = tfidf_vectorizer.fit_transform(parsed_sentences)\n",
    "tfidf_vocab = tfidf_vectorizer.get_feature_names_out()\n",
    "\n",
    "print(f\"The dataset contains {len(tfidf_vocab)} terms\")\n",
    "np.random.seed(41)\n",
    "random_sentence = np.random.choice(parsed_sentences)\n",
    "print(\"Random sentence:\", random_sentence)\n",
    "print()\n",
    "random_sentence_tfidf_scores = tfidf_vectorizer.transform([random_sentence])\n",
    "pd.DataFrame({\n",
    "    \"id\": random_sentence_tfidf_scores.nonzero()[1],\n",
    "    \"word\": tfidf_vocab[random_sentence_tfidf_scores.nonzero()[1]],\n",
    "    \"scores\": random_sentence_tfidf_scores.data\n",
    "})"
   ]
  },
  {
   "attachments": {},
   "cell_type": "markdown",
   "metadata": {},
   "source": [
    "Now we print the most similar sentences of a selected one using cosine similarity"
   ]
  },
  {
   "cell_type": "code",
   "execution_count": 53,
   "metadata": {},
   "outputs": [
    {
     "name": "stdout",
     "output_type": "stream",
     "text": [
      "biotech products if anything may be safer than conventional products because of all the testing said robert fraley monsantos executive vice president\n",
      "1) 0.69 biotech products if anything may be safer than conventional products because of all the testing fraley said adding that 18 countries have adopted biotechnology\n",
      "2) 0.54 the onus is on the manufacturer of a product to convince consumers it is safe\n",
      "3) 0.38 products featuring vanderpool will be released within five years he said\n",
      "4) 0.36 as executive vice president of new ventures elias will report to joe tucci emcs president and chief executive\n",
      "5) 0.33 the product can be instructed to permit businessonly use according to sendmail\n"
     ]
    }
   ],
   "source": [
    "tfidf_similarity = cosine_similarity(tfidf_matrix)\n",
    "tfidf_sentence_idx = 10\n",
    "print(clean_sentences_list[tfidf_sentence_idx])\n",
    "for i, col_idx in enumerate(tfidf_similarity[tfidf_sentence_idx].argsort()[::-1][1:6]):\n",
    "    print(str(i+1) + \")\",f\"{tfidf_similarity[tfidf_sentence_idx][col_idx]:.2f}\", clean_sentences_list[col_idx])"
   ]
  },
  {
   "cell_type": "code",
   "execution_count": 64,
   "metadata": {},
   "outputs": [
    {
     "data": {
      "text/plain": [
       "'an air plane be take off .'"
      ]
     },
     "execution_count": 64,
     "metadata": {},
     "output_type": "execute_result"
    }
   ],
   "source": [
    "idx, row = next(df.iterrows())\n",
    "str(parse_single_sentence(row[\"sentence1\"]))\n",
    "str(parse_single_sentence(row[\"sentence2\"]))\n"
   ]
  },
  {
   "cell_type": "code",
   "execution_count": 71,
   "metadata": {},
   "outputs": [],
   "source": [
    "from sklearn.metrics import mean_squared_error\n",
    "\n",
    "def evaluate_mse(model):\n",
    "    predicted_scores = []\n",
    "    for idx, row in df.iterrows():\n",
    "        vectorized_sentences = model.transform([str(parse_single_sentence(row[\"sentence1\"])), str(parse_single_sentence(row[\"sentence2\"]))])\n",
    "        similarity = cosine_similarity(vectorized_sentences)\n",
    "        predicted_scores.append(similarity[0][1])\n",
    "    return mean_squared_error(df[\"score\"].values / 5, predicted_scores)\n"
   ]
  },
  {
   "cell_type": "code",
   "execution_count": 72,
   "metadata": {},
   "outputs": [
    {
     "name": "stdout",
     "output_type": "stream",
     "text": [
      "MSE: 0.056237662780198636\n"
     ]
    }
   ],
   "source": [
    "print(\"MSE:\", evaluate_mse(tfidf_vectorizer))"
   ]
  },
  {
   "attachments": {},
   "cell_type": "markdown",
   "metadata": {},
   "source": [
    "We try to improve it using trigrams"
   ]
  },
  {
   "cell_type": "code",
   "execution_count": 76,
   "metadata": {},
   "outputs": [
    {
     "name": "stdout",
     "output_type": "stream",
     "text": [
      "The dataset contains 15421 terms\n",
      "Random sentence: a person is hitchhiking on a road\n",
      "\n"
     ]
    },
    {
     "data": {
      "text/html": [
       "<div>\n",
       "<style scoped>\n",
       "    .dataframe tbody tr th:only-of-type {\n",
       "        vertical-align: middle;\n",
       "    }\n",
       "\n",
       "    .dataframe tbody tr th {\n",
       "        vertical-align: top;\n",
       "    }\n",
       "\n",
       "    .dataframe thead th {\n",
       "        text-align: right;\n",
       "    }\n",
       "</style>\n",
       "<table border=\"1\" class=\"dataframe\">\n",
       "  <thead>\n",
       "    <tr style=\"text-align: right;\">\n",
       "      <th></th>\n",
       "      <th>id</th>\n",
       "      <th>word</th>\n",
       "      <th>scores</th>\n",
       "    </tr>\n",
       "  </thead>\n",
       "  <tbody>\n",
       "    <tr>\n",
       "      <th>0</th>\n",
       "      <td>9362</td>\n",
       "      <td>on road</td>\n",
       "      <td>1.0</td>\n",
       "    </tr>\n",
       "  </tbody>\n",
       "</table>\n",
       "</div>"
      ],
      "text/plain": [
       "     id     word  scores\n",
       "0  9362  on road     1.0"
      ]
     },
     "execution_count": 76,
     "metadata": {},
     "output_type": "execute_result"
    }
   ],
   "source": [
    "from sklearn.feature_extraction.text import TfidfTransformer\n",
    "tfidf_vectorizer = TfidfVectorizer(max_df=0.8, min_df=2, strip_accents='ascii', ngram_range=(2,2))\n",
    "#tfidf_matrix = tfidf_vectorizer.fit_transform(clean_sentences_list)\n",
    "tfidf_matrix = tfidf_vectorizer.fit_transform(parsed_sentences)\n",
    "tfidf_vocab = tfidf_vectorizer.get_feature_names_out()\n",
    "\n",
    "print(f\"The dataset contains {len(tfidf_vocab)} terms\")\n",
    "np.random.seed(41)\n",
    "random_sentence = np.random.choice(clean_sentences_list)\n",
    "print(\"Random sentence:\", random_sentence)\n",
    "print()\n",
    "random_sentence_tfidf_scores = tfidf_vectorizer.transform([random_sentence])\n",
    "pd.DataFrame({\n",
    "    \"id\": random_sentence_tfidf_scores.nonzero()[1],\n",
    "    \"word\": tfidf_vocab[random_sentence_tfidf_scores.nonzero()[1]],\n",
    "    \"scores\": random_sentence_tfidf_scores.data\n",
    "})"
   ]
  },
  {
   "cell_type": "code",
   "execution_count": 77,
   "metadata": {},
   "outputs": [
    {
     "name": "stdout",
     "output_type": "stream",
     "text": [
      "MSE: 0.1027378187370247\n"
     ]
    }
   ],
   "source": [
    "print(\"MSE:\", evaluate_mse(tfidf_vectorizer))\n",
    "#TODO cercare su internet comparazione performance bigrammi monogrammi"
   ]
  },
  {
   "cell_type": "code",
   "execution_count": 33,
   "metadata": {},
   "outputs": [
    {
     "name": "stdout",
     "output_type": "stream",
     "text": [
      "['  income top rate  percent' ' foxe was mostly frozen'\n",
      " ' billion  everyone in the world at mexicos current prosperity level'\n",
      " ' warmedc from the year prior'\n",
      " 'americans dont cut and run we have to see this misadventure through she said'\n",
      " 'and about eight to  [number]  seconds down i hit'\n",
      " 'at first blush it doesnt look like any rules were broken said gen richard myers chairman of the joint chiefs of staff'\n",
      " 'being against nukes does not mean not wanting to use nukes'\n",
      " 'being against using nukes means not wanting to use nukes'\n",
      " 'biotech products if anything may be safer than conventional products because of all the testing fraley said adding that  [number]  countries have adopted biotechnology'\n",
      " 'biotech products if anything may be safer than conventional products because of all the testing said robert fraley monsantos executive vice president'\n",
      " 'bright but scatterbrained becomes treat with drugs'\n",
      " 'but i do question the motives of a deskbound president who assumes the garb of a warrior for the purposes of a speech'\n",
      " 'but i do question the motives of a deskbound president who assumes the garb of a warrior for the purposes of a speech'\n",
      " 'but at no stage did ona receive intelligence material indicating that jemaah islamiyah was planning to mount an operation in bali'\n",
      " 'but that does not clear them of the obligation to do everything possible to protect civilians and that is not what were seeing'\n",
      " 'but that does not clear them of the responsibility to do everything possible to minimize civilian harm'\n",
      " 'but they did not as of the time of this particular tragic event provide the security we had requested mr jordan said'\n",
      " 'certainly what we know suggests that we should take what theyre saying very seriously he added'\n",
      " 'close cooperation between lawenforcement agencies and intelligence services lie at the heart of the ongoing fight against terrorism mr howard said'\n",
      " 'cyclopes dont exist  fine' 'elves dont exist  fine'\n",
      " 'enron company executives engaged in widespread and pervasive fraud to manipulate the companys earnings results buell said'\n",
      " 'enron company executives engaged in widespread and pervasive fraud prosecutor samuel buell told the associated press'\n",
      " 'fairies dont exist  fine'\n",
      " 'fewer than  [number]  fbi offices have conducted investigations involving visits to mosques the justice department said'\n",
      " 'fighting continued until midnight western rebel commander ousmane coulibaly told reuters by satellite phone on sunday'\n",
      " 'for me the lewinsky imbroglio seemed like just another vicious scandal manufactured by political opponents mrs clinton writes'\n",
      " 'for me the lewinsky imbroglio seemed like just another vicious scandal manufactured by political opponents according to extracts released yesterday'\n",
      " 'get the government into everything' 'goblins dont exist  fine'\n",
      " 'gorgons dont exist  fine'\n",
      " 'he hasnt got much choice said the bishop of armidale peter brain'\n",
      " 'he really left us with a smile on his face and no last words  he gave us each a kiss and that was it she said'\n",
      " 'he really left us with a smile on his face and no last words daughter linda hope said'\n",
      " 'i am proud that i stood against richard nixon not with him kerry said'\n",
      " 'i came basically to washington to establish relationships and to make sure that we are getting more federal money to california schwarzenegger said after meeting with congressional republicans'\n",
      " 'i came to washington basically to establish relationships and make sure we are getting more federal money schwarzenegger said after one meeting'\n",
      " 'i dont know if the person im talking to now may end up being someone else at another time that may not follow the rules parrish said'\n",
      " 'i dont know whether the person im talking to now may end up being someone else parrish said'\n",
      " 'i feel confident saying that hp is no longer an integration story fiorina said'\n",
      " 'i felt that if i disagreed with rosie too much i would lose my job she said'\n",
      " 'i have acknowledged that i behaved inappropriately he said'\n",
      " 'i marched in the streets against richard nixon and the vietnam war she said'\n",
      " 'i notice a mood change in their priorities one politician said'\n",
      " 'i notice a mood change in their priorities said one iraqi politician after meeting with mr bremer'\n",
      " 'i really liked him and i still do cohen alon told the herald yesterday'\n",
      " 'i think it should have been released years ago said brian rohrbough whose son daniel was killed at columbine'\n",
      " 'i think theres a building confidence that the cop is on the beat'\n",
      " 'i think this moves us a lot closer toward saying that foam can do this kind of damage hubbard said'\n",
      " 'i think we can now qualify what is happening as a genuine epidemic health minister jeanfrancois mattei said on france inter radio'\n",
      " 'i urge congress to quickly resolve any differences and send me the final bill as soon as possible so that i can sign it into law he said'\n",
      " 'i was believing that i was confident i could do this but only in the case i would play my best tennis'\n",
      " 'i was in the water for about eight seconds'\n",
      " 'i would rather be talking about positive numbers rather than negative'\n",
      " 'im real excited to be a cleveland cavalier james said'\n",
      " 'im really excited about going to cleveland james told espncom'\n",
      " 'im very proud of the citizens of this state said gov john baldacci a casino foe'\n",
      " 'if we could do that throughout the world we could end terrorism he said'\n",
      " 'if you pass this bill big brother will be watching you said rep john mabry dwaco'\n",
      " 'if you pass this bill rep john mabry jr dwaco told colleagues big brother will be watching you'\n",
      " 'in  it was a mental illness now what are they teaching you'\n",
      " 'in return we expect north korea to give up nuclear weapons'\n",
      " 'it appears from our initial report that this was a textbook landing considering the circumstances burke said'\n",
      " 'it has outraged the membership said rian wathen organizing director of united food and commercial workers local  [number] '\n",
      " 'it is safe to assume the senate is prepared to pass some form of cap king said'\n",
      " 'it is very difficult to do large syndicated loans in japan says one banker'\n",
      " 'it looks very much like an isolated event world health organization spokeswoman maria cheng said'\n",
      " 'it was a brazen attempt at intimidation said a republican legislator who attended the meeting'\n",
      " 'it was a final test before delivering the missile to the armed forces'\n",
      " 'it was brazen intimidation to keep people on the reservation said a republican who attended but did not want to be named'\n",
      " 'its a blondhaired woman wearing a cartier watch on her wrist the source said'\n",
      " 'its a wonder that porchia was the only deceased in this case sax added'\n",
      " 'its going to happen said jim santangelo president of the teamsters joint council  [number]  in el monte'\n",
      " 'its not zero said david ropeik director of risk communication at the harvard center for risk analysis'\n",
      " 'its very difficult to do large syndicated loans in japan where there is a lack of expertise says one banker'\n",
      " 'im very proud of the citizens of this state gov john baldacci said after votes from tuesdays referendum were counted'\n",
      " 'jane wants me to ask the helpful party guest to pay for it'\n",
      " 'leprechauns dont exist  fine'\n",
      " 'maybe but the old age helps us to understand our strength and our weakness and the reality of the world'\n",
      " 'microsoft had absolutely nothing to do with atstakes internal personnel decision sundwall said'\n",
      " 'mr bryant is innocent and expects to be completely exonerated mackey said in a statement'\n",
      " 'my judgment is  [number]  percent of that information should be declassified become uncensored so the american people would know'\n",
      " 'oh youre such a good person'\n",
      " 'opinionated and stubborn becomes treat with drugs'\n",
      " 'our fundamental values havent changed mary sue coleman president of the university said in a statement in ann arbor'\n",
      " 'our outcomes are very encouraging george mason researcher ken alibek said'\n",
      " 'our strong preference is to achieve a financial restructuring out of court and we remain hopeful we can do so chief executive marce fuller said'\n",
      " 'our strong preference is to achieve a financial restructuring out of court mirant ceo marce fuller said in a prepared statement early friday'\n",
      " 'pnc regrets its involvement in the deals chairman and chief executive officer james rohr said in a statement'\n",
      " 'people are obviously inconvenienced said dr jim young ontarios commissioner of public safety'\n",
      " 'pressing the number one does english'\n",
      " 'reloaded is the second installment of a trilogy the matrix revolutions is slated for debut in november'\n",
      " 'right from the beginning we didnt want to see anyone take a cut in pay'\n",
      " 'satyrs dont exist  fine'\n",
      " 'short workers had worse hearing than expected by age  three times more often than taller workers writes barrenas'\n",
      " 'spending taxpayer dollars to create terrorism betting parlors is as wasteful as it is repugnant wyden and dorgan said monday in a letter to the pentagon'\n",
      " 'spending taxpayer dollars to create terrorism betting parlors is as wasteful as it is repugnant they announced at a press conference yesterday'\n",
      " 'spin and manipulative public relations and propaganda are not the answer it said'\n",
      " 'that really affects the companies big time said jim santangelo president of the teamsters joint council  [number]  in el monte']\n"
     ]
    }
   ],
   "source": [
    "def substitute_number(text):\n",
    "    pattern = r'\\d+'\n",
    "    replacement = ' [number] '\n",
    "    substituted_text = re.sub(pattern, replacement, text)\n",
    "    return substituted_text\n",
    "\n",
    "temp = np.vectorize(substitute_number)(clean_sentences_list)\n",
    "\n",
    "print(temp[:100])\n"
   ]
  },
  {
   "attachments": {},
   "cell_type": "markdown",
   "metadata": {},
   "source": [
    "## Word2Vec"
   ]
  },
  {
   "cell_type": "code",
   "execution_count": null,
   "metadata": {},
   "outputs": [
    {
     "name": "stdout",
     "output_type": "stream",
     "text": [
      "2892\n"
     ]
    }
   ],
   "source": [
    "from gensim.models import Word2Vec\n",
    "\n",
    "analyzer = tfidf.build_analyzer()\n",
    "tokenized_corpus = [analyzer(w) for w in corpus]\n",
    "model = Word2Vec(tokenized_corpus, vector_size=30, min_count=5, window=10)\n",
    "print(len(model.wv))"
   ]
  },
  {
   "cell_type": "code",
   "execution_count": null,
   "metadata": {},
   "outputs": [],
   "source": [
    "# todo fare con operazioni vettoriali\n",
    "def mix(vectorizer: TfidfVectorizer, embeddings: Word2Vec, document) -> np.array:\n",
    "    vectorized = vectorizer.transform([document])\n",
    "    cols = vectorized.nonzero()[1]\n",
    "    result = np.zeros(30)\n",
    "    weights = 0\n",
    "    terms = tfidf.get_feature_names_out()\n",
    "\n",
    "    for x in cols:\n",
    "        word = terms[x]\n",
    "        try:\n",
    "            embed = embeddings.wv[word]\n",
    "        except:\n",
    "            continue\n",
    "        weight = vectorized[0, x]\n",
    "        result += weight * embed\n",
    "        weights += weight\n",
    "        \n",
    "    result = result / weights\n",
    "    if (np.isnan(result).any() or weights == 0):\n",
    "        return np.zeros(30)\n",
    "    return result"
   ]
  },
  {
   "cell_type": "code",
   "execution_count": null,
   "metadata": {},
   "outputs": [
    {
     "name": "stderr",
     "output_type": "stream",
     "text": [
      "/tmp/ipykernel_25521/2236178505.py:18: RuntimeWarning: invalid value encountered in divide\n",
      "  result = result / weights\n"
     ]
    },
    {
     "name": "stdout",
     "output_type": "stream",
     "text": [
      "(11498, 30)\n",
      "Initialization complete\n",
      "Iteration 0, inertia 298.8018460750988.\n",
      "Iteration 1, inertia 219.55690562598215.\n",
      "Iteration 2, inertia 214.6848562331368.\n",
      "Iteration 3, inertia 212.857355852252.\n",
      "Iteration 4, inertia 212.23368635999134.\n",
      "Iteration 5, inertia 211.92467648426236.\n",
      "Iteration 6, inertia 211.6976908654495.\n",
      "Iteration 7, inertia 211.47532825632214.\n",
      "Iteration 8, inertia 211.1146978506815.\n",
      "Iteration 9, inertia 210.45744775429492.\n",
      "Iteration 10, inertia 209.69076390074764.\n",
      "Iteration 11, inertia 208.97420058796783.\n",
      "Iteration 12, inertia 208.90743118556685.\n",
      "Iteration 13, inertia 208.83627551403782.\n",
      "Iteration 14, inertia 208.81854240977623.\n",
      "Iteration 15, inertia 208.79941843379348.\n",
      "Iteration 16, inertia 208.7858940110073.\n",
      "Iteration 17, inertia 208.77601484051328.\n",
      "Iteration 18, inertia 208.77324308712764.\n",
      "Converged at iteration 18: center shift 1.1176360309289543e-06 within tolerance 1.626664907705768e-06.\n",
      "Initialization complete\n",
      "Iteration 0, inertia 300.90241853391024.\n",
      "Iteration 1, inertia 224.8844079841024.\n",
      "Iteration 2, inertia 217.76265006915352.\n",
      "Iteration 3, inertia 214.95449578373402.\n",
      "Iteration 4, inertia 213.17639388824608.\n",
      "Iteration 5, inertia 212.10050379461882.\n",
      "Iteration 6, inertia 211.13841068984598.\n",
      "Iteration 7, inertia 210.73581642710312.\n",
      "Iteration 8, inertia 210.56651356045575.\n",
      "Iteration 9, inertia 210.36159250886703.\n",
      "Iteration 10, inertia 210.17194262021.\n",
      "Iteration 11, inertia 209.99665299742225.\n",
      "Iteration 12, inertia 209.85094440834348.\n",
      "Iteration 13, inertia 209.75963391224624.\n",
      "Iteration 14, inertia 209.68673541390942.\n",
      "Iteration 15, inertia 209.62472859792024.\n",
      "Iteration 16, inertia 209.54301270548913.\n",
      "Iteration 17, inertia 209.34782901773198.\n",
      "Iteration 18, inertia 209.25823172394814.\n",
      "Iteration 19, inertia 209.17139786211868.\n",
      "Iteration 20, inertia 209.12233818403593.\n",
      "Iteration 21, inertia 209.0827272898957.\n",
      "Iteration 22, inertia 208.99330718110485.\n",
      "Iteration 23, inertia 208.9143295194209.\n",
      "Iteration 24, inertia 208.83077344959494.\n",
      "Iteration 25, inertia 208.79702768404275.\n",
      "Iteration 26, inertia 208.7725910106367.\n",
      "Iteration 27, inertia 208.73972609677224.\n",
      "Iteration 28, inertia 208.70110633708634.\n",
      "Iteration 29, inertia 208.67530244060296.\n",
      "Iteration 30, inertia 208.65722824559592.\n",
      "Iteration 31, inertia 208.64103989520126.\n",
      "Iteration 32, inertia 208.6127594726541.\n",
      "Iteration 33, inertia 208.57658804421155.\n",
      "Iteration 34, inertia 208.54647562901928.\n",
      "Iteration 35, inertia 208.51308887883218.\n",
      "Iteration 36, inertia 208.4900699545808.\n",
      "Iteration 37, inertia 208.467313292989.\n",
      "Iteration 38, inertia 208.45129415105328.\n",
      "Iteration 39, inertia 208.4400786813158.\n",
      "Iteration 40, inertia 208.4351354972298.\n",
      "Iteration 41, inertia 208.43193965949067.\n",
      "Iteration 42, inertia 208.4259189557053.\n",
      "Iteration 43, inertia 208.42054810852713.\n",
      "Iteration 44, inertia 208.4175631396192.\n",
      "Converged at iteration 44: center shift 1.269570197700746e-06 within tolerance 1.626664907705768e-06.\n"
     ]
    }
   ],
   "source": [
    "mixed_corpus = np.array([mix(tfidf, model, w) for w in corpus])"
   ]
  },
  {
   "cell_type": "code",
   "execution_count": null,
   "metadata": {},
   "outputs": [
    {
     "name": "stdout",
     "output_type": "stream",
     "text": [
      "Initialization complete\n",
      "Iteration 0, inertia 540.7065096318718.\n",
      "Iteration 1, inertia 415.4677448122001.\n",
      "Iteration 2, inertia 410.50759191062025.\n",
      "Iteration 3, inertia 407.1811913459393.\n",
      "Iteration 4, inertia 405.4516020070937.\n",
      "Iteration 5, inertia 404.376890767678.\n",
      "Iteration 6, inertia 403.62590788286354.\n",
      "Iteration 7, inertia 403.05747903241394.\n",
      "Iteration 8, inertia 402.33969978692943.\n",
      "Iteration 9, inertia 401.26514013216115.\n",
      "Iteration 10, inertia 400.4569337750206.\n",
      "Iteration 11, inertia 400.14070382054194.\n",
      "Iteration 12, inertia 399.9643201921365.\n",
      "Iteration 13, inertia 399.86032076568824.\n",
      "Iteration 14, inertia 399.81950869380347.\n",
      "Iteration 15, inertia 399.7941575168503.\n",
      "Iteration 16, inertia 399.75739545827275.\n",
      "Iteration 17, inertia 399.72824703792094.\n",
      "Iteration 18, inertia 399.70391499328633.\n",
      "Iteration 19, inertia 399.6838494806509.\n",
      "Iteration 20, inertia 399.67250939027207.\n",
      "Iteration 21, inertia 399.6685164150547.\n",
      "Iteration 22, inertia 399.6585553670636.\n",
      "Iteration 23, inertia 399.6545778144234.\n",
      "Iteration 24, inertia 399.64976865696303.\n",
      "Iteration 25, inertia 399.64669922410116.\n",
      "Iteration 26, inertia 399.6452061588247.\n",
      "Converged at iteration 26: center shift 1.1507840604210159e-06 within tolerance 1.626664907705768e-06.\n",
      "Initialization complete\n",
      "Iteration 0, inertia 546.9535896601617.\n",
      "Iteration 1, inertia 430.5528568156626.\n",
      "Iteration 2, inertia 422.1827675746573.\n",
      "Iteration 3, inertia 419.56408606930756.\n",
      "Iteration 4, inertia 418.0855282089156.\n",
      "Iteration 5, inertia 416.85664717622535.\n",
      "Iteration 6, inertia 415.57519202608364.\n",
      "Iteration 7, inertia 414.45206836752686.\n",
      "Iteration 8, inertia 413.32408685692917.\n",
      "Iteration 9, inertia 412.33313401544433.\n",
      "Iteration 10, inertia 410.83905355655367.\n",
      "Iteration 11, inertia 406.03959069748953.\n",
      "Iteration 12, inertia 398.8772611730614.\n",
      "Iteration 13, inertia 392.50143522518954.\n",
      "Iteration 14, inertia 389.1554006313195.\n",
      "Iteration 15, inertia 387.3437278675274.\n",
      "Iteration 16, inertia 386.2979909518825.\n",
      "Iteration 17, inertia 385.5245761108707.\n",
      "Iteration 18, inertia 384.9880204890725.\n",
      "Iteration 19, inertia 384.6757488486848.\n",
      "Iteration 20, inertia 384.4341144173883.\n",
      "Iteration 21, inertia 384.2180106877555.\n",
      "Iteration 22, inertia 383.9562436230366.\n",
      "Iteration 23, inertia 383.70088599521296.\n",
      "Iteration 24, inertia 383.38727708788974.\n",
      "Iteration 25, inertia 382.88689701678715.\n",
      "Iteration 26, inertia 382.2982841957656.\n",
      "Iteration 27, inertia 381.594055301614.\n",
      "Iteration 28, inertia 380.6620906183337.\n",
      "Iteration 29, inertia 380.16726192994065.\n",
      "Iteration 30, inertia 379.87494224846677.\n",
      "Iteration 31, inertia 379.63561873829906.\n",
      "Iteration 32, inertia 379.54921184119604.\n",
      "Iteration 33, inertia 379.4692246863506.\n",
      "Iteration 34, inertia 379.39224110189.\n",
      "Iteration 35, inertia 379.34013509083576.\n",
      "Iteration 36, inertia 379.29919143166694.\n",
      "Iteration 37, inertia 379.2569592287264.\n",
      "Iteration 38, inertia 379.22271105501954.\n",
      "Iteration 39, inertia 379.18153632505545.\n",
      "Iteration 40, inertia 379.14517042257506.\n",
      "Iteration 41, inertia 379.1097715002627.\n",
      "Iteration 42, inertia 379.082225676842.\n",
      "Iteration 43, inertia 379.0730831741289.\n",
      "Iteration 44, inertia 379.06685490356494.\n",
      "Iteration 45, inertia 379.061099367117.\n",
      "Iteration 46, inertia 379.05853678450353.\n",
      "Converged at iteration 46: center shift 6.00260285751411e-07 within tolerance 1.626664907705768e-06.\n"
     ]
    }
   ],
   "source": [
    "k = 15\n",
    "kmeans = KMeans(n_clusters=k, max_iter=100, n_init=2, verbose=True)\n",
    "cluster_matrix = kmeans.fit_transform(mixed_corpus)"
   ]
  },
  {
   "cell_type": "code",
   "execution_count": null,
   "metadata": {},
   "outputs": [],
   "source": [
    "labels = np.argmax(cluster_matrix, axis=-1)"
   ]
  },
  {
   "cell_type": "code",
   "execution_count": null,
   "metadata": {},
   "outputs": [
    {
     "name": "stdout",
     "output_type": "stream",
     "text": [
      "Top term per cluster:\n",
      "[('said', 0.9998720288276672), ('billion', 0.9996214509010315), ('tuesday', 0.9996185302734375), ('million', 0.9996104836463928), ('state', 0.9995715618133545), ('government', 0.9995687007904053), ('president', 0.9995319247245789), ('police', 0.9995316863059998), ('years', 0.9995228052139282), ('military', 0.9994965195655823)]\n",
      "[('said', 0.9998518228530884), ('million', 0.9997186064720154), ('government', 0.9996440410614014), ('billion', 0.9996383786201477), ('tuesday', 0.9996023178100586), ('police', 0.9995832443237305), ('yesterday', 0.9995828866958618), ('state', 0.9995742440223694), ('military', 0.999573826789856), ('president', 0.9995699524879456)]\n",
      "[('indian', 0.999377429485321), ('said', 0.999259352684021), ('dies', 0.9992164969444275), ('told', 0.9991896152496338), ('air', 0.9991471171379089), ('court', 0.9991379976272583), ('arrested', 0.9990209937095642), ('workers', 0.9990055561065674), ('tuesday', 0.9990054368972778), ('billion', 0.9989449977874756)]\n",
      "[('said', 0.9998770952224731), ('million', 0.999714195728302), ('billion', 0.9996453523635864), ('government', 0.999639093875885), ('president', 0.9996323585510254), ('state', 0.9996278882026672), ('police', 0.9996159076690674), ('tuesday', 0.9996143579483032), ('military', 0.9995691776275635), ('security', 0.9995645880699158)]\n",
      "[('water', 0.9985550045967102), ('standing', 0.9978150129318237), ('walking', 0.9976155161857605), ('cat', 0.9973345398902893), ('wearing', 0.9969745874404907), ('green', 0.9968481063842773), ('large', 0.996844470500946), ('laying', 0.99665766954422), ('shirt', 0.9966006875038147), ('beach', 0.9963244199752808)]\n",
      "[('said', 0.9999098777770996), ('million', 0.9996146559715271), ('tuesday', 0.9995675086975098), ('government', 0.9995554089546204), ('military', 0.9995068311691284), ('billion', 0.9994760155677795), ('security', 0.9994750618934631), ('president', 0.9994511008262634), ('police', 0.9994447827339172), ('high', 0.9994063973426819)]\n",
      "[('said', 0.9997278451919556), ('billion', 0.9995597004890442), ('tuesday', 0.9995173215866089), ('indian', 0.9994814991950989), ('million', 0.9994781017303467), ('years', 0.999477744102478), ('state', 0.999445915222168), ('arrested', 0.9994416832923889), ('say', 0.9994085431098938), ('police', 0.9994056224822998)]\n",
      "[('indian', 0.9991279244422913), ('near', 0.9990482926368713), ('air', 0.9990220069885254), ('dies', 0.9990163445472717), ('told', 0.998894453048706), ('said', 0.9988046884536743), ('court', 0.9987913370132446), ('children', 0.9987783432006836), ('arrested', 0.9987454414367676), ('major', 0.9986768960952759)]\n",
      "[('said', 0.9998658895492554), ('million', 0.9996998310089111), ('government', 0.9996566772460938), ('billion', 0.9996330738067627), ('tuesday', 0.999629020690918), ('president', 0.9996071457862854), ('police', 0.9995977282524109), ('state', 0.9995574355125427), ('yesterday', 0.9995519518852234), ('military', 0.9995507001876831)]\n",
      "[('men', 0.9987792372703552), ('air', 0.9986473917961121), ('dies', 0.9986045360565186), ('near', 0.9985849857330322), ('indian', 0.9984719157218933), ('area', 0.9983622431755066), ('people', 0.9983249306678772), ('children', 0.9982901215553284), ('women', 0.9981650114059448), ('room', 0.9981545805931091)]\n",
      "[('water', 0.9987273812294006), ('cat', 0.9976967573165894), ('walking', 0.9975780248641968), ('large', 0.9974914789199829), ('standing', 0.9974740147590637), ('green', 0.9974294900894165), ('wearing', 0.9973902702331543), ('laying', 0.9971055388450623), ('small', 0.9969626665115356), ('shirt', 0.9969197511672974)]\n",
      "[('singing', 0.9872704148292542), ('man', 0.9872002005577087), ('playing', 0.9834654331207275), ('boy', 0.9824506640434265), ('girl', 0.9795342683792114), ('plays', 0.9770668148994446), ('dogs', 0.9769740700721741), ('young', 0.9747228622436523), ('shirt', 0.9738288521766663), ('sitting', 0.9731125831604004)]\n",
      "[('wearing', 0.9986225962638855), ('young', 0.9983915090560913), ('large', 0.9983195066452026), ('girl', 0.9982755184173584), ('water', 0.9982449412345886), ('small', 0.9979092478752136), ('green', 0.9978635311126709), ('woman', 0.997851550579071), ('blue', 0.997815728187561), ('shirt', 0.9975525140762329)]\n",
      "[('white', 0.9970255494117737), ('black', 0.9969334006309509), ('field', 0.9965169429779053), ('standing', 0.9959350228309631), ('runs', 0.9954880475997925), ('dog', 0.9940996170043945), ('walking', 0.9940255880355835), ('mouth', 0.9939853549003601), ('running', 0.9939004778862), ('cow', 0.9938557744026184)]\n",
      "[('said', 0.9998716115951538), ('billion', 0.9996348023414612), ('million', 0.9996046423912048), ('tuesday', 0.9995864033699036), ('state', 0.9995753765106201), ('government', 0.9995702505111694), ('president', 0.9995403289794922), ('police', 0.9995337724685669), ('years', 0.999531626701355), ('indian', 0.9994869232177734)]\n"
     ]
    }
   ],
   "source": [
    "print(\"Top term per cluster:\")\n",
    "\n",
    "for i in range(kmeans.n_clusters):\n",
    "    centroid = kmeans.cluster_centers_[i]\n",
    "    print(model.wv.most_similar(centroid, topn=10))"
   ]
  }
 ],
 "metadata": {
  "kernelspec": {
   "display_name": "Python 3 (ipykernel)",
   "language": "python",
   "name": "python3"
  },
  "language_info": {
   "codemirror_mode": {
    "name": "ipython",
    "version": 3
   },
   "file_extension": ".py",
   "mimetype": "text/x-python",
   "name": "python",
   "nbconvert_exporter": "python",
   "pygments_lexer": "ipython3",
   "version": "3.8.8"
  }
 },
 "nbformat": 4,
 "nbformat_minor": 2
}

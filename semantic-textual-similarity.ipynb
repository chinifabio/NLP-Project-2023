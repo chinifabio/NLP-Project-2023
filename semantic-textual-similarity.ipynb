{
 "cells": [
  {
   "cell_type": "markdown",
   "metadata": {},
   "source": [
    "In machine learning, the train-dev-test split is a common technique used to evaluate the performance of a model and prevent overfitting. The dataset is divided into three subsets: the training set, the development (or validation) set, and the test set.\n",
    "\n",
    "The benchmark comprises 8628 sentence pairs. This is the breakdown according to genres and train-dev-test splits:\n",
    "\n",
    "                train  dev test total \n",
    "        -----------------------------\n",
    "        news     3299  500  500  4299\n",
    "        caption  2000  625  525  3250\n",
    "        forum     450  375  254  1079\n",
    "        -----------------------------\n",
    "        total    5749 1500 1379  8628"
   ]
  },
  {
   "cell_type": "code",
   "execution_count": 100,
   "metadata": {},
   "outputs": [
    {
     "name": "stderr",
     "output_type": "stream",
     "text": [
      "[nltk_data] Downloading package punkt to\n",
      "[nltk_data]     C:\\Users\\andre\\AppData\\Roaming\\nltk_data...\n",
      "[nltk_data]   Package punkt is already up-to-date!\n",
      "[nltk_data] Downloading package stopwords to\n",
      "[nltk_data]     C:\\Users\\andre\\AppData\\Roaming\\nltk_data...\n",
      "[nltk_data]   Package stopwords is already up-to-date!\n"
     ]
    },
    {
     "name": "stdout",
     "output_type": "stream",
     "text": [
      "Requirement already satisfied: spacy in c:\\users\\andre\\appdata\\local\\programs\\python\\python38\\lib\\site-packages (3.5.3)\n",
      "Requirement already satisfied: spacy-legacy<3.1.0,>=3.0.11 in c:\\users\\andre\\appdata\\local\\programs\\python\\python38\\lib\\site-packages (from spacy) (3.0.12)\n",
      "Requirement already satisfied: spacy-loggers<2.0.0,>=1.0.0 in c:\\users\\andre\\appdata\\local\\programs\\python\\python38\\lib\\site-packages (from spacy) (1.0.4)\n",
      "Requirement already satisfied: murmurhash<1.1.0,>=0.28.0 in c:\\users\\andre\\appdata\\local\\programs\\python\\python38\\lib\\site-packages (from spacy) (1.0.9)\n",
      "Requirement already satisfied: cymem<2.1.0,>=2.0.2 in c:\\users\\andre\\appdata\\local\\programs\\python\\python38\\lib\\site-packages (from spacy) (2.0.7)\n",
      "Requirement already satisfied: preshed<3.1.0,>=3.0.2 in c:\\users\\andre\\appdata\\local\\programs\\python\\python38\\lib\\site-packages (from spacy) (3.0.8)\n",
      "Requirement already satisfied: thinc<8.2.0,>=8.1.8 in c:\\users\\andre\\appdata\\local\\programs\\python\\python38\\lib\\site-packages (from spacy) (8.1.10)\n",
      "Requirement already satisfied: wasabi<1.2.0,>=0.9.1 in c:\\users\\andre\\appdata\\local\\programs\\python\\python38\\lib\\site-packages (from spacy) (1.1.1)\n",
      "Requirement already satisfied: srsly<3.0.0,>=2.4.3 in c:\\users\\andre\\appdata\\local\\programs\\python\\python38\\lib\\site-packages (from spacy) (2.4.6)\n",
      "Requirement already satisfied: catalogue<2.1.0,>=2.0.6 in c:\\users\\andre\\appdata\\local\\programs\\python\\python38\\lib\\site-packages (from spacy) (2.0.8)\n",
      "Requirement already satisfied: typer<0.8.0,>=0.3.0 in c:\\users\\andre\\appdata\\local\\programs\\python\\python38\\lib\\site-packages (from spacy) (0.7.0)\n",
      "Requirement already satisfied: pathy>=0.10.0 in c:\\users\\andre\\appdata\\local\\programs\\python\\python38\\lib\\site-packages (from spacy) (0.10.1)\n",
      "Requirement already satisfied: smart-open<7.0.0,>=5.2.1 in c:\\users\\andre\\appdata\\local\\programs\\python\\python38\\lib\\site-packages (from spacy) (6.3.0)\n",
      "Requirement already satisfied: tqdm<5.0.0,>=4.38.0 in c:\\users\\andre\\appdata\\local\\programs\\python\\python38\\lib\\site-packages (from spacy) (4.65.0)\n",
      "Requirement already satisfied: numpy>=1.15.0 in c:\\users\\andre\\appdata\\local\\programs\\python\\python38\\lib\\site-packages (from spacy) (1.24.2)\n",
      "Requirement already satisfied: requests<3.0.0,>=2.13.0 in c:\\users\\andre\\appdata\\local\\programs\\python\\python38\\lib\\site-packages (from spacy) (2.28.2)\n",
      "Requirement already satisfied: pydantic!=1.8,!=1.8.1,<1.11.0,>=1.7.4 in c:\\users\\andre\\appdata\\local\\programs\\python\\python38\\lib\\site-packages (from spacy) (1.10.7)\n",
      "Requirement already satisfied: jinja2 in c:\\users\\andre\\appdata\\local\\programs\\python\\python38\\lib\\site-packages (from spacy) (3.1.2)\n",
      "Requirement already satisfied: setuptools in c:\\users\\andre\\appdata\\local\\programs\\python\\python38\\lib\\site-packages (from spacy) (49.2.1)\n",
      "Requirement already satisfied: packaging>=20.0 in c:\\users\\andre\\appdata\\local\\programs\\python\\python38\\lib\\site-packages (from spacy) (23.0)\n",
      "Requirement already satisfied: langcodes<4.0.0,>=3.2.0 in c:\\users\\andre\\appdata\\local\\programs\\python\\python38\\lib\\site-packages (from spacy) (3.3.0)\n",
      "Requirement already satisfied: typing-extensions>=4.2.0 in c:\\users\\andre\\appdata\\local\\programs\\python\\python38\\lib\\site-packages (from pydantic!=1.8,!=1.8.1,<1.11.0,>=1.7.4->spacy) (4.5.0)\n",
      "Requirement already satisfied: charset-normalizer<4,>=2 in c:\\users\\andre\\appdata\\local\\programs\\python\\python38\\lib\\site-packages (from requests<3.0.0,>=2.13.0->spacy) (3.1.0)\n",
      "Requirement already satisfied: idna<4,>=2.5 in c:\\users\\andre\\appdata\\local\\programs\\python\\python38\\lib\\site-packages (from requests<3.0.0,>=2.13.0->spacy) (3.4)\n",
      "Requirement already satisfied: urllib3<1.27,>=1.21.1 in c:\\users\\andre\\appdata\\local\\programs\\python\\python38\\lib\\site-packages (from requests<3.0.0,>=2.13.0->spacy) (1.26.15)\n",
      "Requirement already satisfied: certifi>=2017.4.17 in c:\\users\\andre\\appdata\\local\\programs\\python\\python38\\lib\\site-packages (from requests<3.0.0,>=2.13.0->spacy) (2022.12.7)\n",
      "Requirement already satisfied: blis<0.8.0,>=0.7.8 in c:\\users\\andre\\appdata\\local\\programs\\python\\python38\\lib\\site-packages (from thinc<8.2.0,>=8.1.8->spacy) (0.7.9)\n",
      "Requirement already satisfied: confection<1.0.0,>=0.0.1 in c:\\users\\andre\\appdata\\local\\programs\\python\\python38\\lib\\site-packages (from thinc<8.2.0,>=8.1.8->spacy) (0.0.4)\n",
      "Requirement already satisfied: colorama in c:\\users\\andre\\appdata\\local\\programs\\python\\python38\\lib\\site-packages (from tqdm<5.0.0,>=4.38.0->spacy) (0.4.6)\n",
      "Requirement already satisfied: click<9.0.0,>=7.1.1 in c:\\users\\andre\\appdata\\local\\programs\\python\\python38\\lib\\site-packages (from typer<0.8.0,>=0.3.0->spacy) (8.1.3)\n",
      "Requirement already satisfied: MarkupSafe>=2.0 in c:\\users\\andre\\appdata\\local\\programs\\python\\python38\\lib\\site-packages (from jinja2->spacy) (2.1.2)\n",
      "Collecting en-core-web-sm==3.5.0\n",
      "  Downloading https://github.com/explosion/spacy-models/releases/download/en_core_web_sm-3.5.0/en_core_web_sm-3.5.0-py3-none-any.whl (12.8 MB)\n",
      "                                              0.0/12.8 MB ? eta -:--:--\n",
      "     -                                        0.5/12.8 MB 10.5 MB/s eta 0:00:02\n",
      "     ----                                     1.5/12.8 MB 15.6 MB/s eta 0:00:01\n",
      "     --------                                 2.6/12.8 MB 18.5 MB/s eta 0:00:01\n",
      "     --------------                           4.6/12.8 MB 24.3 MB/s eta 0:00:01\n",
      "     ----------------------                   7.2/12.8 MB 30.9 MB/s eta 0:00:01\n",
      "     -----------------------------            9.6/12.8 MB 34.0 MB/s eta 0:00:01\n",
      "     --------------------------------------  12.8/12.8 MB 54.4 MB/s eta 0:00:01\n",
      "     --------------------------------------- 12.8/12.8 MB 43.7 MB/s eta 0:00:00\n",
      "Requirement already satisfied: spacy<3.6.0,>=3.5.0 in c:\\users\\andre\\appdata\\local\\programs\\python\\python38\\lib\\site-packages (from en-core-web-sm==3.5.0) (3.5.3)\n",
      "Requirement already satisfied: spacy-legacy<3.1.0,>=3.0.11 in c:\\users\\andre\\appdata\\local\\programs\\python\\python38\\lib\\site-packages (from spacy<3.6.0,>=3.5.0->en-core-web-sm==3.5.0) (3.0.12)\n",
      "Requirement already satisfied: spacy-loggers<2.0.0,>=1.0.0 in c:\\users\\andre\\appdata\\local\\programs\\python\\python38\\lib\\site-packages (from spacy<3.6.0,>=3.5.0->en-core-web-sm==3.5.0) (1.0.4)\n",
      "Requirement already satisfied: murmurhash<1.1.0,>=0.28.0 in c:\\users\\andre\\appdata\\local\\programs\\python\\python38\\lib\\site-packages (from spacy<3.6.0,>=3.5.0->en-core-web-sm==3.5.0) (1.0.9)\n",
      "Requirement already satisfied: cymem<2.1.0,>=2.0.2 in c:\\users\\andre\\appdata\\local\\programs\\python\\python38\\lib\\site-packages (from spacy<3.6.0,>=3.5.0->en-core-web-sm==3.5.0) (2.0.7)\n",
      "Requirement already satisfied: preshed<3.1.0,>=3.0.2 in c:\\users\\andre\\appdata\\local\\programs\\python\\python38\\lib\\site-packages (from spacy<3.6.0,>=3.5.0->en-core-web-sm==3.5.0) (3.0.8)\n",
      "Requirement already satisfied: thinc<8.2.0,>=8.1.8 in c:\\users\\andre\\appdata\\local\\programs\\python\\python38\\lib\\site-packages (from spacy<3.6.0,>=3.5.0->en-core-web-sm==3.5.0) (8.1.10)\n",
      "Requirement already satisfied: wasabi<1.2.0,>=0.9.1 in c:\\users\\andre\\appdata\\local\\programs\\python\\python38\\lib\\site-packages (from spacy<3.6.0,>=3.5.0->en-core-web-sm==3.5.0) (1.1.1)\n",
      "Requirement already satisfied: srsly<3.0.0,>=2.4.3 in c:\\users\\andre\\appdata\\local\\programs\\python\\python38\\lib\\site-packages (from spacy<3.6.0,>=3.5.0->en-core-web-sm==3.5.0) (2.4.6)\n",
      "Requirement already satisfied: catalogue<2.1.0,>=2.0.6 in c:\\users\\andre\\appdata\\local\\programs\\python\\python38\\lib\\site-packages (from spacy<3.6.0,>=3.5.0->en-core-web-sm==3.5.0) (2.0.8)\n",
      "Requirement already satisfied: typer<0.8.0,>=0.3.0 in c:\\users\\andre\\appdata\\local\\programs\\python\\python38\\lib\\site-packages (from spacy<3.6.0,>=3.5.0->en-core-web-sm==3.5.0) (0.7.0)\n",
      "Requirement already satisfied: pathy>=0.10.0 in c:\\users\\andre\\appdata\\local\\programs\\python\\python38\\lib\\site-packages (from spacy<3.6.0,>=3.5.0->en-core-web-sm==3.5.0) (0.10.1)\n",
      "Requirement already satisfied: smart-open<7.0.0,>=5.2.1 in c:\\users\\andre\\appdata\\local\\programs\\python\\python38\\lib\\site-packages (from spacy<3.6.0,>=3.5.0->en-core-web-sm==3.5.0) (6.3.0)\n",
      "Requirement already satisfied: tqdm<5.0.0,>=4.38.0 in c:\\users\\andre\\appdata\\local\\programs\\python\\python38\\lib\\site-packages (from spacy<3.6.0,>=3.5.0->en-core-web-sm==3.5.0) (4.65.0)\n",
      "Requirement already satisfied: numpy>=1.15.0 in c:\\users\\andre\\appdata\\local\\programs\\python\\python38\\lib\\site-packages (from spacy<3.6.0,>=3.5.0->en-core-web-sm==3.5.0) (1.24.2)\n",
      "Requirement already satisfied: requests<3.0.0,>=2.13.0 in c:\\users\\andre\\appdata\\local\\programs\\python\\python38\\lib\\site-packages (from spacy<3.6.0,>=3.5.0->en-core-web-sm==3.5.0) (2.28.2)\n",
      "Requirement already satisfied: pydantic!=1.8,!=1.8.1,<1.11.0,>=1.7.4 in c:\\users\\andre\\appdata\\local\\programs\\python\\python38\\lib\\site-packages (from spacy<3.6.0,>=3.5.0->en-core-web-sm==3.5.0) (1.10.7)\n",
      "Requirement already satisfied: jinja2 in c:\\users\\andre\\appdata\\local\\programs\\python\\python38\\lib\\site-packages (from spacy<3.6.0,>=3.5.0->en-core-web-sm==3.5.0) (3.1.2)\n",
      "Requirement already satisfied: setuptools in c:\\users\\andre\\appdata\\local\\programs\\python\\python38\\lib\\site-packages (from spacy<3.6.0,>=3.5.0->en-core-web-sm==3.5.0) (49.2.1)\n",
      "Requirement already satisfied: packaging>=20.0 in c:\\users\\andre\\appdata\\local\\programs\\python\\python38\\lib\\site-packages (from spacy<3.6.0,>=3.5.0->en-core-web-sm==3.5.0) (23.0)\n",
      "Requirement already satisfied: langcodes<4.0.0,>=3.2.0 in c:\\users\\andre\\appdata\\local\\programs\\python\\python38\\lib\\site-packages (from spacy<3.6.0,>=3.5.0->en-core-web-sm==3.5.0) (3.3.0)\n",
      "Requirement already satisfied: typing-extensions>=4.2.0 in c:\\users\\andre\\appdata\\local\\programs\\python\\python38\\lib\\site-packages (from pydantic!=1.8,!=1.8.1,<1.11.0,>=1.7.4->spacy<3.6.0,>=3.5.0->en-core-web-sm==3.5.0) (4.5.0)\n",
      "Requirement already satisfied: charset-normalizer<4,>=2 in c:\\users\\andre\\appdata\\local\\programs\\python\\python38\\lib\\site-packages (from requests<3.0.0,>=2.13.0->spacy<3.6.0,>=3.5.0->en-core-web-sm==3.5.0) (3.1.0)\n",
      "Requirement already satisfied: idna<4,>=2.5 in c:\\users\\andre\\appdata\\local\\programs\\python\\python38\\lib\\site-packages (from requests<3.0.0,>=2.13.0->spacy<3.6.0,>=3.5.0->en-core-web-sm==3.5.0) (3.4)\n",
      "Requirement already satisfied: urllib3<1.27,>=1.21.1 in c:\\users\\andre\\appdata\\local\\programs\\python\\python38\\lib\\site-packages (from requests<3.0.0,>=2.13.0->spacy<3.6.0,>=3.5.0->en-core-web-sm==3.5.0) (1.26.15)\n",
      "Requirement already satisfied: certifi>=2017.4.17 in c:\\users\\andre\\appdata\\local\\programs\\python\\python38\\lib\\site-packages (from requests<3.0.0,>=2.13.0->spacy<3.6.0,>=3.5.0->en-core-web-sm==3.5.0) (2022.12.7)\n",
      "Requirement already satisfied: blis<0.8.0,>=0.7.8 in c:\\users\\andre\\appdata\\local\\programs\\python\\python38\\lib\\site-packages (from thinc<8.2.0,>=8.1.8->spacy<3.6.0,>=3.5.0->en-core-web-sm==3.5.0) (0.7.9)\n",
      "Requirement already satisfied: confection<1.0.0,>=0.0.1 in c:\\users\\andre\\appdata\\local\\programs\\python\\python38\\lib\\site-packages (from thinc<8.2.0,>=8.1.8->spacy<3.6.0,>=3.5.0->en-core-web-sm==3.5.0) (0.0.4)\n",
      "Requirement already satisfied: colorama in c:\\users\\andre\\appdata\\local\\programs\\python\\python38\\lib\\site-packages (from tqdm<5.0.0,>=4.38.0->spacy<3.6.0,>=3.5.0->en-core-web-sm==3.5.0) (0.4.6)\n",
      "Requirement already satisfied: click<9.0.0,>=7.1.1 in c:\\users\\andre\\appdata\\local\\programs\\python\\python38\\lib\\site-packages (from typer<0.8.0,>=0.3.0->spacy<3.6.0,>=3.5.0->en-core-web-sm==3.5.0) (8.1.3)\n",
      "Requirement already satisfied: MarkupSafe>=2.0 in c:\\users\\andre\\appdata\\local\\programs\\python\\python38\\lib\\site-packages (from jinja2->spacy<3.6.0,>=3.5.0->en-core-web-sm==3.5.0) (2.1.2)\n",
      "\u001b[38;5;2m✔ Download and installation successful\u001b[0m\n",
      "You can now load the package via spacy.load('en_core_web_sm')\n"
     ]
    }
   ],
   "source": [
    "import pandas as pd\n",
    "import numpy as np\n",
    "import nltk\n",
    "nltk.download(\"punkt\")\n",
    "nltk.download('stopwords')\n",
    "from nltk.corpus import stopwords\n",
    "from nltk.tokenize import word_tokenize\n",
    "from string import punctuation\n",
    "import matplotlib.pyplot as plt\n",
    "import re\n",
    "from tqdm import tqdm\n",
    "from unidecode import unidecode\n",
    "!pip install -U spacy\n",
    "import spacy\n",
    "import sys\n",
    "!{sys.executable} -m spacy download en_core_web_sm\n",
    "spacy_nlp = spacy.load('en_core_web_sm', disable=['parser', 'ner'])"
   ]
  },
  {
   "cell_type": "code",
   "execution_count": 3,
   "metadata": {},
   "outputs": [
    {
     "name": "stdout",
     "output_type": "stream",
     "text": [
      "shape of the Dataframe (5749, 7)\n"
     ]
    },
    {
     "data": {
      "text/html": [
       "<div>\n",
       "<style scoped>\n",
       "    .dataframe tbody tr th:only-of-type {\n",
       "        vertical-align: middle;\n",
       "    }\n",
       "\n",
       "    .dataframe tbody tr th {\n",
       "        vertical-align: top;\n",
       "    }\n",
       "\n",
       "    .dataframe thead th {\n",
       "        text-align: right;\n",
       "    }\n",
       "</style>\n",
       "<table border=\"1\" class=\"dataframe\">\n",
       "  <thead>\n",
       "    <tr style=\"text-align: right;\">\n",
       "      <th></th>\n",
       "      <th>genre</th>\n",
       "      <th>filename</th>\n",
       "      <th>year</th>\n",
       "      <th>index</th>\n",
       "      <th>score</th>\n",
       "      <th>sentence1</th>\n",
       "      <th>sentence2</th>\n",
       "    </tr>\n",
       "  </thead>\n",
       "  <tbody>\n",
       "    <tr>\n",
       "      <th>0</th>\n",
       "      <td>main-captions</td>\n",
       "      <td>MSRvid</td>\n",
       "      <td>2012test</td>\n",
       "      <td>1</td>\n",
       "      <td>5.00</td>\n",
       "      <td>A plane is taking off.</td>\n",
       "      <td>An air plane is taking off.</td>\n",
       "    </tr>\n",
       "    <tr>\n",
       "      <th>1</th>\n",
       "      <td>main-captions</td>\n",
       "      <td>MSRvid</td>\n",
       "      <td>2012test</td>\n",
       "      <td>4</td>\n",
       "      <td>3.80</td>\n",
       "      <td>A man is playing a large flute.</td>\n",
       "      <td>A man is playing a flute.</td>\n",
       "    </tr>\n",
       "    <tr>\n",
       "      <th>2</th>\n",
       "      <td>main-captions</td>\n",
       "      <td>MSRvid</td>\n",
       "      <td>2012test</td>\n",
       "      <td>5</td>\n",
       "      <td>3.80</td>\n",
       "      <td>A man is spreading shreded cheese on a pizza.</td>\n",
       "      <td>A man is spreading shredded cheese on an uncoo...</td>\n",
       "    </tr>\n",
       "    <tr>\n",
       "      <th>3</th>\n",
       "      <td>main-captions</td>\n",
       "      <td>MSRvid</td>\n",
       "      <td>2012test</td>\n",
       "      <td>6</td>\n",
       "      <td>2.60</td>\n",
       "      <td>Three men are playing chess.</td>\n",
       "      <td>Two men are playing chess.</td>\n",
       "    </tr>\n",
       "    <tr>\n",
       "      <th>4</th>\n",
       "      <td>main-captions</td>\n",
       "      <td>MSRvid</td>\n",
       "      <td>2012test</td>\n",
       "      <td>9</td>\n",
       "      <td>4.25</td>\n",
       "      <td>A man is playing the cello.</td>\n",
       "      <td>A man seated is playing the cello.</td>\n",
       "    </tr>\n",
       "    <tr>\n",
       "      <th>5</th>\n",
       "      <td>main-captions</td>\n",
       "      <td>MSRvid</td>\n",
       "      <td>2012test</td>\n",
       "      <td>11</td>\n",
       "      <td>4.25</td>\n",
       "      <td>Some men are fighting.</td>\n",
       "      <td>Two men are fighting.</td>\n",
       "    </tr>\n",
       "    <tr>\n",
       "      <th>6</th>\n",
       "      <td>main-captions</td>\n",
       "      <td>MSRvid</td>\n",
       "      <td>2012test</td>\n",
       "      <td>12</td>\n",
       "      <td>0.50</td>\n",
       "      <td>A man is smoking.</td>\n",
       "      <td>A man is skating.</td>\n",
       "    </tr>\n",
       "    <tr>\n",
       "      <th>7</th>\n",
       "      <td>main-captions</td>\n",
       "      <td>MSRvid</td>\n",
       "      <td>2012test</td>\n",
       "      <td>13</td>\n",
       "      <td>1.60</td>\n",
       "      <td>The man is playing the piano.</td>\n",
       "      <td>The man is playing the guitar.</td>\n",
       "    </tr>\n",
       "    <tr>\n",
       "      <th>8</th>\n",
       "      <td>main-captions</td>\n",
       "      <td>MSRvid</td>\n",
       "      <td>2012test</td>\n",
       "      <td>14</td>\n",
       "      <td>2.20</td>\n",
       "      <td>A man is playing on a guitar and singing.</td>\n",
       "      <td>A woman is playing an acoustic guitar and sing...</td>\n",
       "    </tr>\n",
       "    <tr>\n",
       "      <th>9</th>\n",
       "      <td>main-captions</td>\n",
       "      <td>MSRvid</td>\n",
       "      <td>2012test</td>\n",
       "      <td>16</td>\n",
       "      <td>5.00</td>\n",
       "      <td>A person is throwing a cat on to the ceiling.</td>\n",
       "      <td>A person throws a cat on the ceiling.</td>\n",
       "    </tr>\n",
       "  </tbody>\n",
       "</table>\n",
       "</div>"
      ],
      "text/plain": [
       "           genre filename      year  index  score   \n",
       "0  main-captions   MSRvid  2012test      1   5.00  \\\n",
       "1  main-captions   MSRvid  2012test      4   3.80   \n",
       "2  main-captions   MSRvid  2012test      5   3.80   \n",
       "3  main-captions   MSRvid  2012test      6   2.60   \n",
       "4  main-captions   MSRvid  2012test      9   4.25   \n",
       "5  main-captions   MSRvid  2012test     11   4.25   \n",
       "6  main-captions   MSRvid  2012test     12   0.50   \n",
       "7  main-captions   MSRvid  2012test     13   1.60   \n",
       "8  main-captions   MSRvid  2012test     14   2.20   \n",
       "9  main-captions   MSRvid  2012test     16   5.00   \n",
       "\n",
       "                                       sentence1   \n",
       "0                         A plane is taking off.  \\\n",
       "1                A man is playing a large flute.   \n",
       "2  A man is spreading shreded cheese on a pizza.   \n",
       "3                   Three men are playing chess.   \n",
       "4                    A man is playing the cello.   \n",
       "5                         Some men are fighting.   \n",
       "6                              A man is smoking.   \n",
       "7                  The man is playing the piano.   \n",
       "8      A man is playing on a guitar and singing.   \n",
       "9  A person is throwing a cat on to the ceiling.   \n",
       "\n",
       "                                           sentence2  \n",
       "0                        An air plane is taking off.  \n",
       "1                          A man is playing a flute.  \n",
       "2  A man is spreading shredded cheese on an uncoo...  \n",
       "3                         Two men are playing chess.  \n",
       "4                 A man seated is playing the cello.  \n",
       "5                              Two men are fighting.  \n",
       "6                                  A man is skating.  \n",
       "7                     The man is playing the guitar.  \n",
       "8  A woman is playing an acoustic guitar and sing...  \n",
       "9              A person throws a cat on the ceiling.  "
      ]
     },
     "execution_count": 3,
     "metadata": {},
     "output_type": "execute_result"
    }
   ],
   "source": [
    "def on_bad_line(values):\n",
    "    return values[:7]\n",
    "\n",
    "columns_mapping = {\n",
    "    0: 'genre',\n",
    "    1: 'filename',\n",
    "    2: 'year',\n",
    "    3: 'index',\n",
    "    4: 'score',\n",
    "    5: 'sentence1',\n",
    "    6: 'sentence2'\n",
    "}\n",
    "\n",
    "# quotings 3 = csv.QUOTE_NONE\n",
    "df = pd.read_csv('Dataset/sts-train.csv', sep=\"\\t\", on_bad_lines=on_bad_line, engine='python', header=None, encoding='utf-8', quoting=3).rename(columns=columns_mapping)\n",
    "print(f'shape of the Dataframe {df.shape}')\n",
    "df.head(10)"
   ]
  },
  {
   "cell_type": "code",
   "execution_count": 4,
   "metadata": {},
   "outputs": [
    {
     "name": "stdout",
     "output_type": "stream",
     "text": [
      "Total number of sentences: 10566\n"
     ]
    }
   ],
   "source": [
    "sentences1 = df[\"sentence1\"]\n",
    "sentences2 = df[\"sentence2\"]\n",
    "sentences_list = np.unique(np.concatenate((np.ravel(sentences1.values),np.ravel(sentences2.values))))\n",
    "\n",
    "print(f\"Total number of sentences: {len(sentences_list)}\")"
   ]
  },
  {
   "cell_type": "code",
   "execution_count": 101,
   "metadata": {},
   "outputs": [
    {
     "name": "stdout",
     "output_type": "stream",
     "text": [
      "[' - Income, top rate:  percent.' ' Foxe was mostly frozen.'\n",
      " \" billion . Everyone in the world at Mexico's current prosperity level.\"\n",
      " ' warmed.C from the year prior.'\n",
      " '\"Americans don\\'t cut and run, we have to see this misadventure through,\" she said.']\n",
      "['income top rate percent' 'foxe mostly frozen'\n",
      " 'billion everyone world mexicos current prosperity level'\n",
      " 'warmedc year prior' 'americans dont cut run see misadventure said']\n",
      "['income top rate percent' 'foxe mostly frozen'\n",
      " 'billion everyone world mexicos current prosperity level'\n",
      " 'warmedc year prior' 'americans do not cut run see misadventure say']\n"
     ]
    }
   ],
   "source": [
    "def remove_special_chars(text):\n",
    "    regex = '[' + punctuation + ']'\n",
    "    return re.sub(regex,'',unidecode(text)).lower()\n",
    "\n",
    "def remove_stop_words(text):\n",
    "    stop_words = stopwords.words('english')\n",
    "    return ' '.join([word for word in text.split() if word not in stop_words])\n",
    "\n",
    "def lemmatize(text):\n",
    "    parsed_sentence = spacy_nlp(str(text))\n",
    "    lemmatized_sentence = ' '.join([word.lemma_ for word in parsed_sentence])\n",
    "    return lemmatized_sentence\n",
    "\n",
    "#TODO mostrare differenze tra originale e lemmatizzazione\n",
    "\n",
    "\n",
    "no_punct_sentences_list = np.array([remove_special_chars(string) for string in sentences_list])\n",
    "clean_sentences_list = np.array([remove_stop_words(string) for string in no_punct_sentences_list])\n",
    "lemmatized_sentences_list = np.array([lemmatize(sentence) for sentence in clean_sentences_list])\n",
    "\n",
    "\n",
    "print(sentences_list[:5])\n",
    "print(clean_sentences_list[:5])\n",
    "print(lemmatized_sentences_list[:5])"
   ]
  },
  {
   "cell_type": "code",
   "execution_count": 6,
   "metadata": {},
   "outputs": [
    {
     "name": "stdout",
     "output_type": "stream",
     "text": [
      "Mean length of sentences in characters: 59.37\n"
     ]
    }
   ],
   "source": [
    "array_len = np.vectorize(len)(sentences_list)\n",
    "mean_len = np.mean(array_len)\n",
    "print(f\"Mean length of sentences in characters: {mean_len:.2f}\")"
   ]
  },
  {
   "cell_type": "code",
   "execution_count": 7,
   "metadata": {},
   "outputs": [
    {
     "name": "stdout",
     "output_type": "stream",
     "text": [
      "Maximum sentence length: 56\n",
      "Minimum sentence length: 2\n",
      "Mean length of sentences in words: 10.17\n"
     ]
    },
    {
     "data": {
      "image/png": "[encoded data removed]",
      "text/plain": [
       "<Figure size 640x480 with 1 Axes>"
      ]
     },
     "metadata": {},
     "output_type": "display_data"
    }
   ],
   "source": [
    "arr_words = np.array([len(s.split()) for s in sentences_list])\n",
    "\n",
    "print(f\"Maximum sentence length: {np.max(arr_words)}\")\n",
    "print(f\"Minimum sentence length: {np.min(arr_words)}\")\n",
    "\n",
    "mean_sentences_length = np.mean(arr_words);\n",
    "print(f\"Mean length of sentences in words: {mean_sentences_length:.2f}\")\n",
    "\n",
    "unique, counts = np.unique(arr_words, return_counts=True)\n",
    "\n",
    "plt.bar(unique, counts)\n",
    "\n",
    "plt.axvline(x=mean_sentences_length, color='r', linestyle='--')\n",
    "\n",
    "plt.xlabel(\"Sentence length\")\n",
    "plt.ylabel(\"Occurrencies\")\n",
    "plt.title(\"Occurencies per sentence length\")\n",
    "\n",
    "\n",
    "plt.show()"
   ]
  },
  {
   "cell_type": "code",
   "execution_count": 8,
   "metadata": {},
   "outputs": [
    {
     "data": {
      "text/plain": [
       "[('man', 853),\n",
       " ('woman', 547),\n",
       " ('two', 458),\n",
       " ('said', 455),\n",
       " ('dog', 418),\n",
       " ('us', 402),\n",
       " ('white', 282),\n",
       " ('killed', 265),\n",
       " ('black', 258),\n",
       " ('playing', 254),\n",
       " ('percent', 253),\n",
       " ('new', 238),\n",
       " ('people', 217),\n",
       " ('syria', 211),\n",
       " ('china', 191),\n",
       " ('police', 173),\n",
       " ('running', 170),\n",
       " ('president', 168),\n",
       " ('person', 161),\n",
       " ('water', 156)]"
      ]
     },
     "execution_count": 8,
     "metadata": {},
     "output_type": "execute_result"
    }
   ],
   "source": [
    "words_with_duplicates = [word for string in no_punct_sentences_list for word in word_tokenize(string)]\n",
    "words_nostopwords = [w for w in words_with_duplicates if w not in stopwords.words('english')]\n",
    "counts_nostopwords = nltk.Counter(words_nostopwords)\n",
    "counts_nostopwords.most_common(20)"
   ]
  },
  {
   "cell_type": "code",
   "execution_count": 9,
   "metadata": {},
   "outputs": [
    {
     "name": "stdout",
     "output_type": "stream",
     "text": [
      "12243\n",
      "['0' '004' '005' ... 'zubaidi' 'zuccarini' 'zuma']\n"
     ]
    }
   ],
   "source": [
    "vocabulary = np.unique(words_nostopwords)\n",
    "print(len(vocabulary))\n",
    "print(vocabulary)"
   ]
  },
  {
   "cell_type": "code",
   "execution_count": 10,
   "metadata": {},
   "outputs": [
    {
     "name": "stdout",
     "output_type": "stream",
     "text": [
      "Mean scores of sentence similarity: 2.70\n"
     ]
    },
    {
     "data": {
      "image/png": "[encoded data removed]",
      "text/plain": [
       "<Figure size 640x480 with 1 Axes>"
      ]
     },
     "metadata": {},
     "output_type": "display_data"
    }
   ],
   "source": [
    "tot_scores = df[\"score\"]\n",
    "scores = np.ravel(tot_scores.values)\n",
    "\n",
    "mean_scores = np.mean(scores);\n",
    "print(f\"Mean scores of sentence similarity: {mean_scores:.2f}\")\n",
    "\n",
    "plt.hist(scores, bins=35, alpha=0.5, color='blue', rwidth=0.7)\n",
    "\n",
    "plt.axvline(x=mean_scores, color='r', linestyle='--')\n",
    "\n",
    "plt.xlabel(\"Score\")\n",
    "plt.ylabel(\"Occurrencies\")\n",
    "plt.title(\"Scores occurrencies\")\n",
    "\n",
    "plt.show()"
   ]
  },
  {
   "cell_type": "markdown",
   "metadata": {},
   "source": [
    "## Text Clustering"
   ]
  },
  {
   "cell_type": "code",
   "execution_count": 11,
   "metadata": {},
   "outputs": [],
   "source": [
    "from sklearn.metrics.pairwise import cosine_similarity\n",
    "from sklearn.cluster import KMeans\n",
    "from sklearn.feature_extraction.text import TfidfVectorizer"
   ]
  },
  {
   "cell_type": "code",
   "execution_count": 105,
   "metadata": {},
   "outputs": [
    {
     "name": "stdout",
     "output_type": "stream",
     "text": [
      "(10566, 9859)\n",
      "['004' '005' '006' ... 'zubaidi' 'zuccarini' 'zuma']\n"
     ]
    }
   ],
   "source": [
    "# creazione della matrice di similarità\n",
    "tfidf = TfidfVectorizer(max_df=0.8, min_df=0, stop_words='english', strip_accents='ascii')\n",
    "tfidf_matrix = tfidf.fit_transform(lemmatized_sentences_list)\n",
    "vocab = tfidf.get_feature_names_out()\n",
    "\n",
    "print(tfidf_matrix.shape)\n",
    "print(vocab)"
   ]
  },
  {
   "cell_type": "code",
   "execution_count": 103,
   "metadata": {},
   "outputs": [
    {
     "name": "stdout",
     "output_type": "stream",
     "text": [
      "The word dog is present in 406 documents. Here's the first 5:\n",
      "1. a baby is playing with a dog\n",
      "2. a baby plays with a dog and ball\n",
      "3. a black and a brown dog running in the grass\n",
      "4. a black and a yellow dog\n",
      "5. a black and brown dog runs through the woods\n"
     ]
    }
   ],
   "source": [
    "word = 'dog'\n",
    "word_id = tfidf.transform([word]).nonzero()[1]\n",
    "filter = tfidf_matrix.getcol(word_id).nonzero()[0]\n",
    "print(f'The word {word} is present in {len(filter)} documents. Here\\'s the first 5:')\n",
    "for idx, text in enumerate(no_punct_sentences_list[filter][:5]):\n",
    "    print(str(idx + 1) + '.' , text)"
   ]
  },
  {
   "cell_type": "code",
   "execution_count": 116,
   "metadata": {},
   "outputs": [
    {
     "name": "stdout",
     "output_type": "stream",
     "text": [
      "[[1.07930668 1.00020785 1.03405888 ... 1.08315897 1.13443707 1.09185175]\n",
      " [1.07930668 1.00078822 1.03442404 ... 1.08315897 1.13443707 1.09185175]\n",
      " [1.07930668 0.99869969 1.0339243  ... 1.08079966 1.13443707 1.09185175]\n",
      " ...\n",
      " [1.07930668 0.99707012 1.03128151 ... 1.08258291 1.13443707 1.09185175]\n",
      " [1.07527498 0.99493449 1.02771305 ... 1.0800714  1.13443707 1.09185175]\n",
      " [1.07930668 1.00020887 1.03365156 ... 1.08255373 1.13443707 1.09085456]]\n",
      "[12  1  1 ...  1  1 16]\n"
     ]
    },
    {
     "data": {
      "image/png": "[encoded data removed]",
      "text/plain": [
       "<Figure size 640x480 with 1 Axes>"
      ]
     },
     "metadata": {},
     "output_type": "display_data"
    }
   ],
   "source": [
    "#TODO remove\n",
    "k = 30\n",
    "kmeans = KMeans(n_clusters=k, n_init=10, random_state=42)\n",
    "cluster_matrix = kmeans.fit_transform(tfidf_matrix)\n",
    "print(cluster_matrix)\n",
    "clusters = np.argmin(cluster_matrix, axis=-1)\n",
    "print(clusters)\n",
    "\n",
    "uniques, counts = np.unique(clusters, return_counts=True)\n",
    "plt.bar(uniques, counts)\n",
    "plt.xlabel('Cluster Number')\n",
    "plt.ylabel('Sentences')\n",
    "plt.xticks(uniques, rotation=90)\n",
    "plt.title('Samples per class')\n",
    "plt.show()"
   ]
  },
  {
   "attachments": {},
   "cell_type": "markdown",
   "metadata": {},
   "source": [
    "As we can see there is a very large cluster that might correspond to more common terms across the corpus. The other clusters though look well distributed"
   ]
  },
  {
   "cell_type": "code",
   "execution_count": 109,
   "metadata": {},
   "outputs": [
    {
     "name": "stdout",
     "output_type": "stream",
     "text": [
      "Top terms per cluster:\n",
      "Cluster 0:\t['catch', 'river', 'dog', 'jump', 'ball']\n",
      "Cluster 1:\t['people', 'china', 'new', 'iran', 'year']\n",
      "Cluster 2:\t['president', 'vote', 'visit', 'swear', 'new']\n",
      "Cluster 3:\t['syrian', 'rebel', 'opposition', 'turkey', 'refugee']\n",
      "Cluster 4:\t['white', 'black', 'cat', 'photo', 'dog']\n",
      "Cluster 5:\t['stand', 'man', 'field', 'woman', 'sheep']\n",
      "Cluster 6:\t['woman', 'slice', 'cut', 'man', 'meat']\n",
      "Cluster 7:\t['run', 'dog', 'grass', 'white', 'brown']\n",
      "Cluster 8:\t['syria', 'chemical', 'weapon', 'use', 'opposition']\n",
      "Cluster 9:\t['arrest', 'palestinian', 'israeli', 'prisoner', 'israel']\n",
      "Cluster 10:\t['kill', 'attack', 'afghanistan', 'soldier', 'suicide']\n",
      "Cluster 11:\t['say', 'official', 'mr', 'state', 'police']\n",
      "Cluster 12:\t['percent', 'point', 'share', 'index', 'nasdaq']\n",
      "Cluster 13:\t['girl', 'little', 'young', 'wear', 'swing']\n",
      "Cluster 14:\t['russia', 'treaty', 'ukraine', 'europe', 'cfe']\n",
      "Cluster 15:\t['sit', 'table', 'people', 'man', 'woman']\n",
      "Cluster 16:\t['pakistan', 'dead', 'kill', 'drone', 'strike']\n",
      "Cluster 17:\t['government', 'case', 'claim', 'nuclear', 'new']\n",
      "Cluster 18:\t['egypt', 'brotherhood', 'muslim', 'morsi', 'supporter']\n",
      "Cluster 19:\t['stock', 'close', 'high', 'low', 'open']\n",
      "Cluster 20:\t['korea', 'north', 'south', 'nuclear', 'missile']\n",
      "Cluster 21:\t['dog', 'snow', 'play', 'brown', 'walk']\n",
      "Cluster 22:\t['person', 'slice', 'cut', 'piece', 'onion']\n",
      "Cluster 23:\t['man', 'slice', 'cut', 'walk', 'water']\n",
      "Cluster 24:\t['obama', 'meet', 'romney', 'syria', 'mandela']\n",
      "Cluster 25:\t['play', 'man', 'guitar', 'piano', 'flute']\n",
      "Cluster 26:\t['die', 'mandela', 'hospital', 'nelson', 'south']\n",
      "Cluster 27:\t['death', 'toll', 'rise', 'penalty', 'bangladesh']\n",
      "Cluster 28:\t['ride', 'horse', 'man', 'woman', 'motorcycle']\n",
      "Cluster 29:\t['boy', 'play', 'young', 'little', 'beach']\n"
     ]
    }
   ],
   "source": [
    "print(\"Top terms per cluster:\")\n",
    "\n",
    "for i in range(kmeans.n_clusters):\n",
    "    centroid = kmeans.cluster_centers_[i]    \n",
    "    sorted_terms = centroid.argsort()[::-1]\n",
    "    print(f\"Cluster {i}:\\t{[vocab[j] for j in sorted_terms[:5]]}\")"
   ]
  },
  {
   "cell_type": "code",
   "execution_count": 138,
   "metadata": {},
   "outputs": [
    {
     "data": {
      "image/png": "[encoded data removed]",
      "text/plain": [
       "<Figure size 640x480 with 2 Axes>"
      ]
     },
     "metadata": {},
     "output_type": "display_data"
    }
   ],
   "source": [
    "# visualize the clusters using manifold learning\n",
    "from sklearn.manifold import TSNE\n",
    "from matplotlib import ticker\n",
    "\n",
    "tsne = TSNE(n_components=2, random_state=42)\n",
    "X_tsne = tsne.fit_transform(tfidf_matrix.toarray()[::10])\n",
    "# plot the clusters printng the color scale\n",
    "plt.scatter(X_tsne[:, 0], X_tsne[:, 1], c=clusters[::10], cmap='rainbow')\n",
    "# (generate plot here)\n",
    "cb = plt.colorbar()\n",
    "tick_locator = ticker.MaxNLocator(nbins=30)\n",
    "cb.locator = tick_locator\n",
    "cb.update_ticks()\n",
    "plt.show()\n"
   ]
  },
  {
   "cell_type": "code",
   "execution_count": 141,
   "metadata": {},
   "outputs": [
    {
     "name": "stdout",
     "output_type": "stream",
     "text": [
      "vocabular size: 3638\n"
     ]
    }
   ],
   "source": [
    "from gensim.models import Word2Vec\n",
    "# import word tokenizer\n",
    "from nltk.tokenize import word_tokenize\n",
    "\n",
    "tokenized_corpus = [word_tokenize(w) for w in clean_sentences_list]\n",
    "model = Word2Vec(tokenized_corpus, vector_size=100, min_count=4, window=5, negative=10, workers=4, sg=0, cbow_mean=1, epochs=150, seed=42)\n",
    "print(\"vocabular size:\", len(model.wv.key_to_index))"
   ]
  },
  {
   "cell_type": "code",
   "execution_count": 166,
   "metadata": {},
   "outputs": [
    {
     "name": "stdout",
     "output_type": "stream",
     "text": [
      "[[13.50201   12.363922  12.593055  ... 17.734047  19.194122  13.681579 ]\n",
      " [13.91715   12.790723  12.814591  ... 17.228987  19.48141   14.283729 ]\n",
      " [14.822854  14.516044  14.576963  ... 19.401403  20.106188  13.019329 ]\n",
      " ...\n",
      " [ 6.0756655  3.953102   9.094998  ... 16.454384  18.539555   8.24834  ]\n",
      " [ 6.041911   4.2646513  8.797167  ... 16.067186  18.245577   7.746869 ]\n",
      " [ 6.4666624  6.643223   9.75057   ... 16.495617  18.680323   7.926847 ]]\n",
      "[10 10  4 ... 31 31 81]\n"
     ]
    },
    {
     "data": {
      "image/png": "[encoded data removed]",
      "text/plain": [
       "<Figure size 640x480 with 1 Axes>"
      ]
     },
     "metadata": {},
     "output_type": "display_data"
    }
   ],
   "source": [
    "#TODO remove\n",
    "k = 100\n",
    "kmeans = KMeans(n_clusters=k, n_init=10, random_state=42)\n",
    "cluster_matrix = kmeans.fit_transform(model.wv.vectors)\n",
    "print(cluster_matrix)\n",
    "clusters = np.argmin(cluster_matrix, axis=-1)\n",
    "print(clusters)\n",
    "\n",
    "uniques, counts = np.unique(clusters, return_counts=True)\n",
    "plt.bar(uniques, counts)\n",
    "plt.xlabel('Cluster Number')\n",
    "plt.ylabel('Sentences')\n",
    "plt.xticks(uniques, rotation=90)\n",
    "plt.title('Samples per class')\n",
    "plt.show()"
   ]
  },
  {
   "cell_type": "code",
   "execution_count": 168,
   "metadata": {},
   "outputs": [
    {
     "name": "stdout",
     "output_type": "stream",
     "text": [
      "Cluster 0:\t89\n",
      "Cluster 1:\t131\n",
      "Cluster 2:\t10\n",
      "Cluster 3:\t40\n",
      "Cluster 4:\t34\n",
      "Cluster 5:\t47\n",
      "Cluster 6:\t60\n",
      "Cluster 7:\t2\n",
      "Cluster 8:\t4\n",
      "Cluster 9:\t38\n",
      "Cluster 10:\t23\n",
      "Cluster 11:\t64\n",
      "Cluster 12:\t194\n",
      "Cluster 13:\t5\n",
      "Cluster 14:\t17\n",
      "Cluster 15:\t29\n",
      "Cluster 16:\t93\n",
      "Cluster 17:\t4\n",
      "Cluster 18:\t1\n",
      "Cluster 19:\t86\n",
      "Cluster 20:\t34\n",
      "Cluster 21:\t68\n",
      "Cluster 22:\t123\n",
      "Cluster 23:\t1\n",
      "Cluster 24:\t41\n",
      "Cluster 25:\t1\n",
      "Cluster 26:\t166\n",
      "Cluster 27:\t30\n",
      "Cluster 28:\t9\n",
      "Cluster 29:\t65\n",
      "Cluster 30:\t11\n",
      "Cluster 31:\t178\n",
      "Cluster 32:\t3\n",
      "Cluster 33:\t35\n",
      "Cluster 34:\t1\n",
      "Cluster 35:\t1\n",
      "Cluster 36:\t9\n",
      "Cluster 37:\t121\n",
      "Cluster 38:\t5\n",
      "Cluster 39:\t10\n",
      "Cluster 40:\t48\n",
      "Cluster 41:\t14\n",
      "Cluster 42:\t1\n",
      "Cluster 43:\t1\n",
      "Cluster 44:\t2\n",
      "Cluster 45:\t108\n",
      "Cluster 46:\t32\n",
      "Cluster 47:\t1\n",
      "Cluster 48:\t2\n",
      "Cluster 49:\t23\n",
      "Cluster 50:\t1\n",
      "Cluster 51:\t60\n",
      "Cluster 52:\t20\n",
      "Cluster 53:\t1\n",
      "Cluster 54:\t64\n",
      "Cluster 55:\t32\n",
      "Cluster 56:\t1\n",
      "Cluster 57:\t65\n",
      "Cluster 58:\t2\n",
      "Cluster 59:\t1\n",
      "Cluster 60:\t1\n",
      "Cluster 61:\t100\n",
      "Cluster 62:\t45\n",
      "Cluster 63:\t1\n",
      "Cluster 64:\t1\n",
      "Cluster 65:\t87\n",
      "Cluster 66:\t3\n",
      "Cluster 67:\t30\n",
      "Cluster 68:\t1\n",
      "Cluster 69:\t1\n",
      "Cluster 70:\t1\n",
      "Cluster 71:\t175\n",
      "Cluster 72:\t1\n",
      "Cluster 73:\t1\n",
      "Cluster 74:\t52\n",
      "Cluster 75:\t1\n",
      "Cluster 76:\t1\n",
      "Cluster 77:\t100\n",
      "Cluster 78:\t58\n",
      "Cluster 79:\t72\n",
      "Cluster 80:\t1\n",
      "Cluster 81:\t175\n",
      "Cluster 82:\t4\n",
      "Cluster 83:\t1\n",
      "Cluster 84:\t41\n",
      "Cluster 85:\t1\n",
      "Cluster 86:\t1\n",
      "Cluster 87:\t28\n",
      "Cluster 88:\t1\n",
      "Cluster 89:\t19\n",
      "Cluster 90:\t1\n",
      "Cluster 91:\t55\n",
      "Cluster 92:\t1\n",
      "Cluster 93:\t100\n",
      "Cluster 94:\t68\n",
      "Cluster 95:\t1\n",
      "Cluster 96:\t1\n",
      "Cluster 97:\t1\n",
      "Cluster 98:\t1\n",
      "Cluster 99:\t43\n"
     ]
    }
   ],
   "source": [
    "kmeans_labels = kmeans.labels_\n",
    "# print the number of words in each cluster\n",
    "for i in range(kmeans.n_clusters):\n",
    "    print(f\"Cluster {i}:\\t{len(np.array(model.wv.index_to_key)[kmeans_labels == i])}\")\n"
   ]
  },
  {
   "cell_type": "code",
   "execution_count": 169,
   "metadata": {},
   "outputs": [
    {
     "data": {
      "text/plain": [
       "array(['still', 'run', 'much', 'google', 'seen', 'broader', 'half',\n",
       "       'risk', 'technologylaced', 'fine', 'got', 'full', 'bailout',\n",
       "       'customers', 'less', 'damage', 'blood', '1000', 'terms', 'ha',\n",
       "       'investment', 'credit', 'sites', 'expansion', 'newspaper', 'hot',\n",
       "       'gains', 'cash', 'addition', 'bar', 'lot', 'closer', 'spent',\n",
       "       'started', 'works', 'facebook', 'weakness', 'brain', 'attackers',\n",
       "       'option', 'ninth', 'id', 'allowed', 'remarks', 'rival', 'card',\n",
       "       'competition', 'illinois', 'corporate', 'confidence', 'oracle',\n",
       "       'frozen', 'particularly', 'securities', 'funny', 'host',\n",
       "       'insurance', 'passes', 'stronger', 'hell', 'consumers', 'broad',\n",
       "       'images', 'hole', 'words', 'hasnt', 'pcs', 'activity', 'combined',\n",
       "       '1998', 'prior', 'keep', 'analyst', 'matt', 'compete', 'giant',\n",
       "       'removed', '30year', 'machines', 'threats', 'huge', 'punishment',\n",
       "       'increases', 'worm', 'value', 'domestic', 'yahoo', 'eurozone',\n",
       "       'inflation', 'true', 'transport', 'weather', 'institutions', 'hi',\n",
       "       'googles', 'guess', 'highspeed', 'lendingtree', 'longer',\n",
       "       'premiums', 'kind', 'selling', 'speculation', 'flow', 'wait',\n",
       "       'standards', '260', 'whitney', 'mask', 'argument', 'banks',\n",
       "       'client', 'cyprus', 'refugee', 'sector', 'sometimes', 'fallen',\n",
       "       'digital', 'interview', 'interest', 'slump', 'philadelphia',\n",
       "       'analysis', 'improved', 'diabetes', 'suggests', 'techheavy',\n",
       "       'produce', 'knight', 'sin', 'amazon', 'seriously', 'collected',\n",
       "       'facing', 'everyone', 'mad', 'cholesterol', 'organized', 'alstom',\n",
       "       'biotech', 'built', 'foam', 'restore', 'fully', 'hubbard', 'rat',\n",
       "       'penn', 'expand', 'weiner', 'backed', 'dipped', 'permit', 'love',\n",
       "       'gagne', 'larger', 'performance', 'conviction', 'delivery',\n",
       "       'swedish', 'definition', 'island', 'whitey', 'button',\n",
       "       'transaction', 'edited', 'quoted', 'microsofts', 'improves',\n",
       "       '2014', 'maximum', 'tea', 'ability', 'reduce', 'marijuana',\n",
       "       'earth', 'crucial', 'hackers', 'separate', 'ladies', 'firms',\n",
       "       '1993', 'existing', 'private', 'jockey', 'direction', 'doubt',\n",
       "       'vulnerability', 'drill', 'credibility', 'upset', 'actress',\n",
       "       'cares', 'strategy', 'nature'], dtype='<U19')"
      ]
     },
     "execution_count": 169,
     "metadata": {},
     "output_type": "execute_result"
    }
   ],
   "source": [
    "np.array(model.wv.index_to_key)[kmeans_labels == 12]"
   ]
  },
  {
   "cell_type": "code",
   "execution_count": 144,
   "metadata": {},
   "outputs": [
    {
     "name": "stdout",
     "output_type": "stream",
     "text": [
      "Top terms per cluster:\n",
      "Cluster 0:\t['twin', 'reserve', 'programs', 'changes', 'southeast']\n",
      "Cluster 1:\t['putins', 'moscow', 'obligations', 'ukrainian', 'tomorrow']\n",
      "Cluster 2:\t['steps', 'find', 'peacekeeping', 'government', 'representative']\n",
      "Cluster 3:\t['insists', 'intelligence', 'constitutional', 'purposes', 'malaysia']\n",
      "Cluster 4:\t['agenda', 'reportedly', 'air', 'signals', 'representative']\n",
      "Cluster 5:\t['agenda', 'reportedly', 'israelis', 'steps', 'repeated']\n",
      "Cluster 6:\t['explanation', 'led', 'recently', 'ramadan', 'reopen']\n",
      "Cluster 7:\t['month', 'losses', 'obligations', 'moscow', 'caused']\n",
      "Cluster 8:\t['fine', 'securities', 'dutch', 'worlds', 'news']\n",
      "Cluster 9:\t['uks', 'nepal', 'protect', 'petersons', 'policy']\n",
      "Cluster 10:\t['become', 'n', 'orioles', 'dean', 'ferry']\n",
      "Cluster 11:\t['predicted', 'notes', 'million', 'mustreads', 'probable']\n",
      "Cluster 12:\t['cop', 'filed', 'plea', 'thursday', 'profit']\n",
      "Cluster 13:\t['attorneys', 'spending', 'corporate', 'sniper', 'nt']\n",
      "Cluster 14:\t['today', 'commission', 'chain', 'equal', 'attorneys']\n",
      "Cluster 15:\t['bus', 'decker', 'local', 'weekend', 'cross']\n",
      "Cluster 16:\t['bahrain', '60', 'election', 'palace', 'bangladesh']\n",
      "Cluster 17:\t['moldova', 'republics', 'last', 'attorneys', 'musharraf']\n",
      "Cluster 18:\t['missions', 'tracks', 'star', 'gear', '74']\n",
      "Cluster 19:\t['missions', 'telephone', 'centers', 'direct', 'always']\n",
      "Cluster 20:\t['inflation', 'tomatoes', 'pays', 'maryland', 'jay']\n",
      "Cluster 21:\t['insists', 'hot', 'activity', 'intelligence', 'terrorists']\n",
      "Cluster 22:\t['last', 'vatican', 'away', 'dipped', 'around']\n",
      "Cluster 23:\t['reportedly', 'agenda', 'charged', 'recall', 'condemns']\n",
      "Cluster 24:\t['pot', 'voice', 'chiefs', 'moved', 'underwent']\n",
      "Cluster 25:\t['mideast', 'israelis', 'disarming', 'representative', 'steps']\n",
      "Cluster 26:\t['donald', 'ceo', 'business', 'probable', 'discuss']\n",
      "Cluster 27:\t['musharraf', 'suspected', '13', 'european', 'mr']\n",
      "Cluster 28:\t['low', 'matt', 'analyst', 'potato', 'youre']\n",
      "Cluster 29:\t['inflation', 'apple', 'jay', 'potato', 'server']\n"
     ]
    }
   ],
   "source": [
    "print(\"Top terms per cluster:\")\n",
    "\n",
    "for i in range(kmeans.n_clusters):\n",
    "    centroid = kmeans.cluster_centers_[i]    \n",
    "    sorted_terms = model.wv.most_similar(positive=[centroid], topn=5)\n",
    "    print(f\"Cluster {i}:\\t{[w for w, s in sorted_terms]}\")"
   ]
  },
  {
   "attachments": {},
   "cell_type": "markdown",
   "metadata": {},
   "source": [
    "# Training models\n",
    "We now deal with the task of sentence similarity, employing models already seen like TF-IDF and Word2Vec as well as other approaches such as Transformers"
   ]
  },
  {
   "cell_type": "markdown",
   "metadata": {},
   "source": [
    "## Bag of Words"
   ]
  },
  {
   "cell_type": "markdown",
   "metadata": {},
   "source": [
    "We just trained a tf-idf model to compute clusters. We can also use this model to compute similarity between sentences using a bag of words approach."
   ]
  },
  {
   "cell_type": "code",
   "execution_count": 17,
   "metadata": {},
   "outputs": [],
   "source": [
    "from sklearn.feature_extraction.text import TfidfVectorizer\n",
    "from sklearn.metrics import mean_squared_error\n",
    "import pandas as pd"
   ]
  },
  {
   "cell_type": "code",
   "execution_count": 18,
   "metadata": {},
   "outputs": [],
   "source": [
    "def train_tfidf_vectorizer(sentences_list, max_df=0.8, min_df=5, remove_stopwords=True, ngram_range=(1,1)):\n",
    "    \"\"\"\n",
    "    Train a TF-IDF vectorizer on the given sentences list.\n",
    "    \n",
    "    max_df: ignore terms that appear in more than max_df of the documents\n",
    "    min_df: ignore terms that appear in less than min_df of the documents\n",
    "    remove_stopwords: remove stopwords from the sentences\n",
    "    preprocess_sentence: function to preprocess each sentence\n",
    "    ngram_range: range of ngrams to consider\n",
    "    \"\"\"\n",
    "\n",
    "    # Define TF-IDF Vectorizer\n",
    "    tfidf = TfidfVectorizer(\n",
    "        max_df=max_df, min_df=min_df, \n",
    "        stop_words='english' if remove_stopwords else None, \n",
    "        strip_accents='ascii',\n",
    "        ngram_range=ngram_range\n",
    "    )\n",
    "\n",
    "    # Fit the vectorizer on the sentences and compute the TF-IDF matrix\n",
    "    tfidf_matrix = tfidf.fit_transform(sentences_list)\n",
    "    tfidf_vocab = tfidf.get_feature_names_out()\n",
    "\n",
    "    # Analyze results\n",
    "    print(f\"The dataset contains {len(tfidf_vocab)} terms\")\n",
    "    np.random.seed(41)\n",
    "    random_sentence = np.random.choice(sentences_list)\n",
    "    print(\"Random sentence:\", random_sentence)\n",
    "    random_sentence_tfidf_scores = tfidf.transform([random_sentence])\n",
    "    sentence_df = pd.DataFrame({\n",
    "        \"id\": random_sentence_tfidf_scores.nonzero()[1],\n",
    "        \"word\": tfidf_vocab[random_sentence_tfidf_scores.nonzero()[1]],\n",
    "        \"scores\": random_sentence_tfidf_scores.data\n",
    "    })\n",
    "    print(sentence_df.head())\n",
    "\n",
    "    return tfidf, tfidf_matrix"
   ]
  },
  {
   "cell_type": "code",
   "execution_count": 19,
   "metadata": {},
   "outputs": [],
   "source": [
    "def evaluate_mse(model: TfidfVectorizer, dataset: pd.DataFrame):\n",
    "    predicted_scores = []\n",
    "    for idx, row in dataset.iterrows():\n",
    "        a = row[\"sentence1\"]\n",
    "        b = row[\"sentence2\"]\n",
    "        vectorized_sentences = model.transform([a, b])\n",
    "        similarity = cosine_similarity(vectorized_sentences)\n",
    "        predicted_scores.append(similarity[0][1])\n",
    "\n",
    "    return mean_squared_error(dataset[\"score\"].values, predicted_scores)"
   ]
  },
  {
   "cell_type": "code",
   "execution_count": 20,
   "metadata": {},
   "outputs": [
    {
     "name": "stdout",
     "output_type": "stream",
     "text": [
      "The dataset contains 12067 terms\n",
      "Random sentence: person hitchhiking road\n",
      "     id         word    scores\n",
      "0  9265         road  0.502688\n",
      "1  8110       person  0.412441\n",
      "2  5404  hitchhiking  0.759735\n"
     ]
    }
   ],
   "source": [
    "clean_dataset = pd.DataFrame({\n",
    "    'sentence1': df['sentence1'].map(remove_special_chars).map(remove_stop_words),\n",
    "    'sentence2': df['sentence2'].map(remove_special_chars).map(remove_stop_words),\n",
    "    'score': df['score'] / 5\n",
    "})\n",
    "\n",
    "tfidf_vectorizer, tfidf_matrix = train_tfidf_vectorizer(clean_sentences_list, min_df=0)"
   ]
  },
  {
   "cell_type": "markdown",
   "metadata": {},
   "source": [
    "Now we print the most similar sentences of a selected one using cosine similarity, showing the original ones\n"
   ]
  },
  {
   "cell_type": "code",
   "execution_count": 21,
   "metadata": {},
   "outputs": [
    {
     "name": "stdout",
     "output_type": "stream",
     "text": [
      "\"Biotech products, if anything, may be safer than conventional products because of all the testing,\" said Robert Fraley, Monsanto's executive vice president.\n",
      "1) 0.68 \"Biotech products, if anything, may be safer than conventional products because of all the testing,\" Fraley said, adding that 18 countries have adopted biotechnology.\n",
      "2) 0.27 Products featuring Vanderpool will be released within five years, he said.\n",
      "3) 0.23 As executive vice president of new ventures, Elias will report to Joe Tucci, EMC's president and chief executive.\n",
      "4) 0.20 The third appointment was to a new job, executive vice president and chief staff officer.\n",
      "5) 0.20 Chinese president meets Indian vice president\n"
     ]
    }
   ],
   "source": [
    "tfidf_similarity = cosine_similarity(tfidf_matrix)\n",
    "tfidf_sentence_idx = 10\n",
    "print(sentences_list[tfidf_sentence_idx])\n",
    "for i, col_idx in enumerate(tfidf_similarity[tfidf_sentence_idx].argsort()[::-1][1:6]):\n",
    "    print(str(i+1) + \")\",f\"{tfidf_similarity[tfidf_sentence_idx][col_idx]:.2f}\", sentences_list[col_idx])"
   ]
  },
  {
   "cell_type": "code",
   "execution_count": 22,
   "metadata": {},
   "outputs": [
    {
     "name": "stdout",
     "output_type": "stream",
     "text": [
      "MSE: 0.05174592726147045\n"
     ]
    }
   ],
   "source": [
    "print(\"MSE:\", evaluate_mse(tfidf_vectorizer, clean_dataset))"
   ]
  },
  {
   "cell_type": "markdown",
   "metadata": {},
   "source": [
    "We try to improve it using trigrams"
   ]
  },
  {
   "cell_type": "code",
   "execution_count": 23,
   "metadata": {},
   "outputs": [
    {
     "name": "stdout",
     "output_type": "stream",
     "text": [
      "The dataset contains 21599 terms\n",
      "Random sentence: person hitchhiking road\n",
      "      id    word    scores\n",
      "0  16397    road  0.773089\n",
      "1  14211  person  0.634297\n",
      "MSE: 0.06786084296557404\n"
     ]
    }
   ],
   "source": [
    "trigrams_tfidf_vectorizer, _ = train_tfidf_vectorizer(clean_sentences_list, ngram_range=(1,3), min_df=2)\n",
    "print(\"MSE:\", evaluate_mse(trigrams_tfidf_vectorizer, clean_dataset))\n",
    "#TODO cercare su internet comparazione performance bigrammi monogrammi"
   ]
  },
  {
   "cell_type": "markdown",
   "metadata": {},
   "source": [
    "we try to improve by handling numbers"
   ]
  },
  {
   "cell_type": "code",
   "execution_count": 24,
   "metadata": {},
   "outputs": [],
   "source": [
    "def substitute_number(sentence):\n",
    "    return re.sub(r'\\d+', ' number ', sentence)"
   ]
  },
  {
   "cell_type": "code",
   "execution_count": 25,
   "metadata": {},
   "outputs": [
    {
     "name": "stdout",
     "output_type": "stream",
     "text": [
      "The dataset contains 11250 terms\n",
      "Random sentence: person hitchhiking road\n",
      "     id         word    scores\n",
      "0  8458         road  0.502688\n",
      "1  7303       person  0.412441\n",
      "2  4602  hitchhiking  0.759735\n",
      "MSE: 0.05452352749923701\n"
     ]
    }
   ],
   "source": [
    "no_number_dataset = pd.DataFrame({\n",
    "    'sentence1': clean_dataset['sentence1'].map(substitute_number),\n",
    "    'sentence2': clean_dataset['sentence2'].map(substitute_number),\n",
    "    'score': clean_dataset['score']\n",
    "})\n",
    "\n",
    "#TODO mostrare differenze tra originale e con [number]\n",
    "no_number_sentences_list = [substitute_number(sentence) for sentence in clean_sentences_list]\n",
    "\n",
    "number_tfidf_vectorizer, number_tfidf_matrix = train_tfidf_vectorizer(no_number_sentences_list, min_df=0)\n",
    "print(\"MSE:\", evaluate_mse(number_tfidf_vectorizer, no_number_dataset))"
   ]
  },
  {
   "cell_type": "markdown",
   "metadata": {},
   "source": [
    "we try to improve by lemmatizing the sentences"
   ]
  },
  {
   "cell_type": "code",
   "execution_count": 30,
   "metadata": {},
   "outputs": [],
   "source": [
    "lemmatized_dataset = pd.DataFrame({\n",
    "    'sentence1': clean_dataset['sentence1'].map(lemmatize),\n",
    "    'sentence2': clean_dataset['sentence2'].map(lemmatize),\n",
    "    'score': clean_dataset['score']\n",
    "})"
   ]
  },
  {
   "cell_type": "code",
   "execution_count": 31,
   "metadata": {},
   "outputs": [
    {
     "name": "stdout",
     "output_type": "stream",
     "text": [
      "The dataset contains 9859 terms\n",
      "Random sentence: person hitchhike road\n",
      "     id       word    scores\n",
      "0  7623       road  0.500708\n",
      "1  6762     person  0.411840\n",
      "2  4458  hitchhike  0.761366\n",
      "MSE: 0.04651429476482215\n"
     ]
    }
   ],
   "source": [
    "lemmatized_tfidf_vectorizer, _ = train_tfidf_vectorizer(lemmatized_sentences_list, min_df=0)\n",
    "print(\"MSE:\", evaluate_mse(lemmatized_tfidf_vectorizer, lemmatized_dataset))"
   ]
  },
  {
   "cell_type": "code",
   "execution_count": 32,
   "metadata": {},
   "outputs": [],
   "source": [
    "# Saving the lemmatized sentences to a txt file\n",
    "with open('Dataset/lemmatized_sentences.txt', 'w') as f:\n",
    "    for item in lemmatized_sentences_list:\n",
    "        f.write(\"%s\\n\" % item)"
   ]
  },
  {
   "cell_type": "markdown",
   "metadata": {},
   "source": [
    "## Word2Vec"
   ]
  },
  {
   "cell_type": "code",
   "execution_count": 33,
   "metadata": {},
   "outputs": [],
   "source": [
    "from gensim.models import Word2Vec"
   ]
  },
  {
   "cell_type": "code",
   "execution_count": 34,
   "metadata": {},
   "outputs": [
    {
     "name": "stdout",
     "output_type": "stream",
     "text": [
      "vocabular size: 2995\n",
      "car --> ['roadside', 'vehicle', 'bicycle', 'amusement', 'motorcycle', 'train', 'pole', '19', 'drain', 'nightclub']\n",
      "boy --> ['kid', 'girl', 'child', 'garden', 'man', 'baby', 'puppy', 'jacket', 'woman', 'kitten']\n",
      "man --> ['woman', 'girl', 'person', 'dog', 'guy', 'boy', 'gray', 'white', 'suit', 'pink']\n",
      "girl --> ['woman', 'man', 'hat', 'boy', 'shirt', 'jacket', 'suit', 'dog', 'wear', 'blue']\n",
      "woman --> ['man', 'girl', 'lady', 'person', 'suit', 'gray', 'hat', 'banana', 'counter', 'short']\n",
      "obama --> ['rebuild', 'obamas', 'depend', 'clinton', 'religion', 'arms', 'hollande', 'temporarily', 'gop', 'mitt']\n",
      "florida --> ['outfielder', 'graham', 'cub', 'execution', 'alaska', 'sixth', 'indonesias', 'pennsylvania', 'university', 'kansas']\n",
      "cat --> ['blanket', 'kitten', 'leather', 'tube', 'dog', 'couch', 'sheep', 'cow', 'bird', 'kitchen']\n",
      "dog --> ['puppy', 'mouth', 'animal', 'kitten', 'tan', 'black', 'ball', 'grey', 'ear', 'man']\n",
      "blue --> ['pink', 'orange', 'gray', 'white', 'black', 'wear', 'yellow', 'purple', 'silver', 'sand']\n",
      "kill --> ['nw', 'injure', 'wound', 'suicide', 'ambush', 'detain', 'erupt', 'dead', 'northern', 'die']\n",
      "bomb --> ['bombing', 'bomber', 'explosion', 'kidnapper', 'blast', 'drone', 'sinai', '42', 'northern', 'gunman']\n",
      "piano --> ['drum', 'guitar', 'keyboard', 'flute', 'trumpet', 'harp', 'singing', 'violin', 'colorful', 'singe']\n",
      "pizza --> ['bread', 'watermelon', 'butter', 'carrot', 'cheese', 'tortilla', 'piece', 'tomato', 'cucumber', 'tofu']\n",
      "italy --> ['poland', 'portugal', 'spain', 'systems', 'netherlands', 'belgium', 'britain', 'usgs', 'germany', 'latvia']\n"
     ]
    }
   ],
   "source": [
    "analyzer = lemmatized_tfidf_vectorizer.build_analyzer()\n",
    "tokenized_corpus = [analyzer(w) for w in lemmatized_sentences_list]\n",
    "model = Word2Vec(tokenized_corpus, vector_size=100, min_count=4, window=5, negative=10, workers=4, sg=0, cbow_mean=1, epochs=150, seed=42)\n",
    "print(\"vocabular size:\", len(model.wv.key_to_index))\n",
    "\n",
    "#print most similar words to\n",
    "for item in ['car', 'boy', 'man', 'girl', 'woman', 'obama', 'florida', 'cat', 'dog', 'blue', 'kill', 'bomb', 'piano', 'pizza', 'italy']:\n",
    "    print(item, '-->', [w for w, s in model.wv.most_similar(item)])"
   ]
  },
  {
   "cell_type": "code",
   "execution_count": 35,
   "metadata": {},
   "outputs": [],
   "source": [
    "model.save('word2vec.model')"
   ]
  },
  {
   "cell_type": "code",
   "execution_count": 88,
   "metadata": {},
   "outputs": [],
   "source": [
    "def vectorize(sentences, vocab, vectorizer,  useSum=False, vector_size=100, tokenizer=lambda x: x.split()):\n",
    "    # create a matrix with rows equal to the number of tweets and columns equal to the embedding size\n",
    "    vectors = np.zeros((len(sentences), vector_size))\n",
    "\n",
    "    # for each sentence in the dataset compute the embedding \n",
    "    for i, sentence in enumerate(sentences):\n",
    "        tokens = tokenizer(sentence)\n",
    "        embeddings = [vectorizer(token) for token in tokens if token in vocab] # embedding per ogni token\n",
    "        if (len(embeddings) > 0): # unisce tutti gli embedding in base a useSum\n",
    "            if (useSum): \n",
    "                vectors[i] = sum(embeddings)\n",
    "            else:\n",
    "                vectors[i] = np.mean(embeddings, axis=0)\n",
    "    return vectors\n",
    "\n",
    "# modified version of vectorize that weightes the embeddings by the tf-idf score of the word\n",
    "def vectorize_tfidf(sentences, vocab, vectorizer, tfidf_matrix, useSum=False, vector_size=100, tokenizer=lambda x: x.split()):\n",
    "    # create a matrix with rows equal to the number of tweets and columns equal to the embedding size\n",
    "    vectors = np.zeros((len(sentences), vector_size))\n",
    "\n",
    "    # for each sentence in the dataset compute the embedding \n",
    "    for i, sentence in enumerate(sentences):\n",
    "        tokens = tokenizer(sentence)\n",
    "        embeddings = [vectorizer(token) * tfidf_matrix[i, vocab.index(token)] for token in tokens if token in vocab] # embedding per ogni token\n",
    "        if (len(embeddings) > 0): # unisce tutti gli embedding in base a useSum\n",
    "            if (useSum): \n",
    "                vectors[i] = sum(embeddings)\n",
    "            else:\n",
    "                vectors[i] = np.mean(embeddings, axis=0)\n",
    "    return vectors"
   ]
  },
  {
   "cell_type": "code",
   "execution_count": 38,
   "metadata": {},
   "outputs": [],
   "source": [
    "from numpy import arccos"
   ]
  },
  {
   "cell_type": "code",
   "execution_count": 66,
   "metadata": {},
   "outputs": [
    {
     "name": "stdout",
     "output_type": "stream",
     "text": [
      "MSE: 0.12740862463236438\n"
     ]
    }
   ],
   "source": [
    "predicted_scores = []\n",
    "for idx, row in lemmatized_dataset.iterrows():\n",
    "    sentences = [row['sentence1'], row['sentence2']]\n",
    "    vectors = vectorize(sentences, model.wv, model.wv.get_vector, tokenizer=analyzer, useSum=False)\n",
    "    similarity = cosine_similarity(vectors)[0][1]\n",
    "    similarity = np.clip(similarity, -1, 1)\n",
    "    predicted_scores.append(1 - (arccos(similarity) / np.pi))\n",
    "\n",
    "mse = mean_squared_error(lemmatized_dataset[\"score\"].values, predicted_scores)\n",
    "print(\"MSE:\", mse)"
   ]
  },
  {
   "cell_type": "code",
   "execution_count": 40,
   "metadata": {},
   "outputs": [],
   "source": [
    "import gensim.downloader as api\n",
    "\n",
    "model_wiki = api.load(\"glove-wiki-gigaword-300\")"
   ]
  },
  {
   "cell_type": "code",
   "execution_count": 86,
   "metadata": {},
   "outputs": [
    {
     "name": "stdout",
     "output_type": "stream",
     "text": [
      "car --> ['cars', 'vehicle', 'truck', 'driver', 'driving', 'vehicles', 'motorcycle', 'automobile', 'parked', 'drivers']\n",
      "boy --> ['girl', 'boys', 'kid', 'man', 'teenage', 'child', 'teenager', 'father', 'girls', 'son']\n",
      "man --> ['woman', 'person', 'boy', 'he', 'men', 'himself', 'one', 'another', 'who', 'him']\n",
      "girl --> ['boy', 'woman', 'girls', 'teenager', 'teenage', 'mother', 'boys', 'child', 'teen', 'daughter']\n",
      "woman --> ['girl', 'man', 'mother', 'she', 'her', 'female', 'herself', 'person', 'women', 'wife']\n",
      "obama --> ['barack', 'mccain', 'bush', 'clinton', 'hillary', 'kerry', 'rodham', 'biden', 'gore', 'democrats']\n",
      "florida --> ['miami', 'fla.', 'carolina', 'texas', 'tallahassee', 'louisiana', 'alabama', 'jacksonville', 'tampa', 'arizona']\n",
      "cat --> ['dog', 'cats', 'pet', 'dogs', 'feline', 'monkey', 'horse', 'pets', 'rabbit', 'leopard']\n",
      "dog --> ['dogs', 'cat', 'pet', 'puppy', 'hound', 'horse', 'animal', 'cats', 'canine', 'pets']\n",
      "blue --> ['red', 'yellow', 'purple', 'pink', 'bright', 'black', 'green', 'white', 'gray', 'colored']\n",
      "kill --> ['killing', 'kills', 'destroy', 'killed', 'shoot', 'injure', 'dead', 'them', 'killer', 'assassinate']\n",
      "bomb --> ['bombs', 'blast', 'explosives', 'exploded', 'detonated', 'bombing', 'explosion', 'bomber', 'explosive', 'blasts']\n",
      "piano --> ['violin', 'cello', 'guitar', 'concerto', 'clarinet', 'saxophone', 'pianist', 'harpsichord', 'orchestral', 'flute']\n",
      "pizza --> ['pizzas', 'taco', 'pepperoni', 'sandwiches', 'restaurant', 'sandwich', 'burgers', 'pasta', 'hamburgers', 'burger']\n",
      "italy --> ['italian', 'rome', 'spain', 'italians', 'france', 'germany', 'greece', 'milan', 'turin', 'portugal']\n"
     ]
    }
   ],
   "source": [
    "for item in ['car', 'boy', 'man', 'girl', 'woman', 'obama', 'florida', 'cat', 'dog', 'blue', 'kill', 'bomb', 'piano', 'pizza', 'italy']:\n",
    "    print(item, '-->', [w for w, s in model_wiki.most_similar(item)])"
   ]
  },
  {
   "cell_type": "code",
   "execution_count": 90,
   "metadata": {},
   "outputs": [
    {
     "name": "stdout",
     "output_type": "stream",
     "text": [
      "MSE: 0.12841044500310017\n"
     ]
    }
   ],
   "source": [
    "predicted_scores = []\n",
    "for idx, row in lemmatized_dataset.iterrows():\n",
    "    sentences = [row['sentence1'], row['sentence2']]\n",
    "    vectors = vectorize(sentences, model_wiki, model_wiki.get_vector,  tokenizer=analyzer, useSum=False, vector_size=300)\n",
    "    similarity = cosine_similarity(vectors)[0][1]\n",
    "    similarity = np.clip(similarity, -1, 1)\n",
    "    \n",
    "    # Angular similarity\n",
    "    predicted_scores.append(1 - (arccos(similarity) / np.pi))\n",
    "\n",
    "mse = mean_squared_error(lemmatized_dataset[\"score\"].values, predicted_scores)\n",
    "print(\"MSE:\", mse)"
   ]
  },
  {
   "cell_type": "markdown",
   "metadata": {},
   "source": [
    "## SubWord embedding: FastText"
   ]
  },
  {
   "cell_type": "code",
   "execution_count": null,
   "metadata": {},
   "outputs": [],
   "source": [
    "import fasttext\n",
    "from gensim.models import FastText"
   ]
  },
  {
   "cell_type": "code",
   "execution_count": 92,
   "metadata": {},
   "outputs": [
    {
     "name": "stdout",
     "output_type": "stream",
     "text": [
      "car --> ['carry', 'cartoon', 'carrot', 'care', 'cargo', 'cartel', 'career', 'carpet', 'carrier', 'carolina']\n",
      "boy --> ['kid', 'skirt', 'bo', 'puppy', 'girl', 'jacket', 'ontario', 'a', 'boat', 'bottle']\n",
      "man --> ['woman', 'a', 'an', 'chapman', 'jean', 'zimmerman', 'human', 'boy', 'suit', 'math']\n",
      "girl --> ['young', 'blonde', 'helmet', 'woman', 'guy', 'skirt', 'a', 'blue', 'pink', 'piano']\n",
      "woman --> ['man', 'a', 'womans', 'girl', 'someoen', 'an', 'helmet', 'broccoli', 'kangaroo', 'baby']\n",
      "obama --> ['obamas', 'obamacare', 'osama', 'alabama', 'romney', 'lama', 'vow', 'hamas', 'secretary', 'secret']\n",
      "florida --> ['fda', 'graham', 'fla', 'pennsylvania', 'birthday', 'sixth', 'switzerland', 'berkeley', 'nevada', 'outfielder']\n",
      "cat --> ['carpet', 'cap', 'camera', 'cake', 'kitten', 'caucus', 'catch', 'canoe', 'cattle', 'cameron']\n",
      "dog --> ['mouth', 'fluffy', 'brown', 'kitten', 'run', 'puppy', 'snow', 'grey', 'cow', 'white']\n",
      "blue --> ['bluechip', 'black', 'skirt', 'blonde', 'jetblue', 'blanket', 'squat', 'a', 'shirt', 'grey']\n",
      "kill --> ['nw', 'injure', 'ambush', 'e', '5', 'soldier', 'northern', 'bomb', 'hill', 'kabul']\n",
      "bomb --> ['bombing', 'bomber', 'boko', 'suicide', 'bo', 'beirut', 'kill', 'plot', 'explosion', 'boston']\n",
      "piano --> ['guitar', 'flute', 'pig', 'fluffy', 'pipe', 'guy', 'pink', 'fluid', 'skirt', 'pit']\n",
      "pizza --> ['pig', 'piece', 'pipe', 'octopu', 'carrot', 'pink', 'bread', 'broccoli', 'watermelon', 'slab']\n",
      "italy --> ['italian', 'fuel', 'britain', 'spain', 'sweden', 'provide', 'gearbox', 'germany', 'latvia', 'swedish']\n"
     ]
    }
   ],
   "source": [
    "ft_model = fasttext.train_unsupervised('Dataset/parsed_sentences.txt', model='cbow', dim=100, minCount=3, minn=3, maxn=5, ws=5, epoch=100)\n",
    "\n",
    "for item in ['car', 'boy', 'man', 'girl', 'woman', 'obama', 'florida', 'cat', 'dog', 'blue', 'kill', 'bomb', 'piano', 'pizza', 'italy']:\n",
    "    print(item, '-->', [s for w, s in ft_model.get_nearest_neighbors(item)])"
   ]
  },
  {
   "cell_type": "code",
   "execution_count": 94,
   "metadata": {},
   "outputs": [
    {
     "name": "stdout",
     "output_type": "stream",
     "text": [
      "MSE: 0.11519655815875185\n"
     ]
    }
   ],
   "source": [
    "predicted_scores = []\n",
    "for idx, row in lemmatized_dataset.iterrows():\n",
    "    sentences = [row['sentence1'], row['sentence2']]\n",
    "    vectors = vectorize(sentences, ft_model.words, ft_model.get_word_vector, tokenizer=analyzer, useSum=False)\n",
    "    similarity = cosine_similarity(vectors)[0][1]\n",
    "    similarity = np.clip(similarity, -1, 1)\n",
    "    predicted_scores.append(1 - (arccos(similarity) / np.pi))\n",
    "\n",
    "mse = mean_squared_error(lemmatized_dataset[\"score\"].values, predicted_scores)\n",
    "print(\"MSE:\", mse)"
   ]
  },
  {
   "cell_type": "code",
   "execution_count": 95,
   "metadata": {},
   "outputs": [
    {
     "name": "stdout",
     "output_type": "stream",
     "text": [
      "MSE: 0.08737958902992013\n"
     ]
    }
   ],
   "source": [
    "predicted_scores = []\n",
    "for idx, row in lemmatized_dataset.iterrows():\n",
    "    sentences = [row['sentence1'], row['sentence2']]\n",
    "    vectors = vectorize_tfidf(sentences, ft_model.words, ft_model.get_word_vector, tfidf_matrix=tfidf_matrix, tokenizer=analyzer, useSum=False)\n",
    "    similarity = cosine_similarity(vectors)[0][1]\n",
    "    similarity = np.clip(similarity, -1, 1)\n",
    "    predicted_scores.append(1 - (arccos(similarity) / np.pi))\n",
    "\n",
    "mse = mean_squared_error(lemmatized_dataset[\"score\"].values, predicted_scores)\n",
    "print(\"MSE:\", mse)"
   ]
  },
  {
   "cell_type": "code",
   "execution_count": null,
   "metadata": {},
   "outputs": [
    {
     "name": "stdout",
     "output_type": "stream",
     "text": [
      "MSE: 0.1135294733474303\n"
     ]
    }
   ],
   "source": [
    "predicted_scores = []\n",
    "for idx, row in lemmatized_dataset.iterrows():\n",
    "    sentences = [row['sentence1'], row['sentence2']]\n",
    "    vectors = ft_model.get_sentence_vector(sentences[0]), ft_model.get_sentence_vector(sentences[1])\n",
    "    similarity = cosine_similarity(vectors)[0][1]\n",
    "    similarity = np.clip(similarity, -1, 1)\n",
    "    predicted_scores.append(1 - (arccos(similarity) / np.pi))\n",
    "\n",
    "mse = mean_squared_error(lemmatized_dataset[\"score\"].values, predicted_scores)\n",
    "print(\"MSE:\", mse)"
   ]
  },
  {
   "cell_type": "code",
   "execution_count": 99,
   "metadata": {},
   "outputs": [
    {
     "data": {
      "text/plain": [
       "[(0.5890121459960938, 'woman'),\n",
       " (0.3826262056827545, 'tan'),\n",
       " (0.3783170282840729, 'jean'),\n",
       " (0.3684799075126648, 'fan'),\n",
       " (0.3553972542285919, 'helmet'),\n",
       " (0.3547843098640442, 'teenager'),\n",
       " (0.35413458943367004, 'male'),\n",
       " (0.3529100716114044, 'kazan'),\n",
       " (0.35130223631858826, 'human'),\n",
       " (0.34914642572402954, 'van')]"
      ]
     },
     "execution_count": 99,
     "metadata": {},
     "output_type": "execute_result"
    }
   ],
   "source": [
    "ft_model.get_analogies(\"man\", \"boy\", \"girl\")"
   ]
  },
  {
   "cell_type": "code",
   "execution_count": null,
   "metadata": {},
   "outputs": [],
   "source": []
  }
 ],
 "metadata": {
  "kernelspec": {
   "display_name": "Python 3 (ipykernel)",
   "language": "python",
   "name": "python3"
  },
  "language_info": {
   "codemirror_mode": {
    "name": "ipython",
    "version": 3
   },
   "file_extension": ".py",
   "mimetype": "text/x-python",
   "name": "python",
   "nbconvert_exporter": "python",
   "pygments_lexer": "ipython3",
   "version": "3.8.8"
  }
 },
 "nbformat": 4,
 "nbformat_minor": 4
}

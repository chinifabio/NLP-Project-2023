{
 "cells": [
  {
   "cell_type": "markdown",
   "metadata": {},
   "source": [
    "In machine learning, the train-dev-test split is a common technique used to evaluate the performance of a model and prevent overfitting. The dataset is divided into three subsets: the training set, the development (or validation) set, and the test set.\n",
    "\n",
    "The benchmark comprises 8628 sentence pairs. This is the breakdown according to genres and train-dev-test splits:\n",
    "\n",
    "                train  dev test total \n",
    "        -----------------------------\n",
    "        news     3299  500  500  4299\n",
    "        caption  2000  625  525  3250\n",
    "        forum     450  375  254  1079\n",
    "        -----------------------------\n",
    "        total    5749 1500 1379  8628"
   ]
  },
  {
   "cell_type": "code",
   "execution_count": 34,
   "metadata": {},
   "outputs": [
    {
     "name": "stderr",
     "output_type": "stream",
     "text": [
      "[nltk_data] Downloading package punkt to\n",
      "[nltk_data]     C:\\Users\\andre\\AppData\\Roaming\\nltk_data...\n",
      "[nltk_data]   Package punkt is already up-to-date!\n",
      "[nltk_data] Downloading package stopwords to\n",
      "[nltk_data]     C:\\Users\\andre\\AppData\\Roaming\\nltk_data...\n",
      "[nltk_data]   Package stopwords is already up-to-date!\n"
     ]
    },
    {
     "name": "stdout",
     "output_type": "stream",
     "text": [
      "Requirement already satisfied: spacy in c:\\users\\andre\\appdata\\local\\programs\\python\\python38\\lib\\site-packages (3.5.3)\n",
      "Requirement already satisfied: spacy-legacy<3.1.0,>=3.0.11 in c:\\users\\andre\\appdata\\local\\programs\\python\\python38\\lib\\site-packages (from spacy) (3.0.12)\n",
      "Requirement already satisfied: spacy-loggers<2.0.0,>=1.0.0 in c:\\users\\andre\\appdata\\local\\programs\\python\\python38\\lib\\site-packages (from spacy) (1.0.4)\n",
      "Requirement already satisfied: murmurhash<1.1.0,>=0.28.0 in c:\\users\\andre\\appdata\\local\\programs\\python\\python38\\lib\\site-packages (from spacy) (1.0.9)\n",
      "Requirement already satisfied: cymem<2.1.0,>=2.0.2 in c:\\users\\andre\\appdata\\local\\programs\\python\\python38\\lib\\site-packages (from spacy) (2.0.7)\n",
      "Requirement already satisfied: preshed<3.1.0,>=3.0.2 in c:\\users\\andre\\appdata\\local\\programs\\python\\python38\\lib\\site-packages (from spacy) (3.0.8)\n",
      "Requirement already satisfied: thinc<8.2.0,>=8.1.8 in c:\\users\\andre\\appdata\\local\\programs\\python\\python38\\lib\\site-packages (from spacy) (8.1.10)\n",
      "Requirement already satisfied: wasabi<1.2.0,>=0.9.1 in c:\\users\\andre\\appdata\\local\\programs\\python\\python38\\lib\\site-packages (from spacy) (1.1.1)\n",
      "Requirement already satisfied: srsly<3.0.0,>=2.4.3 in c:\\users\\andre\\appdata\\local\\programs\\python\\python38\\lib\\site-packages (from spacy) (2.4.6)\n",
      "Requirement already satisfied: catalogue<2.1.0,>=2.0.6 in c:\\users\\andre\\appdata\\local\\programs\\python\\python38\\lib\\site-packages (from spacy) (2.0.8)\n",
      "Requirement already satisfied: typer<0.8.0,>=0.3.0 in c:\\users\\andre\\appdata\\local\\programs\\python\\python38\\lib\\site-packages (from spacy) (0.7.0)\n",
      "Requirement already satisfied: pathy>=0.10.0 in c:\\users\\andre\\appdata\\local\\programs\\python\\python38\\lib\\site-packages (from spacy) (0.10.1)\n",
      "Requirement already satisfied: smart-open<7.0.0,>=5.2.1 in c:\\users\\andre\\appdata\\local\\programs\\python\\python38\\lib\\site-packages (from spacy) (6.3.0)\n",
      "Requirement already satisfied: tqdm<5.0.0,>=4.38.0 in c:\\users\\andre\\appdata\\local\\programs\\python\\python38\\lib\\site-packages (from spacy) (4.65.0)\n",
      "Requirement already satisfied: numpy>=1.15.0 in c:\\users\\andre\\appdata\\local\\programs\\python\\python38\\lib\\site-packages (from spacy) (1.24.2)\n",
      "Requirement already satisfied: requests<3.0.0,>=2.13.0 in c:\\users\\andre\\appdata\\local\\programs\\python\\python38\\lib\\site-packages (from spacy) (2.28.2)\n",
      "Requirement already satisfied: pydantic!=1.8,!=1.8.1,<1.11.0,>=1.7.4 in c:\\users\\andre\\appdata\\local\\programs\\python\\python38\\lib\\site-packages (from spacy) (1.10.7)\n",
      "Requirement already satisfied: jinja2 in c:\\users\\andre\\appdata\\local\\programs\\python\\python38\\lib\\site-packages (from spacy) (3.1.2)\n",
      "Requirement already satisfied: setuptools in c:\\users\\andre\\appdata\\local\\programs\\python\\python38\\lib\\site-packages (from spacy) (49.2.1)\n",
      "Requirement already satisfied: packaging>=20.0 in c:\\users\\andre\\appdata\\local\\programs\\python\\python38\\lib\\site-packages (from spacy) (23.0)\n",
      "Requirement already satisfied: langcodes<4.0.0,>=3.2.0 in c:\\users\\andre\\appdata\\local\\programs\\python\\python38\\lib\\site-packages (from spacy) (3.3.0)\n",
      "Requirement already satisfied: typing-extensions>=4.2.0 in c:\\users\\andre\\appdata\\local\\programs\\python\\python38\\lib\\site-packages (from pydantic!=1.8,!=1.8.1,<1.11.0,>=1.7.4->spacy) (4.5.0)\n",
      "Requirement already satisfied: charset-normalizer<4,>=2 in c:\\users\\andre\\appdata\\local\\programs\\python\\python38\\lib\\site-packages (from requests<3.0.0,>=2.13.0->spacy) (3.1.0)\n",
      "Requirement already satisfied: idna<4,>=2.5 in c:\\users\\andre\\appdata\\local\\programs\\python\\python38\\lib\\site-packages (from requests<3.0.0,>=2.13.0->spacy) (3.4)\n",
      "Requirement already satisfied: urllib3<1.27,>=1.21.1 in c:\\users\\andre\\appdata\\local\\programs\\python\\python38\\lib\\site-packages (from requests<3.0.0,>=2.13.0->spacy) (1.26.15)\n",
      "Requirement already satisfied: certifi>=2017.4.17 in c:\\users\\andre\\appdata\\local\\programs\\python\\python38\\lib\\site-packages (from requests<3.0.0,>=2.13.0->spacy) (2022.12.7)\n",
      "Requirement already satisfied: blis<0.8.0,>=0.7.8 in c:\\users\\andre\\appdata\\local\\programs\\python\\python38\\lib\\site-packages (from thinc<8.2.0,>=8.1.8->spacy) (0.7.9)\n",
      "Requirement already satisfied: confection<1.0.0,>=0.0.1 in c:\\users\\andre\\appdata\\local\\programs\\python\\python38\\lib\\site-packages (from thinc<8.2.0,>=8.1.8->spacy) (0.0.4)\n",
      "Requirement already satisfied: colorama in c:\\users\\andre\\appdata\\local\\programs\\python\\python38\\lib\\site-packages (from tqdm<5.0.0,>=4.38.0->spacy) (0.4.6)\n",
      "Requirement already satisfied: click<9.0.0,>=7.1.1 in c:\\users\\andre\\appdata\\local\\programs\\python\\python38\\lib\\site-packages (from typer<0.8.0,>=0.3.0->spacy) (8.1.3)\n",
      "Requirement already satisfied: MarkupSafe>=2.0 in c:\\users\\andre\\appdata\\local\\programs\\python\\python38\\lib\\site-packages (from jinja2->spacy) (2.1.2)\n",
      "Collecting en-core-web-sm==3.5.0\n",
      "  Downloading https://github.com/explosion/spacy-models/releases/download/en_core_web_sm-3.5.0/en_core_web_sm-3.5.0-py3-none-any.whl (12.8 MB)\n",
      "                                              0.0/12.8 MB ? eta -:--:--\n",
      "     -                                        0.5/12.8 MB 14.9 MB/s eta 0:00:01\n",
      "     ---                                      1.1/12.8 MB 11.3 MB/s eta 0:00:02\n",
      "     ----                                     1.6/12.8 MB 12.7 MB/s eta 0:00:01\n",
      "     ------                                   2.2/12.8 MB 11.6 MB/s eta 0:00:01\n",
      "     --------                                 2.7/12.8 MB 12.4 MB/s eta 0:00:01\n",
      "     ----------                               3.2/12.8 MB 12.2 MB/s eta 0:00:01\n",
      "     ------------                             3.9/12.8 MB 11.7 MB/s eta 0:00:01\n",
      "     -------------                            4.4/12.8 MB 12.2 MB/s eta 0:00:01\n",
      "     ---------------                          5.0/12.8 MB 11.7 MB/s eta 0:00:01\n",
      "     -----------------                        5.5/12.8 MB 11.7 MB/s eta 0:00:01\n",
      "     ------------------                       6.0/12.8 MB 11.7 MB/s eta 0:00:01\n",
      "     --------------------                     6.6/12.8 MB 11.8 MB/s eta 0:00:01\n",
      "     ----------------------                   7.2/12.8 MB 11.7 MB/s eta 0:00:01\n",
      "     ------------------------                 7.7/12.8 MB 11.8 MB/s eta 0:00:01\n",
      "     -------------------------                8.3/12.8 MB 11.8 MB/s eta 0:00:01\n",
      "     ---------------------------              8.8/12.8 MB 11.7 MB/s eta 0:00:01\n",
      "     -----------------------------            9.4/12.8 MB 12.0 MB/s eta 0:00:01\n",
      "     -------------------------------          9.9/12.8 MB 11.8 MB/s eta 0:00:01\n",
      "     -------------------------------         10.5/12.8 MB 11.9 MB/s eta 0:00:01\n",
      "     ---------------------------------       11.1/12.8 MB 11.7 MB/s eta 0:00:01\n",
      "     -----------------------------------     11.6/12.8 MB 11.7 MB/s eta 0:00:01\n",
      "     ------------------------------------    12.1/12.8 MB 11.9 MB/s eta 0:00:01\n",
      "     --------------------------------------  12.7/12.8 MB 11.7 MB/s eta 0:00:01\n",
      "     --------------------------------------  12.8/12.8 MB 11.9 MB/s eta 0:00:01\n",
      "     --------------------------------------- 12.8/12.8 MB 11.3 MB/s eta 0:00:00\n",
      "Requirement already satisfied: spacy<3.6.0,>=3.5.0 in c:\\users\\andre\\appdata\\local\\programs\\python\\python38\\lib\\site-packages (from en-core-web-sm==3.5.0) (3.5.3)\n",
      "Requirement already satisfied: spacy-legacy<3.1.0,>=3.0.11 in c:\\users\\andre\\appdata\\local\\programs\\python\\python38\\lib\\site-packages (from spacy<3.6.0,>=3.5.0->en-core-web-sm==3.5.0) (3.0.12)\n",
      "Requirement already satisfied: spacy-loggers<2.0.0,>=1.0.0 in c:\\users\\andre\\appdata\\local\\programs\\python\\python38\\lib\\site-packages (from spacy<3.6.0,>=3.5.0->en-core-web-sm==3.5.0) (1.0.4)\n",
      "Requirement already satisfied: murmurhash<1.1.0,>=0.28.0 in c:\\users\\andre\\appdata\\local\\programs\\python\\python38\\lib\\site-packages (from spacy<3.6.0,>=3.5.0->en-core-web-sm==3.5.0) (1.0.9)\n",
      "Requirement already satisfied: cymem<2.1.0,>=2.0.2 in c:\\users\\andre\\appdata\\local\\programs\\python\\python38\\lib\\site-packages (from spacy<3.6.0,>=3.5.0->en-core-web-sm==3.5.0) (2.0.7)\n",
      "Requirement already satisfied: preshed<3.1.0,>=3.0.2 in c:\\users\\andre\\appdata\\local\\programs\\python\\python38\\lib\\site-packages (from spacy<3.6.0,>=3.5.0->en-core-web-sm==3.5.0) (3.0.8)\n",
      "Requirement already satisfied: thinc<8.2.0,>=8.1.8 in c:\\users\\andre\\appdata\\local\\programs\\python\\python38\\lib\\site-packages (from spacy<3.6.0,>=3.5.0->en-core-web-sm==3.5.0) (8.1.10)\n",
      "Requirement already satisfied: wasabi<1.2.0,>=0.9.1 in c:\\users\\andre\\appdata\\local\\programs\\python\\python38\\lib\\site-packages (from spacy<3.6.0,>=3.5.0->en-core-web-sm==3.5.0) (1.1.1)\n",
      "Requirement already satisfied: srsly<3.0.0,>=2.4.3 in c:\\users\\andre\\appdata\\local\\programs\\python\\python38\\lib\\site-packages (from spacy<3.6.0,>=3.5.0->en-core-web-sm==3.5.0) (2.4.6)\n",
      "Requirement already satisfied: catalogue<2.1.0,>=2.0.6 in c:\\users\\andre\\appdata\\local\\programs\\python\\python38\\lib\\site-packages (from spacy<3.6.0,>=3.5.0->en-core-web-sm==3.5.0) (2.0.8)\n",
      "Requirement already satisfied: typer<0.8.0,>=0.3.0 in c:\\users\\andre\\appdata\\local\\programs\\python\\python38\\lib\\site-packages (from spacy<3.6.0,>=3.5.0->en-core-web-sm==3.5.0) (0.7.0)\n",
      "Requirement already satisfied: pathy>=0.10.0 in c:\\users\\andre\\appdata\\local\\programs\\python\\python38\\lib\\site-packages (from spacy<3.6.0,>=3.5.0->en-core-web-sm==3.5.0) (0.10.1)\n",
      "Requirement already satisfied: smart-open<7.0.0,>=5.2.1 in c:\\users\\andre\\appdata\\local\\programs\\python\\python38\\lib\\site-packages (from spacy<3.6.0,>=3.5.0->en-core-web-sm==3.5.0) (6.3.0)\n",
      "Requirement already satisfied: tqdm<5.0.0,>=4.38.0 in c:\\users\\andre\\appdata\\local\\programs\\python\\python38\\lib\\site-packages (from spacy<3.6.0,>=3.5.0->en-core-web-sm==3.5.0) (4.65.0)\n",
      "Requirement already satisfied: numpy>=1.15.0 in c:\\users\\andre\\appdata\\local\\programs\\python\\python38\\lib\\site-packages (from spacy<3.6.0,>=3.5.0->en-core-web-sm==3.5.0) (1.24.2)\n",
      "Requirement already satisfied: requests<3.0.0,>=2.13.0 in c:\\users\\andre\\appdata\\local\\programs\\python\\python38\\lib\\site-packages (from spacy<3.6.0,>=3.5.0->en-core-web-sm==3.5.0) (2.28.2)\n",
      "Requirement already satisfied: pydantic!=1.8,!=1.8.1,<1.11.0,>=1.7.4 in c:\\users\\andre\\appdata\\local\\programs\\python\\python38\\lib\\site-packages (from spacy<3.6.0,>=3.5.0->en-core-web-sm==3.5.0) (1.10.7)\n",
      "Requirement already satisfied: jinja2 in c:\\users\\andre\\appdata\\local\\programs\\python\\python38\\lib\\site-packages (from spacy<3.6.0,>=3.5.0->en-core-web-sm==3.5.0) (3.1.2)\n",
      "Requirement already satisfied: setuptools in c:\\users\\andre\\appdata\\local\\programs\\python\\python38\\lib\\site-packages (from spacy<3.6.0,>=3.5.0->en-core-web-sm==3.5.0) (49.2.1)\n",
      "Requirement already satisfied: packaging>=20.0 in c:\\users\\andre\\appdata\\local\\programs\\python\\python38\\lib\\site-packages (from spacy<3.6.0,>=3.5.0->en-core-web-sm==3.5.0) (23.0)\n",
      "Requirement already satisfied: langcodes<4.0.0,>=3.2.0 in c:\\users\\andre\\appdata\\local\\programs\\python\\python38\\lib\\site-packages (from spacy<3.6.0,>=3.5.0->en-core-web-sm==3.5.0) (3.3.0)\n",
      "Requirement already satisfied: typing-extensions>=4.2.0 in c:\\users\\andre\\appdata\\local\\programs\\python\\python38\\lib\\site-packages (from pydantic!=1.8,!=1.8.1,<1.11.0,>=1.7.4->spacy<3.6.0,>=3.5.0->en-core-web-sm==3.5.0) (4.5.0)\n",
      "Requirement already satisfied: charset-normalizer<4,>=2 in c:\\users\\andre\\appdata\\local\\programs\\python\\python38\\lib\\site-packages (from requests<3.0.0,>=2.13.0->spacy<3.6.0,>=3.5.0->en-core-web-sm==3.5.0) (3.1.0)\n",
      "Requirement already satisfied: idna<4,>=2.5 in c:\\users\\andre\\appdata\\local\\programs\\python\\python38\\lib\\site-packages (from requests<3.0.0,>=2.13.0->spacy<3.6.0,>=3.5.0->en-core-web-sm==3.5.0) (3.4)\n",
      "Requirement already satisfied: urllib3<1.27,>=1.21.1 in c:\\users\\andre\\appdata\\local\\programs\\python\\python38\\lib\\site-packages (from requests<3.0.0,>=2.13.0->spacy<3.6.0,>=3.5.0->en-core-web-sm==3.5.0) (1.26.15)\n",
      "Requirement already satisfied: certifi>=2017.4.17 in c:\\users\\andre\\appdata\\local\\programs\\python\\python38\\lib\\site-packages (from requests<3.0.0,>=2.13.0->spacy<3.6.0,>=3.5.0->en-core-web-sm==3.5.0) (2022.12.7)\n",
      "Requirement already satisfied: blis<0.8.0,>=0.7.8 in c:\\users\\andre\\appdata\\local\\programs\\python\\python38\\lib\\site-packages (from thinc<8.2.0,>=8.1.8->spacy<3.6.0,>=3.5.0->en-core-web-sm==3.5.0) (0.7.9)\n",
      "Requirement already satisfied: confection<1.0.0,>=0.0.1 in c:\\users\\andre\\appdata\\local\\programs\\python\\python38\\lib\\site-packages (from thinc<8.2.0,>=8.1.8->spacy<3.6.0,>=3.5.0->en-core-web-sm==3.5.0) (0.0.4)\n",
      "Requirement already satisfied: colorama in c:\\users\\andre\\appdata\\local\\programs\\python\\python38\\lib\\site-packages (from tqdm<5.0.0,>=4.38.0->spacy<3.6.0,>=3.5.0->en-core-web-sm==3.5.0) (0.4.6)\n",
      "Requirement already satisfied: click<9.0.0,>=7.1.1 in c:\\users\\andre\\appdata\\local\\programs\\python\\python38\\lib\\site-packages (from typer<0.8.0,>=0.3.0->spacy<3.6.0,>=3.5.0->en-core-web-sm==3.5.0) (8.1.3)\n",
      "Requirement already satisfied: MarkupSafe>=2.0 in c:\\users\\andre\\appdata\\local\\programs\\python\\python38\\lib\\site-packages (from jinja2->spacy<3.6.0,>=3.5.0->en-core-web-sm==3.5.0) (2.1.2)\n",
      "\u001b[38;5;2m✔ Download and installation successful\u001b[0m\n",
      "You can now load the package via spacy.load('en_core_web_sm')\n"
     ]
    }
   ],
   "source": [
    "import pandas as pd\n",
    "import numpy as np\n",
    "from numpy import arccos\n",
    "import nltk\n",
    "nltk.download(\"punkt\")\n",
    "nltk.download('stopwords')\n",
    "from nltk.corpus import stopwords\n",
    "from nltk.tokenize import word_tokenize\n",
    "from string import punctuation\n",
    "import matplotlib.pyplot as plt\n",
    "import re\n",
    "from tqdm import tqdm\n",
    "from unidecode import unidecode\n",
    "!pip install -U spacy\n",
    "import spacy\n",
    "import sys\n",
    "!{sys.executable} -m spacy download en_core_web_sm\n",
    "spacy_nlp = spacy.load('en_core_web_sm', disable=['parser', 'ner'])\n",
    "from sklearn.metrics.pairwise import cosine_similarity\n",
    "from sklearn.cluster import KMeans\n",
    "from sklearn.feature_extraction.text import TfidfVectorizer\n",
    "from sklearn.feature_extraction.text import TfidfVectorizer\n",
    "from sklearn.metrics import mean_squared_error"
   ]
  },
  {
   "cell_type": "code",
   "execution_count": 3,
   "metadata": {},
   "outputs": [
    {
     "name": "stdout",
     "output_type": "stream",
     "text": [
      "shape of the Dataframe (5749, 7)\n"
     ]
    },
    {
     "data": {
      "text/html": [
       "<div>\n",
       "<style scoped>\n",
       "    .dataframe tbody tr th:only-of-type {\n",
       "        vertical-align: middle;\n",
       "    }\n",
       "\n",
       "    .dataframe tbody tr th {\n",
       "        vertical-align: top;\n",
       "    }\n",
       "\n",
       "    .dataframe thead th {\n",
       "        text-align: right;\n",
       "    }\n",
       "</style>\n",
       "<table border=\"1\" class=\"dataframe\">\n",
       "  <thead>\n",
       "    <tr style=\"text-align: right;\">\n",
       "      <th></th>\n",
       "      <th>genre</th>\n",
       "      <th>filename</th>\n",
       "      <th>year</th>\n",
       "      <th>index</th>\n",
       "      <th>score</th>\n",
       "      <th>sentence1</th>\n",
       "      <th>sentence2</th>\n",
       "    </tr>\n",
       "  </thead>\n",
       "  <tbody>\n",
       "    <tr>\n",
       "      <th>0</th>\n",
       "      <td>main-captions</td>\n",
       "      <td>MSRvid</td>\n",
       "      <td>2012test</td>\n",
       "      <td>1</td>\n",
       "      <td>5.00</td>\n",
       "      <td>A plane is taking off.</td>\n",
       "      <td>An air plane is taking off.</td>\n",
       "    </tr>\n",
       "    <tr>\n",
       "      <th>1</th>\n",
       "      <td>main-captions</td>\n",
       "      <td>MSRvid</td>\n",
       "      <td>2012test</td>\n",
       "      <td>4</td>\n",
       "      <td>3.80</td>\n",
       "      <td>A man is playing a large flute.</td>\n",
       "      <td>A man is playing a flute.</td>\n",
       "    </tr>\n",
       "    <tr>\n",
       "      <th>2</th>\n",
       "      <td>main-captions</td>\n",
       "      <td>MSRvid</td>\n",
       "      <td>2012test</td>\n",
       "      <td>5</td>\n",
       "      <td>3.80</td>\n",
       "      <td>A man is spreading shreded cheese on a pizza.</td>\n",
       "      <td>A man is spreading shredded cheese on an uncoo...</td>\n",
       "    </tr>\n",
       "    <tr>\n",
       "      <th>3</th>\n",
       "      <td>main-captions</td>\n",
       "      <td>MSRvid</td>\n",
       "      <td>2012test</td>\n",
       "      <td>6</td>\n",
       "      <td>2.60</td>\n",
       "      <td>Three men are playing chess.</td>\n",
       "      <td>Two men are playing chess.</td>\n",
       "    </tr>\n",
       "    <tr>\n",
       "      <th>4</th>\n",
       "      <td>main-captions</td>\n",
       "      <td>MSRvid</td>\n",
       "      <td>2012test</td>\n",
       "      <td>9</td>\n",
       "      <td>4.25</td>\n",
       "      <td>A man is playing the cello.</td>\n",
       "      <td>A man seated is playing the cello.</td>\n",
       "    </tr>\n",
       "    <tr>\n",
       "      <th>5</th>\n",
       "      <td>main-captions</td>\n",
       "      <td>MSRvid</td>\n",
       "      <td>2012test</td>\n",
       "      <td>11</td>\n",
       "      <td>4.25</td>\n",
       "      <td>Some men are fighting.</td>\n",
       "      <td>Two men are fighting.</td>\n",
       "    </tr>\n",
       "    <tr>\n",
       "      <th>6</th>\n",
       "      <td>main-captions</td>\n",
       "      <td>MSRvid</td>\n",
       "      <td>2012test</td>\n",
       "      <td>12</td>\n",
       "      <td>0.50</td>\n",
       "      <td>A man is smoking.</td>\n",
       "      <td>A man is skating.</td>\n",
       "    </tr>\n",
       "    <tr>\n",
       "      <th>7</th>\n",
       "      <td>main-captions</td>\n",
       "      <td>MSRvid</td>\n",
       "      <td>2012test</td>\n",
       "      <td>13</td>\n",
       "      <td>1.60</td>\n",
       "      <td>The man is playing the piano.</td>\n",
       "      <td>The man is playing the guitar.</td>\n",
       "    </tr>\n",
       "    <tr>\n",
       "      <th>8</th>\n",
       "      <td>main-captions</td>\n",
       "      <td>MSRvid</td>\n",
       "      <td>2012test</td>\n",
       "      <td>14</td>\n",
       "      <td>2.20</td>\n",
       "      <td>A man is playing on a guitar and singing.</td>\n",
       "      <td>A woman is playing an acoustic guitar and sing...</td>\n",
       "    </tr>\n",
       "    <tr>\n",
       "      <th>9</th>\n",
       "      <td>main-captions</td>\n",
       "      <td>MSRvid</td>\n",
       "      <td>2012test</td>\n",
       "      <td>16</td>\n",
       "      <td>5.00</td>\n",
       "      <td>A person is throwing a cat on to the ceiling.</td>\n",
       "      <td>A person throws a cat on the ceiling.</td>\n",
       "    </tr>\n",
       "  </tbody>\n",
       "</table>\n",
       "</div>"
      ],
      "text/plain": [
       "           genre filename      year  index  score   \n",
       "0  main-captions   MSRvid  2012test      1   5.00  \\\n",
       "1  main-captions   MSRvid  2012test      4   3.80   \n",
       "2  main-captions   MSRvid  2012test      5   3.80   \n",
       "3  main-captions   MSRvid  2012test      6   2.60   \n",
       "4  main-captions   MSRvid  2012test      9   4.25   \n",
       "5  main-captions   MSRvid  2012test     11   4.25   \n",
       "6  main-captions   MSRvid  2012test     12   0.50   \n",
       "7  main-captions   MSRvid  2012test     13   1.60   \n",
       "8  main-captions   MSRvid  2012test     14   2.20   \n",
       "9  main-captions   MSRvid  2012test     16   5.00   \n",
       "\n",
       "                                       sentence1   \n",
       "0                         A plane is taking off.  \\\n",
       "1                A man is playing a large flute.   \n",
       "2  A man is spreading shreded cheese on a pizza.   \n",
       "3                   Three men are playing chess.   \n",
       "4                    A man is playing the cello.   \n",
       "5                         Some men are fighting.   \n",
       "6                              A man is smoking.   \n",
       "7                  The man is playing the piano.   \n",
       "8      A man is playing on a guitar and singing.   \n",
       "9  A person is throwing a cat on to the ceiling.   \n",
       "\n",
       "                                           sentence2  \n",
       "0                        An air plane is taking off.  \n",
       "1                          A man is playing a flute.  \n",
       "2  A man is spreading shredded cheese on an uncoo...  \n",
       "3                         Two men are playing chess.  \n",
       "4                 A man seated is playing the cello.  \n",
       "5                              Two men are fighting.  \n",
       "6                                  A man is skating.  \n",
       "7                     The man is playing the guitar.  \n",
       "8  A woman is playing an acoustic guitar and sing...  \n",
       "9              A person throws a cat on the ceiling.  "
      ]
     },
     "execution_count": 3,
     "metadata": {},
     "output_type": "execute_result"
    }
   ],
   "source": [
    "def on_bad_line(values):\n",
    "    return values[:7]\n",
    "\n",
    "columns_mapping = {\n",
    "    0: 'genre',\n",
    "    1: 'filename',\n",
    "    2: 'year',\n",
    "    3: 'index',\n",
    "    4: 'score',\n",
    "    5: 'sentence1',\n",
    "    6: 'sentence2'\n",
    "}\n",
    "\n",
    "# quotings 3 = csv.QUOTE_NONE\n",
    "df = pd.read_csv('Dataset/sts-train.csv', sep=\"\\t\", on_bad_lines=on_bad_line, engine='python', header=None, encoding='utf-8', quoting=3).rename(columns=columns_mapping)\n",
    "print(f'shape of the Dataframe {df.shape}')\n",
    "df.head(10)"
   ]
  },
  {
   "cell_type": "code",
   "execution_count": 4,
   "metadata": {},
   "outputs": [
    {
     "name": "stdout",
     "output_type": "stream",
     "text": [
      "Total number of sentences: 10566\n"
     ]
    }
   ],
   "source": [
    "sentences1 = df[\"sentence1\"]\n",
    "sentences2 = df[\"sentence2\"]\n",
    "sentences_list = np.unique(np.concatenate((np.ravel(sentences1.values),np.ravel(sentences2.values))))\n",
    "\n",
    "print(f\"Total number of sentences: {len(sentences_list)}\")"
   ]
  },
  {
   "cell_type": "code",
   "execution_count": 5,
   "metadata": {},
   "outputs": [
    {
     "name": "stdout",
     "output_type": "stream",
     "text": [
      "[' - Income, top rate:  percent.' ' Foxe was mostly frozen.'\n",
      " \" billion . Everyone in the world at Mexico's current prosperity level.\"\n",
      " ' warmed.C from the year prior.'\n",
      " '\"Americans don\\'t cut and run, we have to see this misadventure through,\" she said.']\n",
      "['income top rate percent' 'foxe mostly frozen'\n",
      " 'billion everyone world mexicos current prosperity level'\n",
      " 'warmedc year prior' 'americans dont cut run see misadventure said']\n",
      "['income top rate percent' 'foxe mostly frozen'\n",
      " 'billion everyone world mexicos current prosperity level'\n",
      " 'warmedc year prior' 'americans cut run see misadventure say']\n"
     ]
    }
   ],
   "source": [
    "def remove_special_chars(text):\n",
    "    regex = '[' + punctuation + ']'\n",
    "    return re.sub(regex,'',unidecode(text)).lower()\n",
    "\n",
    "def remove_stop_words(text):\n",
    "    stop_words = stopwords.words('english')\n",
    "    return ' '.join([word for word in text.split() if word not in stop_words])\n",
    "\n",
    "def lemmatize(text):\n",
    "    parsed_sentence = spacy_nlp(str(text))\n",
    "    lemmatized_sentence = ' '.join([word.lemma_ for word in parsed_sentence])\n",
    "    return lemmatized_sentence\n",
    "\n",
    "#TODO mostrare differenze tra originale e lemmatizzazione\n",
    "\n",
    "\n",
    "no_punct_sentences_list = np.array([remove_special_chars(string) for string in sentences_list])\n",
    "clean_sentences_list = np.array([remove_stop_words(string) for string in no_punct_sentences_list])\n",
    "lemmatized_sentences_list = np.array([remove_stop_words(lemmatize(remove_special_chars(sentence)).lower()) for sentence in clean_sentences_list])\n",
    "\n",
    "\n",
    "\n",
    "print(sentences_list[:5])\n",
    "print(clean_sentences_list[:5])\n",
    "print(lemmatized_sentences_list[:5])"
   ]
  },
  {
   "cell_type": "code",
   "execution_count": 5,
   "metadata": {},
   "outputs": [
    {
     "name": "stdout",
     "output_type": "stream",
     "text": [
      "Mean length of sentences in characters: 59.37\n"
     ]
    }
   ],
   "source": [
    "array_len = np.vectorize(len)(sentences_list)\n",
    "mean_len = np.mean(array_len)\n",
    "print(f\"Mean length of sentences in characters: {mean_len:.2f}\")"
   ]
  },
  {
   "cell_type": "code",
   "execution_count": 6,
   "metadata": {},
   "outputs": [
    {
     "name": "stdout",
     "output_type": "stream",
     "text": [
      "Maximum sentence length: 56\n",
      "Minimum sentence length: 2\n",
      "Mean length of sentences in words: 10.17\n"
     ]
    },
    {
     "data": {
      "image/png": "[encoded data removed]",
      "text/plain": [
       "<Figure size 640x480 with 1 Axes>"
      ]
     },
     "metadata": {},
     "output_type": "display_data"
    }
   ],
   "source": [
    "arr_words = np.array([len(s.split()) for s in sentences_list])\n",
    "\n",
    "print(f\"Maximum sentence length: {np.max(arr_words)}\")\n",
    "print(f\"Minimum sentence length: {np.min(arr_words)}\")\n",
    "\n",
    "mean_sentences_length = np.mean(arr_words);\n",
    "print(f\"Mean length of sentences in words: {mean_sentences_length:.2f}\")\n",
    "\n",
    "unique, counts = np.unique(arr_words, return_counts=True)\n",
    "\n",
    "plt.bar(unique, counts)\n",
    "\n",
    "plt.axvline(x=mean_sentences_length, color='r', linestyle='--')\n",
    "\n",
    "plt.xlabel(\"Sentence length\")\n",
    "plt.ylabel(\"Occurrencies\")\n",
    "plt.title(\"Occurencies per sentence length\")\n",
    "\n",
    "\n",
    "plt.show()"
   ]
  },
  {
   "cell_type": "code",
   "execution_count": 7,
   "metadata": {},
   "outputs": [
    {
     "data": {
      "text/plain": [
       "[('man', 853),\n",
       " ('woman', 547),\n",
       " ('two', 458),\n",
       " ('said', 455),\n",
       " ('dog', 418),\n",
       " ('us', 402),\n",
       " ('white', 282),\n",
       " ('killed', 265),\n",
       " ('black', 258),\n",
       " ('playing', 254),\n",
       " ('percent', 253),\n",
       " ('new', 238),\n",
       " ('people', 217),\n",
       " ('syria', 211),\n",
       " ('china', 191),\n",
       " ('police', 173),\n",
       " ('running', 170),\n",
       " ('president', 168),\n",
       " ('person', 161),\n",
       " ('water', 156)]"
      ]
     },
     "execution_count": 7,
     "metadata": {},
     "output_type": "execute_result"
    }
   ],
   "source": [
    "words_with_duplicates = [word for string in no_punct_sentences_list for word in word_tokenize(string)]\n",
    "words_nostopwords = [w for w in words_with_duplicates if w not in stopwords.words('english')]\n",
    "counts_nostopwords = nltk.Counter(words_nostopwords)\n",
    "counts_nostopwords.most_common(20)"
   ]
  },
  {
   "cell_type": "code",
   "execution_count": 8,
   "metadata": {},
   "outputs": [
    {
     "name": "stdout",
     "output_type": "stream",
     "text": [
      "12243\n",
      "['0' '004' '005' ... 'zubaidi' 'zuccarini' 'zuma']\n"
     ]
    }
   ],
   "source": [
    "vocabulary = np.unique(words_nostopwords)\n",
    "print(len(vocabulary))\n",
    "print(vocabulary)"
   ]
  },
  {
   "cell_type": "code",
   "execution_count": 9,
   "metadata": {},
   "outputs": [
    {
     "name": "stdout",
     "output_type": "stream",
     "text": [
      "Mean scores of sentence similarity: 2.70\n"
     ]
    },
    {
     "data": {
      "image/png": "[encoded data removed]",
      "text/plain": [
       "<Figure size 640x480 with 1 Axes>"
      ]
     },
     "metadata": {},
     "output_type": "display_data"
    }
   ],
   "source": [
    "tot_scores = df[\"score\"]\n",
    "scores = np.ravel(tot_scores.values)\n",
    "\n",
    "mean_scores = np.mean(scores);\n",
    "print(f\"Mean scores of sentence similarity: {mean_scores:.2f}\")\n",
    "\n",
    "plt.hist(scores, bins=35, alpha=0.5, color='blue', rwidth=0.7)\n",
    "\n",
    "plt.axvline(x=mean_scores, color='r', linestyle='--')\n",
    "\n",
    "plt.xlabel(\"Score\")\n",
    "plt.ylabel(\"Occurrencies\")\n",
    "plt.title(\"Scores occurrencies\")\n",
    "\n",
    "plt.show()"
   ]
  },
  {
   "cell_type": "markdown",
   "metadata": {},
   "source": [
    "## Text Clustering"
   ]
  },
  {
   "cell_type": "code",
   "execution_count": 54,
   "metadata": {},
   "outputs": [
    {
     "name": "stdout",
     "output_type": "stream",
     "text": [
      "(10566, 9857)\n",
      "['004' '005' '006' ... 'zubaidi' 'zuccarini' 'zuma']\n"
     ]
    }
   ],
   "source": [
    "# creazione della matrice di similarità\n",
    "tfidf = TfidfVectorizer(max_df=0.8, min_df=0, stop_words='english', strip_accents='ascii')\n",
    "tfidf_matrix = tfidf.fit_transform(lemmatized_sentences_list)\n",
    "vocab = tfidf.get_feature_names_out()\n",
    "\n",
    "print(tfidf_matrix.shape)\n",
    "print(vocab)"
   ]
  },
  {
   "cell_type": "code",
   "execution_count": 55,
   "metadata": {},
   "outputs": [
    {
     "name": "stdout",
     "output_type": "stream",
     "text": [
      "The word dog is present in 517 documents. Here's the first 5:\n",
      "1. a baby is playing with a dog\n",
      "2. a baby plays with a dog and ball\n",
      "3. a bear is running from two dogs\n",
      "4. a black and a brown dog running in the grass\n",
      "5. a black and a yellow dog\n"
     ]
    }
   ],
   "source": [
    "word = 'dog'\n",
    "word_id = tfidf.transform([word]).nonzero()[1]\n",
    "filter = tfidf_matrix.getcol(word_id).nonzero()[0]\n",
    "print(f'The word {word} is present in {len(filter)} documents. Here\\'s the first 5:')\n",
    "for idx, text in enumerate(no_punct_sentences_list[filter][:5]):\n",
    "    print(str(idx + 1) + '.' , text)"
   ]
  },
  {
   "cell_type": "code",
   "execution_count": 62,
   "metadata": {},
   "outputs": [
    {
     "name": "stdout",
     "output_type": "stream",
     "text": [
      "[[1.14046735 1.08209408 1.18268806 ... 1.04827455 1.09872832 1.0003299 ]\n",
      " [1.14046735 1.08209408 1.18268806 ... 1.04827455 1.09872832 1.00084739]\n",
      " [1.14046735 1.08209408 1.18268806 ... 1.04613295 1.09872832 0.9991366 ]\n",
      " ...\n",
      " [1.14046735 1.08209408 1.18268806 ... 1.04770756 1.0982164  0.99900267]\n",
      " [1.14046735 1.08128212 1.18268806 ... 1.04827455 1.09768281 0.99755638]\n",
      " [1.14046735 1.07957184 1.17825067 ... 1.04741062 1.09872832 0.99843948]]\n",
      "[26 29 29 ...  3  3 29]\n"
     ]
    },
    {
     "data": {
      "image/png": "[encoded data removed]",
      "text/plain": [
       "<Figure size 640x480 with 1 Axes>"
      ]
     },
     "metadata": {},
     "output_type": "display_data"
    }
   ],
   "source": [
    "#TODO remove\n",
    "k = 30\n",
    "kmeans = KMeans(n_clusters=k, n_init=10, random_state=42)\n",
    "cluster_matrix = kmeans.fit_transform(tfidf_matrix)\n",
    "print(cluster_matrix)\n",
    "clusters = np.argmin(cluster_matrix, axis=-1)\n",
    "print(clusters)\n",
    "\n",
    "uniques, counts = np.unique(clusters, return_counts=True)\n",
    "plt.bar(uniques, counts)\n",
    "plt.xlabel('Cluster Number')\n",
    "plt.ylabel('Sentences')\n",
    "plt.xticks(uniques, rotation=90)\n",
    "plt.title('Samples per class')\n",
    "plt.show()"
   ]
  },
  {
   "attachments": {},
   "cell_type": "markdown",
   "metadata": {},
   "source": [
    "As we can see there is a very large cluster that might correspond to more common terms across the corpus. The other clusters though look well distributed"
   ]
  },
  {
   "cell_type": "code",
   "execution_count": 63,
   "metadata": {},
   "outputs": [
    {
     "name": "stdout",
     "output_type": "stream",
     "text": [
      "Top terms per cluster:\n",
      "Cluster 0:\t['sheep', 'stand', 'black', 'field', 'hill']\n",
      "Cluster 1:\t['sit', 'table', 'people', 'man', 'woman']\n",
      "Cluster 2:\t['dance', 'woman', 'man', 'group', 'rain']\n",
      "Cluster 3:\t['small', 'international', 'end', 'myanmar', 'state']\n",
      "Cluster 4:\t['dog', 'run', 'snow', 'grass', 'brown']\n",
      "Cluster 5:\t['stock', 'close', 'high', 'low', 'open']\n",
      "Cluster 6:\t['korea', 'south', 'north', 'korean', 'nuclear']\n",
      "Cluster 7:\t['attack', 'kill', 'iraq', 'suicide', 'bomb']\n",
      "Cluster 8:\t['chemical', 'weapon', 'syria', 'use', 'destroy']\n",
      "Cluster 9:\t['play', 'man', 'guitar', 'boy', 'piano']\n",
      "Cluster 10:\t['woman', 'slice', 'cut', 'man', 'meat']\n",
      "Cluster 11:\t['train', 'track', 'station', 'crash', 'dead']\n",
      "Cluster 12:\t['kill', 'afghanistan', 'soldier', 'bomb', 'suicide']\n",
      "Cluster 13:\t['say', 'official', 'police', 'spokesman', 'mr']\n",
      "Cluster 14:\t['pakistan', 'kill', 'drone', 'strike', 'taliban']\n",
      "Cluster 15:\t['person', 'slice', 'cut', 'piece', 'onion']\n",
      "Cluster 16:\t['cat', 'white', 'look', 'black', 'play']\n",
      "Cluster 17:\t['iran', 'nuclear', 'talk', 'deal', 'power']\n",
      "Cluster 18:\t['walk', 'man', 'dog', 'woman', 'snow']\n",
      "Cluster 19:\t['syria', 'new', 'israel', 'opposition', 'palestinian']\n",
      "Cluster 20:\t['horse', 'ride', 'brown', 'white', 'man']\n",
      "Cluster 21:\t['death', 'toll', 'rise', 'bangladesh', 'penalty']\n",
      "Cluster 22:\t['stand', 'cow', 'field', 'man', 'black']\n",
      "Cluster 23:\t['man', 'slice', 'cut', 'ride', 'car']\n",
      "Cluster 24:\t['china', 'usd', 'yuan', 'accident', 'kill']\n",
      "Cluster 25:\t['river', 'dog', 'black', 'background', 'swimming']\n",
      "Cluster 26:\t['percent', 'point', 'share', 'index', 'nasdaq']\n",
      "Cluster 27:\t['israeli', 'strike', 'palestinian', 'palestinians', 'kill']\n",
      "Cluster 28:\t['water', 'dog', 'man', 'black', 'splash']\n",
      "Cluster 29:\t['girl', 'president', 'people', 'boy', 'election']\n"
     ]
    }
   ],
   "source": [
    "print(\"Top terms per cluster:\")\n",
    "\n",
    "for i in range(kmeans.n_clusters):\n",
    "    centroid = kmeans.cluster_centers_[i]    \n",
    "    sorted_terms = centroid.argsort()[::-1]\n",
    "    print(f\"Cluster {i}:\\t{[vocab[j] for j in sorted_terms[:5]]}\")"
   ]
  },
  {
   "cell_type": "code",
   "execution_count": 66,
   "metadata": {},
   "outputs": [
    {
     "data": {
      "text/plain": [
       "array(['brown dog run though river', 'dog catch fish river',\n",
       "       'girl run along river bank two black dog',\n",
       "       'group river barge tree background',\n",
       "       'man go jump bike river background', 'man fishing river',\n",
       "       'man bike nest river', 'white dog stand river shake dry',\n",
       "       'aug 15 1982 remain chapman hind mill find green river',\n",
       "       'british police arrest 21 people early tuesday connection suspect ritual murder african boy whose torso find thames river',\n",
       "       'car plunge river us bridge collapse',\n",
       "       'car driver plunge river wash i5 bridge collapse',\n",
       "       'lawyer plan stay river start recede',\n",
       "       'plan stay day river crest forecast late last night',\n",
       "       'body find several week later green river',\n",
       "       'india china ink agreement transborder river',\n",
       "       'police arrest 21 people connection murder young nigerian child whose headless limbless torso find float river thame',\n",
       "       'slide embankment two rescuer hit spongy rocky floor river immediately feel pull',\n",
       "       'slide ice moriarty carella hit spongy rocky floor river immediately feel pull',\n",
       "       'black white dog swimming river',\n",
       "       'two australian kill kenya bus crash river',\n",
       "       'two people pad yellow canoe river tree background',\n",
       "       'black dog swimming river', 'boat move river',\n",
       "       'man red short walk along rocks river carry stick',\n",
       "       'wet black dog red collar river'], dtype='<U261')"
      ]
     },
     "execution_count": 66,
     "metadata": {},
     "output_type": "execute_result"
    }
   ],
   "source": [
    "np.array(lemmatized_sentences_list)[kmeans.labels_ == 25]"
   ]
  },
  {
   "cell_type": "code",
   "execution_count": 82,
   "metadata": {},
   "outputs": [
    {
     "data": {
      "text/plain": [
       "0"
      ]
     },
     "execution_count": 82,
     "metadata": {},
     "output_type": "execute_result"
    }
   ],
   "source": [
    "cluster_matrix[25, :]\n",
    "(kmeans.labels_ - np.argmin(cluster_matrix, axis=-1)).sum()\n"
   ]
  },
  {
   "cell_type": "code",
   "execution_count": 89,
   "metadata": {},
   "outputs": [
    {
     "data": {
      "text/plain": [
       "<158x9857 sparse matrix of type '<class 'numpy.float64'>'\n",
       "\twith 1331 stored elements in Compressed Sparse Row format>"
      ]
     },
     "execution_count": 89,
     "metadata": {},
     "output_type": "execute_result"
    }
   ],
   "source": [
    "tfidf_matrix[kmeans.labels_ == 3]"
   ]
  },
  {
   "cell_type": "code",
   "execution_count": 99,
   "metadata": {},
   "outputs": [
    {
     "name": "stdout",
     "output_type": "stream",
     "text": [
      "\n",
      "Cluster 0 - ['sheep', 'stand', 'black', 'field', 'hill']:\n",
      "1)  black white sheep walk next white sheep\n",
      "2)  sheep stand tree\n",
      "3)  group sheep field\n",
      "4)  large dog stand next sheep field\n",
      "5)  large sheep stand hill\n",
      "6)  ten sheep look camera\n",
      "7)  many sheep stand green hill\n",
      "8)  group sheep hill\n",
      "9)  white sheep stand green hill\n",
      "10)  sheep stand near child\n",
      "\n",
      "Cluster 1 - ['sit', 'table', 'people', 'man', 'woman']:\n",
      "1)  four people sit table\n",
      "2)  two people sit table restaurant\n",
      "3)  group people sit around table food\n",
      "4)  three man sit table drink\n",
      "5)  group people sit restaurant table\n",
      "6)  group people sit table restaurant\n",
      "7)  man sit rock\n",
      "8)  group people sit table drink\n",
      "9)  three man suit sit table\n",
      "10)  group elderly people sit around table\n",
      "\n",
      "Cluster 2 - ['dance', 'woman', 'man', 'group', 'rain']:\n",
      "1)  man dance\n",
      "2)  man dance\n",
      "3)  two man dance\n",
      "4)  man dance\n",
      "5)  three woman dance\n",
      "6)  woman dance\n",
      "7)  woman dance fire\n",
      "8)  two woman dance\n",
      "9)  man woman dance\n",
      "10)  group man dance\n",
      "\n",
      "Cluster 3 - ['small', 'international', 'end', 'myanmar', 'state']:\n",
      "1)  national regional international effort end illicit trade small arm light weapon\n",
      "2)  international atomic energy agency base\n",
      "3)  international atomic energy agency un nuclear watchdog\n",
      "4)  serious threat international security\n",
      "5)  serious threat international security\n",
      "6)  senior fellow international institute strategic study mark fitzpatrick state international atomic energy agency plan superficial\n",
      "7)  elbaradei international atomic energy agency chief\n",
      "8)  obama call international front\n",
      "9)  global community must cooperate end illicit trade small arm light weapon\n",
      "10)  international atomic energy agency may trick eager deal\n",
      "\n",
      "Cluster 4 - ['dog', 'run', 'snow', 'grass', 'brown']:\n",
      "1)  two white dog run together\n",
      "2)  dog run snow\n",
      "3)  dog run snow\n",
      "4)  dog run snow\n",
      "5)  dog run snow\n",
      "6)  three dog run snow\n",
      "7)  dog run snow\n",
      "8)  black brown dog run snow\n",
      "9)  black dog run snow\n",
      "10)  black dog run snow\n",
      "\n",
      "Cluster 5 - ['stock', 'close', 'high', 'low', 'open']:\n",
      "1)  china stock close high wednesday\n",
      "2)  chinese stock close high thursday\n",
      "3)  china stock close low thursday\n",
      "4)  indian stock close low\n",
      "5)  chinese stock close low thursday\n",
      "6)  china stock open high wednesday\n",
      "7)  china stock open low wednesday\n",
      "8)  china stock open high monday\n",
      "9)  chinese stock open low wednesday\n",
      "10)  indian stock open high\n",
      "\n",
      "Cluster 6 - ['korea', 'south', 'north', 'korean', 'nuclear']:\n",
      "1)  south korea say north fire missile\n",
      "2)  south korea confirm north korea conduct controversial third nuclear test\n",
      "3)  north korea postpones family union south korea\n",
      "4)  north korea boast nuclear ambition north korea report missile train\n",
      "5)  north south korea break silence talk\n",
      "6)  n korea agree talk south\n",
      "7)  north korea warn foreigner south evacuate\n",
      "8)  north korea claim nuclear ambition currently north korea report missile aim japan\n",
      "9)  north korea confirm third nuclear test\n",
      "10)  n korea warn retaliation south korea drill\n",
      "\n",
      "Cluster 7 - ['attack', 'kill', 'iraq', 'suicide', 'bomb']:\n",
      "1)  7 kill attack iraq\n",
      "2)  nine child die attack afghanistan attack\n",
      "3)  attack iraq kill general 4\n",
      "4)  10 kill iraq bomb attack\n",
      "5)  syrian soldier kill bomb attack\n",
      "6)  27 kill attack across iraq\n",
      "7)  six us troop kill afghan bomb attack\n",
      "8)  2 kill 11 wound attack iraq\n",
      "9)  nato soldier kill afghan attack\n",
      "10)  6 nato troop kill afghanistan ie attack\n",
      "\n",
      "Cluster 8 - ['chemical', 'weapon', 'syria', 'use', 'destroy']:\n",
      "1)  suspect syria use chemical weapon\n",
      "2)  warn syria chemical weapon\n",
      "3)  syria must destroy chemical weapon\n",
      "4)  determine syria use chemical weapon\n",
      "5)  end near syria chemical weapon\n",
      "6)  france warn syria chemical weapon use\n",
      "7)  us assad use chemical weapon syria rebel\n",
      "8)  syria chemical weapon could end sea\n",
      "9)  russia reach deal syria chemical weapon\n",
      "10)  believe syria probably use chemical weapon\n",
      "\n",
      "Cluster 9 - ['play', 'man', 'guitar', 'boy', 'piano']:\n",
      "1)  man play guitar\n",
      "2)  man play guitar\n",
      "3)  man play guitar\n",
      "4)  man play guitar\n",
      "5)  man play guitar\n",
      "6)  man play guitar\n",
      "7)  two man play guitar\n",
      "8)  man play guitar\n",
      "9)  man play guitar\n",
      "10)  man play guitar\n",
      "\n",
      "Cluster 10 - ['woman', 'slice', 'cut', 'man', 'meat']:\n",
      "1)  woman talk\n",
      "2)  man woman talk\n",
      "3)  man woman talk\n",
      "4)  man talk woman\n",
      "5)  woman child\n",
      "6)  woman eat something\n",
      "7)  woman eat\n",
      "8)  woman slice meat\n",
      "9)  woman slice meat\n",
      "10)  woman hit man\n",
      "\n",
      "Cluster 11 - ['train', 'track', 'station', 'crash', 'dead']:\n",
      "1)  train train track\n",
      "2)  black train train track\n",
      "3)  train train station\n",
      "4)  train sit train station\n",
      "5)  long train train track\n",
      "6)  train go track\n",
      "7)  train park train station\n",
      "8)  red train yellow train track\n",
      "9)  two train inside train station\n",
      "10)  train sit track train yard\n",
      "\n",
      "Cluster 12 - ['kill', 'afghanistan', 'soldier', 'bomb', 'suicide']:\n",
      "1)  three us soldier kill afghanistan\n",
      "2)  soldier kill afghanistan blast\n",
      "3)  nato soldier kill afghanistan\n",
      "4)  three nato soldier kill afghanistan\n",
      "5)  nato soldier kill afghanistan\n",
      "6)  five nato soldier kill afghanistan\n",
      "7)  one nato soldier kill afghanistan\n",
      "8)  two nato soldier kill afghanistan\n",
      "9)  british soldier kill afghanistan\n",
      "10)  four civilian three nato soldier kill afghanistan\n",
      "\n",
      "Cluster 13 - ['say', 'official', 'police', 'spokesman', 'mr']:\n",
      "1)  point quote say never say rehabilitation could never work\n",
      "2)  say every level\n",
      "3)  say every level\n",
      "4)  nugent complete fool say say\n",
      "5)  say participate\n",
      "6)  make claim say\n",
      "7)  know everything know suggest take say seriously say\n",
      "8)  never ever say black go riot\n",
      "9)  say get soft\n",
      "10)  say ever part workforce\n",
      "\n",
      "Cluster 14 - ['pakistan', 'kill', 'drone', 'strike', 'taliban']:\n",
      "1)  4 kill drone strike pakistan\n",
      "2)  drone strike kill least ten pakistan\n",
      "3)  pakistan drone strike kill six\n",
      "4)  drone strike kill 3 pakistan\n",
      "5)  drone strike kill 5 pakistan\n",
      "6)  drone strike kill 5 militant pakistan\n",
      "7)  drone kill 4 militant pakistan\n",
      "8)  drone kill five militant pakistan\n",
      "9)  suspect us drone strike kill 5 pakistan\n",
      "10)  suspect drone strike kill 4 pakistan\n",
      "\n",
      "Cluster 15 - ['person', 'slice', 'cut', 'piece', 'onion']:\n",
      "1)  person slice onion\n",
      "2)  person slice onion\n",
      "3)  person slice onion\n",
      "4)  person cut onion\n",
      "5)  person cut onion\n",
      "6)  person slice meat\n",
      "7)  new virus probably pass person person\n",
      "8)  person cut meat\n",
      "9)  person cut leave\n",
      "10)  person write\n",
      "\n",
      "Cluster 16 - ['cat', 'white', 'look', 'black', 'play']:\n",
      "1)  cat play\n",
      "2)  cat play\n",
      "3)  black white cat lay cat bed\n",
      "4)  black white cat look camera\n",
      "5)  cat play camera\n",
      "6)  cat back look camera\n",
      "7)  cat look camera\n",
      "8)  cat boy play together\n",
      "9)  cat look window\n",
      "10)  two cat look window\n",
      "\n",
      "Cluster 17 - ['iran', 'nuclear', 'talk', 'deal', 'power']:\n",
      "1)  agreement iran nuclear talk\n",
      "2)  iran nuclear deal agree talk\n",
      "3)  iran say un nuclear talk continue\n",
      "4)  kerry deal yet nuclear talk iran\n",
      "5)  iran world power set nuclear talk\n",
      "6)  iran parliament back nuclear deal\n",
      "7)  uk iran nuclear talk serious point\n",
      "8)  iran say serious issue remain nuclear talk\n",
      "9)  iran nuclear talk enter third day\n",
      "10)  iran world power pledge new nuclear talk\n",
      "\n",
      "Cluster 18 - ['walk', 'man', 'dog', 'woman', 'snow']:\n",
      "1)  man walk\n",
      "2)  man walk several dog\n",
      "3)  man woman walk\n",
      "4)  woman walk dog\n",
      "5)  woman walk dog\n",
      "6)  dog walk snow\n",
      "7)  man walk two dog city\n",
      "8)  man woman walk hold\n",
      "9)  woman walk dog street\n",
      "10)  man walk horse\n",
      "\n",
      "Cluster 19 - ['syria', 'new', 'israel', 'opposition', 'palestinian']:\n",
      "1)  israel launch new airstrike syria\n",
      "2)  israel launch airstrike syria\n",
      "3)  israel conduct airstrike syria\n",
      "4)  saudi urge un action israel strike syria\n",
      "5)  eu heap new sanction syria\n",
      "6)  israel plane strike inside syria\n",
      "7)  syria opposition agree talk\n",
      "8)  new syria opposition chief want nostring aid\n",
      "9)  israel approve new settlement home ahead peace talk\n",
      "10)  syria opposition unite israel fire warn shot\n",
      "\n",
      "Cluster 20 - ['horse', 'ride', 'brown', 'white', 'man']:\n",
      "1)  someone ride horse\n",
      "2)  man ride horse\n",
      "3)  man ride horse\n",
      "4)  man ride horse\n",
      "5)  man ride horse\n",
      "6)  man ride horse\n",
      "7)  woman ride horse\n",
      "8)  woman ride horse\n",
      "9)  woman ride horse\n",
      "10)  woman ride horse\n",
      "\n",
      "Cluster 21 - ['death', 'toll', 'rise', 'bangladesh', 'penalty']:\n",
      "1)  china quake death toll rise\n",
      "2)  iran earthquake death toll rise\n",
      "3)  death toll rise russia plane crash\n",
      "4)  death toll rise 12 indonesia mine collapse\n",
      "5)  death toll kenya bus attack rise six\n",
      "6)  earthquake death toll rise 260\n",
      "7)  italy bus crash death toll rise\n",
      "8)  glasgow helicopter death toll rise nine\n",
      "9)  china flu death toll rise six\n",
      "10)  egyptian death toll rise 638\n",
      "\n",
      "Cluster 22 - ['stand', 'cow', 'field', 'man', 'black']:\n",
      "1)  black dog stand field\n",
      "2)  woman stand next brown cow\n",
      "3)  black white cow stand grassy field\n",
      "4)  black white cow stand grassy field\n",
      "5)  horse stand field\n",
      "6)  two cow stand large field\n",
      "7)  woman dog stand grass\n",
      "8)  two man stand beach\n",
      "9)  woman glass stand next cow field\n",
      "10)  woman black shirt stand front banana fruit stand\n",
      "\n",
      "Cluster 23 - ['man', 'slice', 'cut', 'ride', 'car']:\n",
      "1)  man cry\n",
      "2)  man carry another man back\n",
      "3)  man carry another man\n",
      "4)  man hit man stick\n",
      "5)  man run\n",
      "6)  two man talk\n",
      "7)  man talk\n",
      "8)  man talk\n",
      "9)  man get car\n",
      "10)  man slice something\n",
      "\n",
      "Cluster 24 - ['china', 'usd', 'yuan', 'accident', 'kill']:\n",
      "1)  china send carrier south china sea\n",
      "2)  china mine accident kill 10\n",
      "3)  five kill china building collapse\n",
      "4)  7 kill 3 injure south china road accident\n",
      "5)  least 22 dead china earthquake\n",
      "6)  china far balk united states pressure china stop search north korean ship\n",
      "7)  least 89 dead china earthquake\n",
      "8)  china truck accident kill 20\n",
      "9)  china state united states pressure china stop search north korean ship could trigger military clash\n",
      "10)  4 dead 3 injure east china road accident\n",
      "\n",
      "Cluster 25 - ['river', 'dog', 'black', 'background', 'swimming']:\n",
      "1)  black dog swimming river\n",
      "2)  brown dog run though river\n",
      "3)  boat move river\n",
      "4)  black white dog swimming river\n",
      "5)  man fishing river\n",
      "6)  girl run along river bank two black dog\n",
      "7)  dog catch fish river\n",
      "8)  man go jump bike river background\n",
      "9)  man bike nest river\n",
      "10)  wet black dog red collar river\n",
      "\n",
      "Cluster 26 - ['percent', 'point', 'share', 'index', 'nasdaq']:\n",
      "1)  technologylace nasdaq composite index ixic rise 3939 point 22 percent 182633 lose 2 percent tuesday\n",
      "2)  dow jones industrial average dji jump 209 percent standard poor 500 index spx leapt 223 percent\n",
      "3)  technologylace nasdaq composite index ixic rise 6 point 041 percent 1498\n",
      "4)  nasdaq composite index add 3046 point 2 percent 152015\n",
      "5)  bluechip dow jones industrial average dji fall 8656 point 094 percent 910999 give 1 percent early\n",
      "6)  technologylace nasdaq composite index ixic lose 2 point 018 percent 1649\n",
      "7)  share usa interactive rise 228 7 percent 3496 friday nasdaq stock market composite trading gain 53 percent year\n",
      "8)  broad standard poor 500 index spx gain 3 point 039 percent 924\n",
      "9)  technologylace nasdaq composite index ixic climb 1911 point 12 percent 161502\n",
      "10)  broad standard poor 500 index spx fall 3 point 030 percent 995\n",
      "\n",
      "Cluster 27 - ['israeli', 'strike', 'palestinian', 'palestinians', 'kill']:\n",
      "1)  5 kill israeli air strike gaza\n",
      "2)  two palestinians kill israeli air strike gaza\n",
      "3)  syria condemn israeli air strike\n",
      "4)  israeli air strike kill 16 gaza\n",
      "5)  one dead new israeli strike gaza\n",
      "6)  two kill new israeli strike gaza medics\n",
      "7)  israeli official confirm second air strike syria\n",
      "8)  israeli soldier kill palestinian woman west bank\n",
      "9)  israeli troop kill palestinian west bank raid\n",
      "10)  israeli force arrest five palestinians across west bank\n",
      "\n",
      "Cluster 28 - ['water', 'dog', 'man', 'black', 'splash']:\n",
      "1)  three dog run water\n",
      "2)  dog run water\n",
      "3)  dog run water\n",
      "4)  three dog play water\n",
      "5)  man ride water toy water\n",
      "6)  brown dog splash water everywhere shake water\n",
      "7)  black dog run water\n",
      "8)  black dog run water\n",
      "9)  black dog walk water\n",
      "10)  black dog jump water\n",
      "\n",
      "Cluster 29 - ['girl', 'president', 'people', 'boy', 'election']:\n",
      "1)  egypt vote final day presidential election\n",
      "2)  poll putin win russia presidential vote\n",
      "3)  putin win russian presidential election\n",
      "4)  putin swear russia president 6 year\n",
      "5)  boy girl run along beach\n",
      "6)  putin claim victory russia presidential election\n",
      "7)  president obama warn russia stay ukraine\n",
      "8)  russia nato member country hold meeting fall conventional force europe treaty cfe\n",
      "9)  egypt hold presidential election parliamentary poll\n",
      "10)  egypt president declare state emergency three city\n"
     ]
    }
   ],
   "source": [
    "# print the top 10 words in each cluster\n",
    "for i in range(k):\n",
    "    centroid = kmeans.cluster_centers_[i]    \n",
    "    sorted_terms = centroid.argsort()[::-1]\n",
    "    print(f\"\\nCluster {i} - {[vocab[j] for j in sorted_terms[:5]]}:\")\n",
    "\n",
    "    i_labelled_sentence_vectors = tfidf_matrix[kmeans.labels_ == i]\n",
    "    i_labelled_sentences = np.array(lemmatized_sentences_list)[kmeans.labels_ == i]\n",
    "    # sorting the terms to most similar to the centroid\n",
    "    sorted_sentences = i_labelled_sentences[np.argsort(cosine_similarity(i_labelled_sentence_vectors, [centroid]).flatten())[::-1]]\n",
    "    \n",
    "    for idx, sentence in enumerate(sorted_sentences[:10]):\n",
    "        print(str(idx + 1) + \") \",sentence)"
   ]
  },
  {
   "cell_type": "code",
   "execution_count": 15,
   "metadata": {},
   "outputs": [
    {
     "data": {
      "image/png": "[encoded data removed]",
      "text/plain": [
       "<Figure size 640x480 with 2 Axes>"
      ]
     },
     "metadata": {},
     "output_type": "display_data"
    }
   ],
   "source": [
    "# visualize the clusters using manifold learning\n",
    "from sklearn.manifold import TSNE\n",
    "from matplotlib import ticker\n",
    "\n",
    "tsne = TSNE(n_components=2, random_state=42)\n",
    "X_tsne = tsne.fit_transform(tfidf_matrix.toarray()[::10])\n",
    "# plot the clusters printng the color scale\n",
    "plt.scatter(X_tsne[:, 0], X_tsne[:, 1], c=clusters[::10], cmap='rainbow')\n",
    "# (generate plot here)\n",
    "cb = plt.colorbar()\n",
    "tick_locator = ticker.MaxNLocator(nbins=30)\n",
    "cb.locator = tick_locator\n",
    "cb.update_ticks()\n",
    "plt.show()\n"
   ]
  },
  {
   "cell_type": "code",
   "execution_count": 50,
   "metadata": {},
   "outputs": [
    {
     "name": "stdout",
     "output_type": "stream",
     "text": [
      "vocabular size: 3121\n"
     ]
    }
   ],
   "source": [
    "from gensim.models import Word2Vec\n",
    "# import word tokenizer\n",
    "from nltk.tokenize import word_tokenize\n",
    "\n",
    "tokenized_corpus = [word_tokenize(w) for w in lemmatized_sentences_list]\n",
    "word2vec_cluster_model = Word2Vec(tokenized_corpus, vector_size=100, min_count=4, window=5, negative=10, workers=4, sg=0, cbow_mean=1, epochs=150, seed=42)\n",
    "print(\"vocabular size:\", len(word2vec_cluster_model.wv.key_to_index))"
   ]
  },
  {
   "cell_type": "code",
   "execution_count": 51,
   "metadata": {},
   "outputs": [
    {
     "data": {
      "image/png": "[encoded data removed]",
      "text/plain": [
       "<Figure size 640x480 with 1 Axes>"
      ]
     },
     "metadata": {},
     "output_type": "display_data"
    }
   ],
   "source": [
    "k = 30\n",
    "kmeans = KMeans(n_clusters=k, n_init=10, random_state=42)\n",
    "cluster_matrix = kmeans.fit_transform(word2vec_cluster_model.wv.vectors)\n",
    "clusters = np.argmin(cluster_matrix, axis=-1)\n",
    "\n",
    "uniques, counts = np.unique(clusters, return_counts=True)\n",
    "plt.bar(uniques, counts)\n",
    "plt.xlabel('Cluster Number')\n",
    "plt.ylabel('Sentences')\n",
    "plt.xticks(uniques, rotation=90)\n",
    "plt.title('Samples per class - Word2Vec')\n",
    "plt.show()"
   ]
  },
  {
   "cell_type": "code",
   "execution_count": 52,
   "metadata": {},
   "outputs": [
    {
     "name": "stdout",
     "output_type": "stream",
     "text": [
      "Top terms per cluster:\n",
      "Cluster 0:\t['bomber', 'wound', 'suicide', 'kill', 'injure', 'bomb', 'least', 'gunman', 'militant', 'blast']\n",
      "Cluster 1:\t['year', 'month', 'week', 'seventh', 'colorado', 'miss', 'consecutive', 'recover', 'hour', 'home']\n",
      "Cluster 2:\t['chef', 'fry', 'cheese', 'boil', 'bread', 'tomato', 'tortilla', 'carrot', 'cucumber', 'dough']\n",
      "Cluster 3:\t['texans', 'usgs', 'snowboarder', 'eruption', 'cub', 'outfielder', 'coach', 'e', 'tornado', 'spree']\n",
      "Cluster 4:\t['midday', 'trading', 'usd', 'industrial', 'exchange', 'average', 'gain', 'yuan', 'euro', 'dow']\n",
      "Cluster 5:\t['research', 'director', 'department', 'organization', 'medical', 'scientific', 'regional', 'institute', 'task', 'chairman']\n",
      "Cluster 6:\t['kennedy', 'lawyer', 'absolutely', 'jim', 'martin', 'rehabilitation', 'prosecutor', 'internal', 'describe', 'certainly']\n",
      "Cluster 7:\t['peaceful', 'cooperation', 'nonproliferation', 'proliferation', 'energy', 'biological', 'prevent', 'enhance', 'program', 'initiative']\n",
      "Cluster 8:\t['government']\n",
      "Cluster 9:\t['jet', 'cruise', 'runway', 'fly', 'flight', 'plane', 'boat', 'airplane', 'airline', 'pilot']\n",
      "Cluster 10:\t['assistance', 'africas', 'chinas', 'cabinet', 'china', 'chinese', 'secretary', 'ministry', 'party', 'korea']\n",
      "Cluster 11:\t['caucus', 'santorum', 'gop', 'winner', 'mitt', 'defeat', 'speaker', 'presidency', 'parliament', 'berlusconi']\n",
      "Cluster 12:\t['resolutely', 'destructive', 'commit', 'besiege', 'libya', 'usrussia', 'tunisia', 'republic', 'observe', 'explanation']\n",
      "Cluster 13:\t['income', 'hispanic', 'population', 'package', 'roughly', '145', '2002', '80', 'billion', 'estimate']\n",
      "Cluster 14:\t['slightly', 'currency', 'quarter', 'unemployment', 'yen', 'expectation', 'august', '10year', 'inflation', 'benchmark']\n",
      "Cluster 15:\t['dozen', 'northern', 'islamist', 'sinai', 'yemen', 'clash', 'lebanon', 'erupt', 'cairo', 'lebanese']\n",
      "Cluster 16:\t['share']\n",
      "Cluster 17:\t['pink', 'yellow', 'shirt', 'blue', 'hat', 'sit', 'gray', 'stand', 'orange', 'black']\n",
      "Cluster 18:\t['percent', 'composite', 'nasdaq', 'cent', 'stock', 'index', 'point']\n",
      "Cluster 19:\t['assault', 'criminal', 'rapper', 'saddam', 'extortion', 'guilty', 'rape', 'allege', 'corruption', 'apostasy']\n",
      "Cluster 20:\t['withdraw', 'ratify', 'cfe', 'amend', 'withdrawal', 'participation', 'treaty', 'russias', 'russia', 'decision']\n",
      "Cluster 21:\t['thatcher', 'margaret', 'lessing', '91', 'doris', 'aged', 'author', 'genetic', 'nelson', 'fiction']\n",
      "Cluster 22:\t['hand']\n",
      "Cluster 23:\t['million']\n",
      "Cluster 24:\t['application', 'dell', 'server', 'sony', 'unix', 'virtual', 'cite', 'vulnerability', 'payroll', 'corp']\n",
      "Cluster 25:\t['world']\n",
      "Cluster 26:\t['summit', 'abbas', 'requirement', 'congress', 'pende', 'unity', 'european', 'donald', 'propose', 'mideast']\n",
      "Cluster 27:\t['6', '35', '9', '4', '5', '12', '15', '11', '8', '22']\n",
      "Cluster 28:\t['motorcycle', 'brick', 'bicycle', 'silver', 'suit', 'scooter', 'tree', 'wheelie', 'man', 'woman']\n",
      "Cluster 29:\t['dog', 'tan', 'sand', 'grey', 'kitten', 'leash', 'brown', 'swing', 'grass', 'snow']\n"
     ]
    }
   ],
   "source": [
    "print(\"Top terms per cluster:\")\n",
    "\n",
    "for i in range(kmeans.n_clusters):\n",
    "    centroid = kmeans.cluster_centers_[i]    \n",
    "    i_labelled_terms = np.array(word2vec_cluster_model.wv.index_to_key)[kmeans.labels_ == i]\n",
    "    # sorting the terms to most similar to the centroid\n",
    "    sorted_terms = i_labelled_terms[np.argsort(cosine_similarity(word2vec_cluster_model.wv[i_labelled_terms], [centroid]).flatten())[::-1]]\n",
    "    print(f\"Cluster {i}:\\t{[w for w in sorted_terms[:10]]}\")"
   ]
  },
  {
   "attachments": {},
   "cell_type": "markdown",
   "metadata": {},
   "source": [
    "## Topic Models"
   ]
  },
  {
   "cell_type": "code",
   "execution_count": 107,
   "metadata": {},
   "outputs": [],
   "source": [
    "from sklearn.feature_extraction.text import CountVectorizer\n",
    "\n",
    "count_vectorizer = CountVectorizer(stop_words='english',min_df=5,max_df=.5)\n",
    "count_matrix = count_vectorizer.fit_transform(lemmatized_sentences_list)\n",
    "count_vocab = count_vectorizer.get_feature_names_out()"
   ]
  },
  {
   "cell_type": "code",
   "execution_count": 108,
   "metadata": {},
   "outputs": [
    {
     "name": "stdout",
     "output_type": "stream",
     "text": [
      "iteration: 1 of max_iter: 30\n",
      "iteration: 2 of max_iter: 30\n",
      "iteration: 3 of max_iter: 30\n",
      "iteration: 4 of max_iter: 30\n",
      "iteration: 5 of max_iter: 30\n",
      "iteration: 6 of max_iter: 30\n",
      "iteration: 7 of max_iter: 30\n",
      "iteration: 8 of max_iter: 30\n",
      "iteration: 9 of max_iter: 30\n",
      "iteration: 10 of max_iter: 30\n",
      "iteration: 11 of max_iter: 30\n",
      "iteration: 12 of max_iter: 30\n",
      "iteration: 13 of max_iter: 30\n",
      "iteration: 14 of max_iter: 30\n",
      "iteration: 15 of max_iter: 30\n",
      "iteration: 16 of max_iter: 30\n",
      "iteration: 17 of max_iter: 30\n",
      "iteration: 18 of max_iter: 30\n",
      "iteration: 19 of max_iter: 30\n",
      "iteration: 20 of max_iter: 30\n",
      "iteration: 21 of max_iter: 30\n",
      "iteration: 22 of max_iter: 30\n",
      "iteration: 23 of max_iter: 30\n",
      "iteration: 24 of max_iter: 30\n",
      "iteration: 25 of max_iter: 30\n",
      "iteration: 26 of max_iter: 30\n",
      "iteration: 27 of max_iter: 30\n",
      "iteration: 28 of max_iter: 30\n",
      "iteration: 29 of max_iter: 30\n",
      "iteration: 30 of max_iter: 30\n"
     ]
    },
    {
     "data": {
      "text/html": [
       "<style>#sk-container-id-3 {color: black;background-color: white;}#sk-container-id-3 pre{padding: 0;}#sk-container-id-3 div.sk-toggleable {background-color: white;}#sk-container-id-3 label.sk-toggleable__label {cursor: pointer;display: block;width: 100%;margin-bottom: 0;padding: 0.3em;box-sizing: border-box;text-align: center;}#sk-container-id-3 label.sk-toggleable__label-arrow:before {content: \"▸\";float: left;margin-right: 0.25em;color: #696969;}#sk-container-id-3 label.sk-toggleable__label-arrow:hover:before {color: black;}#sk-container-id-3 div.sk-estimator:hover label.sk-toggleable__label-arrow:before {color: black;}#sk-container-id-3 div.sk-toggleable__content {max-height: 0;max-width: 0;overflow: hidden;text-align: left;background-color: #f0f8ff;}#sk-container-id-3 div.sk-toggleable__content pre {margin: 0.2em;color: black;border-radius: 0.25em;background-color: #f0f8ff;}#sk-container-id-3 input.sk-toggleable__control:checked~div.sk-toggleable__content {max-height: 200px;max-width: 100%;overflow: auto;}#sk-container-id-3 input.sk-toggleable__control:checked~label.sk-toggleable__label-arrow:before {content: \"▾\";}#sk-container-id-3 div.sk-estimator input.sk-toggleable__control:checked~label.sk-toggleable__label {background-color: #d4ebff;}#sk-container-id-3 div.sk-label input.sk-toggleable__control:checked~label.sk-toggleable__label {background-color: #d4ebff;}#sk-container-id-3 input.sk-hidden--visually {border: 0;clip: rect(1px 1px 1px 1px);clip: rect(1px, 1px, 1px, 1px);height: 1px;margin: -1px;overflow: hidden;padding: 0;position: absolute;width: 1px;}#sk-container-id-3 div.sk-estimator {font-family: monospace;background-color: #f0f8ff;border: 1px dotted black;border-radius: 0.25em;box-sizing: border-box;margin-bottom: 0.5em;}#sk-container-id-3 div.sk-estimator:hover {background-color: #d4ebff;}#sk-container-id-3 div.sk-parallel-item::after {content: \"\";width: 100%;border-bottom: 1px solid gray;flex-grow: 1;}#sk-container-id-3 div.sk-label:hover label.sk-toggleable__label {background-color: #d4ebff;}#sk-container-id-3 div.sk-serial::before {content: \"\";position: absolute;border-left: 1px solid gray;box-sizing: border-box;top: 0;bottom: 0;left: 50%;z-index: 0;}#sk-container-id-3 div.sk-serial {display: flex;flex-direction: column;align-items: center;background-color: white;padding-right: 0.2em;padding-left: 0.2em;position: relative;}#sk-container-id-3 div.sk-item {position: relative;z-index: 1;}#sk-container-id-3 div.sk-parallel {display: flex;align-items: stretch;justify-content: center;background-color: white;position: relative;}#sk-container-id-3 div.sk-item::before, #sk-container-id-3 div.sk-parallel-item::before {content: \"\";position: absolute;border-left: 1px solid gray;box-sizing: border-box;top: 0;bottom: 0;left: 50%;z-index: -1;}#sk-container-id-3 div.sk-parallel-item {display: flex;flex-direction: column;z-index: 1;position: relative;background-color: white;}#sk-container-id-3 div.sk-parallel-item:first-child::after {align-self: flex-end;width: 50%;}#sk-container-id-3 div.sk-parallel-item:last-child::after {align-self: flex-start;width: 50%;}#sk-container-id-3 div.sk-parallel-item:only-child::after {width: 0;}#sk-container-id-3 div.sk-dashed-wrapped {border: 1px dashed gray;margin: 0 0.4em 0.5em 0.4em;box-sizing: border-box;padding-bottom: 0.4em;background-color: white;}#sk-container-id-3 div.sk-label label {font-family: monospace;font-weight: bold;display: inline-block;line-height: 1.2em;}#sk-container-id-3 div.sk-label-container {text-align: center;}#sk-container-id-3 div.sk-container {/* jupyter's `normalize.less` sets `[hidden] { display: none; }` but bootstrap.min.css set `[hidden] { display: none !important; }` so we also need the `!important` here to be able to override the default hidden behavior on the sphinx rendered scikit-learn.org. See: https://github.com/scikit-learn/scikit-learn/issues/21755 */display: inline-block !important;position: relative;}#sk-container-id-3 div.sk-text-repr-fallback {display: none;}</style><div id=\"sk-container-id-3\" class=\"sk-top-container\"><div class=\"sk-text-repr-fallback\"><pre>LatentDirichletAllocation(learning_method=&#x27;online&#x27;, max_iter=30,\n",
       "                          n_components=30, verbose=1)</pre><b>In a Jupyter environment, please rerun this cell to show the HTML representation or trust the notebook. <br />On GitHub, the HTML representation is unable to render, please try loading this page with nbviewer.org.</b></div><div class=\"sk-container\" hidden><div class=\"sk-item\"><div class=\"sk-estimator sk-toggleable\"><input class=\"sk-toggleable__control sk-hidden--visually\" id=\"sk-estimator-id-3\" type=\"checkbox\" checked><label for=\"sk-estimator-id-3\" class=\"sk-toggleable__label sk-toggleable__label-arrow\">LatentDirichletAllocation</label><div class=\"sk-toggleable__content\"><pre>LatentDirichletAllocation(learning_method=&#x27;online&#x27;, max_iter=30,\n",
       "                          n_components=30, verbose=1)</pre></div></div></div></div></div>"
      ],
      "text/plain": [
       "LatentDirichletAllocation(learning_method='online', max_iter=30,\n",
       "                          n_components=30, verbose=1)"
      ]
     },
     "execution_count": 108,
     "metadata": {},
     "output_type": "execute_result"
    }
   ],
   "source": [
    "from sklearn.decomposition import LatentDirichletAllocation\n",
    "\n",
    "lda = LatentDirichletAllocation(n_components=30, verbose=0, learning_method='online', max_iter=30)\n",
    "lda.fit(count_matrix)"
   ]
  },
  {
   "cell_type": "code",
   "execution_count": 105,
   "metadata": {},
   "outputs": [
    {
     "data": {
      "text/plain": [
       "<10566x2428 sparse matrix of type '<class 'numpy.int64'>'\n",
       "\twith 51366 stored elements in Compressed Sparse Row format>"
      ]
     },
     "execution_count": 105,
     "metadata": {},
     "output_type": "execute_result"
    }
   ],
   "source": [
    "count_matrix"
   ]
  },
  {
   "cell_type": "code",
   "execution_count": 109,
   "metadata": {},
   "outputs": [
    {
     "name": "stdout",
     "output_type": "stream",
     "text": [
      "Topic 1:\t [dog, run, brown, cut, high, jump, grass, beach, black, remain]\n",
      "Topic 2:\t [company, house, thursday, number, piece, executive, say, james, conventional, earning]\n",
      "Topic 3:\t [ride, dog, walk, snow, field, issue, black, reach, cow, eat]\n",
      "Topic 4:\t [dead, slice, police, small, ukraine, east, trade, boat, 30, gunman]\n",
      "Topic 5:\t [sit, world, look, camera, fall, sheep, good, chair, way, cover]\n",
      "Topic 6:\t [state, people, group, egypt, vote, protest, include, tuesday, presidential, worker]\n",
      "Topic 7:\t [official, green, big, computer, seek, council, say, decline, floor, meat]\n",
      "Topic 8:\t [play, government, boy, week, street, sale, guitar, ball, american, senate]\n",
      "Topic 9:\t [china, afghanistan, minister, nato, palestinian, little, troop, indian, road, french]\n",
      "Topic 10:\t [man, rise, horse, dance, work, continue, lead, onion, night, pour]\n",
      "Topic 11:\t [person, tell, officer, hand, miss, family, demand, john, thousand, like]\n",
      "Topic 12:\t [white, close, black, cat, sign, treaty, law, table, chemical, sit]\n",
      "Topic 13:\t [red, arm, rebel, park, bike, pool, bowl, race, phone, pick]\n",
      "Topic 14:\t [hold, large, city, peace, baby, rock, stage, japan, sell, tax]\n",
      "Topic 15:\t [make, deal, near, united, states, pm, meet, head, come, money]\n",
      "Topic 16:\t [new, talk, million, obama, point, open, end, set, shoot, chief]\n",
      "Topic 17:\t [woman, stand, blue, wear, monday, base, change, long, wooden, shirt]\n",
      "Topic 18:\t [syria, stock, share, say, cent, court, index, nasdaq, opposition, claim]\n",
      "Topic 19:\t [percent, death, car, child, die, case, toll, drive, myanmar, motorcycle]\n",
      "Topic 20:\t [syrian, plan, school, outside, search, watch, major, place, uk, pass]\n",
      "Topic 21:\t [report, train, air, international, track, bird, area, tree, threat, 2002]\n",
      "Topic 22:\t [security, wednesday, visit, oil, country, know, accuse, add, border, parliament]\n",
      "Topic 23:\t [russia, arrest, building, collapse, offer, bangladesh, authority, thai, hat, atomic]\n",
      "Topic 24:\t [nuclear, weapon, young, north, korea, release, say, expect, return, accord]\n",
      "Topic 25:\t [iran, charge, israel, win, strike, murder, election, romney, quake, indonesia]\n",
      "Topic 26:\t [say, use, drug, face, plane, leave, hospital, right, member, increase]\n",
      "Topic 27:\t [president, south, russian, news, billion, mandela, service, putin, room, fight]\n",
      "Topic 28:\t [kill, attack, girl, year, pakistan, military, crash, police, soldier, bomb]\n",
      "Topic 29:\t [force, day, leader, missile, order, test, general, refuse, announce, confirm]\n",
      "Topic 30:\t [water, hit, 10, second, body, 20, county, background, thing, airport]\n"
     ]
    }
   ],
   "source": [
    "for i in range(len(lda.components_)):\n",
    "    sorted_terms = lda.components_[i].argsort()[::-1]\n",
    "    concatenated_terms = '[' + ', '.join(count_vocab[i] for i in sorted_terms[:10]) + ']'\n",
    "    print (f'Topic {i + 1}:\\t', concatenated_terms)"
   ]
  },
  {
   "cell_type": "code",
   "execution_count": 150,
   "metadata": {},
   "outputs": [
    {
     "data": {
      "image/png": "[encoded data removed]",
      "text/plain": [
       "<Figure size 1800x600 with 3 Axes>"
      ]
     },
     "metadata": {},
     "output_type": "display_data"
    }
   ],
   "source": [
    "num_words = 10\n",
    "fig, axes = plt.subplots(1, 3, figsize=(18, 6), sharex=True)\n",
    "topic_indices = [1, 9, 25]\n",
    "\n",
    "for i, topic_idx in enumerate(topic_indices):\n",
    "    topic = lda.components_[topic_idx]\n",
    "    top_terms_index = topic.argsort()[:-num_words - 1:-1]\n",
    "    top_terms = [count_vocab[i] for i in top_terms_index]\n",
    "    weights = topic[top_terms_index]\n",
    "    ax = axes[i]\n",
    "    ax.barh(top_terms, weights, height=0.7)\n",
    "    ax.set_title(f'Topic {topic_idx + 1}', fontdict={'fontsize': 15})\n",
    "    ax.invert_yaxis()\n",
    "    ax.set_xscale('symlog', linthresh=100)\n",
    "\n",
    "plt.subplots_adjust(top=0.90, bottom=0.05, wspace=0.20, hspace=0.3)\n",
    "plt.tight_layout()\n",
    "plt.show()\n"
   ]
  },
  {
   "attachments": {},
   "cell_type": "markdown",
   "metadata": {},
   "source": [
    "# Training models\n",
    "We now deal with the task of sentence similarity, employing models already seen like TF-IDF and Word2Vec as well as other approaches such as Transformers"
   ]
  },
  {
   "cell_type": "markdown",
   "metadata": {},
   "source": [
    "## Bag of Words"
   ]
  },
  {
   "cell_type": "markdown",
   "metadata": {},
   "source": [
    "We just trained a tf-idf model to compute clusters. We can also use this model to compute similarity between sentences using a bag of words approach."
   ]
  },
  {
   "cell_type": "code",
   "execution_count": 33,
   "metadata": {},
   "outputs": [],
   "source": []
  },
  {
   "cell_type": "code",
   "execution_count": 18,
   "metadata": {},
   "outputs": [],
   "source": [
    "def train_tfidf_vectorizer(sentences_list, max_df=0.8, min_df=5, remove_stopwords=True, ngram_range=(1,1)):\n",
    "    \"\"\"\n",
    "    Train a TF-IDF vectorizer on the given sentences list.\n",
    "    \n",
    "    max_df: ignore terms that appear in more than max_df of the documents\n",
    "    min_df: ignore terms that appear in less than min_df of the documents\n",
    "    remove_stopwords: remove stopwords from the sentences\n",
    "    preprocess_sentence: function to preprocess each sentence\n",
    "    ngram_range: range of ngrams to consider\n",
    "    \"\"\"\n",
    "\n",
    "    # Define TF-IDF Vectorizer\n",
    "    tfidf = TfidfVectorizer(\n",
    "        max_df=max_df, min_df=min_df, \n",
    "        stop_words='english' if remove_stopwords else None, \n",
    "        strip_accents='ascii',\n",
    "        ngram_range=ngram_range\n",
    "    )\n",
    "\n",
    "    # Fit the vectorizer on the sentences and compute the TF-IDF matrix\n",
    "    tfidf_matrix = tfidf.fit_transform(sentences_list)\n",
    "    tfidf_vocab = tfidf.get_feature_names_out()\n",
    "\n",
    "    # Analyze results\n",
    "    print(f\"The dataset contains {len(tfidf_vocab)} terms\")\n",
    "    np.random.seed(41)\n",
    "    random_sentence = np.random.choice(sentences_list)\n",
    "    print(\"Random sentence:\", random_sentence)\n",
    "    random_sentence_tfidf_scores = tfidf.transform([random_sentence])\n",
    "    sentence_df = pd.DataFrame({\n",
    "        \"id\": random_sentence_tfidf_scores.nonzero()[1],\n",
    "        \"word\": tfidf_vocab[random_sentence_tfidf_scores.nonzero()[1]],\n",
    "        \"scores\": random_sentence_tfidf_scores.data\n",
    "    })\n",
    "    print(sentence_df.head())\n",
    "\n",
    "    return tfidf, tfidf_matrix"
   ]
  },
  {
   "cell_type": "code",
   "execution_count": 19,
   "metadata": {},
   "outputs": [],
   "source": [
    "def evaluate_mse(model: TfidfVectorizer, dataset: pd.DataFrame):\n",
    "    predicted_scores = []\n",
    "    for idx, row in dataset.iterrows():\n",
    "        a = row[\"sentence1\"]\n",
    "        b = row[\"sentence2\"]\n",
    "        vectorized_sentences = model.transform([a, b])\n",
    "        similarity = cosine_similarity(vectorized_sentences)\n",
    "        predicted_scores.append(similarity[0][1])\n",
    "\n",
    "    return mean_squared_error(dataset[\"score\"].values, predicted_scores)"
   ]
  },
  {
   "cell_type": "code",
   "execution_count": 26,
   "metadata": {},
   "outputs": [
    {
     "ename": "NameError",
     "evalue": "name 'train_tfidf_vectorizer' is not defined",
     "output_type": "error",
     "traceback": [
      "\u001b[1;31m---------------------------------------------------------------------------\u001b[0m",
      "\u001b[1;31mNameError\u001b[0m                                 Traceback (most recent call last)",
      "Cell \u001b[1;32mIn[26], line 7\u001b[0m\n\u001b[0;32m      1\u001b[0m clean_dataset \u001b[39m=\u001b[39m pd\u001b[39m.\u001b[39mDataFrame({\n\u001b[0;32m      2\u001b[0m     \u001b[39m'\u001b[39m\u001b[39msentence1\u001b[39m\u001b[39m'\u001b[39m: df[\u001b[39m'\u001b[39m\u001b[39msentence1\u001b[39m\u001b[39m'\u001b[39m]\u001b[39m.\u001b[39mmap(remove_special_chars)\u001b[39m.\u001b[39mmap(remove_stop_words),\n\u001b[0;32m      3\u001b[0m     \u001b[39m'\u001b[39m\u001b[39msentence2\u001b[39m\u001b[39m'\u001b[39m: df[\u001b[39m'\u001b[39m\u001b[39msentence2\u001b[39m\u001b[39m'\u001b[39m]\u001b[39m.\u001b[39mmap(remove_special_chars)\u001b[39m.\u001b[39mmap(remove_stop_words),\n\u001b[0;32m      4\u001b[0m     \u001b[39m'\u001b[39m\u001b[39mscore\u001b[39m\u001b[39m'\u001b[39m: df[\u001b[39m'\u001b[39m\u001b[39mscore\u001b[39m\u001b[39m'\u001b[39m] \u001b[39m/\u001b[39m \u001b[39m5\u001b[39m\n\u001b[0;32m      5\u001b[0m })\n\u001b[1;32m----> 7\u001b[0m tfidf_vectorizer, tfidf_matrix \u001b[39m=\u001b[39m train_tfidf_vectorizer(clean_sentences_list, min_df\u001b[39m=\u001b[39m\u001b[39m0\u001b[39m)\n",
      "\u001b[1;31mNameError\u001b[0m: name 'train_tfidf_vectorizer' is not defined"
     ]
    }
   ],
   "source": [
    "clean_dataset = pd.DataFrame({\n",
    "    'sentence1': df['sentence1'].map(remove_special_chars).map(remove_stop_words),\n",
    "    'sentence2': df['sentence2'].map(remove_special_chars).map(remove_stop_words),\n",
    "    'score': df['score'] / 5\n",
    "})\n",
    "\n",
    "tfidf_vectorizer, tfidf_matrix = train_tfidf_vectorizer(clean_sentences_list, min_df=0)"
   ]
  },
  {
   "cell_type": "markdown",
   "metadata": {},
   "source": [
    "Now we print the most similar sentences of a selected one using cosine similarity, showing the original ones\n"
   ]
  },
  {
   "cell_type": "code",
   "execution_count": 21,
   "metadata": {},
   "outputs": [
    {
     "name": "stdout",
     "output_type": "stream",
     "text": [
      "\"Biotech products, if anything, may be safer than conventional products because of all the testing,\" said Robert Fraley, Monsanto's executive vice president.\n",
      "1) 0.68 \"Biotech products, if anything, may be safer than conventional products because of all the testing,\" Fraley said, adding that 18 countries have adopted biotechnology.\n",
      "2) 0.27 Products featuring Vanderpool will be released within five years, he said.\n",
      "3) 0.23 As executive vice president of new ventures, Elias will report to Joe Tucci, EMC's president and chief executive.\n",
      "4) 0.20 The third appointment was to a new job, executive vice president and chief staff officer.\n",
      "5) 0.20 Chinese president meets Indian vice president\n"
     ]
    }
   ],
   "source": [
    "tfidf_similarity = cosine_similarity(tfidf_matrix)\n",
    "tfidf_sentence_idx = 10\n",
    "print(sentences_list[tfidf_sentence_idx])\n",
    "for i, col_idx in enumerate(tfidf_similarity[tfidf_sentence_idx].argsort()[::-1][1:6]):\n",
    "    print(str(i+1) + \")\",f\"{tfidf_similarity[tfidf_sentence_idx][col_idx]:.2f}\", sentences_list[col_idx])"
   ]
  },
  {
   "cell_type": "code",
   "execution_count": 22,
   "metadata": {},
   "outputs": [
    {
     "name": "stdout",
     "output_type": "stream",
     "text": [
      "MSE: 0.05174592726147045\n"
     ]
    }
   ],
   "source": [
    "print(\"MSE:\", evaluate_mse(tfidf_vectorizer, clean_dataset))"
   ]
  },
  {
   "cell_type": "markdown",
   "metadata": {},
   "source": [
    "We try to improve it using trigrams"
   ]
  },
  {
   "cell_type": "code",
   "execution_count": 23,
   "metadata": {},
   "outputs": [
    {
     "name": "stdout",
     "output_type": "stream",
     "text": [
      "The dataset contains 21599 terms\n",
      "Random sentence: person hitchhiking road\n",
      "      id    word    scores\n",
      "0  16397    road  0.773089\n",
      "1  14211  person  0.634297\n",
      "MSE: 0.06786084296557404\n"
     ]
    }
   ],
   "source": [
    "trigrams_tfidf_vectorizer, _ = train_tfidf_vectorizer(clean_sentences_list, ngram_range=(1,3), min_df=2)\n",
    "print(\"MSE:\", evaluate_mse(trigrams_tfidf_vectorizer, clean_dataset))\n",
    "#TODO cercare su internet comparazione performance bigrammi monogrammi"
   ]
  },
  {
   "cell_type": "markdown",
   "metadata": {},
   "source": [
    "we try to improve by handling numbers"
   ]
  },
  {
   "cell_type": "code",
   "execution_count": 24,
   "metadata": {},
   "outputs": [],
   "source": [
    "def substitute_number(sentence):\n",
    "    return re.sub(r'\\d+', ' number ', sentence)"
   ]
  },
  {
   "cell_type": "code",
   "execution_count": 25,
   "metadata": {},
   "outputs": [
    {
     "name": "stdout",
     "output_type": "stream",
     "text": [
      "The dataset contains 11250 terms\n",
      "Random sentence: person hitchhiking road\n",
      "     id         word    scores\n",
      "0  8458         road  0.502688\n",
      "1  7303       person  0.412441\n",
      "2  4602  hitchhiking  0.759735\n",
      "MSE: 0.05452352749923701\n"
     ]
    }
   ],
   "source": [
    "no_number_dataset = pd.DataFrame({\n",
    "    'sentence1': clean_dataset['sentence1'].map(substitute_number),\n",
    "    'sentence2': clean_dataset['sentence2'].map(substitute_number),\n",
    "    'score': clean_dataset['score']\n",
    "})\n",
    "\n",
    "#TODO mostrare differenze tra originale e con [number]\n",
    "no_number_sentences_list = [substitute_number(sentence) for sentence in clean_sentences_list]\n",
    "\n",
    "number_tfidf_vectorizer, number_tfidf_matrix = train_tfidf_vectorizer(no_number_sentences_list, min_df=0)\n",
    "print(\"MSE:\", evaluate_mse(number_tfidf_vectorizer, no_number_dataset))"
   ]
  },
  {
   "cell_type": "markdown",
   "metadata": {},
   "source": [
    "we try to improve by lemmatizing the sentences"
   ]
  },
  {
   "cell_type": "code",
   "execution_count": 28,
   "metadata": {},
   "outputs": [],
   "source": [
    "lemmatized_dataset = pd.DataFrame({\n",
    "    'sentence1': clean_dataset['sentence1'].map(lemmatize),\n",
    "    'sentence2': clean_dataset['sentence2'].map(lemmatize),\n",
    "    'score': clean_dataset['score']\n",
    "})"
   ]
  },
  {
   "cell_type": "code",
   "execution_count": 31,
   "metadata": {},
   "outputs": [
    {
     "name": "stdout",
     "output_type": "stream",
     "text": [
      "The dataset contains 9859 terms\n",
      "Random sentence: person hitchhike road\n",
      "     id       word    scores\n",
      "0  7623       road  0.500708\n",
      "1  6762     person  0.411840\n",
      "2  4458  hitchhike  0.761366\n",
      "MSE: 0.04651429476482215\n"
     ]
    }
   ],
   "source": [
    "lemmatized_tfidf_vectorizer, _ = train_tfidf_vectorizer(lemmatized_sentences_list, min_df=0)\n",
    "print(\"MSE:\", evaluate_mse(lemmatized_tfidf_vectorizer, lemmatized_dataset))"
   ]
  },
  {
   "cell_type": "code",
   "execution_count": 32,
   "metadata": {},
   "outputs": [],
   "source": [
    "# Saving the lemmatized sentences to a txt file\n",
    "with open('Dataset/lemmatized_sentences.txt', 'w') as f:\n",
    "    for item in lemmatized_sentences_list:\n",
    "        f.write(\"%s\\n\" % item)"
   ]
  },
  {
   "cell_type": "markdown",
   "metadata": {},
   "source": [
    "## Word2Vec"
   ]
  },
  {
   "cell_type": "code",
   "execution_count": 33,
   "metadata": {},
   "outputs": [],
   "source": [
    "from gensim.models import Word2Vec"
   ]
  },
  {
   "cell_type": "code",
   "execution_count": 34,
   "metadata": {},
   "outputs": [
    {
     "name": "stdout",
     "output_type": "stream",
     "text": [
      "vocabular size: 2995\n",
      "car --> ['roadside', 'vehicle', 'bicycle', 'amusement', 'motorcycle', 'train', 'pole', '19', 'drain', 'nightclub']\n",
      "boy --> ['kid', 'girl', 'child', 'garden', 'man', 'baby', 'puppy', 'jacket', 'woman', 'kitten']\n",
      "man --> ['woman', 'girl', 'person', 'dog', 'guy', 'boy', 'gray', 'white', 'suit', 'pink']\n",
      "girl --> ['woman', 'man', 'hat', 'boy', 'shirt', 'jacket', 'suit', 'dog', 'wear', 'blue']\n",
      "woman --> ['man', 'girl', 'lady', 'person', 'suit', 'gray', 'hat', 'banana', 'counter', 'short']\n",
      "obama --> ['rebuild', 'obamas', 'depend', 'clinton', 'religion', 'arms', 'hollande', 'temporarily', 'gop', 'mitt']\n",
      "florida --> ['outfielder', 'graham', 'cub', 'execution', 'alaska', 'sixth', 'indonesias', 'pennsylvania', 'university', 'kansas']\n",
      "cat --> ['blanket', 'kitten', 'leather', 'tube', 'dog', 'couch', 'sheep', 'cow', 'bird', 'kitchen']\n",
      "dog --> ['puppy', 'mouth', 'animal', 'kitten', 'tan', 'black', 'ball', 'grey', 'ear', 'man']\n",
      "blue --> ['pink', 'orange', 'gray', 'white', 'black', 'wear', 'yellow', 'purple', 'silver', 'sand']\n",
      "kill --> ['nw', 'injure', 'wound', 'suicide', 'ambush', 'detain', 'erupt', 'dead', 'northern', 'die']\n",
      "bomb --> ['bombing', 'bomber', 'explosion', 'kidnapper', 'blast', 'drone', 'sinai', '42', 'northern', 'gunman']\n",
      "piano --> ['drum', 'guitar', 'keyboard', 'flute', 'trumpet', 'harp', 'singing', 'violin', 'colorful', 'singe']\n",
      "pizza --> ['bread', 'watermelon', 'butter', 'carrot', 'cheese', 'tortilla', 'piece', 'tomato', 'cucumber', 'tofu']\n",
      "italy --> ['poland', 'portugal', 'spain', 'systems', 'netherlands', 'belgium', 'britain', 'usgs', 'germany', 'latvia']\n"
     ]
    }
   ],
   "source": [
    "analyzer = lemmatized_tfidf_vectorizer.build_analyzer()\n",
    "tokenized_corpus = [analyzer(w) for w in lemmatized_sentences_list]\n",
    "model = Word2Vec(tokenized_corpus, vector_size=100, min_count=4, window=5, negative=10, workers=4, sg=0, cbow_mean=1, epochs=150, seed=42)\n",
    "print(\"vocabular size:\", len(model.wv.key_to_index))\n",
    "\n",
    "#print most similar words to\n",
    "for item in ['car', 'boy', 'man', 'girl', 'woman', 'obama', 'florida', 'cat', 'dog', 'blue', 'kill', 'bomb', 'piano', 'pizza', 'italy']:\n",
    "    print(item, '-->', [w for w, s in model.wv.most_similar(item)])"
   ]
  },
  {
   "cell_type": "code",
   "execution_count": 35,
   "metadata": {},
   "outputs": [],
   "source": [
    "model.save('word2vec.model')"
   ]
  },
  {
   "cell_type": "code",
   "execution_count": 88,
   "metadata": {},
   "outputs": [],
   "source": [
    "def vectorize(sentences, vocab, vectorizer,  useSum=False, vector_size=100, tokenizer=lambda x: x.split()):\n",
    "    # create a matrix with rows equal to the number of tweets and columns equal to the embedding size\n",
    "    vectors = np.zeros((len(sentences), vector_size))\n",
    "\n",
    "    # for each sentence in the dataset compute the embedding \n",
    "    for i, sentence in enumerate(sentences):\n",
    "        tokens = tokenizer(sentence)\n",
    "        embeddings = [vectorizer(token) for token in tokens if token in vocab] # embedding per ogni token\n",
    "        if (len(embeddings) > 0): # unisce tutti gli embedding in base a useSum\n",
    "            if (useSum): \n",
    "                vectors[i] = sum(embeddings)\n",
    "            else:\n",
    "                vectors[i] = np.mean(embeddings, axis=0)\n",
    "    return vectors\n",
    "\n",
    "# modified version of vectorize that weightes the embeddings by the tf-idf score of the word\n",
    "def vectorize_tfidf(sentences, vocab, vectorizer, tfidf_matrix, useSum=False, vector_size=100, tokenizer=lambda x: x.split()):\n",
    "    # create a matrix with rows equal to the number of tweets and columns equal to the embedding size\n",
    "    vectors = np.zeros((len(sentences), vector_size))\n",
    "\n",
    "    # for each sentence in the dataset compute the embedding \n",
    "    for i, sentence in enumerate(sentences):\n",
    "        tokens = tokenizer(sentence)\n",
    "        embeddings = [vectorizer(token) * tfidf_matrix[i, vocab.index(token)] for token in tokens if token in vocab] # embedding per ogni token\n",
    "        if (len(embeddings) > 0): # unisce tutti gli embedding in base a useSum\n",
    "            if (useSum): \n",
    "                vectors[i] = sum(embeddings)\n",
    "            else:\n",
    "                vectors[i] = np.mean(embeddings, axis=0)\n",
    "    return vectors"
   ]
  },
  {
   "cell_type": "code",
   "execution_count": 66,
   "metadata": {},
   "outputs": [
    {
     "name": "stdout",
     "output_type": "stream",
     "text": [
      "MSE: 0.12740862463236438\n"
     ]
    }
   ],
   "source": [
    "predicted_scores = []\n",
    "for idx, row in lemmatized_dataset.iterrows():\n",
    "    sentences = [row['sentence1'], row['sentence2']]\n",
    "    vectors = vectorize(sentences, model.wv, model.wv.get_vector, tokenizer=analyzer, useSum=False)\n",
    "    similarity = cosine_similarity(vectors)[0][1]\n",
    "    similarity = np.clip(similarity, -1, 1)\n",
    "    predicted_scores.append(1 - (arccos(similarity) / np.pi))\n",
    "\n",
    "mse = mean_squared_error(lemmatized_dataset[\"score\"].values, predicted_scores)\n",
    "print(\"MSE:\", mse)"
   ]
  },
  {
   "cell_type": "code",
   "execution_count": 40,
   "metadata": {},
   "outputs": [],
   "source": [
    "import gensim.downloader as api\n",
    "\n",
    "model_wiki = api.load(\"glove-wiki-gigaword-300\")"
   ]
  },
  {
   "cell_type": "code",
   "execution_count": 86,
   "metadata": {},
   "outputs": [
    {
     "name": "stdout",
     "output_type": "stream",
     "text": [
      "car --> ['cars', 'vehicle', 'truck', 'driver', 'driving', 'vehicles', 'motorcycle', 'automobile', 'parked', 'drivers']\n",
      "boy --> ['girl', 'boys', 'kid', 'man', 'teenage', 'child', 'teenager', 'father', 'girls', 'son']\n",
      "man --> ['woman', 'person', 'boy', 'he', 'men', 'himself', 'one', 'another', 'who', 'him']\n",
      "girl --> ['boy', 'woman', 'girls', 'teenager', 'teenage', 'mother', 'boys', 'child', 'teen', 'daughter']\n",
      "woman --> ['girl', 'man', 'mother', 'she', 'her', 'female', 'herself', 'person', 'women', 'wife']\n",
      "obama --> ['barack', 'mccain', 'bush', 'clinton', 'hillary', 'kerry', 'rodham', 'biden', 'gore', 'democrats']\n",
      "florida --> ['miami', 'fla.', 'carolina', 'texas', 'tallahassee', 'louisiana', 'alabama', 'jacksonville', 'tampa', 'arizona']\n",
      "cat --> ['dog', 'cats', 'pet', 'dogs', 'feline', 'monkey', 'horse', 'pets', 'rabbit', 'leopard']\n",
      "dog --> ['dogs', 'cat', 'pet', 'puppy', 'hound', 'horse', 'animal', 'cats', 'canine', 'pets']\n",
      "blue --> ['red', 'yellow', 'purple', 'pink', 'bright', 'black', 'green', 'white', 'gray', 'colored']\n",
      "kill --> ['killing', 'kills', 'destroy', 'killed', 'shoot', 'injure', 'dead', 'them', 'killer', 'assassinate']\n",
      "bomb --> ['bombs', 'blast', 'explosives', 'exploded', 'detonated', 'bombing', 'explosion', 'bomber', 'explosive', 'blasts']\n",
      "piano --> ['violin', 'cello', 'guitar', 'concerto', 'clarinet', 'saxophone', 'pianist', 'harpsichord', 'orchestral', 'flute']\n",
      "pizza --> ['pizzas', 'taco', 'pepperoni', 'sandwiches', 'restaurant', 'sandwich', 'burgers', 'pasta', 'hamburgers', 'burger']\n",
      "italy --> ['italian', 'rome', 'spain', 'italians', 'france', 'germany', 'greece', 'milan', 'turin', 'portugal']\n"
     ]
    }
   ],
   "source": [
    "for item in ['car', 'boy', 'man', 'girl', 'woman', 'obama', 'florida', 'cat', 'dog', 'blue', 'kill', 'bomb', 'piano', 'pizza', 'italy']:\n",
    "    print(item, '-->', [w for w, s in model_wiki.most_similar(item)])"
   ]
  },
  {
   "cell_type": "code",
   "execution_count": 90,
   "metadata": {},
   "outputs": [
    {
     "name": "stdout",
     "output_type": "stream",
     "text": [
      "MSE: 0.12841044500310017\n"
     ]
    }
   ],
   "source": [
    "predicted_scores = []\n",
    "for idx, row in lemmatized_dataset.iterrows():\n",
    "    sentences = [row['sentence1'], row['sentence2']]\n",
    "    vectors = vectorize(sentences, model_wiki, model_wiki.get_vector,  tokenizer=analyzer, useSum=False, vector_size=300)\n",
    "    similarity = cosine_similarity(vectors)[0][1]\n",
    "    similarity = np.clip(similarity, -1, 1)\n",
    "    \n",
    "    # Angular similarity\n",
    "    predicted_scores.append(1 - (arccos(similarity) / np.pi))\n",
    "\n",
    "mse = mean_squared_error(lemmatized_dataset[\"score\"].values, predicted_scores)\n",
    "print(\"MSE:\", mse)"
   ]
  },
  {
   "cell_type": "markdown",
   "metadata": {},
   "source": [
    "## SubWord embedding: FastText"
   ]
  },
  {
   "cell_type": "code",
   "execution_count": null,
   "metadata": {},
   "outputs": [],
   "source": [
    "import fasttext\n",
    "from gensim.models import FastText"
   ]
  },
  {
   "cell_type": "code",
   "execution_count": 92,
   "metadata": {},
   "outputs": [
    {
     "name": "stdout",
     "output_type": "stream",
     "text": [
      "car --> ['carry', 'cartoon', 'carrot', 'care', 'cargo', 'cartel', 'career', 'carpet', 'carrier', 'carolina']\n",
      "boy --> ['kid', 'skirt', 'bo', 'puppy', 'girl', 'jacket', 'ontario', 'a', 'boat', 'bottle']\n",
      "man --> ['woman', 'a', 'an', 'chapman', 'jean', 'zimmerman', 'human', 'boy', 'suit', 'math']\n",
      "girl --> ['young', 'blonde', 'helmet', 'woman', 'guy', 'skirt', 'a', 'blue', 'pink', 'piano']\n",
      "woman --> ['man', 'a', 'womans', 'girl', 'someoen', 'an', 'helmet', 'broccoli', 'kangaroo', 'baby']\n",
      "obama --> ['obamas', 'obamacare', 'osama', 'alabama', 'romney', 'lama', 'vow', 'hamas', 'secretary', 'secret']\n",
      "florida --> ['fda', 'graham', 'fla', 'pennsylvania', 'birthday', 'sixth', 'switzerland', 'berkeley', 'nevada', 'outfielder']\n",
      "cat --> ['carpet', 'cap', 'camera', 'cake', 'kitten', 'caucus', 'catch', 'canoe', 'cattle', 'cameron']\n",
      "dog --> ['mouth', 'fluffy', 'brown', 'kitten', 'run', 'puppy', 'snow', 'grey', 'cow', 'white']\n",
      "blue --> ['bluechip', 'black', 'skirt', 'blonde', 'jetblue', 'blanket', 'squat', 'a', 'shirt', 'grey']\n",
      "kill --> ['nw', 'injure', 'ambush', 'e', '5', 'soldier', 'northern', 'bomb', 'hill', 'kabul']\n",
      "bomb --> ['bombing', 'bomber', 'boko', 'suicide', 'bo', 'beirut', 'kill', 'plot', 'explosion', 'boston']\n",
      "piano --> ['guitar', 'flute', 'pig', 'fluffy', 'pipe', 'guy', 'pink', 'fluid', 'skirt', 'pit']\n",
      "pizza --> ['pig', 'piece', 'pipe', 'octopu', 'carrot', 'pink', 'bread', 'broccoli', 'watermelon', 'slab']\n",
      "italy --> ['italian', 'fuel', 'britain', 'spain', 'sweden', 'provide', 'gearbox', 'germany', 'latvia', 'swedish']\n"
     ]
    }
   ],
   "source": [
    "ft_model = fasttext.train_unsupervised('Dataset/parsed_sentences.txt', model='cbow', dim=100, minCount=3, minn=3, maxn=5, ws=5, epoch=100)\n",
    "\n",
    "for item in ['car', 'boy', 'man', 'girl', 'woman', 'obama', 'florida', 'cat', 'dog', 'blue', 'kill', 'bomb', 'piano', 'pizza', 'italy']:\n",
    "    print(item, '-->', [s for w, s in ft_model.get_nearest_neighbors(item)])"
   ]
  },
  {
   "cell_type": "code",
   "execution_count": 94,
   "metadata": {},
   "outputs": [
    {
     "name": "stdout",
     "output_type": "stream",
     "text": [
      "MSE: 0.11519655815875185\n"
     ]
    }
   ],
   "source": [
    "predicted_scores = []\n",
    "for idx, row in lemmatized_dataset.iterrows():\n",
    "    sentences = [row['sentence1'], row['sentence2']]\n",
    "    vectors = vectorize(sentences, ft_model.words, ft_model.get_word_vector, tokenizer=analyzer, useSum=False)\n",
    "    similarity = cosine_similarity(vectors)[0][1]\n",
    "    similarity = np.clip(similarity, -1, 1)\n",
    "    predicted_scores.append(1 - (arccos(similarity) / np.pi))\n",
    "\n",
    "mse = mean_squared_error(lemmatized_dataset[\"score\"].values, predicted_scores)\n",
    "print(\"MSE:\", mse)"
   ]
  },
  {
   "cell_type": "code",
   "execution_count": 95,
   "metadata": {},
   "outputs": [
    {
     "name": "stdout",
     "output_type": "stream",
     "text": [
      "MSE: 0.08737958902992013\n"
     ]
    }
   ],
   "source": [
    "predicted_scores = []\n",
    "for idx, row in lemmatized_dataset.iterrows():\n",
    "    sentences = [row['sentence1'], row['sentence2']]\n",
    "    vectors = vectorize_tfidf(sentences, ft_model.words, ft_model.get_word_vector, tfidf_matrix=tfidf_matrix, tokenizer=analyzer, useSum=False)\n",
    "    similarity = cosine_similarity(vectors)[0][1]\n",
    "    similarity = np.clip(similarity, -1, 1)\n",
    "    predicted_scores.append(1 - (arccos(similarity) / np.pi))\n",
    "\n",
    "mse = mean_squared_error(lemmatized_dataset[\"score\"].values, predicted_scores)\n",
    "print(\"MSE:\", mse)"
   ]
  },
  {
   "cell_type": "code",
   "execution_count": null,
   "metadata": {},
   "outputs": [
    {
     "name": "stdout",
     "output_type": "stream",
     "text": [
      "MSE: 0.1135294733474303\n"
     ]
    }
   ],
   "source": [
    "predicted_scores = []\n",
    "for idx, row in lemmatized_dataset.iterrows():\n",
    "    sentences = [row['sentence1'], row['sentence2']]\n",
    "    vectors = ft_model.get_sentence_vector(sentences[0]), ft_model.get_sentence_vector(sentences[1])\n",
    "    similarity = cosine_similarity(vectors)[0][1]\n",
    "    similarity = np.clip(similarity, -1, 1)\n",
    "    predicted_scores.append(1 - (arccos(similarity) / np.pi))\n",
    "\n",
    "mse = mean_squared_error(lemmatized_dataset[\"score\"].values, predicted_scores)\n",
    "print(\"MSE:\", mse)"
   ]
  },
  {
   "cell_type": "code",
   "execution_count": 99,
   "metadata": {},
   "outputs": [
    {
     "data": {
      "text/plain": [
       "[(0.5890121459960938, 'woman'),\n",
       " (0.3826262056827545, 'tan'),\n",
       " (0.3783170282840729, 'jean'),\n",
       " (0.3684799075126648, 'fan'),\n",
       " (0.3553972542285919, 'helmet'),\n",
       " (0.3547843098640442, 'teenager'),\n",
       " (0.35413458943367004, 'male'),\n",
       " (0.3529100716114044, 'kazan'),\n",
       " (0.35130223631858826, 'human'),\n",
       " (0.34914642572402954, 'van')]"
      ]
     },
     "execution_count": 99,
     "metadata": {},
     "output_type": "execute_result"
    }
   ],
   "source": [
    "ft_model.get_analogies(\"man\", \"boy\", \"girl\")"
   ]
  },
  {
   "attachments": {},
   "cell_type": "markdown",
   "metadata": {},
   "source": [
    "## Transformers"
   ]
  },
  {
   "cell_type": "markdown",
   "metadata": {},
   "source": [
    "### Unsupervised approaches"
   ]
  },
  {
   "cell_type": "code",
   "execution_count": 9,
   "metadata": {},
   "outputs": [],
   "source": [
    "from sentence_transformers import SentenceTransformer\n",
    "from sentence_transformers import util\n",
    "model = SentenceTransformer('multi-qa-MiniLM-L6-cos-v1')\n",
    "embeddings = model.encode(clean_sentences_list, convert_to_tensor=True)\n"
   ]
  },
  {
   "cell_type": "code",
   "execution_count": 19,
   "metadata": {},
   "outputs": [
    {
     "name": "stdout",
     "output_type": "stream",
     "text": [
      "income top rate percent (Score: 1.0000)\n",
      "income tax top rate percent (Score: 0.8817)\n",
      "capital gains top rate percent (Score: 0.6926)\n",
      "higher per cent high (Score: 0.5817)\n",
      "survey found median household income rose 51 accounting inflation 43057 (Score: 0.5806)\n",
      "median household income declined 11 percent 2001 2002 42409 accounting inflation (Score: 0.5753)\n",
      "unemployment rate rose tenth percentage point 61 highest level since july 1994 (Score: 0.5456)\n",
      "revenue rose 39 percent 163 billion 157 billion (Score: 0.5443)\n",
      "unemployment rate predicted ticked percentage point 61 (Score: 0.5028)\n",
      "based separate survey households unemployment rate fell august 61 percent 62 percent (Score: 0.4906)\n",
      "proportion people covered employers dropped 623 percent 2001 613 percent last year (Score: 0.4882)\n",
      "halliburton 1q income rises 23 pct (Score: 0.4704)\n",
      "wall street dow jones industrial average rose 05 per cent 99058 nasdaq composite added 07 per cent 19951 (Score: 0.4628)\n",
      "stocks edge lower following retail earnings (Score: 0.4598)\n",
      "sales quarter beat expectations rising 37 percent yearonyear 176 billion euros (Score: 0.4546)\n",
      "midafternoon trading nasdaq composite index 834 05 percent 179047 (Score: 0.4542)\n",
      "licensing revenue slid 21 percent however 1076 million (Score: 0.4521)\n",
      "11 1500 gmt 10year note us10ytrr 1132 yield 336 percent 340 percent wednesday (Score: 0.4509)\n",
      "january 2000 notebooks represented less 25 percent sales volume (Score: 0.4473)\n",
      "proportion americans insurance employers declined 613 percent 626 percent 2001 636 percent 2000 (Score: 0.4396)\n"
     ]
    }
   ],
   "source": [
    "hits = util.semantic_search(embeddings[0], embeddings, top_k=20)\n",
    "hits = hits[0]      #Get the hits for the first query\n",
    "for hit in hits:\n",
    "    print(clean_sentences_list[hit['corpus_id']], \"(Score: {:.4f})\".format(hit['score']))"
   ]
  },
  {
   "cell_type": "code",
   "execution_count": 15,
   "metadata": {},
   "outputs": [],
   "source": [
    "stop_words_embeddings = model.encode(no_punct_sentences_list, convert_to_tensor=True)"
   ]
  },
  {
   "cell_type": "code",
   "execution_count": 20,
   "metadata": {},
   "outputs": [
    {
     "name": "stdout",
     "output_type": "stream",
     "text": [
      "  income top rate  percent (Score: 0.0237)\n"
     ]
    }
   ],
   "source": [
    "hits = util.semantic_search(stop_words_embeddings[0], stop_words_embeddings[1], top_k=20)\n",
    "hits = hits[0]      #Get the hits for the first query\n",
    "for hit in hits:\n",
    "    print(no_punct_sentences_list[hit['corpus_id']], \"(Score: {:.4f})\".format(hit['score']))"
   ]
  },
  {
   "cell_type": "code",
   "execution_count": 36,
   "metadata": {},
   "outputs": [
    {
     "name": "stderr",
     "output_type": "stream",
     "text": [
      "5749it [01:50, 52.18it/s]"
     ]
    },
    {
     "name": "stdout",
     "output_type": "stream",
     "text": [
      "MSE: 0.051328593426690855\n"
     ]
    },
    {
     "name": "stderr",
     "output_type": "stream",
     "text": [
      "\n"
     ]
    }
   ],
   "source": [
    "predicted_scores = []\n",
    "for idx, row in tqdm(lemmatized_dataset.iterrows()):\n",
    "    sentences = [row['sentence1'], row['sentence2']]\n",
    "    vectors = model.encode(sentences)\n",
    "    similarity = cosine_similarity(vectors)[0][1]\n",
    "    similarity = np.clip(similarity, -1, 1)\n",
    "    predicted_scores.append(similarity)\n",
    "\n",
    "mse = mean_squared_error(lemmatized_dataset[\"score\"].values, predicted_scores)\n",
    "print(\"MSE:\", mse)"
   ]
  },
  {
   "cell_type": "code",
   "execution_count": 62,
   "metadata": {},
   "outputs": [
    {
     "data": {
      "text/plain": [
       "(5749,)"
      ]
     },
     "execution_count": 62,
     "metadata": {},
     "output_type": "execute_result"
    }
   ],
   "source": [
    "# min max scale predicted scores\n",
    "from sklearn.preprocessing import Normalizer, MinMaxScaler\n",
    "predicted_scores = np.array(predicted_scores)\n",
    "scaled_predicted_scores = predicted_scores\n",
    "\n",
    "scaled_predicted_scores\n",
    "scaled_predicted_scores.shape"
   ]
  },
  {
   "cell_type": "code",
   "execution_count": 63,
   "metadata": {},
   "outputs": [
    {
     "name": "stdout",
     "output_type": "stream",
     "text": [
      "MSE: 0.051328593426690855\n"
     ]
    }
   ],
   "source": [
    "mse = mean_squared_error(lemmatized_dataset[\"score\"].values, scaled_predicted_scores)\n",
    "print(\"MSE:\", mse)"
   ]
  },
  {
   "cell_type": "code",
   "execution_count": null,
   "metadata": {},
   "outputs": [],
   "source": [
    "predicted_scores = []\n",
    "for idx, row in tqdm(df.iterrows()):\n",
    "    sentences = [row['sentence1'], row['sentence2']]\n",
    "    vectors = model.encode(sentences)\n",
    "    similarity = cosine_similarity(vectors)[0][1]\n",
    "    similarity = np.clip(similarity, -1, 1)\n",
    "    predicted_scores.append(1 - (arccos(similarity) / np.pi))\n",
    "\n",
    "mse = mean_squared_error(df[\"score\"].values, predicted_scores)\n",
    "print(\"MSE:\", mse)"
   ]
  },
  {
   "cell_type": "code",
   "execution_count": 66,
   "metadata": {},
   "outputs": [
    {
     "ename": "RuntimeError",
     "evalue": "Failed to run torchinfo. See above stack traces for more details. Executed layers up to: []",
     "output_type": "error",
     "traceback": [
      "\u001b[1;31m---------------------------------------------------------------------------\u001b[0m",
      "\u001b[1;31mIndexError\u001b[0m                                Traceback (most recent call last)",
      "File \u001b[1;32mc:\\Users\\andre\\AppData\\Local\\Programs\\Python\\Python38\\lib\\site-packages\\torchinfo\\torchinfo.py:295\u001b[0m, in \u001b[0;36mforward_pass\u001b[1;34m(model, x, batch_dim, cache_forward_pass, device, mode, **kwargs)\u001b[0m\n\u001b[0;32m    294\u001b[0m \u001b[39mif\u001b[39;00m \u001b[39misinstance\u001b[39m(x, (\u001b[39mlist\u001b[39m, \u001b[39mtuple\u001b[39m)):\n\u001b[1;32m--> 295\u001b[0m     _ \u001b[39m=\u001b[39m model(\u001b[39m*\u001b[39;49mx, \u001b[39m*\u001b[39;49m\u001b[39m*\u001b[39;49mkwargs)\n\u001b[0;32m    296\u001b[0m \u001b[39melif\u001b[39;00m \u001b[39misinstance\u001b[39m(x, \u001b[39mdict\u001b[39m):\n",
      "File \u001b[1;32mc:\\Users\\andre\\AppData\\Local\\Programs\\Python\\Python38\\lib\\site-packages\\torch\\nn\\modules\\module.py:1538\u001b[0m, in \u001b[0;36mModule._call_impl\u001b[1;34m(self, *args, **kwargs)\u001b[0m\n\u001b[0;32m   1536\u001b[0m     args \u001b[39m=\u001b[39m bw_hook\u001b[39m.\u001b[39msetup_input_hook(args)\n\u001b[1;32m-> 1538\u001b[0m result \u001b[39m=\u001b[39m forward_call(\u001b[39m*\u001b[39;49margs, \u001b[39m*\u001b[39;49m\u001b[39m*\u001b[39;49mkwargs)\n\u001b[0;32m   1539\u001b[0m \u001b[39mif\u001b[39;00m _global_forward_hooks \u001b[39mor\u001b[39;00m \u001b[39mself\u001b[39m\u001b[39m.\u001b[39m_forward_hooks:\n",
      "File \u001b[1;32mc:\\Users\\andre\\AppData\\Local\\Programs\\Python\\Python38\\lib\\site-packages\\torch\\nn\\modules\\container.py:217\u001b[0m, in \u001b[0;36mSequential.forward\u001b[1;34m(self, input)\u001b[0m\n\u001b[0;32m    216\u001b[0m \u001b[39mfor\u001b[39;00m module \u001b[39min\u001b[39;00m \u001b[39mself\u001b[39m:\n\u001b[1;32m--> 217\u001b[0m     \u001b[39minput\u001b[39m \u001b[39m=\u001b[39m module(\u001b[39minput\u001b[39;49m)\n\u001b[0;32m    218\u001b[0m \u001b[39mreturn\u001b[39;00m \u001b[39minput\u001b[39m\n",
      "File \u001b[1;32mc:\\Users\\andre\\AppData\\Local\\Programs\\Python\\Python38\\lib\\site-packages\\torch\\nn\\modules\\module.py:1538\u001b[0m, in \u001b[0;36mModule._call_impl\u001b[1;34m(self, *args, **kwargs)\u001b[0m\n\u001b[0;32m   1536\u001b[0m     args \u001b[39m=\u001b[39m bw_hook\u001b[39m.\u001b[39msetup_input_hook(args)\n\u001b[1;32m-> 1538\u001b[0m result \u001b[39m=\u001b[39m forward_call(\u001b[39m*\u001b[39;49margs, \u001b[39m*\u001b[39;49m\u001b[39m*\u001b[39;49mkwargs)\n\u001b[0;32m   1539\u001b[0m \u001b[39mif\u001b[39;00m _global_forward_hooks \u001b[39mor\u001b[39;00m \u001b[39mself\u001b[39m\u001b[39m.\u001b[39m_forward_hooks:\n",
      "File \u001b[1;32mc:\\Users\\andre\\AppData\\Local\\Programs\\Python\\Python38\\lib\\site-packages\\sentence_transformers\\models\\Transformer.py:62\u001b[0m, in \u001b[0;36mTransformer.forward\u001b[1;34m(self, features)\u001b[0m\n\u001b[0;32m     61\u001b[0m \u001b[39m\u001b[39m\u001b[39m\"\"\"Returns token_embeddings, cls_token\"\"\"\u001b[39;00m\n\u001b[1;32m---> 62\u001b[0m trans_features \u001b[39m=\u001b[39m {\u001b[39m'\u001b[39m\u001b[39minput_ids\u001b[39m\u001b[39m'\u001b[39m: features[\u001b[39m'\u001b[39;49m\u001b[39minput_ids\u001b[39;49m\u001b[39m'\u001b[39;49m], \u001b[39m'\u001b[39m\u001b[39mattention_mask\u001b[39m\u001b[39m'\u001b[39m: features[\u001b[39m'\u001b[39m\u001b[39mattention_mask\u001b[39m\u001b[39m'\u001b[39m]}\n\u001b[0;32m     63\u001b[0m \u001b[39mif\u001b[39;00m \u001b[39m'\u001b[39m\u001b[39mtoken_type_ids\u001b[39m\u001b[39m'\u001b[39m \u001b[39min\u001b[39;00m features:\n",
      "\u001b[1;31mIndexError\u001b[0m: too many indices for tensor of dimension 2",
      "\nThe above exception was the direct cause of the following exception:\n",
      "\u001b[1;31mRuntimeError\u001b[0m                              Traceback (most recent call last)",
      "Cell \u001b[1;32mIn[66], line 2\u001b[0m\n\u001b[0;32m      1\u001b[0m \u001b[39mfrom\u001b[39;00m \u001b[39mtorchinfo\u001b[39;00m \u001b[39mimport\u001b[39;00m summary\n\u001b[1;32m----> 2\u001b[0m summary(model, (\u001b[39m2\u001b[39;49m, \u001b[39m128\u001b[39;49m))\n",
      "File \u001b[1;32mc:\\Users\\andre\\AppData\\Local\\Programs\\Python\\Python38\\lib\\site-packages\\torchinfo\\torchinfo.py:223\u001b[0m, in \u001b[0;36msummary\u001b[1;34m(model, input_size, input_data, batch_dim, cache_forward_pass, col_names, col_width, depth, device, dtypes, mode, row_settings, verbose, **kwargs)\u001b[0m\n\u001b[0;32m    216\u001b[0m validate_user_params(\n\u001b[0;32m    217\u001b[0m     input_data, input_size, columns, col_width, device, dtypes, verbose\n\u001b[0;32m    218\u001b[0m )\n\u001b[0;32m    220\u001b[0m x, correct_input_size \u001b[39m=\u001b[39m process_input(\n\u001b[0;32m    221\u001b[0m     input_data, input_size, batch_dim, device, dtypes\n\u001b[0;32m    222\u001b[0m )\n\u001b[1;32m--> 223\u001b[0m summary_list \u001b[39m=\u001b[39m forward_pass(\n\u001b[0;32m    224\u001b[0m     model, x, batch_dim, cache_forward_pass, device, model_mode, \u001b[39m*\u001b[39;49m\u001b[39m*\u001b[39;49mkwargs\n\u001b[0;32m    225\u001b[0m )\n\u001b[0;32m    226\u001b[0m formatting \u001b[39m=\u001b[39m FormattingOptions(depth, verbose, columns, col_width, rows)\n\u001b[0;32m    227\u001b[0m results \u001b[39m=\u001b[39m ModelStatistics(\n\u001b[0;32m    228\u001b[0m     summary_list, correct_input_size, get_total_memory_used(x), formatting\n\u001b[0;32m    229\u001b[0m )\n",
      "File \u001b[1;32mc:\\Users\\andre\\AppData\\Local\\Programs\\Python\\Python38\\lib\\site-packages\\torchinfo\\torchinfo.py:304\u001b[0m, in \u001b[0;36mforward_pass\u001b[1;34m(model, x, batch_dim, cache_forward_pass, device, mode, **kwargs)\u001b[0m\n\u001b[0;32m    302\u001b[0m \u001b[39mexcept\u001b[39;00m \u001b[39mException\u001b[39;00m \u001b[39mas\u001b[39;00m e:\n\u001b[0;32m    303\u001b[0m     executed_layers \u001b[39m=\u001b[39m [layer \u001b[39mfor\u001b[39;00m layer \u001b[39min\u001b[39;00m summary_list \u001b[39mif\u001b[39;00m layer\u001b[39m.\u001b[39mexecuted]\n\u001b[1;32m--> 304\u001b[0m     \u001b[39mraise\u001b[39;00m \u001b[39mRuntimeError\u001b[39;00m(\n\u001b[0;32m    305\u001b[0m         \u001b[39m\"\u001b[39m\u001b[39mFailed to run torchinfo. See above stack traces for more details. \u001b[39m\u001b[39m\"\u001b[39m\n\u001b[0;32m    306\u001b[0m         \u001b[39mf\u001b[39m\u001b[39m\"\u001b[39m\u001b[39mExecuted layers up to: \u001b[39m\u001b[39m{\u001b[39;00mexecuted_layers\u001b[39m}\u001b[39;00m\u001b[39m\"\u001b[39m\n\u001b[0;32m    307\u001b[0m     ) \u001b[39mfrom\u001b[39;00m \u001b[39me\u001b[39;00m\n\u001b[0;32m    308\u001b[0m \u001b[39mfinally\u001b[39;00m:\n\u001b[0;32m    309\u001b[0m     \u001b[39mif\u001b[39;00m hooks:\n",
      "\u001b[1;31mRuntimeError\u001b[0m: Failed to run torchinfo. See above stack traces for more details. Executed layers up to: []"
     ]
    }
   ],
   "source": [
    "from torchinfo import summary\n",
    "summary(model, (2, 128))"
   ]
  },
  {
   "attachments": {},
   "cell_type": "markdown",
   "metadata": {},
   "source": [
    "#TODO fine tuning the model using cosine similarity as loss function [link](https://www.sbert.net/examples/training/sts/README.html)\n",
    "\n",
    "#TODO testing tf-idf with trainset\n",
    "\n",
    "#TODO adjust lemmatized_dataset with lower after lemmatization and stopwords"
   ]
  }
 ],
 "metadata": {
  "kernelspec": {
   "display_name": "Python 3 (ipykernel)",
   "language": "python",
   "name": "python3"
  },
  "language_info": {
   "codemirror_mode": {
    "name": "ipython",
    "version": 3
   },
   "file_extension": ".py",
   "mimetype": "text/x-python",
   "name": "python",
   "nbconvert_exporter": "python",
   "pygments_lexer": "ipython3",
   "version": "3.8.8"
  }
 },
 "nbformat": 4,
 "nbformat_minor": 4
}

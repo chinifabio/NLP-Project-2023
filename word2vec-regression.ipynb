{
 "cells": [
  {
   "cell_type": "code",
   "execution_count": 7,
   "metadata": {},
   "outputs": [
    {
     "name": "stderr",
     "output_type": "stream",
     "text": [
      "[nltk_data] Downloading package stopwords to /home/fabio/nltk_data...\n",
      "[nltk_data]   Package stopwords is already up-to-date!\n",
      "/home/fabio/.local/lib/python3.11/site-packages/torch/cuda/__init__.py:546: UserWarning: Can't initialize NVML\n",
      "  warnings.warn(\"Can't initialize NVML\")\n",
      "2023-05-27 11:14:35.301871: I tensorflow/core/platform/cpu_feature_guard.cc:182] This TensorFlow binary is optimized to use available CPU instructions in performance-critical operations.\n",
      "To enable the following instructions: AVX2 FMA, in other operations, rebuild TensorFlow with the appropriate compiler flags.\n",
      "2023-05-27 11:14:37.322928: W tensorflow/compiler/tf2tensorrt/utils/py_utils.cc:38] TF-TRT Warning: Could not find TensorRT\n",
      "2023-05-27 11:14:54.385205: E tensorflow/compiler/xla/stream_executor/cuda/cuda_driver.cc:266] failed call to cuInit: CUDA_ERROR_NO_DEVICE: no CUDA-capable device is detected\n"
     ]
    }
   ],
   "source": [
    "from gensim.models import Word2Vec\n",
    "import numpy as np\n",
    "from sklearn.cluster import KMeans\n",
    "import matplotlib.pyplot as plt\n",
    "import pandas as pd\n",
    "from scipy.stats import pearsonr, spearmanr\n",
    "from sklearn.linear_model import LinearRegression\n",
    "from sklearn.linear_model import Ridge, ElasticNet\n",
    "from sklearn.ensemble import RandomForestRegressor\n",
    "from sklearn.metrics import mean_squared_error\n",
    "from sklearn.metrics import mean_absolute_error\n",
    "from nltk.tokenize import word_tokenize\n",
    "\n",
    "from string import punctuation\n",
    "from unidecode import unidecode\n",
    "import re\n",
    "\n",
    "import nltk\n",
    "nltk.download('stopwords')\n",
    "from nltk.corpus import stopwords\n",
    "\n",
    "import spacy\n",
    "spacy_nlp = spacy.load('en_core_web_sm', disable=['parser', 'ner'])"
   ]
  },
  {
   "cell_type": "code",
   "execution_count": 8,
   "metadata": {},
   "outputs": [
    {
     "name": "stdout",
     "output_type": "stream",
     "text": [
      "shape of the Dataframe (5749, 7)\n"
     ]
    },
    {
     "data": {
      "text/html": [
       "<div>\n",
       "<style scoped>\n",
       "    .dataframe tbody tr th:only-of-type {\n",
       "        vertical-align: middle;\n",
       "    }\n",
       "\n",
       "    .dataframe tbody tr th {\n",
       "        vertical-align: top;\n",
       "    }\n",
       "\n",
       "    .dataframe thead th {\n",
       "        text-align: right;\n",
       "    }\n",
       "</style>\n",
       "<table border=\"1\" class=\"dataframe\">\n",
       "  <thead>\n",
       "    <tr style=\"text-align: right;\">\n",
       "      <th></th>\n",
       "      <th>genre</th>\n",
       "      <th>filename</th>\n",
       "      <th>year</th>\n",
       "      <th>index</th>\n",
       "      <th>score</th>\n",
       "      <th>sentence1</th>\n",
       "      <th>sentence2</th>\n",
       "    </tr>\n",
       "  </thead>\n",
       "  <tbody>\n",
       "    <tr>\n",
       "      <th>0</th>\n",
       "      <td>main-captions</td>\n",
       "      <td>MSRvid</td>\n",
       "      <td>2012test</td>\n",
       "      <td>1</td>\n",
       "      <td>5.00</td>\n",
       "      <td>A plane is taking off.</td>\n",
       "      <td>An air plane is taking off.</td>\n",
       "    </tr>\n",
       "    <tr>\n",
       "      <th>1</th>\n",
       "      <td>main-captions</td>\n",
       "      <td>MSRvid</td>\n",
       "      <td>2012test</td>\n",
       "      <td>4</td>\n",
       "      <td>3.80</td>\n",
       "      <td>A man is playing a large flute.</td>\n",
       "      <td>A man is playing a flute.</td>\n",
       "    </tr>\n",
       "    <tr>\n",
       "      <th>2</th>\n",
       "      <td>main-captions</td>\n",
       "      <td>MSRvid</td>\n",
       "      <td>2012test</td>\n",
       "      <td>5</td>\n",
       "      <td>3.80</td>\n",
       "      <td>A man is spreading shreded cheese on a pizza.</td>\n",
       "      <td>A man is spreading shredded cheese on an uncoo...</td>\n",
       "    </tr>\n",
       "    <tr>\n",
       "      <th>3</th>\n",
       "      <td>main-captions</td>\n",
       "      <td>MSRvid</td>\n",
       "      <td>2012test</td>\n",
       "      <td>6</td>\n",
       "      <td>2.60</td>\n",
       "      <td>Three men are playing chess.</td>\n",
       "      <td>Two men are playing chess.</td>\n",
       "    </tr>\n",
       "    <tr>\n",
       "      <th>4</th>\n",
       "      <td>main-captions</td>\n",
       "      <td>MSRvid</td>\n",
       "      <td>2012test</td>\n",
       "      <td>9</td>\n",
       "      <td>4.25</td>\n",
       "      <td>A man is playing the cello.</td>\n",
       "      <td>A man seated is playing the cello.</td>\n",
       "    </tr>\n",
       "    <tr>\n",
       "      <th>5</th>\n",
       "      <td>main-captions</td>\n",
       "      <td>MSRvid</td>\n",
       "      <td>2012test</td>\n",
       "      <td>11</td>\n",
       "      <td>4.25</td>\n",
       "      <td>Some men are fighting.</td>\n",
       "      <td>Two men are fighting.</td>\n",
       "    </tr>\n",
       "    <tr>\n",
       "      <th>6</th>\n",
       "      <td>main-captions</td>\n",
       "      <td>MSRvid</td>\n",
       "      <td>2012test</td>\n",
       "      <td>12</td>\n",
       "      <td>0.50</td>\n",
       "      <td>A man is smoking.</td>\n",
       "      <td>A man is skating.</td>\n",
       "    </tr>\n",
       "    <tr>\n",
       "      <th>7</th>\n",
       "      <td>main-captions</td>\n",
       "      <td>MSRvid</td>\n",
       "      <td>2012test</td>\n",
       "      <td>13</td>\n",
       "      <td>1.60</td>\n",
       "      <td>The man is playing the piano.</td>\n",
       "      <td>The man is playing the guitar.</td>\n",
       "    </tr>\n",
       "    <tr>\n",
       "      <th>8</th>\n",
       "      <td>main-captions</td>\n",
       "      <td>MSRvid</td>\n",
       "      <td>2012test</td>\n",
       "      <td>14</td>\n",
       "      <td>2.20</td>\n",
       "      <td>A man is playing on a guitar and singing.</td>\n",
       "      <td>A woman is playing an acoustic guitar and sing...</td>\n",
       "    </tr>\n",
       "    <tr>\n",
       "      <th>9</th>\n",
       "      <td>main-captions</td>\n",
       "      <td>MSRvid</td>\n",
       "      <td>2012test</td>\n",
       "      <td>16</td>\n",
       "      <td>5.00</td>\n",
       "      <td>A person is throwing a cat on to the ceiling.</td>\n",
       "      <td>A person throws a cat on the ceiling.</td>\n",
       "    </tr>\n",
       "  </tbody>\n",
       "</table>\n",
       "</div>"
      ],
      "text/plain": [
       "           genre filename      year  index  score  \\\n",
       "0  main-captions   MSRvid  2012test      1   5.00   \n",
       "1  main-captions   MSRvid  2012test      4   3.80   \n",
       "2  main-captions   MSRvid  2012test      5   3.80   \n",
       "3  main-captions   MSRvid  2012test      6   2.60   \n",
       "4  main-captions   MSRvid  2012test      9   4.25   \n",
       "5  main-captions   MSRvid  2012test     11   4.25   \n",
       "6  main-captions   MSRvid  2012test     12   0.50   \n",
       "7  main-captions   MSRvid  2012test     13   1.60   \n",
       "8  main-captions   MSRvid  2012test     14   2.20   \n",
       "9  main-captions   MSRvid  2012test     16   5.00   \n",
       "\n",
       "                                       sentence1  \\\n",
       "0                         A plane is taking off.   \n",
       "1                A man is playing a large flute.   \n",
       "2  A man is spreading shreded cheese on a pizza.   \n",
       "3                   Three men are playing chess.   \n",
       "4                    A man is playing the cello.   \n",
       "5                         Some men are fighting.   \n",
       "6                              A man is smoking.   \n",
       "7                  The man is playing the piano.   \n",
       "8      A man is playing on a guitar and singing.   \n",
       "9  A person is throwing a cat on to the ceiling.   \n",
       "\n",
       "                                           sentence2  \n",
       "0                        An air plane is taking off.  \n",
       "1                          A man is playing a flute.  \n",
       "2  A man is spreading shredded cheese on an uncoo...  \n",
       "3                         Two men are playing chess.  \n",
       "4                 A man seated is playing the cello.  \n",
       "5                              Two men are fighting.  \n",
       "6                                  A man is skating.  \n",
       "7                     The man is playing the guitar.  \n",
       "8  A woman is playing an acoustic guitar and sing...  \n",
       "9              A person throws a cat on the ceiling.  "
      ]
     },
     "execution_count": 8,
     "metadata": {},
     "output_type": "execute_result"
    }
   ],
   "source": [
    "def on_bad_line(values):\n",
    "    return values[:7]\n",
    "\n",
    "columns_mapping = {\n",
    "    0: 'genre',\n",
    "    1: 'filename',\n",
    "    2: 'year',\n",
    "    3: 'index',\n",
    "    4: 'score',\n",
    "    5: 'sentence1',\n",
    "    6: 'sentence2'\n",
    "}\n",
    "\n",
    "# quotings 3 = csv.QUOTE_NONE\n",
    "train_df = pd.read_csv('Dataset/sts-train.csv', sep=\"\\t\", on_bad_lines=on_bad_line, engine='python', header=None, encoding='utf-8', quoting=3).rename(columns=columns_mapping)\n",
    "print(f'shape of the Dataframe {train_df.shape}')\n",
    "train_df.head(10)"
   ]
  },
  {
   "cell_type": "code",
   "execution_count": 9,
   "metadata": {},
   "outputs": [
    {
     "name": "stdout",
     "output_type": "stream",
     "text": [
      "shape of the Dataframe (5749, 7)\n"
     ]
    }
   ],
   "source": [
    "test_df = pd.read_csv('Dataset/sts-test.csv', sep=\"\\t\", on_bad_lines=on_bad_line, engine='python', header=None, encoding='utf-8', quoting=3).rename(columns=columns_mapping)\n",
    "print(f'shape of the Dataframe {train_df.shape}')"
   ]
  },
  {
   "cell_type": "code",
   "execution_count": 10,
   "metadata": {},
   "outputs": [],
   "source": [
    "def vectorize(sentences, vocab, vectorizer, vector_size=100, tokenizer=lambda x: x.split()):\n",
    "    # create a matrix with rows equal to the number of tweets and columns equal to the embedding size\n",
    "    vectors = np.zeros((len(sentences), vector_size))\n",
    "\n",
    "    # for each sentence in the dataset compute the embedding \n",
    "    for i, sentence in enumerate(sentences):\n",
    "        tokens = tokenizer(sentence)\n",
    "        embeddings = [vectorizer(token) for token in tokens if token in vocab] # embedding per ogni token\n",
    "        if (len(embeddings) > 0): # unisce tutti gli embedding in base a useSum\n",
    "            vectors[i] = np.mean(embeddings, axis=0)\n",
    "    return vectors"
   ]
  },
  {
   "cell_type": "code",
   "execution_count": null,
   "metadata": {},
   "outputs": [],
   "source": []
  },
  {
   "cell_type": "code",
   "execution_count": 11,
   "metadata": {},
   "outputs": [],
   "source": [
    "stop_words = stopwords.words('english')\n",
    "\n",
    "def preprocess_and_tokenize(sentence: str):\n",
    "    temp = ' '.join([word.lemma_.lower() for word in spacy_nlp(sentence) if word.lemma_.lower() not in stop_words])\n",
    "    temp = re.sub(f'[{punctuation}]', '', unidecode(temp))\n",
    "    #temp = re.sub(r'\\d+(\\.\\d+)?', 'number', temp)\n",
    "    return word_tokenize(temp)"
   ]
  },
  {
   "cell_type": "code",
   "execution_count": 12,
   "metadata": {},
   "outputs": [
    {
     "name": "stdout",
     "output_type": "stream",
     "text": [
      "Total number of sentences: 10566\n"
     ]
    }
   ],
   "source": [
    "sentences1 = train_df[\"sentence1\"]\n",
    "sentences2 = train_df[\"sentence2\"]\n",
    "sentences_list = np.unique(np.concatenate((np.ravel(sentences1.values),np.ravel(sentences2.values))))\n",
    "\n",
    "print(f\"Total number of sentences: {len(sentences_list)}\")\n",
    "tokenized_sentences = [preprocess_and_tokenize(w) for w in sentences_list]"
   ]
  },
  {
   "cell_type": "code",
   "execution_count": 13,
   "metadata": {},
   "outputs": [
    {
     "name": "stdout",
     "output_type": "stream",
     "text": [
      "vocabular size: 3159\n",
      "car --> ['motorcycle', 'bicycle', 'truck', '18', 'silver', 'desert', 'sidewalk', 'bus', 'vehicle', 'explode']\n",
      "boy --> ['kid', 'girl', 'child', 'woman', 'man', 'shirt', 'surfer', 'ball', 'dog', 'person']\n",
      "man --> ['woman', 'girl', 'person', 'suit', 'guy', 'boy', 'child', 'kid', 'dog', 'animal']\n",
      "girl --> ['woman', 'man', 'boy', 'couple', 'kid', 'pant', 'blue', 'child', 'jacket', 'white']\n",
      "woman --> ['man', 'girl', 'boy', 'person', 'lady', 'someone', 'suit', 'guy', 'short', 'baby']\n",
      "obama --> ['rebuild', 'defend', 'let', 'decision', 'want', 'ann', 'cameron', 'kerry', 'vow', 'haiti']\n",
      "florida --> ['speaker', 'convention', 'outfielder', 'bob', 'hospital', 'voting', 'premier', 'cuba', 'kennedy', 'passenger']\n",
      "cat --> ['kitten', 'blanket', 'dog', 'leather', 'animal', 'couch', 'suit', 'panda', 'grey', 'laptop']\n",
      "dog --> ['animal', 'puppy', 'mouth', 'ball', 'kitten', 'cat', 'panda', 'snow', 'cow', 'man']\n",
      "blue --> ['pink', 'green', 'orange', 'yellow', 'gray', 'red', 'black', 'girl', 'background', 'silver']\n",
      "kill --> ['injure', 'kills', 'wound', 'dead', 'northern', 'die', 'fighter', 'ambush', 'nw', 'suicide']\n",
      "bomb --> ['bombing', 'wound', 'explosion', 'army', 'la', 'gunman', 'northern', 'injure', 'kill', 'bomber']\n",
      "piano --> ['keyboard', 'drum', 'flute', 'guitar', 'violin', 'shirtless', 'instrument', 'harp', 'sing', 'hay']\n",
      "pizza --> ['bread', 'butter', 'cheese', 'piece', 'tortilla', 'tomato', 'carrot', 'cucumber', 'skillet', 'sauce']\n",
      "italy --> ['spain', 'poland', 'britain', '39', 'train', 'netherlands', '26', 'latvia', 'sweden', 'mali']\n"
     ]
    }
   ],
   "source": [
    "\n",
    "model = Word2Vec(tokenized_sentences, vector_size=50, min_count=4, window=5, negative=10, workers=4, sg=0, cbow_mean=1, epochs=150, seed=42)\n",
    "print(\"vocabular size:\", len(model.wv.key_to_index))\n",
    "\n",
    "#print most similar words to\n",
    "for item in ['car', 'boy', 'man', 'girl', 'woman', 'obama', 'florida', 'cat', 'dog', 'blue', 'kill', 'bomb', 'piano', 'pizza', 'italy']:\n",
    "    print(item, '-->', [w for w, s in model.wv.most_similar(item)])"
   ]
  },
  {
   "cell_type": "code",
   "execution_count": 14,
   "metadata": {},
   "outputs": [],
   "source": [
    "temp = []\n",
    "for a, b in zip(train_df[\"sentence1\"], train_df[\"sentence2\"]):\n",
    "    temp.append(np.ravel(vectorize([a, b], model.wv.key_to_index, model.wv.get_vector, tokenizer=preprocess_and_tokenize, vector_size=50)))\n",
    "    temp.append(np.ravel(vectorize([b, a], model.wv.key_to_index, model.wv.get_vector, tokenizer=preprocess_and_tokenize, vector_size=50)))\n",
    "X_train = np.array(temp)\n",
    "y_train = np.repeat(train_df[\"score\"].values / 5, 2)\n",
    "\n",
    "\n",
    "temp = []\n",
    "for a, b in zip(test_df[\"sentence1\"], test_df[\"sentence2\"]):\n",
    "    temp.append(np.ravel(vectorize([a, b], model.wv.key_to_index, model.wv.get_vector, tokenizer=preprocess_and_tokenize, vector_size=50)))\n",
    "    temp.append(np.ravel(vectorize([b, a], model.wv.key_to_index, model.wv.get_vector, tokenizer=preprocess_and_tokenize, vector_size=50)))\n",
    "X_test = np.array(temp)\n",
    "y_test = np.repeat(test_df[\"score\"].values / 5, 2)"
   ]
  },
  {
   "cell_type": "code",
   "execution_count": 15,
   "metadata": {},
   "outputs": [
    {
     "name": "stdout",
     "output_type": "stream",
     "text": [
      "X_train shape: (11498, 100)\n",
      "y_train shape: (11498,)\n",
      "X_test shape: (2758, 100)\n",
      "y_test shape: (2758,)\n"
     ]
    }
   ],
   "source": [
    "print(f'X_train shape: {X_train.shape}')\n",
    "print(f'y_train shape: {y_train.shape}')\n",
    "print(f'X_test shape: {X_test.shape}')\n",
    "print(f'y_test shape: {y_test.shape}')"
   ]
  },
  {
   "cell_type": "code",
   "execution_count": 16,
   "metadata": {},
   "outputs": [],
   "source": [
    "def train_and_test(model):\n",
    "    model.fit(X_train, y_train)\n",
    "    y_pred = model.predict(X_test)\n",
    "    print(f'MSE: {mean_squared_error(y_test, y_pred)}')\n",
    "    print(f'MAE: {mean_absolute_error(y_test, y_pred)}')\n",
    "    print(f'Pearson: {pearsonr(y_test, y_pred)}')\n",
    "    print(f'Spearman: {spearmanr(y_test, y_pred)}')\n",
    "    print('**********')"
   ]
  },
  {
   "cell_type": "code",
   "execution_count": 17,
   "metadata": {},
   "outputs": [
    {
     "name": "stdout",
     "output_type": "stream",
     "text": [
      "RandomForestRegressor\n",
      "MSE: 0.07412351184580035\n",
      "MAE: 0.22826399473988368\n",
      "Pearson: PearsonRResult(statistic=0.484974381597237, pvalue=1.0577702560060894e-162)\n",
      "Spearman: SignificanceResult(statistic=0.44503930574870004, pvalue=2.7557831515175414e-134)\n",
      "**********\n"
     ]
    }
   ],
   "source": [
    "print('RandomForestRegressor')\n",
    "train_and_test(RandomForestRegressor(n_estimators=100, max_depth=10, random_state=42))"
   ]
  },
  {
   "cell_type": "code",
   "execution_count": 18,
   "metadata": {},
   "outputs": [],
   "source": [
    "import gensim.downloader as api\n",
    "\n",
    "model_wiki = api.load(\"glove-wiki-gigaword-50\")"
   ]
  },
  {
   "cell_type": "code",
   "execution_count": 19,
   "metadata": {},
   "outputs": [],
   "source": [
    "temp = []\n",
    "for a, b in zip(train_df[\"sentence1\"], train_df[\"sentence2\"]):\n",
    "    temp.append(np.ravel(vectorize([a, b], model_wiki.key_to_index, model_wiki.get_vector, tokenizer=preprocess_and_tokenize, vector_size=50)))\n",
    "    temp.append(np.ravel(vectorize([b, a], model_wiki.key_to_index, model_wiki.get_vector, tokenizer=preprocess_and_tokenize, vector_size=50)))\n",
    "X_train = np.array(temp)\n",
    "y_train = np.repeat(train_df[\"score\"].values / 5, 2)\n",
    "\n",
    "\n",
    "temp = []\n",
    "for a, b in zip(test_df[\"sentence1\"], test_df[\"sentence2\"]):\n",
    "    temp.append(np.ravel(vectorize([a, b], model_wiki.key_to_index, model_wiki.get_vector, tokenizer=preprocess_and_tokenize, vector_size=50)))\n",
    "    temp.append(np.ravel(vectorize([b, a], model_wiki.key_to_index, model_wiki.get_vector, tokenizer=preprocess_and_tokenize, vector_size=50)))\n",
    "X_test = np.array(temp)\n",
    "y_test = np.repeat(test_df[\"score\"].values / 5, 2)"
   ]
  },
  {
   "cell_type": "code",
   "execution_count": 20,
   "metadata": {},
   "outputs": [
    {
     "name": "stdout",
     "output_type": "stream",
     "text": [
      "X_train shape: (11498, 100)\n",
      "y_train shape: (11498,)\n",
      "X_test shape: (2758, 100)\n",
      "y_test shape: (2758,)\n"
     ]
    }
   ],
   "source": [
    "print(f'X_train shape: {X_train.shape}')\n",
    "print(f'y_train shape: {y_train.shape}')\n",
    "print(f'X_test shape: {X_test.shape}')\n",
    "print(f'y_test shape: {y_test.shape}')"
   ]
  },
  {
   "cell_type": "code",
   "execution_count": 21,
   "metadata": {},
   "outputs": [],
   "source": [
    "def train_and_test(model):\n",
    "    model.fit(X_train, y_train)\n",
    "    y_pred = model.predict(X_test)\n",
    "    print(f'MSE: {mean_squared_error(y_test, y_pred)}')\n",
    "    print(f'MAE: {mean_absolute_error(y_test, y_pred)}')\n",
    "    print(f'Pearson: {pearsonr(y_test, y_pred)}')\n",
    "    print(f'Spearman: {spearmanr(y_test, y_pred)}')\n",
    "    print('**********')"
   ]
  },
  {
   "cell_type": "code",
   "execution_count": 22,
   "metadata": {},
   "outputs": [
    {
     "name": "stdout",
     "output_type": "stream",
     "text": [
      "RandomForestRegressor\n",
      "MSE: 0.07175080290579616\n",
      "MAE: 0.22539558337626156\n",
      "Pearson: PearsonRResult(statistic=0.5247575093596497, pvalue=5.026872589242806e-195)\n",
      "Spearman: SignificanceResult(statistic=0.4938608129421847, pvalue=1.4826716327701897e-169)\n",
      "**********\n"
     ]
    }
   ],
   "source": [
    "print('RandomForestRegressor')\n",
    "train_and_test(RandomForestRegressor(n_estimators=100, max_depth=10, random_state=42))"
   ]
  }
 ],
 "metadata": {
  "kernelspec": {
   "display_name": "Python 3",
   "language": "python",
   "name": "python3"
  },
  "language_info": {
   "codemirror_mode": {
    "name": "ipython",
    "version": 3
   },
   "file_extension": ".py",
   "mimetype": "text/x-python",
   "name": "python",
   "nbconvert_exporter": "python",
   "pygments_lexer": "ipython3",
   "version": "3.11.3"
  },
  "orig_nbformat": 4
 },
 "nbformat": 4,
 "nbformat_minor": 2
}

{
 "cells": [
  {
   "cell_type": "code",
   "execution_count": 14,
   "metadata": {},
   "outputs": [
    {
     "name": "stderr",
     "output_type": "stream",
     "text": [
      "[nltk_data] Downloading package punkt to\n",
      "[nltk_data]     C:\\Users\\andre\\AppData\\Roaming\\nltk_data...\n",
      "[nltk_data]   Package punkt is already up-to-date!\n",
      "[nltk_data] Downloading package stopwords to\n",
      "[nltk_data]     C:\\Users\\andre\\AppData\\Roaming\\nltk_data...\n",
      "[nltk_data]   Package stopwords is already up-to-date!\n"
     ]
    },
    {
     "name": "stdout",
     "output_type": "stream",
     "text": [
      "Requirement already satisfied: spacy in c:\\users\\andre\\appdata\\local\\programs\\python\\python38\\lib\\site-packages (3.5.3)\n",
      "Requirement already satisfied: spacy-legacy<3.1.0,>=3.0.11 in c:\\users\\andre\\appdata\\local\\programs\\python\\python38\\lib\\site-packages (from spacy) (3.0.12)\n",
      "Requirement already satisfied: spacy-loggers<2.0.0,>=1.0.0 in c:\\users\\andre\\appdata\\local\\programs\\python\\python38\\lib\\site-packages (from spacy) (1.0.4)\n",
      "Requirement already satisfied: murmurhash<1.1.0,>=0.28.0 in c:\\users\\andre\\appdata\\local\\programs\\python\\python38\\lib\\site-packages (from spacy) (1.0.9)\n",
      "Requirement already satisfied: cymem<2.1.0,>=2.0.2 in c:\\users\\andre\\appdata\\local\\programs\\python\\python38\\lib\\site-packages (from spacy) (2.0.7)\n",
      "Requirement already satisfied: preshed<3.1.0,>=3.0.2 in c:\\users\\andre\\appdata\\local\\programs\\python\\python38\\lib\\site-packages (from spacy) (3.0.8)\n",
      "Requirement already satisfied: thinc<8.2.0,>=8.1.8 in c:\\users\\andre\\appdata\\local\\programs\\python\\python38\\lib\\site-packages (from spacy) (8.1.10)\n",
      "Requirement already satisfied: wasabi<1.2.0,>=0.9.1 in c:\\users\\andre\\appdata\\local\\programs\\python\\python38\\lib\\site-packages (from spacy) (1.1.1)\n",
      "Requirement already satisfied: srsly<3.0.0,>=2.4.3 in c:\\users\\andre\\appdata\\local\\programs\\python\\python38\\lib\\site-packages (from spacy) (2.4.6)\n",
      "Requirement already satisfied: catalogue<2.1.0,>=2.0.6 in c:\\users\\andre\\appdata\\local\\programs\\python\\python38\\lib\\site-packages (from spacy) (2.0.8)\n",
      "Requirement already satisfied: typer<0.8.0,>=0.3.0 in c:\\users\\andre\\appdata\\local\\programs\\python\\python38\\lib\\site-packages (from spacy) (0.7.0)\n",
      "Requirement already satisfied: pathy>=0.10.0 in c:\\users\\andre\\appdata\\local\\programs\\python\\python38\\lib\\site-packages (from spacy) (0.10.1)\n",
      "Requirement already satisfied: smart-open<7.0.0,>=5.2.1 in c:\\users\\andre\\appdata\\local\\programs\\python\\python38\\lib\\site-packages (from spacy) (6.3.0)\n",
      "Requirement already satisfied: tqdm<5.0.0,>=4.38.0 in c:\\users\\andre\\appdata\\local\\programs\\python\\python38\\lib\\site-packages (from spacy) (4.65.0)\n",
      "Requirement already satisfied: numpy>=1.15.0 in c:\\users\\andre\\appdata\\local\\programs\\python\\python38\\lib\\site-packages (from spacy) (1.24.2)\n",
      "Requirement already satisfied: requests<3.0.0,>=2.13.0 in c:\\users\\andre\\appdata\\local\\programs\\python\\python38\\lib\\site-packages (from spacy) (2.28.2)\n",
      "Requirement already satisfied: pydantic!=1.8,!=1.8.1,<1.11.0,>=1.7.4 in c:\\users\\andre\\appdata\\local\\programs\\python\\python38\\lib\\site-packages (from spacy) (1.10.7)\n",
      "Requirement already satisfied: jinja2 in c:\\users\\andre\\appdata\\local\\programs\\python\\python38\\lib\\site-packages (from spacy) (3.1.2)\n",
      "Requirement already satisfied: setuptools in c:\\users\\andre\\appdata\\local\\programs\\python\\python38\\lib\\site-packages (from spacy) (49.2.1)\n",
      "Requirement already satisfied: packaging>=20.0 in c:\\users\\andre\\appdata\\local\\programs\\python\\python38\\lib\\site-packages (from spacy) (23.0)\n",
      "Requirement already satisfied: langcodes<4.0.0,>=3.2.0 in c:\\users\\andre\\appdata\\local\\programs\\python\\python38\\lib\\site-packages (from spacy) (3.3.0)\n",
      "Requirement already satisfied: typing-extensions>=4.2.0 in c:\\users\\andre\\appdata\\local\\programs\\python\\python38\\lib\\site-packages (from pydantic!=1.8,!=1.8.1,<1.11.0,>=1.7.4->spacy) (4.5.0)\n",
      "Requirement already satisfied: charset-normalizer<4,>=2 in c:\\users\\andre\\appdata\\local\\programs\\python\\python38\\lib\\site-packages (from requests<3.0.0,>=2.13.0->spacy) (3.1.0)\n",
      "Requirement already satisfied: idna<4,>=2.5 in c:\\users\\andre\\appdata\\local\\programs\\python\\python38\\lib\\site-packages (from requests<3.0.0,>=2.13.0->spacy) (3.4)\n",
      "Requirement already satisfied: urllib3<1.27,>=1.21.1 in c:\\users\\andre\\appdata\\local\\programs\\python\\python38\\lib\\site-packages (from requests<3.0.0,>=2.13.0->spacy) (1.26.15)\n",
      "Requirement already satisfied: certifi>=2017.4.17 in c:\\users\\andre\\appdata\\local\\programs\\python\\python38\\lib\\site-packages (from requests<3.0.0,>=2.13.0->spacy) (2022.12.7)\n",
      "Requirement already satisfied: blis<0.8.0,>=0.7.8 in c:\\users\\andre\\appdata\\local\\programs\\python\\python38\\lib\\site-packages (from thinc<8.2.0,>=8.1.8->spacy) (0.7.9)\n",
      "Requirement already satisfied: confection<1.0.0,>=0.0.1 in c:\\users\\andre\\appdata\\local\\programs\\python\\python38\\lib\\site-packages (from thinc<8.2.0,>=8.1.8->spacy) (0.0.4)\n",
      "Requirement already satisfied: colorama in c:\\users\\andre\\appdata\\local\\programs\\python\\python38\\lib\\site-packages (from tqdm<5.0.0,>=4.38.0->spacy) (0.4.6)\n",
      "Requirement already satisfied: click<9.0.0,>=7.1.1 in c:\\users\\andre\\appdata\\local\\programs\\python\\python38\\lib\\site-packages (from typer<0.8.0,>=0.3.0->spacy) (8.1.3)\n",
      "Requirement already satisfied: MarkupSafe>=2.0 in c:\\users\\andre\\appdata\\local\\programs\\python\\python38\\lib\\site-packages (from jinja2->spacy) (2.1.2)\n",
      "Collecting en-core-web-sm==3.5.0\n",
      "  Downloading https://github.com/explosion/spacy-models/releases/download/en_core_web_sm-3.5.0/en_core_web_sm-3.5.0-py3-none-any.whl (12.8 MB)\n",
      "                                              0.0/12.8 MB ? eta -:--:--\n",
      "                                              0.2/12.8 MB 13.4 MB/s eta 0:00:01\n",
      "     --                                       0.8/12.8 MB 10.5 MB/s eta 0:00:02\n",
      "     -----                                    1.7/12.8 MB 15.4 MB/s eta 0:00:01\n",
      "     ---------                                3.1/12.8 MB 17.9 MB/s eta 0:00:01\n",
      "     ---------------                          5.1/12.8 MB 23.1 MB/s eta 0:00:01\n",
      "     --------------------------               8.4/12.8 MB 31.7 MB/s eta 0:00:01\n",
      "     -----------------------------------     11.6/12.8 MB 54.4 MB/s eta 0:00:01\n",
      "     --------------------------------------  12.8/12.8 MB 59.5 MB/s eta 0:00:01\n",
      "     --------------------------------------- 12.8/12.8 MB 43.5 MB/s eta 0:00:00\n",
      "Requirement already satisfied: spacy<3.6.0,>=3.5.0 in c:\\users\\andre\\appdata\\local\\programs\\python\\python38\\lib\\site-packages (from en-core-web-sm==3.5.0) (3.5.3)\n",
      "Requirement already satisfied: spacy-legacy<3.1.0,>=3.0.11 in c:\\users\\andre\\appdata\\local\\programs\\python\\python38\\lib\\site-packages (from spacy<3.6.0,>=3.5.0->en-core-web-sm==3.5.0) (3.0.12)\n",
      "Requirement already satisfied: spacy-loggers<2.0.0,>=1.0.0 in c:\\users\\andre\\appdata\\local\\programs\\python\\python38\\lib\\site-packages (from spacy<3.6.0,>=3.5.0->en-core-web-sm==3.5.0) (1.0.4)\n",
      "Requirement already satisfied: murmurhash<1.1.0,>=0.28.0 in c:\\users\\andre\\appdata\\local\\programs\\python\\python38\\lib\\site-packages (from spacy<3.6.0,>=3.5.0->en-core-web-sm==3.5.0) (1.0.9)\n",
      "Requirement already satisfied: cymem<2.1.0,>=2.0.2 in c:\\users\\andre\\appdata\\local\\programs\\python\\python38\\lib\\site-packages (from spacy<3.6.0,>=3.5.0->en-core-web-sm==3.5.0) (2.0.7)\n",
      "Requirement already satisfied: preshed<3.1.0,>=3.0.2 in c:\\users\\andre\\appdata\\local\\programs\\python\\python38\\lib\\site-packages (from spacy<3.6.0,>=3.5.0->en-core-web-sm==3.5.0) (3.0.8)\n",
      "Requirement already satisfied: thinc<8.2.0,>=8.1.8 in c:\\users\\andre\\appdata\\local\\programs\\python\\python38\\lib\\site-packages (from spacy<3.6.0,>=3.5.0->en-core-web-sm==3.5.0) (8.1.10)\n",
      "Requirement already satisfied: wasabi<1.2.0,>=0.9.1 in c:\\users\\andre\\appdata\\local\\programs\\python\\python38\\lib\\site-packages (from spacy<3.6.0,>=3.5.0->en-core-web-sm==3.5.0) (1.1.1)\n",
      "Requirement already satisfied: srsly<3.0.0,>=2.4.3 in c:\\users\\andre\\appdata\\local\\programs\\python\\python38\\lib\\site-packages (from spacy<3.6.0,>=3.5.0->en-core-web-sm==3.5.0) (2.4.6)\n",
      "Requirement already satisfied: catalogue<2.1.0,>=2.0.6 in c:\\users\\andre\\appdata\\local\\programs\\python\\python38\\lib\\site-packages (from spacy<3.6.0,>=3.5.0->en-core-web-sm==3.5.0) (2.0.8)\n",
      "Requirement already satisfied: typer<0.8.0,>=0.3.0 in c:\\users\\andre\\appdata\\local\\programs\\python\\python38\\lib\\site-packages (from spacy<3.6.0,>=3.5.0->en-core-web-sm==3.5.0) (0.7.0)\n",
      "Requirement already satisfied: pathy>=0.10.0 in c:\\users\\andre\\appdata\\local\\programs\\python\\python38\\lib\\site-packages (from spacy<3.6.0,>=3.5.0->en-core-web-sm==3.5.0) (0.10.1)\n",
      "Requirement already satisfied: smart-open<7.0.0,>=5.2.1 in c:\\users\\andre\\appdata\\local\\programs\\python\\python38\\lib\\site-packages (from spacy<3.6.0,>=3.5.0->en-core-web-sm==3.5.0) (6.3.0)\n",
      "Requirement already satisfied: tqdm<5.0.0,>=4.38.0 in c:\\users\\andre\\appdata\\local\\programs\\python\\python38\\lib\\site-packages (from spacy<3.6.0,>=3.5.0->en-core-web-sm==3.5.0) (4.65.0)\n",
      "Requirement already satisfied: numpy>=1.15.0 in c:\\users\\andre\\appdata\\local\\programs\\python\\python38\\lib\\site-packages (from spacy<3.6.0,>=3.5.0->en-core-web-sm==3.5.0) (1.24.2)\n",
      "Requirement already satisfied: requests<3.0.0,>=2.13.0 in c:\\users\\andre\\appdata\\local\\programs\\python\\python38\\lib\\site-packages (from spacy<3.6.0,>=3.5.0->en-core-web-sm==3.5.0) (2.28.2)\n",
      "Requirement already satisfied: pydantic!=1.8,!=1.8.1,<1.11.0,>=1.7.4 in c:\\users\\andre\\appdata\\local\\programs\\python\\python38\\lib\\site-packages (from spacy<3.6.0,>=3.5.0->en-core-web-sm==3.5.0) (1.10.7)\n",
      "Requirement already satisfied: jinja2 in c:\\users\\andre\\appdata\\local\\programs\\python\\python38\\lib\\site-packages (from spacy<3.6.0,>=3.5.0->en-core-web-sm==3.5.0) (3.1.2)\n",
      "Requirement already satisfied: setuptools in c:\\users\\andre\\appdata\\local\\programs\\python\\python38\\lib\\site-packages (from spacy<3.6.0,>=3.5.0->en-core-web-sm==3.5.0) (49.2.1)\n",
      "Requirement already satisfied: packaging>=20.0 in c:\\users\\andre\\appdata\\local\\programs\\python\\python38\\lib\\site-packages (from spacy<3.6.0,>=3.5.0->en-core-web-sm==3.5.0) (23.0)\n",
      "Requirement already satisfied: langcodes<4.0.0,>=3.2.0 in c:\\users\\andre\\appdata\\local\\programs\\python\\python38\\lib\\site-packages (from spacy<3.6.0,>=3.5.0->en-core-web-sm==3.5.0) (3.3.0)\n",
      "Requirement already satisfied: typing-extensions>=4.2.0 in c:\\users\\andre\\appdata\\local\\programs\\python\\python38\\lib\\site-packages (from pydantic!=1.8,!=1.8.1,<1.11.0,>=1.7.4->spacy<3.6.0,>=3.5.0->en-core-web-sm==3.5.0) (4.5.0)\n",
      "Requirement already satisfied: charset-normalizer<4,>=2 in c:\\users\\andre\\appdata\\local\\programs\\python\\python38\\lib\\site-packages (from requests<3.0.0,>=2.13.0->spacy<3.6.0,>=3.5.0->en-core-web-sm==3.5.0) (3.1.0)\n",
      "Requirement already satisfied: idna<4,>=2.5 in c:\\users\\andre\\appdata\\local\\programs\\python\\python38\\lib\\site-packages (from requests<3.0.0,>=2.13.0->spacy<3.6.0,>=3.5.0->en-core-web-sm==3.5.0) (3.4)\n",
      "Requirement already satisfied: urllib3<1.27,>=1.21.1 in c:\\users\\andre\\appdata\\local\\programs\\python\\python38\\lib\\site-packages (from requests<3.0.0,>=2.13.0->spacy<3.6.0,>=3.5.0->en-core-web-sm==3.5.0) (1.26.15)\n",
      "Requirement already satisfied: certifi>=2017.4.17 in c:\\users\\andre\\appdata\\local\\programs\\python\\python38\\lib\\site-packages (from requests<3.0.0,>=2.13.0->spacy<3.6.0,>=3.5.0->en-core-web-sm==3.5.0) (2022.12.7)\n",
      "Requirement already satisfied: blis<0.8.0,>=0.7.8 in c:\\users\\andre\\appdata\\local\\programs\\python\\python38\\lib\\site-packages (from thinc<8.2.0,>=8.1.8->spacy<3.6.0,>=3.5.0->en-core-web-sm==3.5.0) (0.7.9)\n",
      "Requirement already satisfied: confection<1.0.0,>=0.0.1 in c:\\users\\andre\\appdata\\local\\programs\\python\\python38\\lib\\site-packages (from thinc<8.2.0,>=8.1.8->spacy<3.6.0,>=3.5.0->en-core-web-sm==3.5.0) (0.0.4)\n",
      "Requirement already satisfied: colorama in c:\\users\\andre\\appdata\\local\\programs\\python\\python38\\lib\\site-packages (from tqdm<5.0.0,>=4.38.0->spacy<3.6.0,>=3.5.0->en-core-web-sm==3.5.0) (0.4.6)\n",
      "Requirement already satisfied: click<9.0.0,>=7.1.1 in c:\\users\\andre\\appdata\\local\\programs\\python\\python38\\lib\\site-packages (from typer<0.8.0,>=0.3.0->spacy<3.6.0,>=3.5.0->en-core-web-sm==3.5.0) (8.1.3)\n",
      "Requirement already satisfied: MarkupSafe>=2.0 in c:\\users\\andre\\appdata\\local\\programs\\python\\python38\\lib\\site-packages (from jinja2->spacy<3.6.0,>=3.5.0->en-core-web-sm==3.5.0) (2.1.2)\n",
      "\u001b[38;5;2m✔ Download and installation successful\u001b[0m\n",
      "You can now load the package via spacy.load('en_core_web_sm')\n"
     ]
    }
   ],
   "source": [
    "import pandas as pd\n",
    "import numpy as np\n",
    "from numpy import arccos\n",
    "import nltk\n",
    "nltk.download(\"punkt\")\n",
    "nltk.download('stopwords')\n",
    "from nltk.corpus import stopwords\n",
    "from nltk.tokenize import word_tokenize\n",
    "from string import punctuation\n",
    "import matplotlib.pyplot as plt\n",
    "import re\n",
    "from tqdm import tqdm\n",
    "from unidecode import unidecode\n",
    "!pip install -U spacy\n",
    "import spacy\n",
    "import sys\n",
    "!{sys.executable} -m spacy download en_core_web_sm\n",
    "spacy_nlp = spacy.load('en_core_web_sm', disable=['parser', 'ner'])\n",
    "from sklearn.metrics.pairwise import cosine_similarity\n",
    "from sklearn.cluster import KMeans\n",
    "from sklearn.feature_extraction.text import TfidfVectorizer\n",
    "from sklearn.feature_extraction.text import TfidfVectorizer\n",
    "from sklearn.metrics import mean_squared_error"
   ]
  },
  {
   "cell_type": "code",
   "execution_count": 15,
   "metadata": {},
   "outputs": [
    {
     "name": "stdout",
     "output_type": "stream",
     "text": [
      "shape of the Dataframe (5749, 7)\n"
     ]
    },
    {
     "data": {
      "text/html": [
       "<div>\n",
       "<style scoped>\n",
       "    .dataframe tbody tr th:only-of-type {\n",
       "        vertical-align: middle;\n",
       "    }\n",
       "\n",
       "    .dataframe tbody tr th {\n",
       "        vertical-align: top;\n",
       "    }\n",
       "\n",
       "    .dataframe thead th {\n",
       "        text-align: right;\n",
       "    }\n",
       "</style>\n",
       "<table border=\"1\" class=\"dataframe\">\n",
       "  <thead>\n",
       "    <tr style=\"text-align: right;\">\n",
       "      <th></th>\n",
       "      <th>genre</th>\n",
       "      <th>filename</th>\n",
       "      <th>year</th>\n",
       "      <th>index</th>\n",
       "      <th>score</th>\n",
       "      <th>sentence1</th>\n",
       "      <th>sentence2</th>\n",
       "    </tr>\n",
       "  </thead>\n",
       "  <tbody>\n",
       "    <tr>\n",
       "      <th>0</th>\n",
       "      <td>main-captions</td>\n",
       "      <td>MSRvid</td>\n",
       "      <td>2012test</td>\n",
       "      <td>1</td>\n",
       "      <td>5.00</td>\n",
       "      <td>A plane is taking off.</td>\n",
       "      <td>An air plane is taking off.</td>\n",
       "    </tr>\n",
       "    <tr>\n",
       "      <th>1</th>\n",
       "      <td>main-captions</td>\n",
       "      <td>MSRvid</td>\n",
       "      <td>2012test</td>\n",
       "      <td>4</td>\n",
       "      <td>3.80</td>\n",
       "      <td>A man is playing a large flute.</td>\n",
       "      <td>A man is playing a flute.</td>\n",
       "    </tr>\n",
       "    <tr>\n",
       "      <th>2</th>\n",
       "      <td>main-captions</td>\n",
       "      <td>MSRvid</td>\n",
       "      <td>2012test</td>\n",
       "      <td>5</td>\n",
       "      <td>3.80</td>\n",
       "      <td>A man is spreading shreded cheese on a pizza.</td>\n",
       "      <td>A man is spreading shredded cheese on an uncoo...</td>\n",
       "    </tr>\n",
       "    <tr>\n",
       "      <th>3</th>\n",
       "      <td>main-captions</td>\n",
       "      <td>MSRvid</td>\n",
       "      <td>2012test</td>\n",
       "      <td>6</td>\n",
       "      <td>2.60</td>\n",
       "      <td>Three men are playing chess.</td>\n",
       "      <td>Two men are playing chess.</td>\n",
       "    </tr>\n",
       "    <tr>\n",
       "      <th>4</th>\n",
       "      <td>main-captions</td>\n",
       "      <td>MSRvid</td>\n",
       "      <td>2012test</td>\n",
       "      <td>9</td>\n",
       "      <td>4.25</td>\n",
       "      <td>A man is playing the cello.</td>\n",
       "      <td>A man seated is playing the cello.</td>\n",
       "    </tr>\n",
       "    <tr>\n",
       "      <th>5</th>\n",
       "      <td>main-captions</td>\n",
       "      <td>MSRvid</td>\n",
       "      <td>2012test</td>\n",
       "      <td>11</td>\n",
       "      <td>4.25</td>\n",
       "      <td>Some men are fighting.</td>\n",
       "      <td>Two men are fighting.</td>\n",
       "    </tr>\n",
       "    <tr>\n",
       "      <th>6</th>\n",
       "      <td>main-captions</td>\n",
       "      <td>MSRvid</td>\n",
       "      <td>2012test</td>\n",
       "      <td>12</td>\n",
       "      <td>0.50</td>\n",
       "      <td>A man is smoking.</td>\n",
       "      <td>A man is skating.</td>\n",
       "    </tr>\n",
       "    <tr>\n",
       "      <th>7</th>\n",
       "      <td>main-captions</td>\n",
       "      <td>MSRvid</td>\n",
       "      <td>2012test</td>\n",
       "      <td>13</td>\n",
       "      <td>1.60</td>\n",
       "      <td>The man is playing the piano.</td>\n",
       "      <td>The man is playing the guitar.</td>\n",
       "    </tr>\n",
       "    <tr>\n",
       "      <th>8</th>\n",
       "      <td>main-captions</td>\n",
       "      <td>MSRvid</td>\n",
       "      <td>2012test</td>\n",
       "      <td>14</td>\n",
       "      <td>2.20</td>\n",
       "      <td>A man is playing on a guitar and singing.</td>\n",
       "      <td>A woman is playing an acoustic guitar and sing...</td>\n",
       "    </tr>\n",
       "    <tr>\n",
       "      <th>9</th>\n",
       "      <td>main-captions</td>\n",
       "      <td>MSRvid</td>\n",
       "      <td>2012test</td>\n",
       "      <td>16</td>\n",
       "      <td>5.00</td>\n",
       "      <td>A person is throwing a cat on to the ceiling.</td>\n",
       "      <td>A person throws a cat on the ceiling.</td>\n",
       "    </tr>\n",
       "  </tbody>\n",
       "</table>\n",
       "</div>"
      ],
      "text/plain": [
       "           genre filename      year  index  score   \n",
       "0  main-captions   MSRvid  2012test      1   5.00  \\\n",
       "1  main-captions   MSRvid  2012test      4   3.80   \n",
       "2  main-captions   MSRvid  2012test      5   3.80   \n",
       "3  main-captions   MSRvid  2012test      6   2.60   \n",
       "4  main-captions   MSRvid  2012test      9   4.25   \n",
       "5  main-captions   MSRvid  2012test     11   4.25   \n",
       "6  main-captions   MSRvid  2012test     12   0.50   \n",
       "7  main-captions   MSRvid  2012test     13   1.60   \n",
       "8  main-captions   MSRvid  2012test     14   2.20   \n",
       "9  main-captions   MSRvid  2012test     16   5.00   \n",
       "\n",
       "                                       sentence1   \n",
       "0                         A plane is taking off.  \\\n",
       "1                A man is playing a large flute.   \n",
       "2  A man is spreading shreded cheese on a pizza.   \n",
       "3                   Three men are playing chess.   \n",
       "4                    A man is playing the cello.   \n",
       "5                         Some men are fighting.   \n",
       "6                              A man is smoking.   \n",
       "7                  The man is playing the piano.   \n",
       "8      A man is playing on a guitar and singing.   \n",
       "9  A person is throwing a cat on to the ceiling.   \n",
       "\n",
       "                                           sentence2  \n",
       "0                        An air plane is taking off.  \n",
       "1                          A man is playing a flute.  \n",
       "2  A man is spreading shredded cheese on an uncoo...  \n",
       "3                         Two men are playing chess.  \n",
       "4                 A man seated is playing the cello.  \n",
       "5                              Two men are fighting.  \n",
       "6                                  A man is skating.  \n",
       "7                     The man is playing the guitar.  \n",
       "8  A woman is playing an acoustic guitar and sing...  \n",
       "9              A person throws a cat on the ceiling.  "
      ]
     },
     "execution_count": 15,
     "metadata": {},
     "output_type": "execute_result"
    }
   ],
   "source": [
    "def on_bad_line(values):\n",
    "    return values[:7]\n",
    "\n",
    "columns_mapping = {\n",
    "    0: 'genre',\n",
    "    1: 'filename',\n",
    "    2: 'year',\n",
    "    3: 'index',\n",
    "    4: 'score',\n",
    "    5: 'sentence1',\n",
    "    6: 'sentence2'\n",
    "}\n",
    "\n",
    "# quotings 3 = csv.QUOTE_NONE\n",
    "train_df = pd.read_csv('Dataset/sts-train.csv', sep=\"\\t\", on_bad_lines=on_bad_line, engine='python', header=None, encoding='utf-8', quoting=3).rename(columns=columns_mapping)\n",
    "print(f'shape of the Dataframe {train_df.shape}')\n",
    "train_df.head(10)"
   ]
  },
  {
   "cell_type": "code",
   "execution_count": 16,
   "metadata": {},
   "outputs": [
    {
     "name": "stdout",
     "output_type": "stream",
     "text": [
      "shape of the Dataframe (1500, 7)\n",
      "shape of the Dataframe (1379, 7)\n"
     ]
    }
   ],
   "source": [
    "dev_df = pd.read_csv('Dataset/sts-dev.csv', sep=\"\\t\", on_bad_lines=on_bad_line, engine='python', header=None, encoding='utf-8', quoting=3).rename(columns=columns_mapping)\n",
    "print(f'shape of the Dataframe {dev_df.shape}')\n",
    "\n",
    "test_df = pd.read_csv('Dataset/sts-test.csv', sep=\"\\t\", on_bad_lines=on_bad_line, engine='python', header=None, encoding='utf-8', quoting=3).rename(columns=columns_mapping)\n",
    "print(f'shape of the Dataframe {test_df.shape}')"
   ]
  },
  {
   "cell_type": "code",
   "execution_count": 17,
   "metadata": {},
   "outputs": [
    {
     "name": "stdout",
     "output_type": "stream",
     "text": [
      "Total number of sentences: 10566\n"
     ]
    }
   ],
   "source": [
    "sentences1 = train_df[\"sentence1\"]\n",
    "sentences2 = train_df[\"sentence2\"]\n",
    "sentences_list = np.unique(np.concatenate((np.ravel(sentences1.values),np.ravel(sentences2.values))))\n",
    "\n",
    "print(f\"Total number of sentences: {len(sentences_list)}\")"
   ]
  },
  {
   "cell_type": "code",
   "execution_count": 5,
   "metadata": {},
   "outputs": [
    {
     "name": "stdout",
     "output_type": "stream",
     "text": [
      "[' - Income, top rate:  percent.' ' Foxe was mostly frozen.'\n",
      " \" billion . Everyone in the world at Mexico's current prosperity level.\"\n",
      " ' warmed.C from the year prior.'\n",
      " '\"Americans don\\'t cut and run, we have to see this misadventure through,\" she said.']\n",
      "['income top rate percent' 'foxe mostly frozen'\n",
      " 'billion everyone world mexicos current prosperity level'\n",
      " 'warmedc year prior' 'americans dont cut run see misadventure said']\n",
      "['income top rate percent' 'foxe mostly frozen'\n",
      " 'billion everyone world mexicos current prosperity level'\n",
      " 'warmedc year prior' 'americans cut run see misadventure say']\n"
     ]
    }
   ],
   "source": [
    "def remove_special_chars(text):\n",
    "    regex = '[' + punctuation + ']'\n",
    "    return re.sub(regex,'',unidecode(text)).lower()\n",
    "\n",
    "def remove_stop_words(text):\n",
    "    stop_words = stopwords.words('english')\n",
    "    return ' '.join([word for word in text.split() if word not in stop_words])\n",
    "\n",
    "def lemmatize(text):\n",
    "    parsed_sentence = spacy_nlp(str(text))\n",
    "    lemmatized_sentence = ' '.join([word.lemma_ for word in parsed_sentence])\n",
    "    return lemmatized_sentence\n",
    "\n",
    "def substitute_number(sentence):\n",
    "    return re.sub(r'\\d+', ' number ', sentence)\n",
    "\n",
    "#TODO mostrare differenze tra originale e lemmatizzazione\n",
    "\n",
    "\n",
    "no_punct_sentences_list = np.array([remove_special_chars(string) for string in sentences_list])\n",
    "clean_sentences_list = np.array([remove_stop_words(string) for string in no_punct_sentences_list])\n",
    "lemmatized_sentences_list = np.array([remove_stop_words(lemmatize(remove_special_chars(sentence)).lower()) for sentence in clean_sentences_list])\n",
    "\n",
    "\n",
    "\n",
    "print(sentences_list[:5])\n",
    "print(clean_sentences_list[:5])\n",
    "print(lemmatized_sentences_list[:5])"
   ]
  },
  {
   "cell_type": "code",
   "execution_count": 6,
   "metadata": {},
   "outputs": [
    {
     "name": "stdout",
     "output_type": "stream",
     "text": [
      "Mean length of sentences in characters: 59.37\n"
     ]
    }
   ],
   "source": [
    "array_len = np.vectorize(len)(sentences_list)\n",
    "mean_len = np.mean(array_len)\n",
    "print(f\"Mean length of sentences in characters: {mean_len:.2f}\")"
   ]
  },
  {
   "cell_type": "code",
   "execution_count": 7,
   "metadata": {},
   "outputs": [],
   "source": [
    "clean_dataset = pd.DataFrame({\n",
    "    'sentence1': train_df['sentence1'].map(remove_special_chars).map(remove_stop_words),\n",
    "    'sentence2': train_df['sentence2'].map(remove_special_chars).map(remove_stop_words),\n",
    "    'score': train_df['score'] / 5\n",
    "})\n",
    "\n",
    "clean_test_dataset = pd.DataFrame({\n",
    "    'sentence1': test_df['sentence1'].map(remove_special_chars).map(remove_stop_words),\n",
    "    'sentence2': test_df['sentence2'].map(remove_special_chars).map(remove_stop_words),\n",
    "    'score': test_df['score'] / 5\n",
    "})\n",
    "\n",
    "no_number_dataset = pd.DataFrame({\n",
    "    'sentence1': clean_dataset['sentence1'].map(substitute_number),\n",
    "    'sentence2': clean_dataset['sentence2'].map(substitute_number),\n",
    "    'score': clean_dataset['score']\n",
    "})\n",
    "\n",
    "lemmatized_dataset = pd.DataFrame({\n",
    "    'sentence1': clean_dataset['sentence1'].map(lemmatize),\n",
    "    'sentence2': clean_dataset['sentence2'].map(lemmatize),\n",
    "    'score': clean_dataset['score']\n",
    "})"
   ]
  },
  {
   "attachments": {},
   "cell_type": "markdown",
   "metadata": {},
   "source": [
    "# Transformers\n",
    "![Comparison bi-encoder and cross-encoder](https://raw.githubusercontent.com/UKPLab/sentence-transformers/master/docs/img/Bi_vs_Cross-Encoder.png)"
   ]
  },
  {
   "attachments": {},
   "cell_type": "markdown",
   "metadata": {},
   "source": [
    "## Bi-Encoders\n",
    "Bi-Encoders produce for a given sentence a sentence embedding. We pass to a BERT independently the sentences A and B, which result in the sentence embeddings u and v. These sentence embedding can then be compared using cosine similarity\n",
    "\n",
    "In this example we fine tune a pre-trained SentenceTransformer model on the STS benchmark dataset.\n",
    "\n",
    "Reimers, N., & Gurevych, I. (2019). Sentence-BERT: Sentence embeddings using Siamese BERT-networks. In arXiv [cs.CL]. http://arxiv.org/abs/1908.10084"
   ]
  },
  {
   "attachments": {},
   "cell_type": "markdown",
   "metadata": {},
   "source": [
    "### Fine Tuning a pre-trained model\n",
    "In this example we fine tune a pre-trained model. The model was first trained on NLI data, we now finetune it on the STS benchmark dataset."
   ]
  },
  {
   "cell_type": "code",
   "execution_count": 2,
   "metadata": {},
   "outputs": [
    {
     "name": "stderr",
     "output_type": "stream",
     "text": [
      "c:\\Users\\andre\\AppData\\Local\\Programs\\Python\\Python38\\lib\\site-packages\\tqdm\\auto.py:21: TqdmWarning: IProgress not found. Please update jupyter and ipywidgets. See https://ipywidgets.readthedocs.io/en/stable/user_install.html\n",
      "  from .autonotebook import tqdm as notebook_tqdm\n"
     ]
    }
   ],
   "source": [
    "from torch.utils.data import DataLoader\n",
    "import math\n",
    "from sentence_transformers import SentenceTransformer, LoggingHandler, losses, util, InputExample\n",
    "from sentence_transformers.evaluation import EmbeddingSimilarityEvaluator\n",
    "import logging\n",
    "from datetime import datetime"
   ]
  },
  {
   "cell_type": "code",
   "execution_count": 43,
   "metadata": {},
   "outputs": [
    {
     "name": "stdout",
     "output_type": "stream",
     "text": [
      "2023-05-27 10:46:45 - Load pretrained SentenceTransformer: nli-distilroberta-base-v2\n",
      "2023-05-27 10:46:46 - Use pytorch device: cpu\n"
     ]
    }
   ],
   "source": [
    "#### Just some code to print debug information to stdout\n",
    "logging.basicConfig(format='%(asctime)s - %(message)s',\n",
    "                    datefmt='%Y-%m-%d %H:%M:%S',\n",
    "                    level=logging.INFO,\n",
    "                    handlers=[LoggingHandler()])\n",
    "\n",
    "# Read the dataset\n",
    "model_name = 'nli-distilroberta-base-v2'\n",
    "train_batch_size = 16\n",
    "num_epochs = 10\n",
    "model_save_path = 'output/bi_encoder_fine_tuning-'+model_name+'-'+datetime.now().strftime(\"%Y-%m-%d_%H-%M-%S\")\n",
    "\n",
    "# Load a pre-trained sentence transformer model\n",
    "model = SentenceTransformer(model_name)"
   ]
  },
  {
   "cell_type": "code",
   "execution_count": 44,
   "metadata": {},
   "outputs": [
    {
     "name": "stdout",
     "output_type": "stream",
     "text": [
      "2023-05-27 10:46:57 - Read STSbenchmark train dataset\n"
     ]
    }
   ],
   "source": [
    "# Convert the dataset to a DataLoader ready for training\n",
    "logging.info(\"Read STSbenchmark train dataset\")\n",
    "\n",
    "train_samples = []\n",
    "dev_samples = []\n",
    "test_samples = []\n",
    "\n",
    "# Loading datasets from csv files\n",
    "for idx, row in train_df.iterrows():\n",
    "\n",
    "    score = float(row['score']) / 5.0  # Normalize score to range 0 ... 1\n",
    "\n",
    "    #As we want to get symmetric scores, i.e. CrossEncoder(A,B) = CrossEncoder(B,A), we pass both combinations to the train set\n",
    "    train_samples.append(InputExample(texts=[row['sentence1'], row['sentence2']], label=score))\n",
    "    train_samples.append(InputExample(texts=[row['sentence2'], row['sentence1']], label=score))\n",
    "\n",
    "for idx, row in dev_df.iterrows():\n",
    "    score = float(row['score']) / 5.0  # Normalize score to range 0 ... 1\n",
    "    dev_samples.append(InputExample(texts=[row['sentence1'], row['sentence2']], label=score))\n",
    "\n",
    "for idx, row in test_df.iterrows():\n",
    "    score = float(row['score']) / 5.0  # Normalize score to range 0 ... 1\n",
    "    test_samples.append(InputExample(texts=[row['sentence1'], row['sentence2']], label=score))"
   ]
  },
  {
   "cell_type": "code",
   "execution_count": 45,
   "metadata": {},
   "outputs": [
    {
     "name": "stdout",
     "output_type": "stream",
     "text": [
      "2023-05-27 10:47:04 - Read STSbenchmark dev dataset\n",
      "2023-05-27 10:47:04 - Warmup-steps: 719\n"
     ]
    }
   ],
   "source": [
    "# We wrap train_samples into a pytorch DataLoader\n",
    "train_dataloader = DataLoader(train_samples, shuffle=True, batch_size=train_batch_size)\n",
    "# We use cosine similarity as loss function.\n",
    "train_loss = losses.CosineSimilarityLoss(model=model)\n",
    "\n",
    "# Development set: Measure correlation between cosine score and gold labels\n",
    "logging.info(\"Read STSbenchmark dev dataset\")\n",
    "evaluator = EmbeddingSimilarityEvaluator.from_input_examples(dev_samples, name='sts-dev')\n",
    "\n",
    "# Configure the training\n",
    "warmup_steps = math.ceil(len(train_dataloader) * num_epochs * 0.1) #10% of train data for warm-up\n",
    "logging.info(\"Warmup-steps: {}\".format(warmup_steps))"
   ]
  },
  {
   "cell_type": "code",
   "execution_count": 41,
   "metadata": {},
   "outputs": [
    {
     "name": "stdout",
     "output_type": "stream",
     "text": [
      "2023-05-27 10:42:58 - EmbeddingSimilarityEvaluator: Evaluating the model on sts-dev dataset:\n",
      "2023-05-27 10:43:56 - Cosine-Similarity :\tPearson: 0.8580\tSpearman: 0.8638\n",
      "2023-05-27 10:43:56 - Manhattan-Distance:\tPearson: 0.8469\tSpearman: 0.8463\n",
      "2023-05-27 10:43:56 - Euclidean-Distance:\tPearson: 0.8488\tSpearman: 0.8483\n",
      "2023-05-27 10:43:56 - Dot-Product-Similarity:\tPearson: 0.8096\tSpearman: 0.8086\n"
     ]
    },
    {
     "data": {
      "text/plain": [
       "0.8637726299065401"
      ]
     },
     "execution_count": 41,
     "metadata": {},
     "output_type": "execute_result"
    }
   ],
   "source": [
    "# Testing the model before fine-tuning\n",
    "test_evaluator = EmbeddingSimilarityEvaluator.from_input_examples(test_samples, name='sts-test')\n",
    "model.evaluate(evaluator)"
   ]
  },
  {
   "cell_type": "code",
   "execution_count": null,
   "metadata": {},
   "outputs": [],
   "source": [
    "# Train the model\n",
    "model.fit(train_objectives=[(train_dataloader, train_loss)],\n",
    "          evaluator=evaluator,\n",
    "          epochs=num_epochs,\n",
    "          evaluation_steps=1000,\n",
    "          warmup_steps=warmup_steps,\n",
    "          output_path=model_save_path)"
   ]
  },
  {
   "cell_type": "code",
   "execution_count": 51,
   "metadata": {},
   "outputs": [
    {
     "name": "stdout",
     "output_type": "stream",
     "text": [
      "2023-05-27 15:14:27 - Load pretrained SentenceTransformer: training_stsbenchmark_continue_training-nli-distilroberta-base-v2-2023-05-27_12-22-39\n",
      "2023-05-27 15:14:28 - Use pytorch device: cpu\n",
      "2023-05-27 15:14:28 - EmbeddingSimilarityEvaluator: Evaluating the model on sts-test dataset:\n",
      "2023-05-27 15:15:08 - Cosine-Similarity :\tPearson: 0.8646\tSpearman: 0.8658\n",
      "2023-05-27 15:15:08 - Manhattan-Distance:\tPearson: 0.8480\tSpearman: 0.8497\n",
      "2023-05-27 15:15:08 - Euclidean-Distance:\tPearson: 0.8501\tSpearman: 0.8517\n",
      "2023-05-27 15:15:08 - Dot-Product-Similarity:\tPearson: 0.8249\tSpearman: 0.8200\n"
     ]
    },
    {
     "data": {
      "text/plain": [
       "0.86583234968324"
      ]
     },
     "execution_count": 51,
     "metadata": {},
     "output_type": "execute_result"
    }
   ],
   "source": [
    "# Load the stored model and evaluate its performance on STS benchmark dataset\n",
    "model = SentenceTransformer(model_save_path)\n",
    "test_evaluator(model, output_path=model_save_path)"
   ]
  },
  {
   "attachments": {},
   "cell_type": "markdown",
   "metadata": {},
   "source": [
    "As we can see fine-tuning the model on the STS benchmark dataset improves the performance."
   ]
  },
  {
   "attachments": {},
   "cell_type": "markdown",
   "metadata": {},
   "source": [
    "### Testing a pre-trained bi-encoder model already fine-tuned on STSb"
   ]
  },
  {
   "cell_type": "code",
   "execution_count": 11,
   "metadata": {},
   "outputs": [],
   "source": [
    "model_name = 'stsb-distilroberta-base-v2'\n",
    "# Load a pre-trained sentence transformer model\n",
    "pre_trained_model = SentenceTransformer(model_name)"
   ]
  },
  {
   "cell_type": "code",
   "execution_count": 50,
   "metadata": {},
   "outputs": [
    {
     "name": "stdout",
     "output_type": "stream",
     "text": [
      "2023-05-27 11:48:36 - EmbeddingSimilarityEvaluator: Evaluating the model on sts-test dataset:\n",
      "2023-05-27 11:49:26 - Cosine-Similarity :\tPearson: 0.8634\tSpearman: 0.8641\n",
      "2023-05-27 11:49:26 - Manhattan-Distance:\tPearson: 0.8409\tSpearman: 0.8411\n",
      "2023-05-27 11:49:26 - Euclidean-Distance:\tPearson: 0.8436\tSpearman: 0.8441\n",
      "2023-05-27 11:49:26 - Dot-Product-Similarity:\tPearson: 0.8211\tSpearman: 0.8141\n"
     ]
    },
    {
     "data": {
      "text/plain": [
       "0.8641186332195347"
      ]
     },
     "execution_count": 50,
     "metadata": {},
     "output_type": "execute_result"
    }
   ],
   "source": [
    "test_evaluator(pre_trained_model)"
   ]
  },
  {
   "attachments": {},
   "cell_type": "markdown",
   "metadata": {},
   "source": [
    "## Cross-Encoders\n",
    "\n",
    "With Cross-Encoders we path both sentences at once to BERT. The output is then used to predict a similarity. A Cross-Encoder does not produce a sentence embedding, they are more accurate, but also slower than Bi-Encoders."
   ]
  },
  {
   "cell_type": "code",
   "execution_count": 3,
   "metadata": {},
   "outputs": [],
   "source": [
    "from sentence_transformers.cross_encoder import CrossEncoder\n",
    "from sentence_transformers.cross_encoder.evaluation import CECorrelationEvaluator"
   ]
  },
  {
   "cell_type": "code",
   "execution_count": 53,
   "metadata": {},
   "outputs": [
    {
     "name": "stderr",
     "output_type": "stream",
     "text": [
      "Some weights of the model checkpoint at distilroberta-base were not used when initializing RobertaForSequenceClassification: ['lm_head.dense.weight', 'roberta.pooler.dense.weight', 'roberta.pooler.dense.bias', 'lm_head.layer_norm.bias', 'lm_head.decoder.weight', 'lm_head.dense.bias', 'lm_head.layer_norm.weight', 'lm_head.bias']\n",
      "- This IS expected if you are initializing RobertaForSequenceClassification from the checkpoint of a model trained on another task or with another architecture (e.g. initializing a BertForSequenceClassification model from a BertForPreTraining model).\n",
      "- This IS NOT expected if you are initializing RobertaForSequenceClassification from the checkpoint of a model that you expect to be exactly identical (initializing a BertForSequenceClassification model from a BertForSequenceClassification model).\n",
      "Some weights of RobertaForSequenceClassification were not initialized from the model checkpoint at distilroberta-base and are newly initialized: ['classifier.out_proj.weight', 'classifier.out_proj.bias', 'classifier.dense.weight', 'classifier.dense.bias']\n",
      "You should probably TRAIN this model on a down-stream task to be able to use it for predictions and inference.\n"
     ]
    },
    {
     "name": "stdout",
     "output_type": "stream",
     "text": [
      "2023-05-27 15:58:06 - Use pytorch device: cpu\n"
     ]
    }
   ],
   "source": [
    "#Define our Cross-Encoder\n",
    "train_batch_size = 16\n",
    "num_epochs = 30\n",
    "model_save_path = 'output/cross_encoder_training-'+model_name+'-'+datetime.now().strftime(\"%Y-%m-%d_%H-%M-%S\")\n",
    "\n",
    "#We use distilroberta-base as base model and set num_labels=1, which predicts a continous score between 0 and 1\n",
    "model = CrossEncoder('distilroberta-base', num_labels=1)"
   ]
  },
  {
   "cell_type": "code",
   "execution_count": null,
   "metadata": {},
   "outputs": [],
   "source": [
    "# We add an evaluator, which evaluates the performance during training\n",
    "evaluator = CECorrelationEvaluator.from_input_examples(dev_samples, name='sts-dev')\n",
    "\n",
    "\n",
    "# Configure the training\n",
    "warmup_steps = math.ceil(len(train_dataloader) * num_epochs * 0.1) #10% of train data for warm-up\n",
    "logging.info(\"Warmup-steps: {}\".format(warmup_steps))\n",
    "\n",
    "\n",
    "# Train the model\n",
    "model.fit(train_dataloader=train_dataloader,\n",
    "          evaluator=evaluator,\n",
    "          epochs=num_epochs,\n",
    "          warmup_steps=warmup_steps,\n",
    "          output_path=model_save_path)"
   ]
  },
  {
   "cell_type": "code",
   "execution_count": 56,
   "metadata": {},
   "outputs": [
    {
     "name": "stdout",
     "output_type": "stream",
     "text": [
      "2023-05-27 16:40:19 - Use pytorch device: cpu\n",
      "2023-05-27 16:40:19 - CECorrelationEvaluator: Evaluating the model on sts-test dataset:\n",
      "2023-05-27 16:41:25 - Correlation:\tPearson: 0.8533\tSpearman: 0.8439\n"
     ]
    },
    {
     "data": {
      "text/plain": [
       "0.8438616922335536"
      ]
     },
     "execution_count": 56,
     "metadata": {},
     "output_type": "execute_result"
    }
   ],
   "source": [
    "##### Load model and eval on test set\n",
    "model = CrossEncoder('output\\cross_encoder_training-distilroberta-base-2023-05-27_16-39-21')\n",
    "\n",
    "evaluator = CECorrelationEvaluator.from_input_examples(test_samples, name='sts-test')\n",
    "evaluator(model)"
   ]
  },
  {
   "attachments": {},
   "cell_type": "markdown",
   "metadata": {},
   "source": [
    "### Testing pre-trained cross-encoder models already fine-tuned on STSb"
   ]
  },
  {
   "cell_type": "code",
   "execution_count": 59,
   "metadata": {},
   "outputs": [
    {
     "name": "stdout",
     "output_type": "stream",
     "text": [
      "2023-05-27 17:07:39 - Use pytorch device: cpu\n",
      "2023-05-27 17:07:39 - CECorrelationEvaluator: Evaluating the model on sts-test dataset:\n",
      "2023-05-27 17:09:07 - Correlation:\tPearson: 0.8851\tSpearman: 0.8792\n"
     ]
    },
    {
     "data": {
      "text/plain": [
       "0.8791573934188543"
      ]
     },
     "execution_count": 59,
     "metadata": {},
     "output_type": "execute_result"
    }
   ],
   "source": [
    "##### Testing stsb-distilroberta-base\n",
    "model = CrossEncoder('cross-encoder/stsb-distilroberta-base', num_labels=1)\n",
    "evaluator = CECorrelationEvaluator.from_input_examples(test_samples, name='sts-test')\n",
    "evaluator(model)"
   ]
  },
  {
   "cell_type": "code",
   "execution_count": 55,
   "metadata": {},
   "outputs": [
    {
     "name": "stdout",
     "output_type": "stream",
     "text": [
      "2023-05-27 16:02:31 - Use pytorch device: cpu\n",
      "2023-05-27 16:02:31 - CECorrelationEvaluator: Evaluating the model on sts-test dataset:\n",
      "2023-05-27 16:08:45 - Correlation:\tPearson: 0.9170\tSpearman: 0.9147\n"
     ]
    },
    {
     "data": {
      "text/plain": [
       "0.914689659080599"
      ]
     },
     "execution_count": 55,
     "metadata": {},
     "output_type": "execute_result"
    }
   ],
   "source": [
    "##### Testing stsb-roberta-large\n",
    "model = CrossEncoder('cross-encoder/stsb-roberta-large', num_labels=1)\n",
    "\n",
    "evaluator = CECorrelationEvaluator.from_input_examples(test_samples, name='sts-test')\n",
    "evaluator(model)"
   ]
  },
  {
   "attachments": {},
   "cell_type": "markdown",
   "metadata": {},
   "source": [
    "As we can see cross-encoders are more accurate, but also slower than bi-encoders. They reach state-of-the-art performance on the STS benchmark dataset."
   ]
  },
  {
   "attachments": {},
   "cell_type": "markdown",
   "metadata": {},
   "source": [
    "## Clustering using Bi-Encoders"
   ]
  },
  {
   "cell_type": "code",
   "execution_count": 18,
   "metadata": {},
   "outputs": [
    {
     "name": "stderr",
     "output_type": "stream",
     "text": [
      "Batches: 100%|██████████| 331/331 [04:04<00:00,  1.35it/s]\n"
     ]
    }
   ],
   "source": [
    "pre_trained_model = SentenceTransformer('stsb-distilroberta-base-v2')\n",
    "sentences_list_embeddings = pre_trained_model.encode(sentences_list, show_progress_bar=True)"
   ]
  },
  {
   "cell_type": "code",
   "execution_count": 103,
   "metadata": {},
   "outputs": [
    {
     "name": "stdout",
     "output_type": "stream",
     "text": [
      "[[18.321922  17.209478  18.269783  ... 17.607737  20.381697  21.753805 ]\n",
      " [18.602247  16.861237  18.527231  ... 17.45291   17.193768  20.18104  ]\n",
      " [17.097128  17.364855  17.597054  ... 17.554117  19.786682  19.870926 ]\n",
      " ...\n",
      " [15.7166395 15.080582  15.504425  ... 15.244473  17.993933  19.641665 ]\n",
      " [15.919892  14.3445    15.364662  ... 15.151398  18.155754  19.259418 ]\n",
      " [15.331191  13.734313  14.350514  ... 13.950357  19.090204  18.423164 ]]\n",
      "[12 22 12 ...  7 19 22]\n"
     ]
    },
    {
     "data": {
      "image/png": "[encoded data removed]",
      "text/plain": [
       "<Figure size 640x480 with 1 Axes>"
      ]
     },
     "metadata": {},
     "output_type": "display_data"
    }
   ],
   "source": [
    "k = 30\n",
    "kmeans = KMeans(n_clusters=k, n_init=10, random_state=42)\n",
    "cluster_matrix = kmeans.fit_transform(sentences_list_embeddings)\n",
    "print(cluster_matrix)\n",
    "clusters = np.argmin(cluster_matrix, axis=-1)\n",
    "print(clusters)\n",
    "\n",
    "uniques, counts = np.unique(clusters, return_counts=True)\n",
    "plt.bar(uniques, counts)\n",
    "plt.xlabel('Cluster Number')\n",
    "plt.ylabel('Sentences')\n",
    "plt.xticks(uniques, rotation=90)\n",
    "plt.title('Samples per class')\n",
    "plt.show()"
   ]
  },
  {
   "cell_type": "code",
   "execution_count": 117,
   "metadata": {},
   "outputs": [
    {
     "name": "stdout",
     "output_type": "stream",
     "text": [
      "\n",
      "Cluster 0\n",
      "1)  a boy jumps into the blue pool water.\n",
      "2)  A young boy jumping in the air at the beach.\n",
      "3)  A boy doing a back flip into a swimming pool.\n",
      "4)  A boy jumping in the air on the beach.\n",
      "5)  A boy goes down an inflatable slide.\n",
      "6)  A little boy and a little girl playing together outside.\n",
      "7)  A boy jumps into a not-so-crowded public pool.\n",
      "8)  A little boy in denim overalls slides down an orange slide.\n",
      "9)  A child is jumping into a swimming pool.\n",
      "10)  A boy doing a wheelie on a plank with the beach in the background.\n",
      "\n",
      "Cluster 1\n",
      "1)  In an interview, Ms. Healey, who is a criminologist, said many lawmakers here and across the country shared a wariness toward capital punishment.\n",
      "2)  In an interview, Healey, who is a criminologist, acknowledged that much of the sentiment among legislators here and across the country was wariness toward capital punishment.\n",
      "3)  The differences between Grassley and Thomas on energy and Medicare have become so pointed that other members say their angry personal relationship is embarrassing the party.\n",
      "4)  He attributed some of the communication gap to doctors feeling pressed for time; patients cited discomfort discussing financial issues.\n",
      "5)  Their differences on energy and Medicare have become so pointed other members say it is embarrassing to the party.\n",
      "6)  Strayhorn said it was the first time in Texas history a comptroller had not certified the appropriations act.\n",
      "7)  In a news release Thursday, Strayhorn said this was the first time a comptroller rejected a budget.\n",
      "8)  Graham, a presidential candidate, was criticized by several Republicans as ''politicizing'' the report.\n",
      "9)  \"Short workers had worse hearing than expected by age -- three times more often than taller workers,\" writes Barrenas.\n",
      "10)  And several Senate Republicans are cranky about the House map.\n",
      "\n",
      "Cluster 2\n",
      "1)  Gunmen Kill 11 Foreign Tourists in Pakistan\n",
      "2)  Gunmen kill 11 foreign climbers in Pakistan\n",
      "3)  Gunmen kill nine tourists in Pakistan\n",
      "4)  Taliban attacks kill 17 civilians in Afghanistan\n",
      "5)  Gunmen kill nine foreigners in Pakistan\n",
      "6)  Gunmen kill 10 foreign tourists in northern Pakistan\n",
      "7)  Suicide bomber kills eight, wounds 13 in Afghan capital - police\n",
      "8)  Suicide bomber kills 14 in Afghanistan\n",
      "9)  US soldier kills up to 16 Afghan civilians in shooting spree\n",
      "10)  Suicide Bomber Kills 11 in Afghanistan\n",
      "\n",
      "Cluster 3\n",
      "1)  A red double decker bus driving down a street.\n",
      "2)  A man is riding a red motorcycle on the road.\n",
      "3)  A person is driving a motorcycle on a road.\n",
      "4)  Red double decker bus driving down a street.\n",
      "5)  Red double decker bus driving through the streets.\n",
      "6)  Red double decker bus driving down street.\n",
      "7)  A car is moving through a road.\n",
      "8)  A car is driving along the road.\n",
      "9)  A white motorcycle is being ridden around a race track.\n",
      "10)  A double decker bus drives on a city street.\n",
      "\n",
      "Cluster 4\n",
      "1)  Romney vows to restore 'promise of America'\n",
      "2)  Rudd sworn in as Australia's new Prime Minister\n",
      "3)  I agree completely I am hoping he is into a second term of office.\n",
      "4)  Rudd sworn in as new Australian PM\n",
      "5)  In a statement issued by his solicitors, Mr Hadley said: \"I am absolutely delighted with the outcome of proceedings.\n",
      "6)  Romanian president declared victory\n",
      "7)  Weiner falls to fourth in new NYC mayoral poll\n",
      "8)  Peter Deutsch, D-Fla., said he wanted to congratulate the FDA.\n",
      "9)  Andy Murray deserves knighthood, David Cameron says\n",
      "10)  Prosecutor Jim Hardin called the decision a victory for Kathleen Peterson's family.\n",
      "\n",
      "Cluster 5\n",
      "1)  A dog runs across the grassy field.\n",
      "2)  A dog runs through the grass.\n",
      "3)  a dog runs across the grass.\n",
      "4)  A brown dog running through the grass.\n",
      "5)  Two dogs play with each other outdoors.\n",
      "6)  A dog bounds across the brown grass.\n",
      "7)  A dog is running along the grass.\n",
      "8)  A brown dog runs through the grass.\n",
      "9)  A small dog runs through an obstacle course.\n",
      "10)  a brown dog running through the dirty muddy grass\n",
      "\n",
      "Cluster 6\n",
      "1)  A man and a woman looking at the camera.\n",
      "2)  A couple posing for a picture on a couch.\n",
      "3)  A man and woman stand, smiling for camera.\n",
      "4)  A couple slow dances.\n",
      "5)  Young couple sitting on couch.\n",
      "6)  A couple walking down the street.\n",
      "7)  A man and woman dance.\n",
      "8)  A young man and woman sitting on a bench outside are kissing.\n",
      "9)  Two people walking on the beach at sunset.\n",
      "10)  A man and a woman standing on a city street.\n",
      "\n",
      "Cluster 7\n",
      "1)  Iran, world powers pledge new nuclear talks\n",
      "2)  World powers seek rare progress in Iran nuclear talks\n",
      "3)  Iran, world powers begin new round of nuclear talks\n",
      "4)  Tentative Deal Reached to Resume Israeli-Palestinian Talks - US\n",
      "5)  World powers and Iran to resume expert nuclear talks on Dec. 30\n",
      "6)  Iran and world powers set for nuclear talks\n",
      "7)  Iran nuclear deal agreed at talks\n",
      "8)  Iran hopes nuclear talks will yield 'roadmap'\n",
      "9)  Iran nuclear experts, world powers to resume talks next week\n",
      "10)  World powers, Iran under Rouhani revive nuclear talks\n",
      "\n",
      "Cluster 8\n",
      "1)  A woman thinly slices an onion with a large knife.\n",
      "2)  A woman is slicing some vegetables.\n",
      "3)  A woman cuts up a vegetable.\n",
      "4)  A woman is cutting vegetable.\n",
      "5)  A person cuts an onion.\n",
      "6)  someone is slicing a vegetable.\n",
      "7)  A woman is slicing an onion with a knife.\n",
      "8)  A man is cutting and onion.\n",
      "9)  Someone is slicing an onion.\n",
      "10)  A woman is cutting some vegetables.\n",
      "\n",
      "Cluster 9\n",
      "1)  A man is playing a musical instrument.\n",
      "2)  A man playing the guitar.\n",
      "3)  A man sings and plays the guitar.\n",
      "4)  A man plays the guitar.\n",
      "5)  A man is playing the guitar.\n",
      "6)  A man plays a guitar.\n",
      "7)  A boy is playing an instrument.\n",
      "8)  A man is playing his guitar.\n",
      "9)  A man is playing a guitar.\n",
      "10)  A young man is singing and playing the piano.\n",
      "\n",
      "Cluster 10\n",
      "1)  China quake: Death toll rises\n",
      "2)  4.3-magnitude earthquake jolts SW China\n",
      "3)  Over 100 dead as typhoon slams central Philippines\n",
      "4)  Strong earthquake in western China kills at least 75\n",
      "5)  Strong earthquake in western China kills 47 people\n",
      "6)  Two Earthquakes Hit Northwest China, 11 Dead\n",
      "7)  6.7-magnitude earthquake jolts Taiwan: CENC\n",
      "8)  Fire destroys Tibetan town in China\n",
      "9)  At least 100 dead as typhoon batters Philippines\n",
      "10)  6 Killed by Hot Lava as Indonesia Volcano Erupts\n",
      "\n",
      "Cluster 11\n",
      "1)  Egypt Crackdown Draws Condemnation\n",
      "2)  Muslim Brotherhood supporters die in Egypt clashes\n",
      "3)  Egypt: Egypt crackdown sparks global outrage\n",
      "4)  Egypt: Police clash with pro-Morsi protesters\n",
      "5)  Violent clashes mark anniversary of Egypt uprising\n",
      "6)  Egyptians go to polls in historic election\n",
      "7)  Egyptians vote in landmark presidential election\n",
      "8)  Egypt increases security before pro-Morsi protests\n",
      "9)  Egypt votes on new constitution\n",
      "10)  Deadly clashes as Egypt marks anniversary\n",
      "\n",
      "Cluster 12\n",
      "1)  The technology-laced Nasdaq Composite Index .IXIC rose 17.26 points, or 1.06 percent, to 1,640.06, based on the latest data.\n",
      "2)  The technology-laced Nasdaq Composite Index <.IXIC> rose 6 points, or 0.41 percent, to 1,498.\n",
      "3)  For the 12-month period ending June 30, high-speed lines installed in homes and businesses increased by 45 percent.\n",
      "4)  Shares jumped almost 7 percent in pre-open trading, rising to $18.26 from $17.05 at Tuesday's close.\n",
      "5)  The technology-laced Nasdaq Composite Index <.IXIC> added 1.92 points, or 0.12 percent, at 1,647.94.\n",
      "6)  The technology-laced Nasdaq Composite Index .IXIC was up 7.42 points, or 0.45 percent, at 1,653.44.\n",
      "7)  Telemarketing Associates, hired by VietNow, raised $7.1 million from 1987 to 1995.\n",
      "8)  The tech-heavy Nasdaq Stock Markets composite index added 14.17 points or 0.94 per cent to 1,517.05.\n",
      "9)  Singapore stocks close 0.4% higher\n",
      "10)  The Philadelphia Stock Exchange's semiconductor index .SOXX jumped 6.10 percent.\n",
      "\n",
      "Cluster 13\n",
      "1)  Obama meets Mandela family as icon remains in hospital\n",
      "2)  South African icon Nelson Mandela hospitalized\n",
      "3)  Obama meets with Mandela family\n",
      "4)  Mandela hospitalized, responding to treatment\n",
      "5)  South Africa's Nelson Mandela Hospitalized\n",
      "6)  Obama meets Zuma and pays tribute to Mandela\n",
      "7)  South Africa's Mandela taken to hospital\n",
      "8)  S. Africa's former president Mandela discharged from hospital\n",
      "9)  South Africa: Mandela remains in hospital\n",
      "10)  Obama mourns death of icon Nelson Mandela\n",
      "\n",
      "Cluster 14\n",
      "1)  A woman is pouring ingredients into a frying pan.\n",
      "2)  A person is adding food in a pan.\n",
      "3)  The cook pouring oil into the pan.\n",
      "4)  The chef poured oil in the pan.\n",
      "5)  A woman puts rice into a pan.\n",
      "6)  A man is seasoning some dough in a pan.\n",
      "7)  A woman is adding an egg and stirring.\n",
      "8)  A woman is placing food in a pot of hot water.\n",
      "9)  A woman puts chopped eggplant into a skillet.\n",
      "10)  A man pours some cooking oil into a pot.\n",
      "\n",
      "Cluster 15\n",
      "1)  But it is clear that the Joint Intelligence Committee was not involved.\n",
      "2)  By state law, 911 calls are not public information and were not released.\n",
      "3)  \"We had nothing to do with @Stake's internal personnel decision,\" Microsoft spokesman Sean Sundwell said.\n",
      "4)  Jury nullification has NOTHING to do with the Constitutionality of laws.\n",
      "5)  Plofsky said the commission won't investigate because the three-year statute of limitations has expired.\n",
      "6)  the united states and other nato members have refused to do ratify the updates cfe.\n",
      "7)  Thailand's army declares martial law, denies coup\n",
      "8)  Ruffner, 45, does not have a lawyer on the murder charge, authorities said.\n",
      "9)  No, none of those factors account for the recent warming.\n",
      "10)  fix?: Islam itself is not political.\n",
      "\n",
      "Cluster 16\n",
      "1)  A plane is taking off.\n",
      "2)  An air plane is taking off.\n",
      "3)  A plane being readied for take-off.\n",
      "4)  A boat is in the water and a small airplane is on the dock.\n",
      "5)  Malaysia Airlines plane vanishes on flight to Beijing\n",
      "6)  A large passenger jet flying close to the ground.\n",
      "7)  An airplane is flying in the air.\n",
      "8)  A small turboprop plane being loaded on the tarmac.\n",
      "9)  An airplane moves along a runway.\n",
      "10)  A white airplane is on a runway.\n",
      "\n",
      "Cluster 17\n",
      "1)  Declining issues outnumbered advancers slightly more than 3 to 1 on the New York Stock Exchange.\n",
      "2)  Three more US soldiers killed in Afghanistan\n",
      "3)  NATO: 3 troops killed in Afghanistan attack\n",
      "4)  Three NATO troops killed in one day in Afghanistan\n",
      "5)  Three NATO soldiers killed in Afghanistan\n",
      "6)  3 suspected extremists were released on bail. \n",
      "7)  Three Afghans killed in suicide attack\n",
      "8)  Three women are dancing.\n",
      "9)  US drone strike kills three in northwest Pakistan\n",
      "10)  Three killed in horror crash are named\n",
      "\n",
      "Cluster 18\n",
      "1)  A woman is swimming in the water.\n",
      "2)  She was a great lady.\n",
      "3)  A woman is swimming underwater.\n",
      "4)  She was a nice lady.\n",
      "5)  A woman swims underwater.\n",
      "6)  Smiling woman sitting wearing a viking hat.\n",
      "7)  A woman is swimming.\n",
      "8)  A woman splashes around in the ocean's waves.\n",
      "9)  A woman is swimming in the beach.\n",
      "10)  A woman is playing an acoustic guitar and singing.\n",
      "\n",
      "Cluster 19\n",
      "1)  North Korea cuts last ties with South by barring joint industrial park\n",
      "2)  russian president putin signs decree suspending russia's application of european arms control treaty. \n",
      "3)  russian president vladimir putin signed a decree suspending russia's participation in the conventional forces in europe treaty due to circumstances that affect the security of the russian federation and require immediate measure.\n",
      "4)  russian president vladimir putin states that the decision to cease implementation of the conventional forces in europe treaty is a response to u.s. plans to establish missile defense sites in eastern europe and to nato's failure to ratify an amended version of the treaty. \n",
      "5)  Russia Warns It May Not Sign Landmark UN Arms Treaty\n",
      "6)  russia ratified the updated treaty in 2004 but the united states and other nato members have refused to do so arguing that moscow must first fulfill obligations to withdraw forces from georgia and from moldova's separatist region of trans-dniester. \n",
      "7)  russia suspended its participation in a key european arms control treaty that governs deployment of troops in europe.\n",
      "8)  N Korea to halt work at joint industrial zone\n",
      "9)  Obama condemns Egypt violence, cancels military exercises\n",
      "10)  South Korea Orders Immediate Shutdown of 2 Nuclear Reactors\n",
      "\n",
      "Cluster 20\n",
      "1)  A cat is playing.\n",
      "2)  a black and white photo of a cat lying down.\n",
      "3)  A black and white image of a cat laying on a rug.\n",
      "4)  A close-up of a cat on a cream sofa.\n",
      "5)  Black and white picture of a cat laying on a rug.\n",
      "6)  A cat looking at the camera.\n",
      "7)  A black and white photo of a cat sitting on a sofa.\n",
      "8)  A cat looking out of a window.\n",
      "9)  A cat is watching a TV.\n",
      "10)  A cat is playing in a box.\n",
      "\n",
      "Cluster 21\n",
      "1)  A living room with a dining table in the background.\n",
      "2)  A table and chairs are in a room with a picture on the wall and a ceiling fan.\n",
      "3)  A group of people sitting at a restaurant table.\n",
      "4)  Group of people sitting at table of restaurant.\n",
      "5)  A group of people sitting around a table containing food.\n",
      "6)  A group of elderly people sitting around a dining table.\n",
      "7)  Dining room with wooden dining table set with playmates.\n",
      "8)  A group of people sitting around a table with food on it.\n",
      "9)  View of a living room with a dining room in the background.\n",
      "10)  Elegant dining room with wood furniture.\n",
      "\n",
      "Cluster 22\n",
      "1)  Alleged cop killer died from shot to head\n",
      "2)  Cory Monteith found dead: Canadian ‚ÄėGlee‚Äô star was 31\n",
      "3)  Glee star Cory Monteith found dead in hotel room in Canada\n",
      "4)  Alleged cop killer died from gunshot\n",
      "5)  A man is dieing in an operating room.\n",
      "6)  Malawi Officially Confirms President's Death\n",
      "7)  Palestinian diplomat dies in Prague blast\n",
      "8)  Preston and England legend Tom Finney dies at 91\n",
      "9)  ‚ÄėGlee‚Äô star Cory Monteith found dead in hotel room\n",
      "10)  The injured passenger at John Peter Smith Hospital died later Friday morning, Jones said.\n",
      "\n",
      "Cluster 23\n",
      "1)  InterActiveCorp's shares closed at $34.19, down $2.81, or 7.6 percent on the Nasdaq Stock Market.\n",
      "2)  Shares of SCO closed at $10.93, down 28 cents, in Monday trading on the Nasdaq Stock Market.\n",
      "3)  Carnival Corp. stock was trading at $31.29 during midday trading Wednesday, down 72 cents or 2.25 percent.\n",
      "4)  Stocks edge lower following retail earnings\n",
      "5)  The Americas market will decline 2.1 percent to $30.6 billion in 2003, and then grow 15.7 percent to $35.4 billion in 2004.\n",
      "6)  Its shares fell 71 cents, or 3.5 percent, in after-hours trading to $19.55.\n",
      "7)  The 30-year bond US30YT=RR dipped 14/32 for a yield of 4.26 percent from 4.23 percent.\n",
      "8)  Stocks edge lower after earnings from retailers\n",
      "9)  Aspen Technology's shares dropped 74 cents, or 23 percent, to close at $2.48 on the Nasdaq.\n",
      "10)  Labor Department analysts discounted a slight improvement in the national unemployment rate, which fell in August to 6.1 percent from 6.2 percent.\n",
      "\n",
      "Cluster 24\n",
      "1)  Rocks, tear gas fly as Thai protests heat up\n",
      "2)  Rocks, Tear Gas Fly as Thai Protests Heat Up\n",
      "3)  Thai protesters break into army headquarters\n",
      "4)  Thai protesters storm army headquarters\n",
      "5)  Shooting, protests mar Thai voting\n",
      "6)  Turkey unrest: Unions call for strike over police crackdown\n",
      "7)  Shots, Explosions Heard as Thais Continue Protest in Bangkok\n",
      "8)  Thai protests escalate amid violence\n",
      "9)  Clashes continue between police and protesters in Turkey\n",
      "10)  Turkish police fight protesters, clear square\n",
      "\n",
      "Cluster 25\n",
      "1)  Daily Press Briefing: Syria\n",
      "2)  US to Determine Extent of Chemical Weapons Use by Syria\n",
      "3)  Syria envoy says no peace talks without opposition\n",
      "4)  U.S. has determined Syria used chemical weapons\n",
      "5)  Reactions to the prospect of military action against Syria\n",
      "6)  Syrian rebels skeptical of chemical weapons deal\n",
      "7)  West hails Syria opposition vote to join peace talks\n",
      "8)  Syria Regime Agrees to Attend Peace Conference\n",
      "9)  U.N. concerned at possible Syria chemical weapons\n",
      "10)  US makes case for action against Syria\n",
      "\n",
      "Cluster 26\n",
      "1)  A man climbing a cliff face.\n",
      "2)  The man is up in the air.\n",
      "3)  A man is exercising.\n",
      "4)  A man is swinging on a rope above the water.\n",
      "5)  Man standing on top of jagged rocks near the ocean.\n",
      "6)  A man in a gray shirt climbs a large rock wall.\n",
      "7)  The man is exercising.\n",
      "8)  A man is swinging on a rope over water.\n",
      "9)  A man lifts weights.\n",
      "10)  A man is lifting weights.\n",
      "\n",
      "Cluster 27\n",
      "1)  Butler to be tried in \"Vatileaks\" case\n",
      "2)  Third man arrested in Savile sex abuse probe\n",
      "3)  Manning WikiLeaks case turns to sentencing phase\n",
      "4)  Van der Sloot to Marry in Prison\n",
      "5)  Men tried to behead soldier on London street, court hears\n",
      "6)  Man arrested on suspicion of murder after stabbing in Suffolk\n",
      "7)  Convicted child molester Brian DeVries spoke out in response to community outrage Wednesday afternoon after registering as a sex offender at the Soledad Police Department.\n",
      "8)  Man convicted in Vatican leaks case\n",
      "9)  North Korea says to put US citizen on trial\n",
      "10)  detainees to be accused of homicide, criminal collaboration, kidnapping and the funding of terrorism and include members of the military and police. \n",
      "\n",
      "Cluster 28\n",
      "1)  A dog in the snow.\n",
      "2)  A dog runs through the snow.\n",
      "3)  A dog is playing in the snow.\n",
      "4)  A dog running through snow.\n",
      "5)  A dog runs in the snow.\n",
      "6)  A dog is running in the snow.\n",
      "7)  The black dog is running through the snow.\n",
      "8)  The dogs are running in the snow.\n",
      "9)  A dog walks through the snow.\n",
      "10)  A black dog is running through the snow.\n",
      "\n",
      "Cluster 29\n",
      "1)  Someone is riding a horse.\n",
      "2)  A person is riding a horse.\n",
      "3)  The person is riding the horse.\n",
      "4)  A man is riding on a horse.\n",
      "5)  The man is riding the horse.\n",
      "6)  The man is riding a horse.\n",
      "7)  A girl is riding a horse.\n",
      "8)  A man is riding a horse.\n",
      "9)  The girl is riding the horse.\n",
      "10)  A person dressed in white on a brown horse.\n"
     ]
    }
   ],
   "source": [
    "top_sentence_per_cluster = []\n",
    "\n",
    "# print the top 10 words in each cluster\n",
    "for i in range(k):\n",
    "    centroid = kmeans.cluster_centers_[i]    \n",
    "    sorted_terms = centroid.argsort()[::-1]\n",
    "    print(f\"\\nCluster {i}\")\n",
    "\n",
    "    i_labelled_sentence_vectors = sentences_list_embeddings[kmeans.labels_ == i]\n",
    "    i_labelled_sentences = np.array(sentences_list)[kmeans.labels_ == i]\n",
    "    # sorting the terms to most similar to the centroid\n",
    "    sorted_sentences = i_labelled_sentences[np.argsort(cosine_similarity(i_labelled_sentence_vectors, [centroid]).flatten())[::-1]]\n",
    "    top_sentence_per_cluster.append(sorted_sentences[0])\n",
    "\n",
    "    for idx, sentence in enumerate(sorted_sentences[:10]):\n",
    "        print(str(idx + 1) + \") \",sentence)"
   ]
  },
  {
   "cell_type": "code",
   "execution_count": 101,
   "metadata": {},
   "outputs": [],
   "source": [
    "from sklearn.decomposition import PCA\n",
    "pca_model = PCA(n_components=50, random_state=42)\n",
    "pca_embeddings = pca_model.fit_transform(sentences_list_embeddings)"
   ]
  },
  {
   "cell_type": "code",
   "execution_count": 131,
   "metadata": {},
   "outputs": [
    {
     "data": {
      "image/png": "[encoded data removed]",
      "text/plain": [
       "<Figure size 640x480 with 2 Axes>"
      ]
     },
     "metadata": {},
     "output_type": "display_data"
    }
   ],
   "source": [
    "# visualize selected clusters using manifold learning\n",
    "from sklearn.manifold import TSNE\n",
    "from matplotlib import ticker\n",
    "\n",
    "selected_clusters = [0, 2, 5, 7, 8, 11, 17, 19]\n",
    "cluster_mask = np.isin(clusters, selected_clusters)\n",
    "\n",
    "tsne = TSNE(n_components=2, random_state=42)\n",
    "X_tsne = tsne.fit_transform(pca_embeddings[cluster_mask])\n",
    "# plot the clusters printng the color scale\n",
    "scatter = plt.scatter(X_tsne[:, 0], X_tsne[:, 1], c=clusters[cluster_mask], cmap='tab10')\n",
    "handles, _ = scatter.legend_elements(prop='colors')\n",
    "plt.legend(handles, np.array(top_sentence_per_cluster)[selected_clusters], loc='lower left', bbox_to_anchor=(0, 1.02, 1, 0.2), ncol=1, borderaxespad=0., fontsize='x-small', title='Top sentence per cluster')\n",
    "# (generate plot here)\n",
    "cb = plt.colorbar()\n",
    "cb.set_ticks(selected_clusters)\n",
    "plt.show()\n"
   ]
  }
 ],
 "metadata": {
  "kernelspec": {
   "display_name": "Python 3",
   "language": "python",
   "name": "python3"
  },
  "language_info": {
   "codemirror_mode": {
    "name": "ipython",
    "version": 3
   },
   "file_extension": ".py",
   "mimetype": "text/x-python",
   "name": "python",
   "nbconvert_exporter": "python",
   "pygments_lexer": "ipython3",
   "version": "3.8.8"
  },
  "orig_nbformat": 4
 },
 "nbformat": 4,
 "nbformat_minor": 2
}

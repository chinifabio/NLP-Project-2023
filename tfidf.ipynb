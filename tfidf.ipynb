{
 "cells": [
  {
   "cell_type": "markdown",
   "metadata": {},
   "source": [
    "# Testing TF-IDF for semantic similarity\n",
    "\n",
    "We are using the scikit-learn [TfidfVectorizer](https://scikit-learn.org/stable/modules/generated/sklearn.feature_extraction.text.TfidfVectorizer.html)."
   ]
  },
  {
   "cell_type": "code",
   "execution_count": 1,
   "metadata": {},
   "outputs": [],
   "source": [
    "import pandas as pd\n",
    "import numpy as np\n",
    "import nltk\n",
    "\n",
    "from sklearn.feature_extraction.text import TfidfVectorizer\n",
    "from sklearn.metrics.pairwise import cosine_similarity"
   ]
  },
  {
   "cell_type": "markdown",
   "metadata": {},
   "source": [
    "## 1. Load the sts-benchmark data and remove lines that contain erros."
   ]
  },
  {
   "cell_type": "code",
   "execution_count": 4,
   "metadata": {},
   "outputs": [],
   "source": [
    "train_df = pd.pandas.read_table(\n",
    "    'Dataset/sts-train.csv',\n",
    "    on_bad_lines='skip',\n",
    "    skip_blank_lines=True,\n",
    "    usecols=[4, 5, 6],\n",
    "    names=[\"score\", \"s1\", \"s2\"])\n"
   ]
  },
  {
   "cell_type": "markdown",
   "metadata": {},
   "source": [
    "## 2. A quick look at the dataset we are using"
   ]
  },
  {
   "cell_type": "code",
   "execution_count": 5,
   "metadata": {
    "tags": []
   },
   "outputs": [
    {
     "data": {
      "text/html": [
       "<div>\n",
       "<style scoped>\n",
       "    .dataframe tbody tr th:only-of-type {\n",
       "        vertical-align: middle;\n",
       "    }\n",
       "\n",
       "    .dataframe tbody tr th {\n",
       "        vertical-align: top;\n",
       "    }\n",
       "\n",
       "    .dataframe thead th {\n",
       "        text-align: right;\n",
       "    }\n",
       "</style>\n",
       "<table border=\"1\" class=\"dataframe\">\n",
       "  <thead>\n",
       "    <tr style=\"text-align: right;\">\n",
       "      <th></th>\n",
       "      <th>score</th>\n",
       "      <th>s1</th>\n",
       "      <th>s2</th>\n",
       "    </tr>\n",
       "  </thead>\n",
       "  <tbody>\n",
       "    <tr>\n",
       "      <th>0</th>\n",
       "      <td>5.00</td>\n",
       "      <td>A plane is taking off.</td>\n",
       "      <td>An air plane is taking off.</td>\n",
       "    </tr>\n",
       "    <tr>\n",
       "      <th>1</th>\n",
       "      <td>3.80</td>\n",
       "      <td>A man is playing a large flute.</td>\n",
       "      <td>A man is playing a flute.</td>\n",
       "    </tr>\n",
       "    <tr>\n",
       "      <th>2</th>\n",
       "      <td>3.80</td>\n",
       "      <td>A man is spreading shreded cheese on a pizza.</td>\n",
       "      <td>A man is spreading shredded cheese on an uncoo...</td>\n",
       "    </tr>\n",
       "    <tr>\n",
       "      <th>3</th>\n",
       "      <td>2.60</td>\n",
       "      <td>Three men are playing chess.</td>\n",
       "      <td>Two men are playing chess.</td>\n",
       "    </tr>\n",
       "    <tr>\n",
       "      <th>4</th>\n",
       "      <td>4.25</td>\n",
       "      <td>A man is playing the cello.</td>\n",
       "      <td>A man seated is playing the cello.</td>\n",
       "    </tr>\n",
       "  </tbody>\n",
       "</table>\n",
       "</div>"
      ],
      "text/plain": [
       "   score                                             s1   \n",
       "0   5.00                         A plane is taking off.  \\\n",
       "1   3.80                A man is playing a large flute.   \n",
       "2   3.80  A man is spreading shreded cheese on a pizza.   \n",
       "3   2.60                   Three men are playing chess.   \n",
       "4   4.25                    A man is playing the cello.   \n",
       "\n",
       "                                                  s2  \n",
       "0                        An air plane is taking off.  \n",
       "1                          A man is playing a flute.  \n",
       "2  A man is spreading shredded cheese on an uncoo...  \n",
       "3                         Two men are playing chess.  \n",
       "4                 A man seated is playing the cello.  "
      ]
     },
     "execution_count": 5,
     "metadata": {},
     "output_type": "execute_result"
    }
   ],
   "source": [
    "train_df.head()"
   ]
  },
  {
   "cell_type": "code",
   "execution_count": 6,
   "metadata": {},
   "outputs": [
    {
     "data": {
      "text/html": [
       "<div>\n",
       "<style scoped>\n",
       "    .dataframe tbody tr th:only-of-type {\n",
       "        vertical-align: middle;\n",
       "    }\n",
       "\n",
       "    .dataframe tbody tr th {\n",
       "        vertical-align: top;\n",
       "    }\n",
       "\n",
       "    .dataframe thead th {\n",
       "        text-align: right;\n",
       "    }\n",
       "</style>\n",
       "<table border=\"1\" class=\"dataframe\">\n",
       "  <thead>\n",
       "    <tr style=\"text-align: right;\">\n",
       "      <th></th>\n",
       "      <th>score</th>\n",
       "      <th>s1</th>\n",
       "      <th>s2</th>\n",
       "    </tr>\n",
       "  </thead>\n",
       "  <tbody>\n",
       "    <tr>\n",
       "      <th>5706</th>\n",
       "      <td>0.0</td>\n",
       "      <td>Severe Gales As Storm Clodagh Hits Britain</td>\n",
       "      <td>Merkel pledges NATO solidarity with Latvia</td>\n",
       "    </tr>\n",
       "    <tr>\n",
       "      <th>5707</th>\n",
       "      <td>0.0</td>\n",
       "      <td>Dozens of Egyptians hostages taken by Libyan t...</td>\n",
       "      <td>Egyptian boat crash death toll rises as more b...</td>\n",
       "    </tr>\n",
       "    <tr>\n",
       "      <th>5708</th>\n",
       "      <td>0.0</td>\n",
       "      <td>President heading to Bahrain</td>\n",
       "      <td>President Xi: China to continue help to fight ...</td>\n",
       "    </tr>\n",
       "    <tr>\n",
       "      <th>5709</th>\n",
       "      <td>0.0</td>\n",
       "      <td>China, India vow to further bilateral ties</td>\n",
       "      <td>China Scrambles to Reassure Jittery Stock Traders</td>\n",
       "    </tr>\n",
       "    <tr>\n",
       "      <th>5710</th>\n",
       "      <td>0.0</td>\n",
       "      <td>Putin spokesman: Doping charges appear unfounded</td>\n",
       "      <td>The Latest on Severe Weather: 1 Dead in Texas ...</td>\n",
       "    </tr>\n",
       "  </tbody>\n",
       "</table>\n",
       "</div>"
      ],
      "text/plain": [
       "      score                                                 s1   \n",
       "5706    0.0         Severe Gales As Storm Clodagh Hits Britain  \\\n",
       "5707    0.0  Dozens of Egyptians hostages taken by Libyan t...   \n",
       "5708    0.0                       President heading to Bahrain   \n",
       "5709    0.0         China, India vow to further bilateral ties   \n",
       "5710    0.0   Putin spokesman: Doping charges appear unfounded   \n",
       "\n",
       "                                                     s2  \n",
       "5706         Merkel pledges NATO solidarity with Latvia  \n",
       "5707  Egyptian boat crash death toll rises as more b...  \n",
       "5708  President Xi: China to continue help to fight ...  \n",
       "5709  China Scrambles to Reassure Jittery Stock Traders  \n",
       "5710  The Latest on Severe Weather: 1 Dead in Texas ...  "
      ]
     },
     "execution_count": 6,
     "metadata": {},
     "output_type": "execute_result"
    }
   ],
   "source": [
    "train_df.tail()"
   ]
  },
  {
   "cell_type": "markdown",
   "metadata": {},
   "source": [
    "## 3. Comparing two sentence paires with TF-IDF as an example"
   ]
  },
  {
   "cell_type": "code",
   "execution_count": 7,
   "metadata": {
    "tags": []
   },
   "outputs": [
    {
     "name": "stdout",
     "output_type": "stream",
     "text": [
      "s1 = A plane is taking off.\n",
      "s2 = An air plane is taking off.\n",
      "\n",
      "\n",
      "s3 = A man is playing the piano.\n",
      "s4 = A woman is playing the violin.\n"
     ]
    }
   ],
   "source": [
    "s1 = train_df.loc[0][1]\n",
    "s2 = train_df.loc[0][2]\n",
    "s3 = train_df.loc[45][1]\n",
    "s4 = train_df.loc[45][2]\n",
    "\n",
    "print(f's1 = {s1}')\n",
    "print(f's2 = {s2}')\n",
    "print('\\n')\n",
    "print(f's3 = {s3}')\n",
    "print(f's4 = {s4}')"
   ]
  },
  {
   "cell_type": "markdown",
   "metadata": {},
   "source": [
    "### 3.1 Fit the training data with TfidfVectorizer and create vectors for the sentence paires"
   ]
  },
  {
   "cell_type": "code",
   "execution_count": 58,
   "metadata": {
    "tags": []
   },
   "outputs": [
    {
     "name": "stdout",
     "output_type": "stream",
     "text": [
      "s1 vs s2 = 0.8888452529233067\n",
      "Human score = 5.0\n",
      "TF-IDF score = 4.4\n",
      "s3 vs s4 = 0.4142671985203453\n",
      "Human score = 1.0\n",
      "TF-IDF score = 2.1\n",
      "s1 vs s3 = 0.10401728563003457\n",
      "s1 vs s4 = 0.08905307776527066\n"
     ]
    }
   ],
   "source": [
    "sentences = [] \n",
    "\n",
    "for row in train_df.itertuples(index=False):\n",
    "    sentences.extend((str(row[1]), str(row[2])))\n",
    "\n",
    "vectorizer = TfidfVectorizer(\n",
    "            analyzer='char_wb', ngram_range=(3, 5))\n",
    "vectorizer.fit(sentences) \n",
    "\n",
    "sentence_vectors = vectorizer.transform([s1, s2, s3, s4])\n",
    "\n",
    "s1_vec = sentence_vectors[0]\n",
    "s2_vec = sentence_vectors[1]\n",
    "s3_vec = sentence_vectors[2]\n",
    "s4_vec = sentence_vectors[3]\n",
    "\n",
    "print(f's1 vs s2 = {cosine_similarity(s1_vec,s2_vec)[0][0]}')\n",
    "print(f'Human score = {train_df.loc[0][0]}')\n",
    "print(f'TF-IDF score = {round(cosine_similarity(s1_vec,s2_vec)[0][0]*5,1)}')\n",
    "\n",
    "print(f's3 vs s4 = {cosine_similarity(s3_vec,s4_vec)[0][0]}')\n",
    "print(f'Human score = {train_df.loc[45][0]}')\n",
    "print(f'TF-IDF score = {round(cosine_similarity(s3_vec,s4_vec)[0][0]*5,1)}')\n",
    "\n",
    "print(f's1 vs s3 = {cosine_similarity(s1_vec,s3_vec)[0][0]}')\n",
    "print(f's1 vs s4 = {cosine_similarity(s1_vec,s4_vec)[0][0]}')\n"
   ]
  },
  {
   "cell_type": "markdown",
   "metadata": {},
   "source": [
    "## 4. Getting the human score and the TF-IDF scores and comparing them"
   ]
  },
  {
   "cell_type": "markdown",
   "metadata": {},
   "source": [
    "### 4.1 Load the data and preprocess it"
   ]
  },
  {
   "cell_type": "code",
   "execution_count": 10,
   "metadata": {},
   "outputs": [],
   "source": [
    "dev_df = pd.pandas.read_table(\n",
    "    'Dataset/sts-dev.csv',\n",
    "    on_bad_lines='skip',\n",
    "    skip_blank_lines=True,\n",
    "    usecols=[4, 5, 6],\n",
    "    names=[\"score\", \"s1\", \"s2\"])\n",
    "\n",
    "# removes punctuation from sentences\n",
    "tokenizer = nltk.RegexpTokenizer(r\"\\w+\")\n",
    "\n",
    "# For some reason some of the sentences were \"float\" datatypes \n",
    "dev_df['s1'] = dev_df['s1'].astype(str)\n",
    "dev_df['s2'] = dev_df['s2'].astype(str)\n",
    "\n",
    "dev_df['s1'] = dev_df.apply(lambda row: tokenizer.tokenize(row['s1']), axis=1)\n",
    "dev_df['s1'] = dev_df.apply(lambda row: ' '.join(row['s1']).lower() , axis=1)\n",
    "\n",
    "dev_df['s2'] = dev_df.apply(lambda row: tokenizer.tokenize(row['s2']), axis=1)\n",
    "dev_df['s2'] = dev_df.apply(lambda row: ' '.join(row['s2']).lower() , axis=1)"
   ]
  },
  {
   "cell_type": "code",
   "execution_count": 11,
   "metadata": {},
   "outputs": [
    {
     "data": {
      "text/html": [
       "<div>\n",
       "<style scoped>\n",
       "    .dataframe tbody tr th:only-of-type {\n",
       "        vertical-align: middle;\n",
       "    }\n",
       "\n",
       "    .dataframe tbody tr th {\n",
       "        vertical-align: top;\n",
       "    }\n",
       "\n",
       "    .dataframe thead th {\n",
       "        text-align: right;\n",
       "    }\n",
       "</style>\n",
       "<table border=\"1\" class=\"dataframe\">\n",
       "  <thead>\n",
       "    <tr style=\"text-align: right;\">\n",
       "      <th></th>\n",
       "      <th>score</th>\n",
       "      <th>s1</th>\n",
       "      <th>s2</th>\n",
       "    </tr>\n",
       "  </thead>\n",
       "  <tbody>\n",
       "    <tr>\n",
       "      <th>0</th>\n",
       "      <td>5.00</td>\n",
       "      <td>a man with a hard hat is dancing</td>\n",
       "      <td>a man wearing a hard hat is dancing</td>\n",
       "    </tr>\n",
       "    <tr>\n",
       "      <th>1</th>\n",
       "      <td>4.75</td>\n",
       "      <td>a young child is riding a horse</td>\n",
       "      <td>a child is riding a horse</td>\n",
       "    </tr>\n",
       "    <tr>\n",
       "      <th>2</th>\n",
       "      <td>5.00</td>\n",
       "      <td>a man is feeding a mouse to a snake</td>\n",
       "      <td>the man is feeding a mouse to the snake</td>\n",
       "    </tr>\n",
       "    <tr>\n",
       "      <th>3</th>\n",
       "      <td>2.40</td>\n",
       "      <td>a woman is playing the guitar</td>\n",
       "      <td>a man is playing guitar</td>\n",
       "    </tr>\n",
       "    <tr>\n",
       "      <th>4</th>\n",
       "      <td>2.75</td>\n",
       "      <td>a woman is playing the flute</td>\n",
       "      <td>a man is playing a flute</td>\n",
       "    </tr>\n",
       "  </tbody>\n",
       "</table>\n",
       "</div>"
      ],
      "text/plain": [
       "   score                                   s1   \n",
       "0   5.00     a man with a hard hat is dancing  \\\n",
       "1   4.75      a young child is riding a horse   \n",
       "2   5.00  a man is feeding a mouse to a snake   \n",
       "3   2.40        a woman is playing the guitar   \n",
       "4   2.75         a woman is playing the flute   \n",
       "\n",
       "                                        s2  \n",
       "0      a man wearing a hard hat is dancing  \n",
       "1                a child is riding a horse  \n",
       "2  the man is feeding a mouse to the snake  \n",
       "3                  a man is playing guitar  \n",
       "4                 a man is playing a flute  "
      ]
     },
     "execution_count": 11,
     "metadata": {},
     "output_type": "execute_result"
    }
   ],
   "source": [
    "dev_df.head()"
   ]
  },
  {
   "cell_type": "markdown",
   "metadata": {},
   "source": [
    "### 4.2 Get the scores and normalize them"
   ]
  },
  {
   "cell_type": "code",
   "execution_count": 55,
   "metadata": {},
   "outputs": [],
   "source": [
    "dev_scores = dev_df['score'].tolist()\n",
    "\n",
    "score_human = []\n",
    "\n",
    "for row in dev_scores:\n",
    "    score = row/5\n",
    "    score_human.append(score)"
   ]
  },
  {
   "cell_type": "code",
   "execution_count": 56,
   "metadata": {},
   "outputs": [],
   "source": [
    "score_machine = []\n",
    "\n",
    "for row in dev_df.itertuples(index=False):\n",
    "    sentence_vectors = vectorizer.transform([str(row[1]), str(row[2])])\n",
    "    s1_vec = sentence_vectors[0]\n",
    "    s2_vec = sentence_vectors[1]\n",
    "    score = cosine_similarity(s1_vec,s2_vec)[0][0]\n",
    "    score_machine.append(score)"
   ]
  },
  {
   "cell_type": "code",
   "execution_count": 57,
   "metadata": {},
   "outputs": [
    {
     "name": "stdout",
     "output_type": "stream",
     "text": [
      "Pearsonr: 74.2\n"
     ]
    }
   ],
   "source": [
    "from scipy.stats import pearsonr\n",
    "\n",
    "result, _ = pearsonr(score_machine, score_human)\n",
    "print('Pearsonr:', end=' ')\n",
    "print(\"%.1f\" % (result*100))"
   ]
  },
  {
   "cell_type": "markdown",
   "metadata": {},
   "source": [
    "### 4.3 Compare human and TF-IDF scores"
   ]
  },
  {
   "cell_type": "code",
   "execution_count": 30,
   "metadata": {},
   "outputs": [],
   "source": [
    "def on_bad_line(values):\n",
    "    return values[:7]\n",
    "\n",
    "test_df = pd.pandas.read_table(\n",
    "    'Dataset/sts-test.csv',\n",
    "    on_bad_lines=on_bad_line,\n",
    "    skip_blank_lines=True,\n",
    "    engine='python',\n",
    "    usecols=[4, 5, 6],\n",
    "    names=[\"score\", \"s1\", \"s2\"])\n",
    "\n",
    "# For some reason some of the sentences were \"float\" datatypes \n",
    "\n",
    "test_df['s1'] = test_df['s1'].astype(str)\n",
    "test_df['s2'] = test_df['s2'].astype(str)\n",
    "\n",
    "test_df['s1'] = test_df.apply(lambda row: tokenizer.tokenize(row['s1']), axis=1)\n",
    "test_df['s1'] = test_df.apply(lambda row: ' '.join(row['s1']).lower() , axis=1)\n",
    "\n",
    "test_df['s2'] = test_df.apply(lambda row: tokenizer.tokenize(row['s2']), axis=1)\n",
    "test_df['s2'] = test_df.apply(lambda row: ' '.join(row['s2']).lower() , axis=1)"
   ]
  },
  {
   "cell_type": "code",
   "execution_count": 21,
   "metadata": {},
   "outputs": [
    {
     "data": {
      "text/html": [
       "<div>\n",
       "<style scoped>\n",
       "    .dataframe tbody tr th:only-of-type {\n",
       "        vertical-align: middle;\n",
       "    }\n",
       "\n",
       "    .dataframe tbody tr th {\n",
       "        vertical-align: top;\n",
       "    }\n",
       "\n",
       "    .dataframe thead th {\n",
       "        text-align: right;\n",
       "    }\n",
       "</style>\n",
       "<table border=\"1\" class=\"dataframe\">\n",
       "  <thead>\n",
       "    <tr style=\"text-align: right;\">\n",
       "      <th></th>\n",
       "      <th>score</th>\n",
       "      <th>s1</th>\n",
       "      <th>s2</th>\n",
       "    </tr>\n",
       "  </thead>\n",
       "  <tbody>\n",
       "    <tr>\n",
       "      <th>0</th>\n",
       "      <td>5.00</td>\n",
       "      <td>a man with a hard hat is dancing</td>\n",
       "      <td>a man wearing a hard hat is dancing</td>\n",
       "    </tr>\n",
       "    <tr>\n",
       "      <th>1</th>\n",
       "      <td>4.75</td>\n",
       "      <td>a young child is riding a horse</td>\n",
       "      <td>a child is riding a horse</td>\n",
       "    </tr>\n",
       "    <tr>\n",
       "      <th>2</th>\n",
       "      <td>5.00</td>\n",
       "      <td>a man is feeding a mouse to a snake</td>\n",
       "      <td>the man is feeding a mouse to the snake</td>\n",
       "    </tr>\n",
       "    <tr>\n",
       "      <th>3</th>\n",
       "      <td>2.40</td>\n",
       "      <td>a woman is playing the guitar</td>\n",
       "      <td>a man is playing guitar</td>\n",
       "    </tr>\n",
       "    <tr>\n",
       "      <th>4</th>\n",
       "      <td>2.75</td>\n",
       "      <td>a woman is playing the flute</td>\n",
       "      <td>a man is playing a flute</td>\n",
       "    </tr>\n",
       "    <tr>\n",
       "      <th>...</th>\n",
       "      <td>...</td>\n",
       "      <td>...</td>\n",
       "      <td>...</td>\n",
       "    </tr>\n",
       "    <tr>\n",
       "      <th>1465</th>\n",
       "      <td>2.00</td>\n",
       "      <td>scientists prove there is water on mars</td>\n",
       "      <td>has nasa discovered water on mars</td>\n",
       "    </tr>\n",
       "    <tr>\n",
       "      <th>1466</th>\n",
       "      <td>0.00</td>\n",
       "      <td>pranab stresses need to strive for peace by na...</td>\n",
       "      <td>wto india regrets action of developed nations</td>\n",
       "    </tr>\n",
       "    <tr>\n",
       "      <th>1467</th>\n",
       "      <td>2.00</td>\n",
       "      <td>volkswagen skids into red in wake of pollution...</td>\n",
       "      <td>volkswagen s gesture of goodwill to diesel owners</td>\n",
       "    </tr>\n",
       "    <tr>\n",
       "      <th>1468</th>\n",
       "      <td>0.00</td>\n",
       "      <td>obama is right africa deserves better leadership</td>\n",
       "      <td>obama waiting for midterm to name attorney gen...</td>\n",
       "    </tr>\n",
       "    <tr>\n",
       "      <th>1469</th>\n",
       "      <td>0.00</td>\n",
       "      <td>new video shows us police officers beating men...</td>\n",
       "      <td>new york police officer critically wounded in ...</td>\n",
       "    </tr>\n",
       "  </tbody>\n",
       "</table>\n",
       "<p>1470 rows × 3 columns</p>\n",
       "</div>"
      ],
      "text/plain": [
       "      score                                                 s1   \n",
       "0      5.00                   a man with a hard hat is dancing  \\\n",
       "1      4.75                    a young child is riding a horse   \n",
       "2      5.00                a man is feeding a mouse to a snake   \n",
       "3      2.40                      a woman is playing the guitar   \n",
       "4      2.75                       a woman is playing the flute   \n",
       "...     ...                                                ...   \n",
       "1465   2.00            scientists prove there is water on mars   \n",
       "1466   0.00  pranab stresses need to strive for peace by na...   \n",
       "1467   2.00  volkswagen skids into red in wake of pollution...   \n",
       "1468   0.00   obama is right africa deserves better leadership   \n",
       "1469   0.00  new video shows us police officers beating men...   \n",
       "\n",
       "                                                     s2  \n",
       "0                   a man wearing a hard hat is dancing  \n",
       "1                             a child is riding a horse  \n",
       "2               the man is feeding a mouse to the snake  \n",
       "3                               a man is playing guitar  \n",
       "4                              a man is playing a flute  \n",
       "...                                                 ...  \n",
       "1465                  has nasa discovered water on mars  \n",
       "1466      wto india regrets action of developed nations  \n",
       "1467  volkswagen s gesture of goodwill to diesel owners  \n",
       "1468  obama waiting for midterm to name attorney gen...  \n",
       "1469  new york police officer critically wounded in ...  \n",
       "\n",
       "[1470 rows x 3 columns]"
      ]
     },
     "execution_count": 21,
     "metadata": {},
     "output_type": "execute_result"
    }
   ],
   "source": [
    "dev_df"
   ]
  },
  {
   "cell_type": "code",
   "execution_count": 31,
   "metadata": {},
   "outputs": [
    {
     "data": {
      "text/html": [
       "<div>\n",
       "<style scoped>\n",
       "    .dataframe tbody tr th:only-of-type {\n",
       "        vertical-align: middle;\n",
       "    }\n",
       "\n",
       "    .dataframe tbody tr th {\n",
       "        vertical-align: top;\n",
       "    }\n",
       "\n",
       "    .dataframe thead th {\n",
       "        text-align: right;\n",
       "    }\n",
       "</style>\n",
       "<table border=\"1\" class=\"dataframe\">\n",
       "  <thead>\n",
       "    <tr style=\"text-align: right;\">\n",
       "      <th></th>\n",
       "      <th>score</th>\n",
       "      <th>s1</th>\n",
       "      <th>s2</th>\n",
       "    </tr>\n",
       "  </thead>\n",
       "  <tbody>\n",
       "    <tr>\n",
       "      <th>0</th>\n",
       "      <td>2.50</td>\n",
       "      <td>a girl is styling her hair</td>\n",
       "      <td>a girl is brushing her hair</td>\n",
       "    </tr>\n",
       "    <tr>\n",
       "      <th>1</th>\n",
       "      <td>3.60</td>\n",
       "      <td>a group of men play soccer on the beach</td>\n",
       "      <td>a group of boys are playing soccer on the beach</td>\n",
       "    </tr>\n",
       "    <tr>\n",
       "      <th>2</th>\n",
       "      <td>5.00</td>\n",
       "      <td>one woman is measuring another woman s ankle</td>\n",
       "      <td>a woman measures another woman s ankle</td>\n",
       "    </tr>\n",
       "    <tr>\n",
       "      <th>3</th>\n",
       "      <td>4.20</td>\n",
       "      <td>a man is cutting up a cucumber</td>\n",
       "      <td>a man is slicing a cucumber</td>\n",
       "    </tr>\n",
       "    <tr>\n",
       "      <th>4</th>\n",
       "      <td>1.50</td>\n",
       "      <td>a man is playing a harp</td>\n",
       "      <td>a man is playing a keyboard</td>\n",
       "    </tr>\n",
       "    <tr>\n",
       "      <th>...</th>\n",
       "      <td>...</td>\n",
       "      <td>...</td>\n",
       "      <td>...</td>\n",
       "    </tr>\n",
       "    <tr>\n",
       "      <th>1091</th>\n",
       "      <td>4.00</td>\n",
       "      <td>so in his state of the union address in januar...</td>\n",
       "      <td>in his jan 28 state of the union message bush ...</td>\n",
       "    </tr>\n",
       "    <tr>\n",
       "      <th>1092</th>\n",
       "      <td>4.00</td>\n",
       "      <td>the other 24 members are split between represe...</td>\n",
       "      <td>of the 24 directors who are not exchange execu...</td>\n",
       "    </tr>\n",
       "    <tr>\n",
       "      <th>1093</th>\n",
       "      <td>2.75</td>\n",
       "      <td>the episcopal diocese of central florida becam...</td>\n",
       "      <td>the episcopal diocese of central florida voted...</td>\n",
       "    </tr>\n",
       "    <tr>\n",
       "      <th>1094</th>\n",
       "      <td>2.25</td>\n",
       "      <td>mcgill also detailed the hole that had been cu...</td>\n",
       "      <td>mcgill also said a dark glove was stuffed into...</td>\n",
       "    </tr>\n",
       "    <tr>\n",
       "      <th>1095</th>\n",
       "      <td>3.20</td>\n",
       "      <td>that compared with a year earlier profit of 10...</td>\n",
       "      <td>that was more than double the 102 million or 1...</td>\n",
       "    </tr>\n",
       "  </tbody>\n",
       "</table>\n",
       "<p>1096 rows × 3 columns</p>\n",
       "</div>"
      ],
      "text/plain": [
       "      score                                                 s1   \n",
       "0      2.50                         a girl is styling her hair  \\\n",
       "1      3.60            a group of men play soccer on the beach   \n",
       "2      5.00       one woman is measuring another woman s ankle   \n",
       "3      4.20                     a man is cutting up a cucumber   \n",
       "4      1.50                            a man is playing a harp   \n",
       "...     ...                                                ...   \n",
       "1091   4.00  so in his state of the union address in januar...   \n",
       "1092   4.00  the other 24 members are split between represe...   \n",
       "1093   2.75  the episcopal diocese of central florida becam...   \n",
       "1094   2.25  mcgill also detailed the hole that had been cu...   \n",
       "1095   3.20  that compared with a year earlier profit of 10...   \n",
       "\n",
       "                                                     s2  \n",
       "0                           a girl is brushing her hair  \n",
       "1       a group of boys are playing soccer on the beach  \n",
       "2                a woman measures another woman s ankle  \n",
       "3                           a man is slicing a cucumber  \n",
       "4                           a man is playing a keyboard  \n",
       "...                                                 ...  \n",
       "1091  in his jan 28 state of the union message bush ...  \n",
       "1092  of the 24 directors who are not exchange execu...  \n",
       "1093  the episcopal diocese of central florida voted...  \n",
       "1094  mcgill also said a dark glove was stuffed into...  \n",
       "1095  that was more than double the 102 million or 1...  \n",
       "\n",
       "[1096 rows x 3 columns]"
      ]
     },
     "execution_count": 31,
     "metadata": {},
     "output_type": "execute_result"
    }
   ],
   "source": [
    "test_df"
   ]
  },
  {
   "cell_type": "code",
   "execution_count": 47,
   "metadata": {},
   "outputs": [],
   "source": [
    "test_scores = test_df['score'].tolist()\n",
    "\n",
    "score_human = []\n",
    "\n",
    "for row in test_scores:\n",
    "    score = row/5\n",
    "    score_human.append(score)"
   ]
  },
  {
   "cell_type": "code",
   "execution_count": 48,
   "metadata": {},
   "outputs": [],
   "source": [
    "score_machine = []\n",
    "\n",
    "for row in test_df.itertuples(index=False):\n",
    "    sentence_vectors = vectorizer.transform([str(row[1]), str(row[2])])\n",
    "    s1_vec = sentence_vectors[0]\n",
    "    s2_vec = sentence_vectors[1]\n",
    "    score = cosine_similarity(s1_vec,s2_vec)[0][0]\n",
    "    score_machine.append(score)"
   ]
  },
  {
   "cell_type": "code",
   "execution_count": 49,
   "metadata": {
    "tags": []
   },
   "outputs": [
    {
     "name": "stdout",
     "output_type": "stream",
     "text": [
      "Pearsonr: 70.8\n"
     ]
    }
   ],
   "source": [
    "from scipy.stats import pearsonr\n",
    "\n",
    "result, _ = pearsonr(score_machine, score_human)\n",
    "print('Pearsonr:', end=' ')\n",
    "print(\"%.1f\" % (result*100))"
   ]
  },
  {
   "cell_type": "code",
   "execution_count": null,
   "metadata": {},
   "outputs": [],
   "source": []
  }
 ],
 "metadata": {
  "kernelspec": {
   "display_name": "Python 3",
   "name": "python3"
  },
  "language_info": {
   "codemirror_mode": {
    "name": "ipython",
    "version": 3
   },
   "file_extension": ".py",
   "mimetype": "text/x-python",
   "name": "python",
   "nbconvert_exporter": "python",
   "pygments_lexer": "ipython3",
   "version": "3.8.8"
  },
  "orig_nbformat": 2
 },
 "nbformat": 4,
 "nbformat_minor": 2
}
